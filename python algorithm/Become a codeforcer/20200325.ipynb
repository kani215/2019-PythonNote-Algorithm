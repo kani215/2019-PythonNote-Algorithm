{
 "cells": [
  {
   "cell_type": "code",
   "execution_count": null,
   "metadata": {},
   "outputs": [],
   "source": [
    "# 627"
   ]
  },
  {
   "cell_type": "code",
   "execution_count": null,
   "metadata": {},
   "outputs": [],
   "source": [
    "테트리스를 만들어라\n",
    "\n",
    "규격은 100까지 입력값은 자유\n"
   ]
  },
  {
   "cell_type": "code",
   "execution_count": null,
   "metadata": {},
   "outputs": [],
   "source": [
    "Checker Log\n",
    "ok 100 token(s): yes count is 50, no count is 50\n",
    "Test: #5, time: 93 ms., memory: 0 KB, exit code: 0, checker exit code: 0, verdict: OK\n",
    "Input\n",
    "1\n",
    "12\n",
    "2 2 2 2 1 2 2 2 2 2 2 2\n",
    "Output\n",
    "NO\n",
    "Answer\n",
    "NO\n",
    "Checker Log\n",
    "ok NO"
   ]
  },
  {
   "cell_type": "code",
   "execution_count": 11,
   "metadata": {},
   "outputs": [
    {
     "name": "stdout",
     "output_type": "stream",
     "text": [
      "1\n",
      "12\n",
      "2 2 2 2 1 2 2 2 2 2 2 2\n",
      "NO\n"
     ]
    }
   ],
   "source": [
    "for i in range(int(input())) :\n",
    "    temp1 = int(input())\n",
    "    litest = list(map(int,input().split()))\n",
    "    switch = 0\n",
    "# 최소 정렬 후 \n",
    "    litest.sort()\n",
    "# 하나 0 으로 만들기 \n",
    "    temp2 = litest[0]\n",
    "    for j in range(temp1):\n",
    "        litest[j] -= temp2\n",
    "# 그때 짝일 경우에만 성립\n",
    "    for k in range(temp1):\n",
    "        if litest[k]%2 == 1 :\n",
    "            print(\"NO\")\n",
    "            switch = 1\n",
    "            break\n",
    "    if switch == 0 :\n",
    "        print(\"YES\")"
   ]
  }
 ],
 "metadata": {
  "kernelspec": {
   "display_name": "Python 3",
   "language": "python",
   "name": "python3"
  },
  "language_info": {
   "codemirror_mode": {
    "name": "ipython",
    "version": 3
   },
   "file_extension": ".py",
   "mimetype": "text/x-python",
   "name": "python",
   "nbconvert_exporter": "python",
   "pygments_lexer": "ipython3",
   "version": "3.7.3"
  }
 },
 "nbformat": 4,
 "nbformat_minor": 2
}
