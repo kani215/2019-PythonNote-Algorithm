{
 "cells": [
  {
   "cell_type": "code",
   "execution_count": 1,
   "metadata": {},
   "outputs": [
    {
     "name": "stdout",
     "output_type": "stream",
     "text": [
      "1\n",
      "9 6\n",
      "3\n"
     ]
    }
   ],
   "source": [
    "for i in range(int(input())) :\n",
    "    a1, a2 = map(int, input().split())\n",
    "    if a1%a2 == 0 : \n",
    "        print(0)\n",
    "        break\n",
    "    else :\n",
    "        tempmin = a1//a2+1  \n",
    "        ans = a2*tempmin -a1\n",
    "        print(ans)\n",
    "    "
   ]
  },
  {
   "cell_type": "code",
   "execution_count": 9,
   "metadata": {},
   "outputs": [
    {
     "name": "stdout",
     "output_type": "stream",
     "text": [
      "1\n",
      "20 100\n",
      "13 8\n",
      "aaaaabaaaaabaaaaaaaa\n"
     ]
    }
   ],
   "source": [
    "for i in range(int(input())) :\n",
    "    num, limit = map(int, input().split())\n",
    "    limit -=1\n",
    "    \n",
    "    li = [\"a\"] *num \n",
    "    b1 = num-2\n",
    "    b2 = num-1\n",
    "    count = 0\n",
    "    moveb1 = 0\n",
    "    moveb2= 0\n",
    "    \n",
    "    for j in range(1,num+1):\n",
    "        count += j\n",
    "        if count > limit :\n",
    "            moveb1 = j-1\n",
    "            moveb2 = limit - (count-j)  \n",
    "            break\n",
    "    li[b1-moveb1] = \"b\"\n",
    "    li[b2-(moveb2)] = \"b\"\n",
    "    print(\"\".join(li))\n",
    "    "
   ]
  },
  {
   "cell_type": "code",
   "execution_count": null,
   "metadata": {},
   "outputs": [],
   "source": []
  },
  {
   "cell_type": "code",
   "execution_count": null,
   "metadata": {},
   "outputs": [],
   "source": [
    "1"
   ]
  },
  {
   "cell_type": "code",
   "execution_count": null,
   "metadata": {},
   "outputs": [],
   "source": []
  }
 ],
 "metadata": {
  "kernelspec": {
   "display_name": "Python 3",
   "language": "python",
   "name": "python3"
  },
  "language_info": {
   "codemirror_mode": {
    "name": "ipython",
    "version": 3
   },
   "file_extension": ".py",
   "mimetype": "text/x-python",
   "name": "python",
   "nbconvert_exporter": "python",
   "pygments_lexer": "ipython3",
   "version": "3.7.3"
  }
 },
 "nbformat": 4,
 "nbformat_minor": 2
}
