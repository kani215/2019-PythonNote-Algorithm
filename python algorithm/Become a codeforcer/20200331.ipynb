{
 "cells": [
  {
   "cell_type": "code",
   "execution_count": null,
   "metadata": {},
   "outputs": [],
   "source": [
    "    if listxy[0] == 0 and listxy[1] == 0 :\n",
    "        listmaxxy[0] = 0\n",
    "    if listxy[2] == 0 and listxy[3] == 0 :\n",
    "        listmaxxy[1] = 0"
   ]
  },
  {
   "cell_type": "code",
   "execution_count": 3,
   "metadata": {},
   "outputs": [
    {
     "name": "stdout",
     "output_type": "stream",
     "text": [
      "6\n",
      "3 2 2 2\n",
      "0 0 -2 -2 2 2\n",
      "Yes\n",
      "3 1 4 1\n",
      "0 0 -1 -1 1 1\n",
      "No\n",
      "1 1 1 1\n",
      "1 1 1 1 1 1\n",
      "No\n",
      "0 0 0 1\n",
      "0 0 0 0 0 1\n",
      "Yes\n",
      "5 1 1 1\n",
      "0 0 -100 -100 0 100\n",
      "Yes\n",
      "1 1 5 1\n",
      "0 0 -100 -100 100 0\n",
      "Yes\n"
     ]
    }
   ],
   "source": [
    "for i in range(int(input())) :\n",
    "    listxy = list(map(int,input().split()))\n",
    "    listxy[0] *= -1\n",
    "    listxy[2] *= -1        \n",
    "    listmaxxy = [0,0]\n",
    "    temp = [(listxy[0] + listxy[1]), (listxy[1] + listxy[2])]\n",
    "    for u in range(2) :\n",
    "        if abs(temp[u]) > 0:\n",
    "            listmaxxy[u] = temp[u]       \n",
    "    matrix = list(map(int,input().split())) \n",
    "    \n",
    "    if listxy[0] == -1*listxy[1] and listxy[0] != 0:\n",
    "        if (matrix[4] - matrix[0]) ==0 :\n",
    "            listmaxxy[0] = -1\n",
    "        else :\n",
    "            listmaxxy[0] = 1\n",
    "    if listxy[2] == -1*listxy[3] and listxy[2] != 0:\n",
    "        if (matrix[5] - matrix[1]) ==0 :\n",
    "            listmaxxy[1] = -1   \n",
    "        else :\n",
    "            listmaxxy[1] = 1\n",
    "    if matrix[2] <= matrix[0] +listmaxxy[0] and matrix[0] +listmaxxy[0] <= matrix[4] : \n",
    "        if matrix[3] <= matrix[1] + listmaxxy[1] and matrix[1] + listmaxxy[1] <= matrix[5] :\n",
    "            print(\"Yes\")\n",
    "        else :\n",
    "            print(\"No\")\n",
    "    else :\n",
    "        print(\"No\")"
   ]
  }
 ],
 "metadata": {
  "kernelspec": {
   "display_name": "Python 3",
   "language": "python",
   "name": "python3"
  },
  "language_info": {
   "codemirror_mode": {
    "name": "ipython",
    "version": 3
   },
   "file_extension": ".py",
   "mimetype": "text/x-python",
   "name": "python",
   "nbconvert_exporter": "python",
   "pygments_lexer": "ipython3",
   "version": "3.7.3"
  }
 },
 "nbformat": 4,
 "nbformat_minor": 2
}
