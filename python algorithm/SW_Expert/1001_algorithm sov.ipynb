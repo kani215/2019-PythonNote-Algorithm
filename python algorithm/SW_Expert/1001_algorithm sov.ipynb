{
 "cells": [
  {
   "cell_type": "markdown",
   "metadata": {},
   "source": [
    "성시에 있는 5,000개의 버스 정류장은 관리의 편의를 위해 1에서 5,000까지 번호가 붙어 있다.\n",
    "\n",
    "그리고 버스 노선은 N개가 있는데, i번째 버스 노선은 번호가 Ai이상이고,\n",
    "\n",
    "Bi이하인 모든 정류장만을 다니는 버스 노선이다.\n",
    "\n",
    "P개의 버스 정류장에 대해 각 정류장에 몇 개의 버스 노선이 다니는지 구하는 프로그램을 작성하라.\n",
    "\n",
    "\n",
    "[입력]\n",
    "\n",
    "첫 번째 줄에 테스트 케이스의 수 T가 주어진다.\n",
    "\n",
    "각 테스트 케이스의 첫 번째 줄에는 하나의 정수 N ( 1 ≤ N ≤ 500 )이 주어진다.\n",
    "\n",
    "다음 N개의 줄의 i번째 줄에는 두 정수 Ai, Bi ( 1 ≤ Ai ≤ Bi ≤ 5,000 )가 공백 하나로 구분되어 주어진다.\n",
    "\n",
    "다음 줄에는 하나의 정수 P ( 1 ≤ P ≤ 500 )가 주어진다.\n",
    "\n",
    "다음 P개의 줄의 j번째 줄에는 하나의 정수 Cj ( 1 ≤ Cj ≤ 5,000 ) 가 주어진다.\n",
    "\n",
    "\n",
    "[출력]\n",
    "\n",
    "각 테스트 케이스마다 ‘#x’(x는 테스트케이스 번호를 의미하며 1부터 시작한다)를 출력하고 한 칸을 띄운 후,\n",
    "\n",
    "한 줄에 P개의 정수를 공백 하나로 구분하여 출력한다.\n",
    "\n",
    "j번째 정수는 Cj번 버스 정류장을 지나는 버스 노선의 개수여야 한다.\n",
    "\n",
    "1\n",
    "2\n",
    "1 3\n",
    "\n",
    "2 5\n",
    "5\n",
    "1\n",
    "2\n",
    "3\n",
    "4\n",
    "5\t//테스트 케이스 개수\n",
    "//첫 번째 테스트 케이스, N=2\n",
    "// A1 = 1, B1 = 3\n",
    "// A2 = 2, B2 = 5\n",
    "// P = 5\n",
    "// 이하 C1 = 1, C2 = 2, C3 = 3, C4 = 4, C5 = 5\n",
    "\n",
    "#1 1 2 2 1 1\t//첫 번째 테스트 케이스 결과\n",
    "\n"
   ]
  },
  {
   "cell_type": "markdown",
   "metadata": {},
   "source": [
    "## 풀이 :\n",
    "온갖 방법을 다 해봤지만 n이 너무 크다.\n",
    "\n",
    "1. 0으로 500개를 채운다\n",
    "2. 범위전체를 +1 한다\n",
    "3. 원하는 cj출력해준다."
   ]
  },
  {
   "cell_type": "code",
   "execution_count": 4,
   "metadata": {},
   "outputs": [
    {
     "data": {
      "text/plain": [
       "[0, 0, 0]"
      ]
     },
     "execution_count": 4,
     "metadata": {},
     "output_type": "execute_result"
    }
   ],
   "source": []
  },
  {
   "cell_type": "code",
   "execution_count": 6,
   "metadata": {},
   "outputs": [
    {
     "name": "stdout",
     "output_type": "stream",
     "text": [
      "1\n",
      "2\n",
      "1 3\n",
      "2 5\n",
      "5\n",
      "1\n",
      "2\n",
      "3\n",
      "4\n",
      "5\n",
      "#1 1 2 2 1 1\n"
     ]
    }
   ],
   "source": [
    "for i in range(int(input())) :\n",
    "    ans = []   #1.출력용 \n",
    "    emplist = [0]*5001\n",
    "\n",
    "    for j in range(int(input())) :\n",
    "        ai,bi = map(int,input().split())\n",
    "        for k in range(ai,bi+1):\n",
    "            emplist[k] +=1\n",
    "            \n",
    "    for p in range(int(input())) :\n",
    "        k = int(input())\n",
    "        ans.append(str(emplist[k]))\n",
    "        \n",
    "    print(\"#\"+str(i+1),\" \".join(ans))"
   ]
  },
  {
   "cell_type": "code",
   "execution_count": null,
   "metadata": {},
   "outputs": [],
   "source": []
  }
 ],
 "metadata": {
  "kernelspec": {
   "display_name": "Python 3",
   "language": "python",
   "name": "python3"
  },
  "language_info": {
   "codemirror_mode": {
    "name": "ipython",
    "version": 3
   },
   "file_extension": ".py",
   "mimetype": "text/x-python",
   "name": "python",
   "nbconvert_exporter": "python",
   "pygments_lexer": "ipython3",
   "version": "3.7.3"
  }
 },
 "nbformat": 4,
 "nbformat_minor": 2
}
