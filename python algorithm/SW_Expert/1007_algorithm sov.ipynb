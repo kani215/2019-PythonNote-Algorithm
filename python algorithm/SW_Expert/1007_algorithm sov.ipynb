{
 "cells": [
  {
   "cell_type": "markdown",
   "metadata": {},
   "source": [
    "4869. [파이썬 S/W 문제해결 기본] 4일차 - 종이붙이기\n",
    "\n",
    "20xn 크기의 종이가 있다\n",
    "\n",
    "이 종이를 20x10 10x20 20x20의 종이들로 만들수 있는 경우의 수를 구하라\n",
    "\n",
    "단 n은 가로 크기이며 10의 배수이며 10~300사이의 수 이다."
   ]
  },
  {
   "cell_type": "code",
   "execution_count": 3,
   "metadata": {},
   "outputs": [
    {
     "name": "stdout",
     "output_type": "stream",
     "text": [
      "3\n",
      "30\n",
      "#1 5\n",
      "50\n",
      "#2 21\n",
      "70\n",
      "#3 85\n"
     ]
    }
   ],
   "source": [
    "def find(start,memo,input_num,ans) : \n",
    "    if start%2==1:\n",
    "        memo =memo*2+2\n",
    "    else :\n",
    "        memo =memo*2-2\n",
    "    ans +=memo\n",
    "    start+=1\n",
    "\n",
    "    if input_num==start:\n",
    "        return ans\n",
    "    else:\n",
    "        return find(start,memo,input_num,ans)\n",
    "\n",
    "for i in range(int(input())) :\n",
    "    start=1 \n",
    "    memo =0\n",
    "    ans =1\n",
    "    input_num = int(input())//10    \n",
    "    print(\"#\"+str(i+1),find(start,memo,input_num,ans))\n",
    "    \n",
    "\n",
    "\n",
    "    \n",
    "        \n",
    "        \n",
    "    \n",
    "    \n",
    "    "
   ]
  }
 ],
 "metadata": {
  "kernelspec": {
   "display_name": "Python 3",
   "language": "python",
   "name": "python3"
  },
  "language_info": {
   "codemirror_mode": {
    "name": "ipython",
    "version": 3
   },
   "file_extension": ".py",
   "mimetype": "text/x-python",
   "name": "python",
   "nbconvert_exporter": "python",
   "pygments_lexer": "ipython3",
   "version": "3.7.3"
  }
 },
 "nbformat": 4,
 "nbformat_minor": 2
}
