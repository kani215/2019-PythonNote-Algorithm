{
 "cells": [
  {
   "cell_type": "markdown",
   "metadata": {},
   "source": [
    "# 02 LIST2\n",
    "\n",
    "## 부분 집합\n",
    "\n",
    "### 1. 부분 집합 문제\n",
    "\n",
    "1. 부분 집합의 합 문제 : 유한 개의 정수로 이루어진 집합이 있을 때, 이 집합의 부분 집합 중에서 모두 더한 값이 0이 되는 경우가 있는지를\n",
    "알아내는 문제\n",
    "\n",
    "{-7,-3,-2,5,8}\n",
    "{-3,-2,5}는 부분집합이 맞다}\n",
    "\n",
    "2. 부분 집합의 수 문제 :\n",
    "어떤 집합의 부분 집합의 총 개수 공집합 포합 2^n\n",
    "\n",
    "3. loop로 부분 집합 생성하는 방법 :\n",
    "bit = [0,0,0,0]\n",
    "for i in range(2) :\n",
    "    bit[0]=i\n",
    "    for j on range(2) :\n",
    "    bit[1] =j\n",
    "    for k in range(2) :\n",
    "    bit[3] = l\n",
    "    print(bit)\n"
   ]
  },
  {
   "cell_type": "markdown",
   "metadata": {},
   "source": [
    "### 부분 집합 문제 알고리즘1\n",
    "\n",
    "1. 부분 집합 문제 알고리즘1 : 위의 loop처럼 트리식 일일이 생성 지시\n",
    "   단 수를 bit 처럼 이진법으로 변환해서 생각해보자.\n",
    "   1000 1110   10000처럼\n",
    "   \n",
    "2. 비트 연산자의 활용 &,|,<<,>> 는 비트 단위로 계산도 가능"
   ]
  },
  {
   "cell_type": "code",
   "execution_count": 6,
   "metadata": {},
   "outputs": [
    {
     "name": "stdout",
     "output_type": "stream",
     "text": [
      "3,6,3,6,7,3,7,6,7,3,6,7,1,3,1,6,1,3,6,1,7,1,3,7,1,6,7,1,3,6,7,1,5,3,5,6,5,3,6,5,7,5,3,7,5,6,7,5,3,6,7,5,1,5,3,1,5,6,1,5,3,6,1,5,7,1,5,3,7,1,5,6,7,1,5,3,6,7,1,5,4,3,4,6,4,3,6,4,7,4,3,7,4,6,7,4,3,6,7,4,1,4,3,1,4,6,1,4,3,6,1,4,7,1,4,3,7,1,4,6,7,1,4,3,6,7,1,4,5,4,3,5,4,6,5,4,3,6,5,4,7,5,4,3,7,5,4,6,7,5,4,3,6,7,5,4,1,5,4,3,1,5,4,6,1,5,4,3,6,1,5,4,7,1,5,4,3,7,1,5,4,6,7,1,5,4,3,6,7,1,5,4,"
     ]
    }
   ],
   "source": [
    "arr = [3,6,7,1,5,4]\n",
    "n = len(arr) #원소의 개수\n",
    "for i in range(1<<n) : #1<<n 부분집합의 개수 고냥 기호 아닌 연산결과라 생각 2^5 한거 \n",
    "    for j in range(n) : # 원소의 수만큼 비트를 비교함 <<<<<<<원소의 포함 여부 판단이 가능합\n",
    "        if i & (1<<j) :\n",
    "            print(arr[j], end=',')\n"
   ]
  }
 ],
 "metadata": {
  "kernelspec": {
   "display_name": "Python 3",
   "language": "python",
   "name": "python3"
  },
  "language_info": {
   "codemirror_mode": {
    "name": "ipython",
    "version": 3
   },
   "file_extension": ".py",
   "mimetype": "text/x-python",
   "name": "python",
   "nbconvert_exporter": "python",
   "pygments_lexer": "ipython3",
   "version": "3.7.3"
  }
 },
 "nbformat": 4,
 "nbformat_minor": 2
}
