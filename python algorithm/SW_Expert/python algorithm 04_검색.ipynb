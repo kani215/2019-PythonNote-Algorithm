{
 "cells": [
  {
   "cell_type": "markdown",
   "metadata": {},
   "source": [
    "# 3. 검색\n",
    "\n",
    "## 1. 검색 개요\n",
    "\n",
    "저장되어 있는 자료 중에서 원하는 항목 = key를 찾는 과정\n",
    "\n",
    "\n",
    "### 1. 순차 검색 기법\n",
    "\n",
    "일렬로 되어 있는 자료를 순서대로 검색 List 나 연결 List 등 순차구조로 구현된 자료구조에서 유용\n",
    "정렬된 경우, 정렬되지 않는 경우 \n",
    "\n",
    "- 정렬되지 않는 자료의 검색 과정\n",
    "첫번째 원소부터 순서대로 검색대상과 키 값이 값은 원소가 있는지를 비교하여 찾음\n",
    "\n",
    "키를 찾고 = 원소 인덱스 반환 \n",
    "\n",
    "2를 찾을때 우선 2를 찾고 [i]의 i 를 찾는다는 의미\n",
    "\n",
    "- 순차 검색의 평균 검색 수는 n+1/2 시간복잡도 0(n) \n",
    "\n",
    "- 졍렬된 자료의 검색 방법\n",
    ": 오름 차순이라고 가정후 검색\n",
    "\n",
    "key값이 크면 다름 인덱스로 가는 형식\n",
    "9 찾을때  2<9 5<9 9=9 이렇게\n",
    "\n",
    "정렬되어 있으므로 평균 비교 회수는 반이 된다. 0(n)"
   ]
  },
  {
   "cell_type": "code",
   "execution_count": null,
   "metadata": {},
   "outputs": [],
   "source": [
    "def sequentialSearch2(a,n,key) : \n",
    "    i=0\n",
    "    while i<n and a[i]<key :\n",
    "        i =1+i\n",
    "        \n",
    "        if i<n and a[i] == key:\n",
    "            return i\n",
    "        else:\n",
    "            return -i\n"
   ]
  },
  {
   "cell_type": "markdown",
   "metadata": {},
   "source": [
    "### 2. 이진 검색\n",
    "\n",
    "효율적인 검색 방법\n",
    "자료의 가운데 항목의 키 값과 비교하여 다음 검색의 위치를 결정하고 검색을 지속\n",
    "자료의 중앙에 있는 원소 선택\n",
    "중앙 원소의 값과 찾고자 하는 목표 값을 비교\n",
    "목표값 < 중앙 원소 값 : 자료의 왼쪽 반에 대해서 새로 검색을 수행 목표값 > 중앙 원소 값 : 자료의 오른쪽 반에 대해서 새로 검색을 수행\n",
    "시간복잡도는 o(logn)\n",
    "\n",
    "\n",
    "ex.      2  4  7  9  11  19  23\n",
    "중앙 9 기준 왼쪽으로 시작\n",
    "\n",
    "1. 7<9 성립 큰 수들은 검색에서 제외 11 19 23 제외\n",
    "2. 7>4 작은 수 발견\n",
    "3. 답 7 \n",
    "\n",
    "> 검색 범위의 시작점과 종료점을 이용\n",
    "* 검색의 반복 수행 \n",
    "* 이진 검색의 경우, 자료의 삽입이나 삭제가 발생하였을 때 List의 상태를 항상 정렬 상태로 유지하는 추가 작업이 필요함\n"
   ]
  },
  {
   "cell_type": "code",
   "execution_count": null,
   "metadata": {},
   "outputs": [],
   "source": [
    "def ninarySearch (a, key ) : \n",
    "    start = 0\n",
    "    end = len(a)-1\n",
    "    while start<=end:\n",
    "        middle = start + (end-start)//2   #(평균 구하기 인데 자연수처리 끄덕끄덕)\n",
    "        \n",
    "        if key == a[middle]: #검색 성공시\n",
    "            return True\n",
    "        elif key < a[middle]:\n",
    "            end = middle-1\n",
    "            else :\n",
    "                start = middle+1\n",
    "                return False # 검색 실패 "
   ]
  },
  {
   "cell_type": "markdown",
   "metadata": {},
   "source": [
    "# 인덱스 \n",
    "\n",
    "* 데이터베이스에서 유래, 테이블에 대한 동작 속도를 높임\n",
    "\n",
    "\n",
    "* 인덱스를 저장하는데 필요한 디스크 공간은 보통 테이블 저장에 \n",
    "  필요한 디스크 공간보다 작음\n",
    "\n",
    "* List를 사용한 인덱스\n",
    ": 대량의 데이터를 매번 정렬하면, 프로그램의 반응은 느려질 수 밖에 없음, 이러한 대량 데이터의 성능 저하 문제를 해결하기 위해 List 인덱스를 사용할 수 있음\n",
    "> 즉 ID값을 넣어줬다는 의미이다. 이는  \n",
    "    "
   ]
  },
  {
   "cell_type": "code",
   "execution_count": null,
   "metadata": {},
   "outputs": [],
   "source": []
  }
 ],
 "metadata": {
  "kernelspec": {
   "display_name": "Python 3",
   "language": "python",
   "name": "python3"
  },
  "language_info": {
   "codemirror_mode": {
    "name": "ipython",
    "version": 3
   },
   "file_extension": ".py",
   "mimetype": "text/x-python",
   "name": "python",
   "nbconvert_exporter": "python",
   "pygments_lexer": "ipython3",
   "version": "3.7.3"
  }
 },
 "nbformat": 4,
 "nbformat_minor": 2
}
