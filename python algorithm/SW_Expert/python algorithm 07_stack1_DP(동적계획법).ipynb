{
 "cells": [
  {
   "cell_type": "markdown",
   "metadata": {},
   "source": [
    "# stack1 _ DP\n",
    "\n",
    "## 1. DP 동적 계획 알고리즘 \n",
    "\n",
    "> 최적화 문제를 해결\n",
    "> 먼저 입력 크기가 작은 부분 문제들을 모두 해결한 후에 그 해들을 이용하여 큰 크기의 문제에 접근\n",
    "> 최종적으로 원래 목적의 출력 달성\n",
    "\n",
    "## 2. 피보나치 수 구하기\n",
    "\n",
    "1. 문제를 부분 문제로 분할\n",
    "fibo(n) = fibo(n-1) + fibo(n-2)\n",
    "2. 부분 문제로 나눈는 일을 끝냈으면 작은 문제부터 해결\n",
    "\n",
    "3. 그 결과 테이블 저장 활용 큰 문제 해 구함\n",
    "\n",
    "## 3. DP의 구현방식\n",
    "\n",
    "* recursive 방식 : fibo1()\n",
    "> 재귀적 구조는 내부의 시스템 호출 스택을 사용하는 overhead 발생\n",
    "\n",
    "* iterative 방식 : fibo2()\n",
    "> memoization을 재귀적 구조에 사용하는 것보다 반복적 구조로 DP를 구현한 것이 성능 면에서 보다 효율적\n",
    "\n",
    "\n"
   ]
  },
  {
   "cell_type": "markdown",
   "metadata": {},
   "source": [
    "# 4. memoization \n",
    "> dp의 기본적인 방법\n",
    "> 메모리에 기억시켜서 실행시간을 단축시킨다는 의미\n",
    "> 피보나치 수를 구하는 알고리즘에서 fibo(n)의 값을 계산하자마자 저장하면 실행시간을 줄일 수 있다.\n",
    "> 재귀 함수에 적극 사용."
   ]
  },
  {
   "cell_type": "code",
   "execution_count": null,
   "metadata": {},
   "outputs": [],
   "source": [
    "# memo를 위한 리스트를 생성하고\n",
    "# memo{0}을 0으로 memo{1}는 1로 초기화 한다.\n",
    "\n",
    "def fibo1(n) :\n",
    "    global memo\n",
    "    if n>=2 and len(memo) <= n :\n",
    "        memo.append(fibo1(n-1) + fibo(n-2))\n",
    "    return memo[n]\n",
    "\n",
    "memo = [0,1]"
   ]
  },
  {
   "cell_type": "code",
   "execution_count": null,
   "metadata": {},
   "outputs": [],
   "source": []
  }
 ],
 "metadata": {
  "kernelspec": {
   "display_name": "Python 3",
   "language": "python",
   "name": "python3"
  },
  "language_info": {
   "codemirror_mode": {
    "name": "ipython",
    "version": 3
   },
   "file_extension": ".py",
   "mimetype": "text/x-python",
   "name": "python",
   "nbconvert_exporter": "python",
   "pygments_lexer": "ipython3",
   "version": "3.7.3"
  }
 },
 "nbformat": 4,
 "nbformat_minor": 2
}
