{
 "cells": [
  {
   "cell_type": "markdown",
   "metadata": {},
   "source": [
    "# 6958. 동철이 "
   ]
  },
  {
   "cell_type": "markdown",
   "metadata": {},
   "source": [
    "N명의 사람들이 어떤 프로그래밍 대회에 참가했다.\n",
    "\n",
    "대회에는 M개의 문제가 나왔다.\n",
    "\n",
    "동철이는 이 프로그래밍 대회가 열렸다는 소식을 접했고,\n",
    "\n",
    "간단한 웹 서핑으로 각 사람들이 문제를 풀었는지 아닌지를 나타내는 NⅹM 개의 값 ai,j를 구할 수 있었다.\n",
    "\n",
    "사람에 1에서 N까지의 번호를 붙이고, 문제에도 1에서 M까지의 번호를 붙일 때,\n",
    "\n",
    "ai,j 는 대회가 끝나고 i번 사람이 j번 문제를 풀었다면 1, 풀지 못했다면 0을 가지는 값이다.\n",
    "\n",
    "동철이는 이 대회에는 나가지 못했지만, 다른 프로그래밍 대회에 나갈 계획이고 목표는 우승이다.\n",
    "\n",
    "그러므로 지금 열린 이 대회에서 1등을 한 사람들을 찾아 라이벌로 삼기로 했다.\n",
    "\n",
    "이 대회에서 모든 문제의 점수는 같고 프로그램을 제출한 시간은 따지지 않는다.\n",
    "\n",
    "그러므로, 푼 문제 수가 많은 사람이 더 높은 등수를 가지고, 푼 문제 수가 같은 사람은 같은 등수를 가진다.\n",
    "\n",
    "이 대회의 결과를 받아 1등을 한 사람이 몇 명이고 몇 문제를 풀었는지 구하는 프로그램을 작성하라.\n",
    "\n",
    "\n",
    "[입력]\n",
    "\n",
    "첫 번째 줄에 테스트 케이스의 수 T가 주어진다.\n",
    "\n",
    "각 테스트 케이스의 첫 번째 줄에는 두 정수 N, M (1 ≤ N, M ≤ 20) 이 공백 하나로 구분되어 주어진다.\n",
    "\n",
    "다음 N개의 줄의 i번째 줄에는 M개의 정수 ai,1, ai,2, …, ai,m (0 ≤ ai,j ≤ 1) 이 공백 하나로 구분되어 주어진다.\n",
    "\n",
    "\n",
    "[출력]\n",
    "\n",
    "각 테스트 케이스마다 대회에서 1등한 사람의 수와 1등이 푼 문제의 수를 공백 하나로 구분하여 출력한다."
   ]
  },
  {
   "cell_type": "code",
   "execution_count": 25,
   "metadata": {},
   "outputs": [
    {
     "data": {
      "text/plain": [
       "3"
      ]
     },
     "execution_count": 25,
     "metadata": {},
     "output_type": "execute_result"
    }
   ],
   "source": [
    "\n"
   ]
  },
  {
   "cell_type": "code",
   "execution_count": 31,
   "metadata": {
    "scrolled": true
   },
   "outputs": [
    {
     "name": "stdout",
     "output_type": "stream",
     "text": [
      "1\n",
      "3 5\n",
      "1 0 0 1 0\n",
      "1 1 1 0 0 \n",
      "0 0 0 1 0\n",
      "#1 1 3\n"
     ]
    }
   ],
   "source": [
    "test_case = int(input())\n",
    "N,M =map(int,input().split())\n",
    "for j in range(test_case):\n",
    "    count = [0]*N\n",
    "    t = 0\n",
    "    for i in range(N) :\n",
    "        key = list(map(int,input().split()))\n",
    "        count[i] = sum(key)\n",
    "            \n",
    "    for k in range(N) : \n",
    "        if count[k] == max(count):\n",
    "            t+=1\n",
    "    print(\"#\"+str(j+1),t,max(count))"
   ]
  },
  {
   "cell_type": "markdown",
   "metadata": {},
   "source": [
    "# 4522 세상의 모든 팰린드 폼"
   ]
  },
  {
   "cell_type": "markdown",
   "metadata": {},
   "source": [
    "어떤 단어가 뒤에서 앞으로 거꾸로 썼을 때 원래의 단어와 같으면 이를 팰린드롬이라고 한다.\n",
    "\n",
    "예를 들어 “madam”은 뒤에서 앞으로 읽어도 “madam”이기 때문에 팰린드롬이다.\n",
    "\n",
    "그러나 “dog”는 뒤에서 앞으로 읽으면 “god”이기 때문에 팰린드롬이 아니다.\n",
    "\n",
    "“doggod”은 뒤에서 앞으로 읽으면 “doggod”이므로 팰린드롬이다.\n",
    "\n",
    "25XX년 경근이는 알파벳 소문자로 만든 단어들 중에서 팰린드롬인 것들을 모두 모아(그 단어에 뜻이 있건 없건) 데이터베이스에 넣었다.\n",
    "\n",
    "요즘은 저장 장치가 발달해서 매우 많은 팰린드롬을 저장할 수 있기 때문에 모든 팰린드롬을 저장하지는 못할 것이라는 걱정은 하지 않아도 좋다.\n",
    "\n",
    "경근이는 이 데이터베이스에서 특정한 패턴에 매치되는 팰린드롬을 찾으려고 한다.\n",
    "\n",
    "경근이는 알파벳 소문자와 ‘?’를 사용한 패턴과 매치되는 단어를 찾는 명령을 내릴 수 있는데, ‘?’는 임의의 문자로 대체될 수 있는 와일드 카드이다.\n",
    "\n",
    "예를 들어 경근이가 “a??a”에 매치되는 단어를 찾으라는 명령을 내리면, “assa”, “appa”등의 팰린드롬을 찾아 줄 것이다.\n",
    "\n",
    "“asia”는 이런 패턴에 매치되기는 하지만 팰린드롬이 아니기 때문에 찾아주지 않을 것이고, “aa”, “aab”, “ana”, “aaaaa”는 패턴에 매치되지 않기 때문에 찾아주지 않을 것이다.\n",
    "\n",
    "주어진 패턴과 매치되는 단어가 하나라도 있는지 아닌지 출력하는 프로그램을 작성하라.\n",
    "\n",
    "\n",
    "[입력]\n",
    "\n",
    "첫 번째 줄에 테스트 케이스의 수 T가 주어진다.\n",
    "\n",
    "각 테스트 케이스의 첫 번째 줄에는 길이가 1이상 20이하인 문자열이 주어진다.\n",
    "\n",
    "이 문자열은 알파벳 소문자와 ‘?’만으로 이루어져 있다.\n",
    "\n",
    "\n",
    "[출력]\n",
    "\n",
    "각 테스트 케이스마다 주어진 패턴과 매칭되는 팰린드롬이 하나라도 존재하면 “Exist”를 아니라면 “Not exist”를 출력한다."
   ]
  },
  {
   "cell_type": "markdown",
   "metadata": {},
   "source": [
    "## 풀이 :\n",
    "\n",
    "쉽다? 스택메모리로 거꾸러 입력해서 비교하는 식의 풀이를 노린다."
   ]
  },
  {
   "cell_type": "code",
   "execution_count": 42,
   "metadata": {},
   "outputs": [
    {
     "name": "stdout",
     "output_type": "stream",
     "text": [
      "2\n",
      "hi\n",
      "#1 Not exist\n",
      "a??a\n",
      "#2 Exist\n"
     ]
    }
   ],
   "source": [
    "from collections import deque \n",
    "for i in range(int(input())) :\n",
    "    printlist=deque()\n",
    "    test = list(input())\n",
    "    switch = 0\n",
    "    if len(test)%2 !=0 :\n",
    "        switch = 1\n",
    "    for k in range(len(test)) :\n",
    "        if test[k] == \"?\":\n",
    "            test[k] = test[len(test)-1-k]\n",
    "    # 1. ? 처리\n",
    "    \n",
    "    # 2. 분할\n",
    "    for j in range(len(test)//2):\n",
    "        printlist.append(test.pop())\n",
    "        \n",
    "    \n",
    "    if switch ==1 :\n",
    "        test.pop()\n",
    "        \n",
    "    if test != list(printlist) :\n",
    "        print(\"#\"+str(i+1),\"Not exist\")\n",
    "    else :\n",
    "        print(\"#\"+str(i+1),\"Exist\")\n",
    "        "
   ]
  }
 ],
 "metadata": {
  "kernelspec": {
   "display_name": "Python 3",
   "language": "python",
   "name": "python3"
  },
  "language_info": {
   "codemirror_mode": {
    "name": "ipython",
    "version": 3
   },
   "file_extension": ".py",
   "mimetype": "text/x-python",
   "name": "python",
   "nbconvert_exporter": "python",
   "pygments_lexer": "ipython3",
   "version": "3.7.3"
  }
 },
 "nbformat": 4,
 "nbformat_minor": 2
}
