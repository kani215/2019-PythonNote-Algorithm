{
 "cells": [
  {
   "cell_type": "code",
   "execution_count": null,
   "metadata": {},
   "outputs": [],
   "source": [
    "permut"
   ]
  },
  {
   "cell_type": "code",
   "execution_count": 15,
   "metadata": {},
   "outputs": [
    {
     "name": "stdout",
     "output_type": "stream",
     "text": [
      "[[], [], [], [], [], [], [], [], [], [], [], [], [], [], [], [], [], [], [], [], [], [], [], []]\n",
      "The history saving thread hit an unexpected error (OperationalError('database or disk is full')).History will not be written to the database.\n"
     ]
    }
   ],
   "source": [
    "def permutation(arr, r):\n",
    "    global startlist\n",
    "    arr = sorted(arr)\n",
    "    used = [0 for _ in range(len(arr))]\n",
    "\n",
    "    def generate(chosen, used):\n",
    "        if len(chosen) == r:\n",
    "            li = chosen\n",
    "            startlist.append(li)\n",
    "            return\n",
    "\n",
    "        for i in range(len(arr)):\n",
    "            if not used[i]:\n",
    "                chosen.append(arr[i])\n",
    "                used[i] = 1\n",
    "                generate(chosen, used)\n",
    "                used[i] = 0\n",
    "                chosen.pop()\n",
    "    generate([], used)\n",
    "\n",
    "startlist = []\n",
    "# 입력값을 위처럼 한번에 이중 list로 처리\n",
    "#-------------------------------------------------------------------------\n",
    "permutation([1,2,3,4], 4)\n",
    "print(startlist)\n"
   ]
  },
  {
   "cell_type": "code",
   "execution_count": 9,
   "metadata": {},
   "outputs": [
    {
     "name": "stdout",
     "output_type": "stream",
     "text": [
      "2\n",
      "4 0 0 0 0 0 0 0 0\n",
      "4 0 0 0 0 0 0 0 0\n"
     ]
    },
    {
     "ename": "IndexError",
     "evalue": "list index out of range",
     "output_type": "error",
     "traceback": [
      "\u001b[1;31m---------------------------------------------------------------------------\u001b[0m",
      "\u001b[1;31mIndexError\u001b[0m                                Traceback (most recent call last)",
      "\u001b[1;32m<ipython-input-9-d60092ed809d>\u001b[0m in \u001b[0;36m<module>\u001b[1;34m\u001b[0m\n\u001b[0;32m     35\u001b[0m         \u001b[0mout\u001b[0m \u001b[1;33m=\u001b[0m \u001b[1;36m0\u001b[0m\u001b[1;33m\u001b[0m\u001b[1;33m\u001b[0m\u001b[0m\n\u001b[0;32m     36\u001b[0m         \u001b[1;32mwhile\u001b[0m \u001b[1;32mTrue\u001b[0m\u001b[1;33m:\u001b[0m\u001b[1;33m\u001b[0m\u001b[1;33m\u001b[0m\u001b[0m\n\u001b[1;32m---> 37\u001b[1;33m             \u001b[0mhit\u001b[0m \u001b[1;33m=\u001b[0m \u001b[0minning\u001b[0m\u001b[1;33m[\u001b[0m\u001b[0mtasoon\u001b[0m\u001b[1;33m[\u001b[0m\u001b[0mtaza\u001b[0m\u001b[1;33m]\u001b[0m\u001b[1;33m]\u001b[0m\u001b[1;33m\u001b[0m\u001b[1;33m\u001b[0m\u001b[0m\n\u001b[0m\u001b[0;32m     38\u001b[0m             \u001b[1;32mif\u001b[0m \u001b[0mhit\u001b[0m \u001b[1;33m==\u001b[0m \u001b[1;36m0\u001b[0m\u001b[1;33m:\u001b[0m\u001b[1;33m\u001b[0m\u001b[1;33m\u001b[0m\u001b[0m\n\u001b[0;32m     39\u001b[0m                 \u001b[0mout\u001b[0m \u001b[1;33m+=\u001b[0m \u001b[1;36m1\u001b[0m\u001b[1;33m\u001b[0m\u001b[1;33m\u001b[0m\u001b[0m\n",
      "\u001b[1;31mIndexError\u001b[0m: list index out of range"
     ]
    }
   ],
   "source": [
    "def permutation(arr, r):\n",
    "    arr = sorted(arr)\n",
    "    used = [0 for _ in range(len(arr))]\n",
    "\n",
    "    def generate(chosen, used):\n",
    "        if len(chosen) == r:\n",
    "            startlist.append(chosen)\n",
    "            return\n",
    "\n",
    "        for i in range(len(arr)):\n",
    "            if not used[i]:\n",
    "                chosen.append(arr[i])\n",
    "                used[i] = 1\n",
    "                generate(chosen, used)\n",
    "                used[i] = 0\n",
    "                chosen.pop()\n",
    "    generate([], used)\n",
    "\n",
    "N = int(input())\n",
    "my_map = [list(map(int, input().split())) for _ in range(N)]\n",
    "startlist = []\n",
    "# 입력값을 위처럼 한번에 이중 list로 처리\n",
    "#-------------------------------------------------------------------------\n",
    "permutation([1,2,3,4,5,6,7,8], 8)\n",
    "\n",
    "result = 0\n",
    "for perm in startlist :\n",
    "    # perm은 1~9랜덤 배순\n",
    "    tasoon = list(perm)[:3] + [0] + list(perm)[3:]\n",
    "    # 타순을 슬라이싱으로 바로 받기 4번타순은 1번이니 0으로 index지정\n",
    "    taza = 0\n",
    "    score = 0\n",
    "    for inning in my_map:  # 0 ~ N-1 이닝\n",
    "        b1, b2, b3 = 0, 0, 0\n",
    "        out = 0\n",
    "        while True:\n",
    "            hit = inning[tasoon[taza]]\n",
    "            if hit == 0:\n",
    "                out += 1\n",
    "            elif hit == 1:\n",
    "                score += b3\n",
    "                b1, b2, b3 = 1, b1, b2\n",
    "            elif hit == 2:\n",
    "                score += b2 + b3\n",
    "                b1, b2, b3 = 0, 1, b1\n",
    "            elif hit == 3:\n",
    "                score += b1 + b2 + b3\n",
    "                b1, b2, b3 = 0, 0, 1\n",
    "            elif hit == 4:\n",
    "                score += b1 + b2 + b3 + 1\n",
    "                b1, b2, b3 = 0, 0, 0\n",
    "            taza = (taza + 1) % 9\n",
    "            if out >= 3:\n",
    "                break\n",
    "    if score > result:\n",
    "        result = score\n",
    "print(result)\n"
   ]
  },
  {
   "cell_type": "code",
   "execution_count": null,
   "metadata": {},
   "outputs": [],
   "source": [
    "# 순열의 원리\n",
    "\n",
    "def permutation(arr,r) :\n",
    "    arr = sorted(arr)\n",
    "    used = [0 for _ in range(len(arr))]\n",
    "    \n",
    "    def generate(chosen, used):\n",
    "        if len"
   ]
  },
  {
   "cell_type": "markdown",
   "metadata": {},
   "source": [
    "# 1526 가장 큰 금민수\n",
    "은민이는 4와 7을 좋아하고, 나머지 숫자는 싫어한다. 금민수는 어떤 수가 4와 7로만 이루어진 수를 말한다.\n",
    "\n",
    "N이 주어졌을 때, N보다 작거나 같은 금민수 중 가장 큰 것을 출력하는 프로그램을 작성하시오."
   ]
  },
  {
   "cell_type": "code",
   "execution_count": 5,
   "metadata": {},
   "outputs": [
    {
     "name": "stdout",
     "output_type": "stream",
     "text": [
      "100\n"
     ]
    }
   ],
   "source": [
    "# 모든 경우의 가능성을 셈하는 완전탐색의 힘\n",
    "# n글자 > n글자 7부터 조여간다.\n",
    "\n",
    "nlist = list(input())\n",
    "nummax = len(nlist)\n",
    "nummin = (nummax-1)\n",
    "\n",
    "for x in nlist :\n",
    "    x = int(x)\n",
    "\n",
    "\n",
    "    \n",
    "\n",
    "    \n"
   ]
  }
 ],
 "metadata": {
  "kernelspec": {
   "display_name": "Python 3",
   "language": "python",
   "name": "python3"
  },
  "language_info": {
   "codemirror_mode": {
    "name": "ipython",
    "version": 3
   },
   "file_extension": ".py",
   "mimetype": "text/x-python",
   "name": "python",
   "nbconvert_exporter": "python",
   "pygments_lexer": "ipython3",
   "version": "3.7.6"
  }
 },
 "nbformat": 4,
 "nbformat_minor": 4
}
