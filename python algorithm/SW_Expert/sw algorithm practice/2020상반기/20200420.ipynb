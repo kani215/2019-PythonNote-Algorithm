{
 "cells": [
  {
   "cell_type": "markdown",
   "metadata": {},
   "source": [
    "# 스타트와 링크\n",
    "\n",
    "\n",
    "- 팀의 능력치 차이 최소화 시키면서 구축 \n",
    "  n= 20이므로 400개의 case가 등장\n",
    "\n",
    "- 저는 완전탐색 노가다로 풀것입니다."
   ]
  },
  {
   "cell_type": "code",
   "execution_count": 5,
   "metadata": {},
   "outputs": [
    {
     "name": "stdout",
     "output_type": "stream",
     "text": [
      "6\n",
      "0 1 2 3 4 5\n",
      "1 0 2 3 4 5\n",
      "1 2 0 3 4 5\n",
      "1 2 3 0 4 5\n",
      "1 2 3 4 0 5\n",
      "1 2 3 4 5 0\n",
      "2\n"
     ]
    }
   ],
   "source": [
    "# 2. 완전탐색 - 조합 설계\n",
    "def combinations(arr,r):\n",
    "    for i in range(len(arr)):  \n",
    "        if r == 1:  \n",
    "            yield [arr[i]]\n",
    "        else:\n",
    "            for next in combinations(arr[i+1:],r-1): \n",
    "                yield [arr[i]] + next\n",
    "\n",
    "\n",
    "# 1. input 설계\n",
    "r = int(input())\n",
    "arr = [0] *r\n",
    "for i in range(r) : \n",
    "    arr[i] = list(map(int,input().split()))\n",
    "teamnumlist = [x for x in range(1,r+1)]\n",
    "\n",
    "ans_score = []\n",
    "\n",
    "# 3. 함수 작동 및 계산\n",
    "for teammates in combinations(teamnumlist,r/2) :\n",
    "    teammates2 = list(teammates)\n",
    "    otherteammates = list(set(teamnumlist) - set(teammates))\n",
    "    temp1 = 0\n",
    "    temp2 = 0\n",
    "    for x in combinations(otherteammates, 2) :\n",
    "        temp1 += arr[x[0]-1][x[1]-1]\n",
    "        temp1 += arr[x[1]-1][x[0]-1]\n",
    "    for y in combinations(teammates2 , 2) :\n",
    "        temp2 += arr[y[0]-1][y[1]-1]\n",
    "        temp2 += arr[y[1]-1][y[0]-1]  \n",
    "    ans_score.append(abs(temp1-temp2))\n",
    "print(min(ans_score))"
   ]
  },
  {
   "cell_type": "markdown",
   "metadata": {},
   "source": [
    "## for문에 섞인 재귀"
   ]
  },
  {
   "cell_type": "code",
   "execution_count": 4,
   "metadata": {},
   "outputs": [
    {
     "name": "stdout",
     "output_type": "stream",
     "text": [
      "[1, 4]\n",
      "[5, 1]\n",
      "6\n"
     ]
    }
   ],
   "source": [
    "def min(a,b) :\n",
    "    yield [a,4]\n",
    "    yield [b,1]\n",
    "\n",
    "    \n",
    "for i in min([]) :\n",
    "    print(i)\n",
    "    \n",
    "# 놀랍게도 바로 출력된다. 사실 type달라도 뱉는 거에 충격받음"
   ]
  },
  {
   "cell_type": "code",
   "execution_count": 15,
   "metadata": {},
   "outputs": [
    {
     "name": "stdout",
     "output_type": "stream",
     "text": [
      "[1, 2, 3]\n",
      "next [2, 3]\n",
      "next [3]\n",
      "[arr[i]] [3]\n",
      "[1, 2, 4]\n",
      "next [2, 4]\n",
      "next [4]\n",
      "[arr[i]] [4]\n",
      "[1, 2, 5]\n",
      "next [2, 5]\n",
      "next [5]\n",
      "[arr[i]] [5]\n",
      "[1, 3, 4]\n",
      "next [3, 4]\n",
      "next [4]\n",
      "[arr[i]] [4]\n",
      "[1, 3, 5]\n",
      "next [3, 5]\n",
      "next [5]\n",
      "[arr[i]] [5]\n",
      "[1, 4, 5]\n",
      "next [4, 5]\n",
      "next [5]\n",
      "[arr[i]] [5]\n",
      "[2, 3, 4]\n",
      "next [3, 4]\n",
      "next [4]\n",
      "[arr[i]] [4]\n",
      "[2, 3, 5]\n",
      "next [3, 5]\n",
      "next [5]\n",
      "[arr[i]] [5]\n",
      "[2, 4, 5]\n",
      "next [4, 5]\n",
      "next [5]\n",
      "[arr[i]] [5]\n",
      "[3, 4, 5]\n",
      "next [4, 5]\n",
      "next [5]\n",
      "[arr[i]] [5]\n"
     ]
    }
   ],
   "source": [
    "# 2. 완전탐색 - 조합 설계\n",
    "def combinations(arr,r):\n",
    "    for i in range(len(arr)):  \n",
    "        if r == 1:  \n",
    "            yield [arr[i]]\n",
    "            print(\"[arr[i]]\",[arr[i]])\n",
    "        else:\n",
    "            for next in combinations(arr[i+1:],r-1): \n",
    "                yield [arr[i]] + next\n",
    "                print(\"next\",next)\n",
    "\n",
    "\n",
    "\n",
    "for combi in combinations([1,2,3,4,5],3):\n",
    "    print(combi)"
   ]
  }
 ],
 "metadata": {
  "kernelspec": {
   "display_name": "Python 3",
   "language": "python",
   "name": "python3"
  },
  "language_info": {
   "codemirror_mode": {
    "name": "ipython",
    "version": 3
   },
   "file_extension": ".py",
   "mimetype": "text/x-python",
   "name": "python",
   "nbconvert_exporter": "python",
   "pygments_lexer": "ipython3",
   "version": "3.7.6"
  }
 },
 "nbformat": 4,
 "nbformat_minor": 4
}
