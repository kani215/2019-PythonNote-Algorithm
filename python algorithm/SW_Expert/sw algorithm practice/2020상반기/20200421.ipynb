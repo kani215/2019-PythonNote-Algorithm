{
 "cells": [
  {
   "cell_type": "markdown",
   "metadata": {},
   "source": [
    "# 1026번 보물"
   ]
  },
  {
   "cell_type": "markdown",
   "metadata": {},
   "source": [
    "## 완전탐색의 풀이"
   ]
  },
  {
   "cell_type": "code",
   "execution_count": 6,
   "metadata": {},
   "outputs": [
    {
     "name": "stdout",
     "output_type": "stream",
     "text": [
      "5\n",
      "1 1 1 6 0\n",
      "2 7 8 3 1\n",
      "[35, 23, 60, 58, 28, 18, 35, 23, 60, 58, 28, 18, 55, 53, 55, 53, 48, 48, 29, 19, 54, 54, 29, 19, 35, 23, 60, 58, 28, 18, 35, 23, 60, 58, 28, 18, 55, 53, 55, 53, 48, 48, 29, 19, 54, 54, 29, 19, 35, 23, 60, 58, 28, 18, 35, 23, 60, 58, 28, 18, 55, 53, 55, 53, 48, 48, 29, 19, 54, 54, 29, 19, 30, 28, 30, 28, 23, 23, 30, 28, 30, 28, 23, 23, 30, 28, 30, 28, 23, 23, 24, 24, 24, 24, 24, 24, 34, 24, 59, 59, 34, 24, 34, 24, 59, 59, 34, 24, 54, 54, 54, 54, 54, 54, 34, 24, 59, 59, 34, 24]\n",
      "18\n"
     ]
    }
   ],
   "source": [
    "# 2. 순열 구현\n",
    "\n",
    "def permutations(prefix,k):\n",
    "    if len(prefix) == r:\n",
    "        yield prefix\n",
    "    else:\n",
    "        for i in range(k,len(arr)):\n",
    "            arr[i], arr[k] = arr[k], arr[i]\n",
    "            for next in permutations(prefix + [arr[k]], k+1):\n",
    "                yield next\n",
    "            arr[i], arr[k] = arr[k], arr[i]\n",
    "    \n",
    "#1.  input\n",
    "\n",
    "r = int(input())\n",
    "\n",
    "arr = list(map(int,input().split()))\n",
    "b = list(map(int,input().split()))\n",
    "ans_list = []\n",
    "\n",
    "for mem in permutations([],0) :\n",
    "    member = list(mem)\n",
    "    temp = 0\n",
    "    for j in range(r) :\n",
    "        temp +=(b[j]*member[j])\n",
    "    ans_list.append(temp)\n",
    "print(min(ans_list))"
   ]
  },
  {
   "cell_type": "code",
   "execution_count": 7,
   "metadata": {},
   "outputs": [
    {
     "name": "stdout",
     "output_type": "stream",
     "text": [
      "5\n",
      "1 1 1 6 0\n",
      "2 7 8 3 1\n",
      "18\n"
     ]
    }
   ],
   "source": [
    "import itertools\n",
    "\n",
    "r = int(input())\n",
    "\n",
    "arr = list(map(int,input().split()))\n",
    "b = list(map(int,input().split()))\n",
    "ans_list = []\n",
    "\n",
    "for mem in itertools.permutations(arr,r) :\n",
    "    member = list(mem)\n",
    "    temp = 0\n",
    "    for j in range(r) :\n",
    "        temp +=(b[j]*member[j])\n",
    "    ans_list.append(temp)\n",
    "print(min(ans_list))"
   ]
  },
  {
   "cell_type": "markdown",
   "metadata": {},
   "source": [
    "## 순서 배열"
   ]
  },
  {
   "cell_type": "code",
   "execution_count": 9,
   "metadata": {},
   "outputs": [
    {
     "name": "stdout",
     "output_type": "stream",
     "text": [
      "5\n",
      "1 1 1 6 0\n",
      "2 7 8 3 1\n",
      "18\n"
     ]
    }
   ],
   "source": [
    "r = int(input())\n",
    "\n",
    "arr = list(map(int,input().split()))\n",
    "b = list(map(int,input().split()))\n",
    "temp = 0\n",
    "arr.sort()\n",
    "b = sorted(b,reverse=True)\n",
    "\n",
    "for j in range(r) :\n",
    "    temp +=arr[j]*b[j]\n",
    "print(temp)"
   ]
  },
  {
   "cell_type": "markdown",
   "metadata": {},
   "source": [
    "# 14681"
   ]
  },
  {
   "cell_type": "code",
   "execution_count": null,
   "metadata": {},
   "outputs": [],
   "source": [
    "x = int(input())\n",
    "y = int(input())\n",
    "\n",
    "if x> 0 and y > 0 :\n",
    "    print(1)\n",
    "elif x< 0 and y > 0 :\n",
    "    print(2)\n",
    "elif x< 0 and y < 0 :\n",
    "    print(3)\n",
    "else :\n",
    "    print(4)"
   ]
  },
  {
   "cell_type": "markdown",
   "metadata": {},
   "source": [
    "# 2884"
   ]
  },
  {
   "cell_type": "code",
   "execution_count": 5,
   "metadata": {
    "scrolled": true
   },
   "outputs": [
    {
     "name": "stdout",
     "output_type": "stream",
     "text": [
      "23 40\n",
      "22 55\n"
     ]
    }
   ],
   "source": [
    "H,M = map(int,input().split())\n",
    "\n",
    "M -= 45\n",
    "\n",
    "if M <0 :\n",
    "    M+=60\n",
    "    H -=1\n",
    "    if H<0 :\n",
    "        H+=24\n",
    "print(\"%d %d\" % (H,M))"
   ]
  },
  {
   "cell_type": "code",
   "execution_count": null,
   "metadata": {},
   "outputs": [],
   "source": [
    "setmeal = [0,0,0]\n",
    "setdrink = [0,0]\n",
    "for i in range(3) :\n",
    "    setmeal[i] = int(input())\n",
    "for j in range(2) :\n",
    "    setdrink[j] = int(input())\n",
    "    \n",
    "setmeal.sort()\n",
    "setdrink.sort()\n",
    "\n",
    "print(setmeal[0]+setdrink[0]-50)"
   ]
  },
  {
   "cell_type": "code",
   "execution_count": 7,
   "metadata": {},
   "outputs": [
    {
     "name": "stdout",
     "output_type": "stream",
     "text": [
      "3\n",
      "*\n",
      "**\n",
      "***\n",
      "**\n",
      "*\n"
     ]
    }
   ],
   "source": [
    "N = int(input())\n",
    "for i in range(1,N+1) :\n",
    "    print(\"*\"*i)\n",
    "for i in range(N-1,0,-1) :\n",
    "    print(\"*\"*i)"
   ]
  },
  {
   "cell_type": "code",
   "execution_count": 15,
   "metadata": {
    "scrolled": true
   },
   "outputs": [
    {
     "name": "stdout",
     "output_type": "stream",
     "text": [
      "5\n",
      "*********\n",
      " ******* \n",
      "  *****  \n",
      "   ***   \n",
      "    *    \n",
      "   ***   \n",
      "  *****  \n",
      " ******* \n",
      "*********\n"
     ]
    }
   ],
   "source": [
    "t = int(input())\n",
    "N = 2*t-1\n",
    "for i in range(t) :\n",
    "    print(\" \"*i+\"*\"*(N-2*i)+\" \"*i)\n",
    "for i in range(t-1) :\n",
    "    print(\" \"*((t-2)-i)+\"*\"*(2*i+3)+\" \"*((t-2)-i))"
   ]
  },
  {
   "cell_type": "code",
   "execution_count": 25,
   "metadata": {},
   "outputs": [
    {
     "name": "stdout",
     "output_type": "stream",
     "text": [
      "4\n",
      "* * \n",
      " * *\n",
      "* * \n",
      " * *\n",
      "* * \n",
      " * *\n",
      "* * \n",
      " * *\n"
     ]
    }
   ],
   "source": [
    "N = int(input())\n",
    "lista = [\"0\"]*N\n",
    "listb = [\"0\"]*N\n",
    "if N%2==0 :\n",
    "    for i in range(N//2) :\n",
    "        lista[2*i] = \"*\"\n",
    "        listb[2*i] = \" \"\n",
    "else :\n",
    "    for i in range(N//2+1) :\n",
    "        lista[2*i] = \"*\"\n",
    "        listb[2*i] = \" \"\n",
    "        \n",
    "for i in range(N//2) :\n",
    "    lista[2*i+1] = \" \"\n",
    "    listb[2*i+1] = \"*\"\n",
    "        \n",
    "for j in range(N) :\n",
    "    print(\"\".join(lista))\n",
    "    print(\"\".join(listb))\n",
    "    "
   ]
  }
 ],
 "metadata": {
  "kernelspec": {
   "display_name": "Python 3",
   "language": "python",
   "name": "python3"
  },
  "language_info": {
   "codemirror_mode": {
    "name": "ipython",
    "version": 3
   },
   "file_extension": ".py",
   "mimetype": "text/x-python",
   "name": "python",
   "nbconvert_exporter": "python",
   "pygments_lexer": "ipython3",
   "version": "3.7.6"
  }
 },
 "nbformat": 4,
 "nbformat_minor": 4
}
