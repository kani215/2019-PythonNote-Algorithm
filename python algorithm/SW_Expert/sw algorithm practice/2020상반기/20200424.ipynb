{
 "cells": [
  {
   "cell_type": "markdown",
   "metadata": {},
   "source": [
    "# 1181 단어 정렬"
   ]
  },
  {
   "cell_type": "code",
   "execution_count": 21,
   "metadata": {
    "scrolled": true
   },
   "outputs": [
    {
     "name": "stdout",
     "output_type": "stream",
     "text": [
      "3\n",
      "s\n",
      "s\n",
      "t\n",
      "s\n",
      "t\n"
     ]
    }
   ],
   "source": [
    "from operator import itemgetter\n",
    "\n",
    "lista = []\n",
    "N  = int(input())\n",
    "for i in range(N) :\n",
    "    temp = input()\n",
    "    lista.append([temp,len(temp)])\n",
    "lista.sort(key = itemgetter(1,0))\n",
    "\n",
    "print(lista[0][0])\n",
    "for j in range(1, N) :\n",
    "    if lista[j][0] != lista[j-1][0] :\n",
    "        print(lista[j][0])\n",
    "        \n"
   ]
  },
  {
   "cell_type": "code",
   "execution_count": 2,
   "metadata": {},
   "outputs": [
    {
     "name": "stdout",
     "output_type": "stream",
     "text": [
      "[(1, 2)]\n"
     ]
    }
   ],
   "source": [
    "def BFS(*start) :\n",
    "    global graph \n",
    "    temp = [*start]\n",
    "    print(temp)\n",
    "pi = [(1,2)] \n",
    "BFS(*pi)"
   ]
  },
  {
   "cell_type": "markdown",
   "metadata": {},
   "source": [
    "# DFS BFS 7576 토마토 20200428"
   ]
  },
  {
   "cell_type": "code",
   "execution_count": null,
   "metadata": {},
   "outputs": [],
   "source": [
    "from collections import deque\n",
    "def BFS(*start) :\n",
    "    global graph \n",
    "    temp = [*start]\n",
    "    deque2 = deque(temp)\n",
    "    cnt=0\n",
    "    while deque2 : \n",
    "        x , y,cnt = deque2.popleft() \n",
    "        for i in range(4) :\n",
    "            nx = x + dx[i]\n",
    "            ny = y + dy[i]   \n",
    "            if 0 <= ny and 0 <= nx and ny <= m-1 and nx <= n-1 :\n",
    "                if graph[nx][ny] == 0  :\n",
    "                    cnt+=1\n",
    "                    deque2.append((nx,ny,cnt))\n",
    "                    graph[nx][ny] = 1\n",
    "                    \n",
    "                elif graph[nx][ny] == 1 :\n",
    "                    deque2.append((nx,ny,cnt))\n",
    "    #return cnt\n",
    "\n",
    "                    \n",
    "                    \n",
    "m = 6\n",
    "n = 4\n",
    "dx = [0,0,-1,1]\n",
    "dy = [-1,1,0,0]\n",
    "graph = [[0,0,0,0,0,0],[0,0,0,0,0,0],[0,0,0,0,0,0],[0,0,0,0,0,1]]\n",
    "rem = [(3,5,0)]\n",
    "\n",
    "BFS(*rem)\n",
    "\n",
    "graph"
   ]
  },
  {
   "cell_type": "markdown",
   "metadata": {},
   "source": [
    "# 1111111111111111111111111"
   ]
  },
  {
   "cell_type": "code",
   "execution_count": 15,
   "metadata": {},
   "outputs": [
    {
     "name": "stdout",
     "output_type": "stream",
     "text": [
      "2 2\n",
      "1 -1 \n",
      "-1 1\n",
      "0\n"
     ]
    }
   ],
   "source": [
    "from collections import deque\n",
    "\n",
    "# 2. 함수 설계 ---------------------------\n",
    "def BFS(*start) :\n",
    "    global graph \n",
    "    temp = [*start]\n",
    "    deque2 = deque(temp)\n",
    "    cnt = 0\n",
    "    while deque2 : \n",
    "        x , y, cnt = deque2.popleft()\n",
    "        for i in range(4) :\n",
    "            nx = x + dx[i]\n",
    "            ny = y + dy[i]\n",
    "            if 0 <= ny and 0 <= nx and ny < m and nx < n:\n",
    "                if graph[nx][ny] == 0  :\n",
    "                    cnt2 = cnt +1\n",
    "                    deque2.append((nx,ny,cnt2))\n",
    "                    graph[nx][ny] = 1\n",
    "\n",
    "    switch = 0\n",
    "    for u in range(n):\n",
    "        for v in range(m):\n",
    "            if graph[u][v] == 0 :\n",
    "                switch = 1\n",
    "    if switch == 0 :        \n",
    "        return cnt\n",
    "    else :       \n",
    "        return -1\n",
    "    \n",
    "    \n",
    "# 1. 값의 입력 ---------------------------\n",
    "m, n  = list(map(int, input().split()))\n",
    "dx = [0,0,-1,1]\n",
    "dy = [-1,1,0,0]\n",
    "graph = [0] * n\n",
    "for i in range(n) :\n",
    "    graph[i] = list(map(int,input().split()))\n",
    "# 3 . 출력 -------------------------------\n",
    "rem = []\n",
    "for j in range(n):\n",
    "    for k in range(m):\n",
    "        if graph[j][k]==1 :\n",
    "            rem.append((j,k,0))\n",
    "print(BFS(*rem))"
   ]
  }
 ],
 "metadata": {
  "kernelspec": {
   "display_name": "Python 3",
   "language": "python",
   "name": "python3"
  },
  "language_info": {
   "codemirror_mode": {
    "name": "ipython",
    "version": 3
   },
   "file_extension": ".py",
   "mimetype": "text/x-python",
   "name": "python",
   "nbconvert_exporter": "python",
   "pygments_lexer": "ipython3",
   "version": "3.7.6"
  }
 },
 "nbformat": 4,
 "nbformat_minor": 4
}
