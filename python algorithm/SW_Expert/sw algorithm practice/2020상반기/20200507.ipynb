{
 "cells": [
  {
   "cell_type": "markdown",
   "metadata": {},
   "source": [
    "# 9205 맥주 마시면서 걷기 탐색문제"
   ]
  },
  {
   "cell_type": "code",
   "execution_count": null,
   "metadata": {},
   "outputs": [],
   "source": [
    "상근이집 출발 \n",
    "20병 1박스 \n",
    "50미터 1병 소모\n",
    "\n",
    "편의점\n",
    "빈 병 <> 맥주 교환 구매\n",
    "\n",
    "입력\n",
    "Testcase\n",
    "편의점 수\n",
    "편의점 도착지 상근집 좌표 \n",
    "직사각 거리는 멘헤튼 거리\n",
    "\n",
    "출력\n",
    "도착 가능 : happy, 불가  : sad "
   ]
  },
  {
   "cell_type": "code",
   "execution_count": null,
   "metadata": {},
   "outputs": [],
   "source": [
    "풀이법은 여러개 생각\n",
    "\n",
    "1. 길이를 유변값으로 매 지점 이동시 재계산 해서 DFS 탐색 \n",
    "\n",
    "2. 애초에 모든 점을 서로의 거리 계산 후 1과 0으로 이루어진 의 하나의 graph지도 구축"
   ]
  },
  {
   "cell_type": "code",
   "execution_count": 14,
   "metadata": {},
   "outputs": [
    {
     "name": "stdout",
     "output_type": "stream",
     "text": [
      "1\n",
      "2\n",
      "0 0\n",
      "1000 0\n",
      "2000 1000\n",
      "2000 2000\n",
      "[[1, 1, 0, 0], [1, 1, 0, 0], [0, 0, 1, 1], [0, 0, 1, 1]]\n",
      "sad\n"
     ]
    }
   ],
   "source": [
    "from collections import deque\n",
    "# 2. DFS로 설계\n",
    "def DFS(home) :\n",
    "    deque2 = deque()\n",
    "    deque2.append(home)\n",
    "    global graph\n",
    "    switch = 0\n",
    "    s = 0\n",
    "    while deque2 :\n",
    "        if s == 1:\n",
    "            break\n",
    "        x = deque2.pop()\n",
    "        for o in range(store_num+2) :\n",
    "            if o == store_num+1 and graph[x][o] == 1 :\n",
    "                switch = 1\n",
    "                s = 1\n",
    "                break\n",
    "                \n",
    "            elif graph[x][o] == 1 :\n",
    "                graph[x][o] = 0\n",
    "                graph[o][x] = 0\n",
    "                deque2.append(o)\n",
    "                \n",
    "    if switch == 1 :\n",
    "        print(\"happy\")\n",
    "        \n",
    "    else :\n",
    "        print(\"sad\")\n",
    "    \n",
    "    \n",
    "# 1.입력\n",
    "for i in range(int(input())) : \n",
    "    # 테케\n",
    "    store_num = int(input())\n",
    "    data = [0] * (store_num + 2)\n",
    "    graph = [[0]*(store_num+2) for _ in range(store_num+2)]\n",
    "    for r in range(store_num + 2) :\n",
    "        data[r] = list(map(int,input().split()))\n",
    "    \n",
    "    for j in range(store_num+2) :\n",
    "        for k in range(store_num+2) :\n",
    "            graph[j][k] = abs(data[j][0] - data[k][0]) + abs(data[j][1] - data[k][1])\n",
    "            if graph[j][k] > 1000 :\n",
    "                graph[k][j] = 0\n",
    "                graph[j][k] = 0\n",
    "            else :\n",
    "                graph[k][j] = 1\n",
    "                graph[j][k] = 1               \n",
    "\n",
    "    DFS(0)\n",
    "    "
   ]
  },
  {
   "cell_type": "code",
   "execution_count": null,
   "metadata": {},
   "outputs": [],
   "source": []
  }
 ],
 "metadata": {
  "kernelspec": {
   "display_name": "Python 3",
   "language": "python",
   "name": "python3"
  },
  "language_info": {
   "codemirror_mode": {
    "name": "ipython",
    "version": 3
   },
   "file_extension": ".py",
   "mimetype": "text/x-python",
   "name": "python",
   "nbconvert_exporter": "python",
   "pygments_lexer": "ipython3",
   "version": "3.7.6"
  }
 },
 "nbformat": 4,
 "nbformat_minor": 4
}
