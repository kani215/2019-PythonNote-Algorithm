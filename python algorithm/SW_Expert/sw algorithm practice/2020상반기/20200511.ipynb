{
 "cells": [
  {
   "cell_type": "markdown",
   "metadata": {},
   "source": [
    "# 14890번 \n",
    "\n",
    "\n",
    "탐색 - 사실 노가다 DFS 탐색일 거라 생각한다.\n",
    "\n"
   ]
  },
  {
   "cell_type": "code",
   "execution_count": 9,
   "metadata": {},
   "outputs": [
    {
     "name": "stdout",
     "output_type": "stream",
     "text": [
      "6 2\n",
      "3 3 3 3 3 3\n",
      "2 3 3 3 3 3\n",
      "2 2 2 3 2 3\n",
      "1 1 1 2 2 2\n",
      "1 1 1 3 3 1\n",
      "1 1 2 3 3 2\n",
      "0 0 !\n",
      "3 0 !\n",
      "2\n"
     ]
    }
   ],
   "source": [
    "#2 . DFS -----------------------------------\n",
    "from collections import deque\n",
    "\n",
    "def DFS_updown(start) :\n",
    "    deque2 = deque()\n",
    "    deque2.append(start)\n",
    "    switch = 0\n",
    "    x,y,stack = deque2.pop()\n",
    "    for i in range(1,N-1) :\n",
    "        temp = abs(graph[i][y] -graph[i+1][y])\n",
    "        if temp > 1 :\n",
    "            switch = 1\n",
    "            break\n",
    "        elif temp == 1 and stack < L-1 :\n",
    "            switch = 1\n",
    "            break\n",
    "        elif temp == 1 and stack >= L-1 :\n",
    "            stack -= L\n",
    "        else :                \n",
    "            stack +=1\n",
    "        \n",
    "    if switch == 1 or stack <0:\n",
    "        return 0\n",
    "    else :\n",
    "        print(x,y,\"!\")\n",
    "        return 1\n",
    "    \n",
    "def DFS_leftright(start) :\n",
    "    deque2 = deque()\n",
    "    deque2.append(start)\n",
    "    switch = 0\n",
    "    x,y,stack = deque2.pop()\n",
    "    for i in range(N-1) :\n",
    "        temp = graph[x][i] -graph[x][i+1]\n",
    "        if abs(temp) > 1 :\n",
    "            switch = 1\n",
    "            break\n",
    "        elif temp == 1 and stack < L-1 :\n",
    "            switch = 1\n",
    "            break\n",
    "        elif temp == 1 and stack >= L-1 :\n",
    "            stack -= L\n",
    "            \n",
    "        elif temp == -1 and stack < L-1 :\n",
    "            \n",
    "            \n",
    "        else :                \n",
    "            stack +=1\n",
    "        \n",
    "    if switch == 1 or stack <0:\n",
    "        return 0\n",
    "    else :\n",
    "        print(x,y,\"!\")\n",
    "        return 1\n",
    "    \n",
    "# 1. 입력 -----------------------------------\n",
    "N,L = map(int,input().split())\n",
    "graph = [0] * N\n",
    "cnt = 0\n",
    "for i in range(N) :\n",
    "    graph[i] = list(map(int,input().split()))\n",
    "\n",
    "for i in range(N) :\n",
    "    # 3번째는 중복스택 카운트\n",
    "    cnt += DFS_updown((0,i,1))\n",
    "    cnt += DFS_leftright((i,0,1))\n",
    "\n",
    "    \n",
    "print(cnt)"
   ]
  },
  {
   "cell_type": "code",
   "execution_count": 6,
   "metadata": {},
   "outputs": [
    {
     "data": {
      "text/plain": [
       "1"
      ]
     },
     "execution_count": 6,
     "metadata": {},
     "output_type": "execute_result"
    }
   ],
   "source": [
    "a = [1,2,3]\n",
    "b  = a\n",
    "\n",
    "b[0] "
   ]
  },
  {
   "cell_type": "code",
   "execution_count": 7,
   "metadata": {},
   "outputs": [
    {
     "name": "stdout",
     "output_type": "stream",
     "text": [
      "10101111\n",
      "01111101\n",
      "11001110\n",
      "00000010\n",
      "2\n",
      "3 -1\n",
      "[[1, 0, 1, 0, 1, 1, 1, 1], [0, 1, 1, 1, 1, 1, 0, 1], [1, 1, 0, 0, 1, 1, 1, 0], [0, 0, 0, 0, 0, 0, 1, 0]]\n"
     ]
    },
    {
     "ename": "IndexError",
     "evalue": "list index out of range",
     "output_type": "error",
     "traceback": [
      "\u001b[1;31m---------------------------------------------------------------------------\u001b[0m",
      "\u001b[1;31mIndexError\u001b[0m                                Traceback (most recent call last)",
      "\u001b[1;32m<ipython-input-7-60533ba18f67>\u001b[0m in \u001b[0;36m<module>\u001b[1;34m\u001b[0m\n\u001b[0;32m     52\u001b[0m \u001b[1;32mfor\u001b[0m \u001b[0mj\u001b[0m \u001b[1;32min\u001b[0m \u001b[0mrange\u001b[0m\u001b[1;33m(\u001b[0m\u001b[0mint\u001b[0m\u001b[1;33m(\u001b[0m\u001b[0minput\u001b[0m\u001b[1;33m(\u001b[0m\u001b[1;33m)\u001b[0m\u001b[1;33m)\u001b[0m\u001b[1;33m)\u001b[0m \u001b[1;33m:\u001b[0m\u001b[1;33m\u001b[0m\u001b[1;33m\u001b[0m\u001b[0m\n\u001b[0;32m     53\u001b[0m     \u001b[0mnclock\u001b[0m\u001b[1;33m,\u001b[0m\u001b[0mdirct\u001b[0m \u001b[1;33m=\u001b[0m \u001b[0mmap\u001b[0m\u001b[1;33m(\u001b[0m\u001b[0mint\u001b[0m\u001b[1;33m,\u001b[0m\u001b[0minput\u001b[0m\u001b[1;33m(\u001b[0m\u001b[1;33m)\u001b[0m\u001b[1;33m.\u001b[0m\u001b[0msplit\u001b[0m\u001b[1;33m(\u001b[0m\u001b[1;33m)\u001b[0m\u001b[1;33m)\u001b[0m\u001b[1;33m\u001b[0m\u001b[1;33m\u001b[0m\u001b[0m\n\u001b[1;32m---> 54\u001b[1;33m     \u001b[0mDFS\u001b[0m\u001b[1;33m(\u001b[0m\u001b[1;33m(\u001b[0m\u001b[0mnclock\u001b[0m\u001b[1;33m-\u001b[0m\u001b[1;36m1\u001b[0m\u001b[1;33m,\u001b[0m\u001b[1;36m2\u001b[0m\u001b[1;33m,\u001b[0m\u001b[0mnclock\u001b[0m\u001b[1;33m-\u001b[0m\u001b[1;36m1\u001b[0m\u001b[1;33m,\u001b[0m\u001b[1;36m6\u001b[0m\u001b[1;33m,\u001b[0m\u001b[0mdirct\u001b[0m\u001b[1;33m)\u001b[0m\u001b[1;33m)\u001b[0m\u001b[1;33m\u001b[0m\u001b[1;33m\u001b[0m\u001b[0m\n\u001b[0m\u001b[0;32m     55\u001b[0m \u001b[1;33m\u001b[0m\u001b[0m\n\u001b[0;32m     56\u001b[0m     \u001b[1;31m# 방향 수는 0 -1 1 3개가 존재\u001b[0m\u001b[1;33m\u001b[0m\u001b[1;33m\u001b[0m\u001b[1;33m\u001b[0m\u001b[0m\n",
      "\u001b[1;32m<ipython-input-7-60533ba18f67>\u001b[0m in \u001b[0;36mDFS\u001b[1;34m(start)\u001b[0m\n\u001b[0;32m     16\u001b[0m             \u001b[0mnx\u001b[0m \u001b[1;33m=\u001b[0m \u001b[0mx\u001b[0m\u001b[1;33m+\u001b[0m\u001b[0mdx\u001b[0m\u001b[1;33m[\u001b[0m\u001b[0mi\u001b[0m\u001b[1;33m]\u001b[0m\u001b[1;33m\u001b[0m\u001b[1;33m\u001b[0m\u001b[0m\n\u001b[0;32m     17\u001b[0m             \u001b[0mny\u001b[0m \u001b[1;33m=\u001b[0m \u001b[0my\u001b[0m\u001b[1;33m+\u001b[0m\u001b[0mdy\u001b[0m\u001b[1;33m[\u001b[0m\u001b[0mi\u001b[0m\u001b[1;33m]\u001b[0m\u001b[1;33m\u001b[0m\u001b[1;33m\u001b[0m\u001b[0m\n\u001b[1;32m---> 18\u001b[1;33m             \u001b[1;32mif\u001b[0m \u001b[0mnx\u001b[0m \u001b[1;33m>=\u001b[0m \u001b[1;36m0\u001b[0m \u001b[1;32mand\u001b[0m \u001b[0mnx\u001b[0m\u001b[1;33m<\u001b[0m\u001b[1;36m4\u001b[0m \u001b[1;32mand\u001b[0m \u001b[0mny\u001b[0m \u001b[1;33m>=\u001b[0m\u001b[1;36m0\u001b[0m \u001b[1;32mand\u001b[0m \u001b[0mny\u001b[0m\u001b[1;33m<\u001b[0m\u001b[1;36m8\u001b[0m \u001b[1;32mand\u001b[0m \u001b[0mgraph2\u001b[0m\u001b[1;33m[\u001b[0m\u001b[0mnx\u001b[0m\u001b[1;33m]\u001b[0m\u001b[1;33m[\u001b[0m\u001b[0mny\u001b[0m\u001b[1;33m]\u001b[0m \u001b[1;33m!=\u001b[0m \u001b[0mgraph2\u001b[0m\u001b[1;33m[\u001b[0m\u001b[0mx\u001b[0m\u001b[1;33m]\u001b[0m\u001b[1;33m[\u001b[0m\u001b[0my\u001b[0m\u001b[1;33m]\u001b[0m \u001b[1;33m:\u001b[0m\u001b[1;33m\u001b[0m\u001b[1;33m\u001b[0m\u001b[0m\n\u001b[0m\u001b[0;32m     19\u001b[0m                 \u001b[0mgraph2\u001b[0m\u001b[1;33m[\u001b[0m\u001b[0mnx\u001b[0m\u001b[1;33m]\u001b[0m\u001b[1;33m[\u001b[0m\u001b[0mny\u001b[0m\u001b[1;33m]\u001b[0m \u001b[1;33m=\u001b[0m \u001b[0mgraph2\u001b[0m\u001b[1;33m[\u001b[0m\u001b[0mx\u001b[0m\u001b[1;33m]\u001b[0m\u001b[1;33m[\u001b[0m\u001b[0my\u001b[0m\u001b[1;33m]\u001b[0m\u001b[1;33m\u001b[0m\u001b[1;33m\u001b[0m\u001b[0m\n\u001b[0;32m     20\u001b[0m                 \u001b[1;32mif\u001b[0m \u001b[0mdirt\u001b[0m \u001b[1;33m==\u001b[0m \u001b[1;36m1\u001b[0m \u001b[1;33m:\u001b[0m\u001b[1;33m\u001b[0m\u001b[1;33m\u001b[0m\u001b[0m\n",
      "\u001b[1;31mIndexError\u001b[0m: list index out of range"
     ]
    }
   ],
   "source": [
    "from collections import deque \n",
    "# 2-1. DFS ----------------------------------\n",
    "def DFS(start) :\n",
    "    graph2 = graph\n",
    "    print(graph2)\n",
    "    switchclock = [0,0,0,0]\n",
    "    switchnx = [0,0,0,0]\n",
    "    deque3 = deque()\n",
    "    deque3.append(start)\n",
    "    x1,y1,x2,y2, dirt1 = deque3.pop()\n",
    "    deque3.append((x1,y1,dirt1))\n",
    "    deque3.append((x2,y2,dirt1))\n",
    "    while deque3 :\n",
    "        x,y,dirt = deque3.pop()\n",
    "        for i in range(2) :\n",
    "            nx = x+dx[i]\n",
    "            ny = y+dy[i]\n",
    "            if nx >= 0 and nx<4 and ny >=0 and ny<8 and graph2[nx][ny] != graph2[x][y] :\n",
    "                graph2[nx][ny] = graph2[x][y]\n",
    "                if dirt == 1 :\n",
    "                    dirt2 = -1\n",
    "                else :\n",
    "                    dirt2 = 1\n",
    "                if switchclock[x] == 0 :\n",
    "                    move(x,dirt)\n",
    "                    switchclock[x] = 1\n",
    "                deque3.append((nx,2,dirt2))\n",
    "                deque3.append((nx,6,dirt2))\n",
    "        \n",
    " \n",
    "            \n",
    "# 2-2. 톱니바퀴 이동 함수\n",
    "def move(nclock,dirct) :\n",
    "    global graph\n",
    "    if dirct == 1 :\n",
    "        a = graph.pop(-1)\n",
    "        graph = [a] + graph\n",
    "    else :\n",
    "        a = graph.pop(0)\n",
    "        graph.append(a)\n",
    "\n",
    "\n",
    "# 1. for문 연계 -----------------------------\n",
    "graph = [0] * 4\n",
    "dx = [-1,1]\n",
    "dy = [-4,4]\n",
    "graph = [0] *4\n",
    "\n",
    "for i in range(4) :\n",
    "    temp =list(input())\n",
    "    graph[i] = [int(x) for x in temp]\n",
    "for j in range(int(input())) :\n",
    "    nclock,dirct = map(int,input().split())\n",
    "    DFS((nclock-1,2,nclock-1,6,dirct))\n",
    "    \n",
    "    # 방향 수는 0 -1 1 3개가 존재\n",
    "    \n",
    "# 3. 점수 환산 --------------------------------\n",
    "sum = 0 \n",
    "for q in range(4) :\n",
    "    sum += (2**q) * graph[q][0]\n",
    "print(graph)\n",
    "print(sum)"
   ]
  },
  {
   "cell_type": "code",
   "execution_count": null,
   "metadata": {},
   "outputs": [],
   "source": []
  }
 ],
 "metadata": {
  "kernelspec": {
   "display_name": "Python 3",
   "language": "python",
   "name": "python3"
  },
  "language_info": {
   "codemirror_mode": {
    "name": "ipython",
    "version": 3
   },
   "file_extension": ".py",
   "mimetype": "text/x-python",
   "name": "python",
   "nbconvert_exporter": "python",
   "pygments_lexer": "ipython3",
   "version": "3.7.6"
  }
 },
 "nbformat": 4,
 "nbformat_minor": 4
}
