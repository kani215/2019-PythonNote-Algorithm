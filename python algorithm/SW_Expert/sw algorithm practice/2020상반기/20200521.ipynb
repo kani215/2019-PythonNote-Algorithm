{
 "cells": [
  {
   "cell_type": "markdown",
   "metadata": {},
   "source": [
    "1697 무한 루프에 빠질 수 있는 되풀이되는 탐색\n",
    "\n",
    "역시 visit 값을 응용해서 풀이한다\n",
    "\n",
    "2배 +1 -1 서로 다른 2개 부호가 존재함으로\n",
    "이를 방정식 화 시켜서 x 변화량을 체크한다.\n"
   ]
  },
  {
   "cell_type": "code",
   "execution_count": 8,
   "metadata": {
    "scrolled": true
   },
   "outputs": [
    {
     "name": "stdout",
     "output_type": "stream",
     "text": [
      "15 0\n",
      "15\n"
     ]
    }
   ],
   "source": [
    "from collections import deque\n",
    "def BFS(start) :\n",
    "    deque2 = deque()\n",
    "    deque2.append(start)\n",
    "    visit = [0 for _ in range(100001)]\n",
    "    # 핵심1 visit로 무한 루프 잡음\n",
    "    while deque2 :\n",
    "        x = deque2.popleft()\n",
    "        for i in range(3) :\n",
    "            nx = x*multdx[i] + plusdx[i] \n",
    "            # 핵심2 2연산 1연산으로 전환\n",
    "            if 0 <= nx <= 100000 and visit[nx] == 0 :\n",
    "                if nx == bro :\n",
    "                    cnt[nx] = cnt[x] + 1\n",
    "                    return cnt[nx]\n",
    "                \n",
    "                visit[nx] = 1\n",
    "                cnt[nx] = cnt[x] + 1\n",
    "                deque2.append(nx)\n",
    "            \n",
    "            \n",
    "su, bro = map(int,input().split())\n",
    "cnt = [-1] * 100001\n",
    "plusdx = [-1,1,0]\n",
    "multdx = [1,1,2]\n",
    "cnt[su] = 0\n",
    "\n",
    "if su >= bro :\n",
    "    print(abs(bro-su))\n",
    "else :\n",
    "    print(BFS(su))"
   ]
  },
  {
   "cell_type": "code",
   "execution_count": null,
   "metadata": {},
   "outputs": [],
   "source": [
    "from collections import deque\n",
    "# 2. BFS --------------------------------------------------\n",
    "def BFS(start) :\n",
    "    deque2 = deque()\n",
    "    deque2.append(start)\n",
    "    visit = [0 for _ in range(build)]\n",
    "    visit[start] = 1\n",
    "    while deque2:\n",
    "        x = deque2.popleft()\n",
    "        for i in range(2) :\n",
    "            nx = x + dx[i]\n",
    "            if 0 <= nx < build and visit[nx] == 0:\n",
    "                deque2.append(nx)\n",
    "                cnt_[nx] = cnt_[x] + 1\n",
    "                visit[nx] = 1\n",
    "    \n",
    "    \n",
    "# 1. 입력 --------------------------------------------------\n",
    "build, st, lo, u,d = map(int,input().split())\n",
    "# important idea \n",
    "# st 리스트를 만드는데 전부 -1까지 채워짐 여기 cnt할 예정 \n",
    "cnt_ = [-1 for i in range(build)]\n",
    "dx =[u,-d]\n",
    "cnt_[st-1] = 0 \n",
    "# count 해야 하니 시작점을 0으로 \n",
    "BFS(st-1)\n",
    "print(cnt_[lo-1] if cnt_[lo-1] != -1 else \"use the stairs\" )\n",
    "# -1이면 뱉는다."
   ]
  },
  {
   "cell_type": "markdown",
   "metadata": {},
   "source": [
    "# 2573"
   ]
  },
  {
   "cell_type": "code",
   "execution_count": null,
   "metadata": {},
   "outputs": [],
   "source": [
    "    visit = [[0] *m for _ in range(n)]\n",
    "    for p in range(n) : \n",
    "        for q in range(m) : \n",
    "            if graph[p][q] > 0 and visit[p][q] == 0 :\n",
    "                DFS_ice((p,q))"
   ]
  },
  {
   "cell_type": "code",
   "execution_count": 55,
   "metadata": {},
   "outputs": [
    {
     "name": "stdout",
     "output_type": "stream",
     "text": [
      "5 7\n",
      "0 0 0 0 0 0 0\n",
      "0 3 3 2 3 3 0\n",
      "0 4 0 4 0 3 0\n",
      "0 0 0 0 4 3 0\n",
      "0 0 0 0 0 0 0\n",
      "[[0, 0, 0, 0, 0, 0, 0], [0, 1, 1, 1, 1, 1, 0], [0, 1, 0, 1, 0, 1, 0], [0, 0, 0, 0, 1, 1, 0], [0, 0, 0, 0, 0, 0, 0]]\n",
      "[[0, 0, 0, 0, 0, 0, 0], [0, 0, 0, 0, 0, 0, 0], [0, 0, 0, 0, 0, 0, 0], [0, 0, 0, 0, 0, 0, 0], [0, 0, 0, 0, 0, 0, 0]]\n",
      "0\n"
     ]
    }
   ],
   "source": [
    "from collections import deque\n",
    "import copy\n",
    "# . 얼음 녹는거 적용 음수값 허용\n",
    "\n",
    "def DFS_ice (start) :\n",
    "    deque2 = deque()\n",
    "    deque2.append(start)\n",
    "    graph3 = copy.deepcopy(graph)\n",
    "    visit = [[0]*m for _ in range(n)]\n",
    "    \n",
    "    while deque2 :\n",
    "        x,y = deque2.pop()\n",
    "        visit[x][y] = 1\n",
    "        c = 0\n",
    "        for i in range(4) :\n",
    "            nx = x + dx[i]\n",
    "            ny = y + dy[i]\n",
    "            if 0 <= nx < n and 0 <= ny < m and graph3[nx][ny] > 0  :\n",
    "                c+=1\n",
    "                if visit[nx][ny] == 0 :\n",
    "                    visit[nx][ny] = 1\n",
    "                    deque2.append((nx,ny))                  \n",
    "        graph[x][y] = graph[x][y] - (4-c)\n",
    "        if graph[x][y] < 0 :\n",
    "            graph[x][y] = 0\n",
    "\n",
    "def DFS_cnt (start) :\n",
    "    deque2 = deque()\n",
    "    deque2.append(start)\n",
    "    while deque2 :\n",
    "        x,y = deque2.pop()\n",
    "        for i in range(4) :\n",
    "            nx = x + dx[i]\n",
    "            ny = y + dy[i]\n",
    "            if 0<= nx < n and 0 <= ny < m and graph2[nx][ny] > 0 :\n",
    "                graph2[nx][ny] = 0\n",
    "                deque2.append((nx,ny))\n",
    "    return 1 \n",
    "\n",
    "# input--------------------------------------------------------------\n",
    "n , m = map(int,input().split())\n",
    "graph = [0] * n \n",
    "dx = [-1, 1 , 0, 0]\n",
    "dy = [0, 0, -1 , 1]\n",
    "year = 0\n",
    "\n",
    "for i in range(n) : \n",
    "    graph[i] = list(map(int,input().split())) \n",
    "    \n",
    "while True :\n",
    "    cnt = 0 \n",
    "    switch = 0\n",
    "    for p in range(n) : \n",
    "        for q in range(m) : \n",
    "            if graph[p][q] != 0 and switch == 0 :\n",
    "                DFS_ice((p,q))\n",
    "                switch = 1\n",
    "    \n",
    "    graph2  = copy.deepcopy(graph)\n",
    "    for p in range(n) : \n",
    "        for q in range(m) : \n",
    "            if graph2[p][q] > 0 :\n",
    "                cnt += DFS_cnt((p,q))    \n",
    "    year +=1\n",
    "    if cnt >= 2 :\n",
    "        print(year)\n",
    "        break\n",
    "    elif cnt < 1 :\n",
    "        print(0)\n",
    "        break"
   ]
  }
 ],
 "metadata": {
  "kernelspec": {
   "display_name": "Python 3",
   "language": "python",
   "name": "python3"
  },
  "language_info": {
   "codemirror_mode": {
    "name": "ipython",
    "version": 3
   },
   "file_extension": ".py",
   "mimetype": "text/x-python",
   "name": "python",
   "nbconvert_exporter": "python",
   "pygments_lexer": "ipython3",
   "version": "3.7.6"
  }
 },
 "nbformat": 4,
 "nbformat_minor": 4
}
