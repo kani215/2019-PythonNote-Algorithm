{
 "cells": [
  {
   "cell_type": "markdown",
   "metadata": {},
   "source": [
    "# 1916 최소비용 구하기"
   ]
  },
  {
   "cell_type": "markdown",
   "metadata": {},
   "source": [
    "- 최소비용 문제가 달갑지는 않다\n",
    "\n",
    "- DP 나 그리디 탐색을 떠올린다. \n",
    "\n",
    "- 완전탐색의 방법을 사용해서 모든 경로 경우의 수의 결과값을 도출\n",
    "\n",
    "- 최소값을 출력하는 방식으로 풀이"
   ]
  },
  {
   "cell_type": "code",
   "execution_count": 13,
   "metadata": {},
   "outputs": [
    {
     "name": "stdout",
     "output_type": "stream",
     "text": [
      "5\n",
      "8\n",
      "1 2 2\n",
      "1 3 3\n",
      "1 4 1\n",
      "1 5 10\n",
      "2 4 2\n",
      "3 4 1\n",
      "3 5 1\n",
      "4 5 3\n",
      "1 5\n",
      "1@@@ 0 1\n",
      "0 1 2\n",
      "1 3 4\n",
      "1@@@ 0 2\n",
      "0 2 3\n",
      "2 3 4\n",
      "1@@@ 0 3\n",
      "0 3 1\n",
      "1@@@ 0 4\n",
      "0 4 10\n",
      "[7, 4, 7, 4]\n",
      "4\n"
     ]
    }
   ],
   "source": [
    "from collections import deque\n",
    "import copy\n",
    "\n",
    "def BFS(start) :\n",
    "    deque2 = deque()\n",
    "    deque2.append(start)\n",
    "    graph2 = copy.deepcopy(graph)\n",
    "    while deque2 :\n",
    "        x, y, cnt = deque2.popleft()\n",
    "        graph2[x][y] = 0\n",
    "        for j in range(n) :\n",
    "            if graph2[y][j] > 0 :\n",
    "                cnt2 = cnt + graph2[y][j]\n",
    "                if j == end-1 :\n",
    "                    ans.append(cnt2)\n",
    "                else :\n",
    "                    deque2.append((y,j,cnt2))\n",
    "\n",
    "                \n",
    "n = int(input())\n",
    "E = int(input())\n",
    "graph = [[0] *n for _ in range(n)]\n",
    "ans = []\n",
    "for i in range(E) :\n",
    "    u,v, ext = map(int, input().split())\n",
    "    graph[u-1][v-1] = ext\n",
    "\n",
    "star,end = map(int, input().split())\n",
    "\n",
    "for i in range(n) :\n",
    "    if graph[star-1][i] > 0 :\n",
    "        BFS((star-1,i,graph[star-1][i]))\n",
    "print(min(ans))\n",
    "\n",
    "\n"
   ]
  },
  {
   "cell_type": "markdown",
   "metadata": {},
   "source": [
    "copy의 사용으로 메모리 초과가 발생\n"
   ]
  },
  {
   "cell_type": "code",
   "execution_count": 17,
   "metadata": {},
   "outputs": [
    {
     "name": "stdout",
     "output_type": "stream",
     "text": [
      "5\n",
      "8\n",
      "1 2 2\n",
      "1 3 3\n",
      "1 4 1\n",
      "1 5 10\n",
      "2 4 2\n",
      "3 4 1\n",
      "3 5 1\n",
      "4 5 3\n",
      "1 5\n",
      "4\n"
     ]
    }
   ],
   "source": [
    "from collections import deque\n",
    "\n",
    "def BFS(start) :\n",
    "    deque2 = deque()\n",
    "    deque2.append(start)\n",
    "    visit = [[1]*n for _ in range(n)]\n",
    "    while deque2 :\n",
    "        x, y, cnt = deque2.popleft()\n",
    "        visit[x][y] = 0\n",
    "        for j in range(n) :\n",
    "            if graph[y][j] > 0 and visit[y][j]:\n",
    "                cnt2 = cnt + graph[y][j]\n",
    "                if j == end-1 :\n",
    "                    ans.append(cnt2)\n",
    "                else :\n",
    "                    deque2.append((y,j,cnt2))\n",
    "\n",
    "                \n",
    "n = int(input())\n",
    "E = int(input())\n",
    "graph = [[0] *n for _ in range(n)]\n",
    "ans = []\n",
    "for i in range(E) :\n",
    "    u,v, ext = map(int, input().split())\n",
    "    graph[u-1][v-1] = ext\n",
    "\n",
    "star,end = map(int, input().split())\n",
    "\n",
    "for i in range(n) :\n",
    "    if graph[star-1][i] > 0 :\n",
    "        BFS((star-1,i,graph[star-1][i]))\n",
    "print(min(ans))\n"
   ]
  },
  {
   "cell_type": "markdown",
   "metadata": {},
   "source": [
    "visit 사용으로 메모리 초과 발생"
   ]
  },
  {
   "cell_type": "markdown",
   "metadata": {},
   "source": [
    "# 이쯤 깨닫는 건 DP 메모리를 사용하지 않는\n",
    "\n",
    "탐색이다. 이는 제한이 128mb일 경우 사용한다.\n",
    "보통 탐색은 200mb정도 쓴다."
   ]
  },
  {
   "cell_type": "code",
   "execution_count": null,
   "metadata": {},
   "outputs": [],
   "source": [
    "# Quick DP\n",
    "def (x,y) :\n",
    "    visit = [x]\n",
    "while y == end-1 :\n",
    "    for i in range(n) :\n",
    "        if graph[x][y] > 0 :\n",
    "            \n",
    "\n",
    "\n",
    "n = int(input())\n",
    "E = int(input())\n",
    "graph = [[0] *n for _ in range(n)]\n",
    "ans = []\n",
    "for i in range(E) :\n",
    "    u,v, ext = map(int, input().split())\n",
    "    graph[u-1][v-1] = ext\n",
    "\n",
    "star,end = map(int, input().split())\n",
    "\n",
    "cnt = 0\n",
    "for i in range(n) :\n",
    "    \n",
    "            \n",
    "\n",
    "print(min(ans))\n"
   ]
  },
  {
   "cell_type": "markdown",
   "metadata": {},
   "source": [
    " # 1753 최단경로 트리\n",
    " \n",
    " - 해당 문제는 다익스트림 알고리즘을 활용해야하는 문제이다\n",
    " \n",
    " - 관련 공부한 내용을 python algorithm 항목에 다익스트림 알고리즘으로 넣어두었다.\n",
    " "
   ]
  },
  {
   "cell_type": "markdown",
   "metadata": {},
   "source": [
    "### 17143 낚시왕 \n",
    "\n",
    "격자판 , 상어 크기. 속도. 방향/ 사람의 이동 존재\n",
    "1. 낚시왕은 0칸 시작 7칸까지 이동 그 후 정지 \n",
    "2. 열에 있는 상어 잡는다 가까운 상어 잡는다.\n",
    "3. 상어 중복 시 작은 상어 제거 \n",
    "\n",
    "결론적 사고\n",
    "답을 위해 존재하는 식이란 느낌\n",
    "크기만 하면 되고 횟수도 정해져 있지\n",
    "\n",
    "개별적 데이터 값인데 전체적인 형태로 변화가 과연 가능할까?\n",
    "\n",
    "\n",
    "\n",
    "1위 2아래 3오 4왼"
   ]
  },
  {
   "cell_type": "code",
   "execution_count": 13,
   "metadata": {},
   "outputs": [
    {
     "data": {
      "text/plain": [
       "[1, 2, 3, 4, 3]"
      ]
     },
     "execution_count": 13,
     "metadata": {},
     "output_type": "execute_result"
    }
   ],
   "source": [
    "l =4\n",
    "p = [x for x in range(1,l+1)] + [x for x in range(l-1,1,-1)]\n",
    "p\n",
    "p.pop()\n",
    "p"
   ]
  },
  {
   "cell_type": "code",
   "execution_count": null,
   "metadata": {},
   "outputs": [],
   "source": [
    "# 3. 상어 이동 함수\n",
    "def graph_clean() :\n",
    "    graph = [[0]*l for _ in range(h)]\n",
    "    \n",
    "def move(hi,le) :\n",
    "    graph_clean()\n",
    "    flat = flat_graph\n",
    "    flat_graph = []\n",
    "    while flat :\n",
    "        y,x,s,d,z = flat.pop()\n",
    "        y = y+dy[d-1]\n",
    "        x + x+dx[d-1]\n",
    "        # 이 부분 때문에 풀이가 불가 \n",
    "        d =\n",
    "        if graph[x][y] == 0 :\n",
    "            \n",
    "            if y == le and x == hi :\n",
    "                continue\n",
    "        \n",
    "    \n",
    "    \n",
    "\n",
    "                \n",
    "# 1. input\n",
    "h,l,num = map(int,input().split())\n",
    "dh = ([x for x in range(1,h+1)] + [x for x in range(h-1,0,-1)]) * 1000\n",
    "dl = ([x for x in range(1,l+1)] + [x for x in range(l-1,0,-1)]) * 1000\n",
    "graph = [[0]*l for _ in range(h)]\n",
    "flat_graph = []\n",
    "dx = [-1,1,0,0]\n",
    "dy = [0,0,1,-1]\n",
    "\n",
    "for _ in range(num) :\n",
    "    loc ,group, speed, dirc, size = map(int,input().split())\n",
    "    graph[loc-1][group-1] = 1\n",
    "    flat_graph.append((group-1,loc-1, speed, dirc, size))\n",
    "    \n",
    "# 2. 상어 잡기 시작\n",
    "for j in range(l) :\n",
    "    flat_graph = sorted(flat_graph,reverse = True)\n",
    "    for i in range(h) :\n",
    "        if graph[h][l] :\n",
    "            move(h,l)\n",
    "            break\n",
    "    \n",
    "            "
   ]
  }
 ],
 "metadata": {
  "kernelspec": {
   "display_name": "Python 3",
   "language": "python",
   "name": "python3"
  },
  "language_info": {
   "codemirror_mode": {
    "name": "ipython",
    "version": 3
   },
   "file_extension": ".py",
   "mimetype": "text/x-python",
   "name": "python",
   "nbconvert_exporter": "python",
   "pygments_lexer": "ipython3",
   "version": "3.7.6"
  }
 },
 "nbformat": 4,
 "nbformat_minor": 4
}
