{
 "cells": [
  {
   "cell_type": "markdown",
   "metadata": {},
   "source": [
    "# 이분탐색 복습"
   ]
  },
  {
   "cell_type": "code",
   "execution_count": 10,
   "metadata": {},
   "outputs": [
    {
     "name": "stdout",
     "output_type": "stream",
     "text": [
      "5\n",
      "6 3 2 10 -10\n",
      "8\n",
      "10 9 -5 2 3 4 5 -10\n",
      "1 0 0 1 1 0 0 1 "
     ]
    }
   ],
   "source": [
    "def binary_research(start,end,key) :\n",
    "    mid = (start+end+1)//2\n",
    "    if mid == end :\n",
    "        if li[mid] != key and li[start] != key :\n",
    "            return 0\n",
    "        else :\n",
    "            return 1\n",
    "    if li[mid] < key :\n",
    "        start = mid\n",
    "        return binary_research(start,end,key) \n",
    "    \n",
    "    elif li[mid] == key :\n",
    "        return 1\n",
    "        \n",
    "    else :\n",
    "        end = mid \n",
    "        return binary_research(start,end,key) \n",
    "    \n",
    "N = int(input())\n",
    "li = list(map(int,input().split()))\n",
    "li.sort()\n",
    "\n",
    "M = int(input())\n",
    "graph = list(map(int,input().split()))\n",
    "for j in range(M) :\n",
    "    print(binary_research(0,N-1,graph[j]), end =\" \")"
   ]
  },
  {
   "cell_type": "markdown",
   "metadata": {},
   "source": [
    "# 10867번 중복빼고 정렬"
   ]
  },
  {
   "cell_type": "code",
   "execution_count": 12,
   "metadata": {},
   "outputs": [
    {
     "name": "stdout",
     "output_type": "stream",
     "text": [
      "10\n",
      "1 4 2 3 1 4 2 3 1 2\n",
      "1 2 3 4 "
     ]
    }
   ],
   "source": [
    "n = int(input())\n",
    "li = set(map(int,input().split()))\n",
    "li = list(li)\n",
    "li.sort()\n",
    "for i in li :\n",
    "    print(i, end = \" \")"
   ]
  },
  {
   "cell_type": "markdown",
   "metadata": {},
   "source": [
    "# 1158 요세푸스\n",
    "1번부터 N번까지 N명의 사람이 원을 이루면서 앉아있고, 양의 정수 K(≤ N)가 주어진다. 이제 순서대로 K번째 사람을 제거한다. 한 사람이 제거되면 남은 사람들로 이루어진 원을 따라 이 과정을 계속해 나간다. 이 과정은 N명의 사람이 모두 제거될 때까지 계속된다. 원에서 사람들이 제거되는 순서를 (N, K)-요세푸스 순열이라고 한다. 예를 들어 (7, 3)-요세푸스 순열은 <3, 6, 2, 7, 5, 1, 4>이다.\n",
    "\n",
    "N과 K가 주어지면 (N, K)-요세푸스 순열을 구하는 프로그램을 작성하시오.\n",
    "\n",
    "- 음 : 맨 처음것이 기록되어져야함"
   ]
  },
  {
   "cell_type": "code",
   "execution_count": 16,
   "metadata": {},
   "outputs": [
    {
     "name": "stdout",
     "output_type": "stream",
     "text": [
      "7 3\n",
      "<3, 6, 2, 7, 5, 1, 4>\n"
     ]
    }
   ],
   "source": [
    "from collections import deque\n",
    "n,m = map(int,input().split())\n",
    "li = list(int(i) for i in range(1,n+1) )\n",
    "\n",
    "deque2 = deque(li)\n",
    "cnt = 0\n",
    "index = 0\n",
    "print(\"<\", end = \"\")\n",
    "while True :    \n",
    "    if len(deque2) == 1:\n",
    "        print(str(deque2[0])+\">\")\n",
    "        break\n",
    "        \n",
    "    t = deque2.popleft()\n",
    "    cnt +=1\n",
    "    if cnt == m :\n",
    "        print(t, end = \", \")\n",
    "        cnt = 0\n",
    "    else :\n",
    "        deque2.append(t)\n",
    "\n",
    "    \n"
   ]
  },
  {
   "cell_type": "markdown",
   "metadata": {},
   "source": [
    "# 1182브루트포스 복습\n",
    "\n",
    "# 1182 부분 수열의 합\n",
    "\n",
    "첫째 줄에 정수의 개수를 나타내는 N과 정수 S가 주어진다. (1 ≤ N ≤ 20, |S| ≤ 1,000,000) 둘째 줄에 N개의 정수가 빈 칸을 사이에 두고 주어진다. 주어지는 정수의 절댓값은 100,000을 넘지 않는다.\n",
    "\n",
    "출력\n",
    "첫째 줄에 합이 S가 되는 부분수열의 개수를 출력한다.\n",
    "\n",
    "- n이 20개가 안된다 노가다로 풀이 할수 있다. 모든 부분수열의 수는 어떠냐\n",
    "2의 20제곱 : 100만"
   ]
  },
  {
   "cell_type": "code",
   "execution_count": null,
   "metadata": {},
   "outputs": [],
   "source": [
    "사용 메모리 210000kb 시간 5100"
   ]
  },
  {
   "cell_type": "code",
   "execution_count": 18,
   "metadata": {},
   "outputs": [
    {
     "name": "stdout",
     "output_type": "stream",
     "text": [
      "5 0\n",
      "-7 -3 -2 5 8\n",
      "1\n"
     ]
    }
   ],
   "source": [
    "def combinations(arr,r) :\n",
    "    for i in range(len(arr)) :\n",
    "        if r == 1 :\n",
    "            yield [arr[i]]\n",
    "        else :\n",
    "            for next in combinations(arr[i+1:],r-1) :\n",
    "                yield [arr[i]] +next\n",
    "\n",
    "n , s = map(int,input().split())\n",
    "li = list(map(int,input().split()))\n",
    "cnt = 0\n",
    "for r in range(1,n+1) :\n",
    "    for combi in list(combinations(li,r)) :\n",
    "        if sum(combi) == s :\n",
    "            cnt +=1\n",
    "print(cnt)"
   ]
  },
  {
   "cell_type": "code",
   "execution_count": 19,
   "metadata": {},
   "outputs": [
    {
     "name": "stdout",
     "output_type": "stream",
     "text": [
      "5 0\n",
      "-7 -3 -2 5 8\n",
      "1\n"
     ]
    }
   ],
   "source": [
    "from itertools import combinations\n",
    "n , s = map(int,input().split())\n",
    "li = list(map(int,input().split()))\n",
    "cnt = 0\n",
    "\n",
    "for r in range(1,n+1) :\n",
    "    for combi in list(combinations(li,r)) :\n",
    "        if sum(combi) == s :\n",
    "            cnt +=1\n",
    "\n",
    "print(cnt)"
   ]
  },
  {
   "cell_type": "markdown",
   "metadata": {},
   "source": [
    "##  개선 된 풀이"
   ]
  },
  {
   "cell_type": "code",
   "execution_count": null,
   "metadata": {},
   "outputs": [],
   "source": [
    "사용 메모리 130000kb 시간 138"
   ]
  },
  {
   "cell_type": "code",
   "execution_count": null,
   "metadata": {},
   "outputs": [],
   "source": [
    "사실 굉장하다 생각한다...\n",
    "재귀를 활용해서 \n",
    "\n",
    "0 , 1로 이분해서 탐색하는 수법을 사용 내꺼보다 메모리 소모가 극도로 적다."
   ]
  },
  {
   "cell_type": "code",
   "execution_count": null,
   "metadata": {},
   "outputs": [],
   "source": [
    "a, s = map(int, input().split(' '))\n",
    "li = list(map(int, input().split(' ')))\n",
    "\n",
    "cnt = 0\n",
    "\n",
    "\n",
    "def dfs(now, index):\n",
    "    global cnt\n",
    "    if index == a:\n",
    "        return\n",
    "    if now + li[index] == s:\n",
    "        cnt += 1\n",
    "\n",
    "    dfs(now + li[index], index + 1)\n",
    "    dfs(now, index + 1)\n",
    "    # 이게 핵심임 2개로 나누어서 전 범위 탐색 메모리를 심히 단축시킴\n",
    "    # 이게 왜 빠를까 오지게 고민중 \n",
    "\n",
    "dfs(0, 0)\n",
    "print(cnt)"
   ]
  },
  {
   "cell_type": "code",
   "execution_count": null,
   "metadata": {},
   "outputs": [],
   "source": [
    "n, s = map(int, input().split())\n",
    "nums = list(map(int, input().split()))\n",
    "result = 0\n",
    "subsums = []\n",
    "count = 0\n",
    "\n",
    "for i in range(n):\n",
    "    for k in range(count):\n",
    "        subsums.append(subsums[k]+nums[i])\n",
    "        if subsums[k]+nums[i] == s:\n",
    "            result += 1\n",
    "    subsums.append(nums[i])\n",
    "    count = count * 2 + 1\n",
    "    if nums[i] == s:\n",
    "        result += 1\n",
    "\n",
    "print(result)\n"
   ]
  },
  {
   "cell_type": "markdown",
   "metadata": {},
   "source": [
    "# 15686 치킨 배달"
   ]
  },
  {
   "cell_type": "code",
   "execution_count": null,
   "metadata": {},
   "outputs": [],
   "source": [
    "- 일단은 브루트포스 밖에는 안 떠오른다. 브루트포스로 가자\n"
   ]
  },
  {
   "cell_type": "code",
   "execution_count": 2,
   "metadata": {},
   "outputs": [
    {
     "name": "stdout",
     "output_type": "stream",
     "text": [
      "1 2\n",
      "1 3\n",
      "1 4\n",
      "2 3\n",
      "2 4\n",
      "3 4\n"
     ]
    }
   ],
   "source": [
    "def combinations(arr,r) :\n",
    "    for i in range(len(arr)) :\n",
    "        if r == 1:\n",
    "            yield [arr[i]]\n",
    "        else :\n",
    "            for next in combinations(arr[i+1:],r-1) :\n",
    "                yield [arr[i]] + next\n",
    "\n",
    "for combi in combinations([1,2,3,4],2) :\n",
    "    a,b = combi\n",
    "    print(a,b)"
   ]
  },
  {
   "cell_type": "code",
   "execution_count": 7,
   "metadata": {
    "scrolled": true
   },
   "outputs": [
    {
     "name": "stdout",
     "output_type": "stream",
     "text": [
      "5 1\n",
      "1 2 0 2 1\n",
      "1 2 0 2 1\n",
      "1 2 0 2 1\n",
      "1 2 0 2 1\n",
      "1 2 0 2 1\n",
      "32\n"
     ]
    }
   ],
   "source": [
    "def combinations(arr,r) :\n",
    "    for i in range(len(arr)) :\n",
    "        if r == 1:\n",
    "            yield [arr[i]]\n",
    "        else :\n",
    "            for next in combinations(arr[i+1:],r-1) :\n",
    "                yield [arr[i]] + next\n",
    "\n",
    "\n",
    "n,m = map(int,input().split())\n",
    "graph = [0]*n\n",
    "for i in range(n) :\n",
    "    graph[i] = list(map(int, input().split()))\n",
    "# 1. input\n",
    "home = []\n",
    "chi = []\n",
    "# 2. search\n",
    "for x in range(n) :\n",
    "    for y in range(n) :\n",
    "        if graph[x][y]==1 :\n",
    "            home.append([x,y])\n",
    "        elif graph[x][y] == 2:\n",
    "            chi.append([x,y]) \n",
    "# 3. brute   \n",
    "ans = []\n",
    "for combi in list(combinations([x for x in range(len(chi))],m)) :\n",
    "    value = 0\n",
    "    for j in range(len(home)) :\n",
    "        x2, y2 = home[j]\n",
    "        temp = 9999999\n",
    "        for i in range(m) :\n",
    "            x1,y1  = chi[combi[i]]\n",
    "            te = abs(x2-x1)+abs(y2-y1)\n",
    "            if te < temp :\n",
    "                temp  = te\n",
    "        value+=temp\n",
    "            \n",
    "    ans.append(value)\n",
    "print(min(ans))            "
   ]
  },
  {
   "cell_type": "code",
   "execution_count": 9,
   "metadata": {},
   "outputs": [
    {
     "name": "stdout",
     "output_type": "stream",
     "text": [
      "5 1\n",
      "1 2 0 0 0\n",
      "1 2 0 0 0\n",
      "1 2 0 0 0\n",
      "1 2 0 0 0\n",
      "1 2 0 0 0\n",
      "11\n"
     ]
    }
   ],
   "source": [
    "from itertools import combinations\n",
    "n,m = map(int,input().split())\n",
    "graph = [0]*n\n",
    "for i in range(n) :\n",
    "    graph[i] = list(map(int, input().split()))\n",
    "# 1. input\n",
    "home = []\n",
    "chi = []\n",
    "# 2. search\n",
    "for x in range(n) :\n",
    "    for y in range(n) :\n",
    "        if graph[x][y]==1 :\n",
    "            home.append([x,y])\n",
    "        elif graph[x][y] == 2:\n",
    "            chi.append([x,y]) \n",
    "# 3. brute   \n",
    "ans = []\n",
    "for combi in list(combinations([x for x in range(len(chi))],m)) :\n",
    "    value = 0\n",
    "    for j in range(len(home)) :\n",
    "        x2, y2 = home[j]\n",
    "        temp = 9999999\n",
    "        for i in range(m) :\n",
    "            x1,y1  = chi[combi[i]]\n",
    "            te = abs(x2-x1)+abs(y2-y1)\n",
    "            if te < temp :\n",
    "                temp  = te\n",
    "        value+=temp\n",
    "            \n",
    "    ans.append(value)\n",
    "print(min(ans))           "
   ]
  }
 ],
 "metadata": {
  "kernelspec": {
   "display_name": "Python 3",
   "language": "python",
   "name": "python3"
  },
  "language_info": {
   "codemirror_mode": {
    "name": "ipython",
    "version": 3
   },
   "file_extension": ".py",
   "mimetype": "text/x-python",
   "name": "python",
   "nbconvert_exporter": "python",
   "pygments_lexer": "ipython3",
   "version": "3.7.6"
  }
 },
 "nbformat": 4,
 "nbformat_minor": 4
}
