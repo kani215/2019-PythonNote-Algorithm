{
 "cells": [
  {
   "cell_type": "markdown",
   "metadata": {},
   "source": [
    "# 2579 계단 오르기 "
   ]
  },
  {
   "cell_type": "markdown",
   "metadata": {},
   "source": [
    "- 점화식으로 고민하는 dp문제다\n",
    "\n",
    "- 생각해봐라\n",
    "- arr[i] 은 현재 계단에 써있는 계단 수 \n",
    "- 마지막 계단은 무조건 밟아야 합니다.\n",
    "- 뒤에서 부터 생각함\n",
    "\n",
    "- dp[n] = dp[i-2] + arr[i]              # 2계단 왔을 경우\n",
    "- dp[n] = dp[i-3] + arr[i-1] + arr[i]   # 1계단 왔을 경우 ...+ 3계단 전 밟아야함 \n",
    "\n",
    "- 2번째 조건은 왜 써야 하냐면 3연속이 불가능 하기 때문\n",
    "- 2번째 세부 조건 적는 게 이 문제의 끝인 것 같았다.\n"
   ]
  },
  {
   "cell_type": "code",
   "execution_count": 12,
   "metadata": {},
   "outputs": [
    {
     "name": "stdout",
     "output_type": "stream",
     "text": [
      "6\n",
      "10\n",
      "20\n",
      "15\n",
      "25\n",
      "10 \n",
      "20\n",
      "[10, 20, 35, 70, -1, -1]\n",
      "[10, 20, 35, 70, 100, -1]\n",
      "[10, 20, 35, 70, 100, 155]\n",
      "155\n"
     ]
    }
   ],
   "source": [
    "import sys\n",
    "ge_limit = int(input())\n",
    "li = [0] * ge_limit\n",
    "for i in range(ge_limit) :\n",
    "    li[i] = int(input())\n",
    "\n",
    "dp = [-1] * (ge_limit)\n",
    "dp[0] = li[0]\n",
    "dp[1] = li[1]\n",
    "dp[2] = max(li[0]+li[2],li[1]+li[2])\n",
    "\n",
    "def find(n) :\n",
    "    if dp[n] != -1 :\n",
    "        return dp[n]\n",
    "    dp[n] = li[n] + max(find(n-2) ,find(n-3) + find(n-1))\n",
    "    print(dp)\n",
    "    return dp[n]\n",
    "print(find(ge_limit-1))"
   ]
  },
  {
   "cell_type": "markdown",
   "metadata": {},
   "source": [
    "# 1715 카드 정렬하기\n",
    "\n",
    "- 정렬된 카드 묶음\n",
    "- 2 묶음 한개로 만드는데 A+B번 비교 필요\n",
    "- 10 20 40 > 30 + 30 + 40 , 50, 50 + 20 \n",
    "\n",
    "10 20 40 50 이 있다면\n",
    "30 40 50 \n",
    "70 50 \n",
    "120 \n",
    "30 + 70 +120 = 220 \n",
    "매 계산마다 sort 과정이 들어가고 작은거 2개씩 합친다란 감각\n",
    "이건 빼박 heap이네 \n",
    "30 + 80 + 120 = 230\n",
    "\n",
    "60 20 40\n",
    "80 40\n",
    "120 \n",
    "60 + 80 + 120 = 260\n",
    "\n",
    "\n",
    "3\n",
    "4\n",
    "5\n",
    "6\n",
    "\n",
    "7 12 18 = 37\n",
    "\n",
    "7 11 18 = 36 "
   ]
  },
  {
   "cell_type": "markdown",
   "metadata": {},
   "source": [
    "## 지속적 정렬은 heap을 쓰는 편이다"
   ]
  },
  {
   "cell_type": "code",
   "execution_count": 8,
   "metadata": {},
   "outputs": [
    {
     "name": "stdout",
     "output_type": "stream",
     "text": [
      "3\n",
      "10\n",
      "20\n",
      "40\n",
      "100\n"
     ]
    }
   ],
   "source": [
    "import sys\n",
    "import heapq\n",
    "n = int(input())\n",
    "li = []\n",
    "ans = [0]*n\n",
    "for _ in range(n) :\n",
    "    heapq.heappush(li, int(input())) \n",
    "\n",
    "for k in range(n-1) :\n",
    "    a = heapq.heappop(li)\n",
    "    b = heapq.heappop(li)\n",
    "    ans[k] = a+b\n",
    "    heapq.heappush(li, ans[k]) \n",
    "    \n",
    "print(sum(ans))"
   ]
  },
  {
   "cell_type": "markdown",
   "metadata": {},
   "source": [
    "# 2217 로프\n",
    "\n",
    "- 10 20 100 이렇게 보자\n",
    "\n",
    "- 3개면 10 20 100인데 30까지 들 수 있지\n",
    "\n",
    "- 2개면 40 까지 가능함 \n",
    "\n",
    "- 1개면 100까지 들 수 있지\n",
    "\n",
    "1. 정렬 해놓는다.\n",
    "2. k배 부터 1배까지 곱한다.\n",
    "3. 재정렬 한다. ㄱ\n"
   ]
  },
  {
   "cell_type": "code",
   "execution_count": 7,
   "metadata": {},
   "outputs": [
    {
     "name": "stdout",
     "output_type": "stream",
     "text": [
      "2\n",
      "10\n",
      "15\n",
      "20\n"
     ]
    }
   ],
   "source": [
    "import sys\n",
    "n = int(input())\n",
    "li = [int(input()) for _ in range(n)]\n",
    "li = sorted(li, reverse = True)\n",
    "t = []\n",
    "for i,j in enumerate(li) :\n",
    "    t.append((i+1)*j)\n",
    "li.extend(t)\n",
    "li.sort()\n",
    "print(li[-1])"
   ]
  }
 ],
 "metadata": {
  "kernelspec": {
   "display_name": "Python 3",
   "language": "python",
   "name": "python3"
  },
  "language_info": {
   "codemirror_mode": {
    "name": "ipython",
    "version": 3
   },
   "file_extension": ".py",
   "mimetype": "text/x-python",
   "name": "python",
   "nbconvert_exporter": "python",
   "pygments_lexer": "ipython3",
   "version": "3.7.6"
  }
 },
 "nbformat": 4,
 "nbformat_minor": 4
}
