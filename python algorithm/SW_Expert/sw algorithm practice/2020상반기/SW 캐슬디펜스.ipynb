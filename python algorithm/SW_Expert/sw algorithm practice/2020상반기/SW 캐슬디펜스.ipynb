{
 "cells": [
  {
   "cell_type": "code",
   "execution_count": null,
   "metadata": {},
   "outputs": [],
   "source": [
    "3명 궁수 : 성 존재 칸에만 존재, 1칸 1명\n",
    "            동시 사격\n",
    "            D 거리중 가장 왼쪽 어택\n",
    "            같은 적은 여러 궁수한테 공격 당함 가능\n",
    "\n",
    "적  : 이동 아래 1칸 성 밟으면 사라짐\n",
    "종료 : 적 다 없어지면 게임 끝\n",
    "\n",
    "거리 : 절대값 가로 세로 로 구해라\n",
    "\n",
    "\n",
    "출력 : 적 제거 수 최대값\n",
    "입력 : 행 N 열 M 유효사격거리 D\n",
    "    "
   ]
  },
  {
   "cell_type": "code",
   "execution_count": null,
   "metadata": {},
   "outputs": [],
   "source": []
  }
 ],
 "metadata": {
  "kernelspec": {
   "display_name": "Python 3",
   "language": "python",
   "name": "python3"
  },
  "language_info": {
   "codemirror_mode": {
    "name": "ipython",
    "version": 3
   },
   "file_extension": ".py",
   "mimetype": "text/x-python",
   "name": "python",
   "nbconvert_exporter": "python",
   "pygments_lexer": "ipython3",
   "version": "3.7.3"
  }
 },
 "nbformat": 4,
 "nbformat_minor": 2
}
