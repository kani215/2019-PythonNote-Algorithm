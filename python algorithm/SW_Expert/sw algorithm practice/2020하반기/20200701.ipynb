{
 "cells": [
  {
   "cell_type": "markdown",
   "metadata": {},
   "source": [
    "# 11053  가장 긴 증가 수열\n",
    "\n",
    "- 큰 것이 아닌 작은 적산 풀이"
   ]
  },
  {
   "cell_type": "code",
   "execution_count": 16,
   "metadata": {},
   "outputs": [
    {
     "name": "stdout",
     "output_type": "stream",
     "text": [
      "8\n",
      "2 8 6 1 5 4 3 7\n",
      "3\n"
     ]
    }
   ],
   "source": [
    "import sys\n",
    "n = int(input())\n",
    "li = list(map(int,input().split()))\n",
    "mx_1 = li[0]\n",
    "arr = [1]\n",
    "mx_2 = li[0]\n",
    "for k in range(1,n):\n",
    "    if mx_2 < li[k] :\n",
    "        arr[0] += 1\n",
    "        mx_2 = li[k]\n",
    "        \n",
    "for i in range(1,n) :\n",
    "    # re 1부터 n-2까지\n",
    "    mx = li[i]\n",
    "    cnt = 1\n",
    "    if mx < mx_1 :\n",
    "        for j in range(i,n) :\n",
    "            if mx < li[j] :\n",
    "                cnt += 1\n",
    "                mx = li[j]\n",
    "        arr.append(cnt)\n",
    "print(max(arr))"
   ]
  },
  {
   "cell_type": "code",
   "execution_count": null,
   "metadata": {},
   "outputs": [],
   "source": [
    "오답 : index 들어간 case 각각 큰 거 뽑는 게 아니라 전부 경우의 수로 판단해야함"
   ]
  },
  {
   "cell_type": "code",
   "execution_count": null,
   "metadata": {},
   "outputs": [],
   "source": [
    "li : 10 20 10 30 20 50\n",
    "dp : 1  2  1  3  2  4\n",
    "    \n",
    "약간 다익스트리처럼 누적의 원리임 \n",
    "이전값들을 반복 하면서 \n",
    "작으면 해당 최대 누적값에 +1 누적시켜서 최대 누적을 유지 시키는 것\n",
    "\n",
    "자기 자신보다 작고 dp 가 max인 값에 1 더함"
   ]
  },
  {
   "cell_type": "code",
   "execution_count": 11,
   "metadata": {},
   "outputs": [
    {
     "name": "stdout",
     "output_type": "stream",
     "text": [
      "6\n",
      "10 20 10 30 20 50\n",
      "4\n"
     ]
    }
   ],
   "source": [
    "import sys\n",
    "n = int(input())\n",
    "li = list(map(int,input().split()))\n",
    "dp = [1] * n\n",
    "\n",
    "for i in range(1,len(li)) :\n",
    "    for j in range(0,i) :\n",
    "        if li[j] < li[i] :\n",
    "            dp[i] = max(dp[i], dp[j] + 1)\n",
    "print(max(dp))"
   ]
  },
  {
   "cell_type": "markdown",
   "metadata": {},
   "source": [
    "# 2156 포도주 시식하기 "
   ]
  },
  {
   "cell_type": "markdown",
   "metadata": {},
   "source": [
    "- 점화식이다 이런 문제는\n",
    "\n",
    "dp(index) = max(arr[index] + arr[index-1] + dp[index-3] , arr[index] + dp[index-2])"
   ]
  },
  {
   "cell_type": "code",
   "execution_count": 13,
   "metadata": {},
   "outputs": [
    {
     "name": "stdout",
     "output_type": "stream",
     "text": [
      "6\n",
      "6\n",
      "10\n",
      "13\n",
      "9\n",
      "8\n",
      "1\n",
      "32\n"
     ]
    }
   ],
   "source": [
    "import sys\n",
    "n = int(input())\n",
    "li = []\n",
    "for i in range(n) :\n",
    "    li.append(int(input()))\n",
    "dp = [0] * n \n",
    "dp[0] = li[0]\n",
    "dp[1] = li[0] + li[1]\n",
    "dp[2] = max(li[0] + li[2], li[1] + li[2])\n",
    "\n",
    "def find(n) :\n",
    "    if dp[n] != 0 :\n",
    "        return dp[n]\n",
    "    else :\n",
    "        dp[n] = max(li[n]+li[n-1]+find(n-3),li[n]+find(n-2))\n",
    "        return dp[n]\n",
    "\n",
    "print(find(n-1))\n"
   ]
  }
 ],
 "metadata": {
  "kernelspec": {
   "display_name": "Python 3",
   "language": "python",
   "name": "python3"
  },
  "language_info": {
   "codemirror_mode": {
    "name": "ipython",
    "version": 3
   },
   "file_extension": ".py",
   "mimetype": "text/x-python",
   "name": "python",
   "nbconvert_exporter": "python",
   "pygments_lexer": "ipython3",
   "version": "3.7.6"
  }
 },
 "nbformat": 4,
 "nbformat_minor": 4
}
