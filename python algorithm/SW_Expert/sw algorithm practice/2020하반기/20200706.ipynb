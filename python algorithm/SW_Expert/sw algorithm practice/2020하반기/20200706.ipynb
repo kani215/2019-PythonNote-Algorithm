{
 "cells": [
  {
   "cell_type": "markdown",
   "metadata": {},
   "source": [
    "# 2156번 포도주 시식"
   ]
  },
  {
   "cell_type": "code",
   "execution_count": 2,
   "metadata": {},
   "outputs": [
    {
     "name": "stdout",
     "output_type": "stream",
     "text": [
      "6\n",
      "10\n",
      "20\n",
      "15\n",
      "25\n",
      "10\n",
      "20\n",
      "75\n"
     ]
    }
   ],
   "source": [
    "# dp는 점화식의 형태로 나타내는 것이 목표\n",
    "# li[0] li[1] ~ li[-1] cnt\n",
    "\n",
    "import sys\n",
    "\n",
    "n = int(input())\n",
    "li = []\n",
    "for i in range(n) :\n",
    "    li.append(int(input()))\n",
    "dp = [0] * n\n",
    "# 1. input\n",
    "def find(k) :\n",
    "    if dp[k] != 0 :\n",
    "        return dp[k]\n",
    "    else :\n",
    "        dp[k] = max(li[k]+li[k-1]+find(k-3),li[k]+find(k-2))\n",
    "        return dp[k]\n",
    "# 2. dp\n",
    "\n",
    "\n",
    "if n >= 3 :\n",
    "    dp[0] = li[0]\n",
    "    dp[1] = li[0] + li[1]\n",
    "    dp[2] = max(li[0] + li[2], li[1] + li[2])\n",
    "    print(find(n-1))\n",
    "\n",
    "else :\n",
    "    print(sum(li))"
   ]
  },
  {
   "cell_type": "code",
   "execution_count": null,
   "metadata": {},
   "outputs": [],
   "source": []
  },
  {
   "cell_type": "code",
   "execution_count": null,
   "metadata": {},
   "outputs": [],
   "source": [
    "점화식을 잘못 세웠다. \n",
    "아예 안 마실 수도 있다는 점을 고려 못했다. 이전 dp문제인 계단 오르기에 추가된 변경점이다.\n",
    "고뇌 중..."
   ]
  },
  {
   "cell_type": "code",
   "execution_count": null,
   "metadata": {},
   "outputs": [],
   "source": [
    "점화식의 정의가 \"att[i] = i번째 와인에 도착 했을 때, 마실 수 있는 최대 와인의 양\" 으로 정의를 하고 풀이\n",
    "안 마시는 선택도 된다."
   ]
  },
  {
   "cell_type": "code",
   "execution_count": 11,
   "metadata": {
    "scrolled": true
   },
   "outputs": [
    {
     "name": "stdout",
     "output_type": "stream",
     "text": [
      "4\n",
      "5\n",
      "9\n",
      "1\n",
      "6\n",
      "20\n"
     ]
    }
   ],
   "source": [
    "# dp는 점화식의 형태로 나타내는 것이 목표\n",
    "# li[0] li[1] ~ li[-1] cnt\n",
    "\n",
    "import sys\n",
    "\n",
    "n = int(input())\n",
    "li = []\n",
    "for i in range(n) :\n",
    "    li.append(int(input()))\n",
    "dp = [0] * n\n",
    "# 1. input\n",
    "def find(k) :\n",
    "    if dp[k] != 0 :\n",
    "        return dp[k]\n",
    "    else :\n",
    "        dp[k] = max(li[k]+li[k-1]+find(k-3),li[k]+find(k-2),li[k]+li[k-1]+find(k-4))\n",
    "        return dp[k]\n",
    "    \n",
    "# 2. dp\n",
    "if n >= 4 :\n",
    "    dp[0] = li[0]\n",
    "    dp[1] = li[0] + li[1]\n",
    "    dp[2] = max(li[0] + li[2], li[1] + li[2])\n",
    "    dp[3] = max(dp[0] + li[3], dp[1]+li[3], dp[2])\n",
    "    print(max(find(n-1),find(n-2)))\n",
    "\n",
    "elif n == 3 :\n",
    "    dp[2] = max(li[0] + li[2], li[1] + li[2],li[0]+li[1])\n",
    "    print(dp[2])\n",
    "else :     \n",
    "    print(sum(li))"
   ]
  },
  {
   "cell_type": "code",
   "execution_count": null,
   "metadata": {},
   "outputs": [],
   "source": [
    "선택 안함이라는 선택지를 추가해서 개선해보았다. 7/6"
   ]
  },
  {
   "cell_type": "code",
   "execution_count": 4,
   "metadata": {},
   "outputs": [
    {
     "name": "stdout",
     "output_type": "stream",
     "text": [
      "6\n",
      "6\n",
      "10\n",
      "13\n",
      "9\n",
      "8\n",
      "1\n",
      "33\n"
     ]
    }
   ],
   "source": [
    "# dp는 점화식의 형태로 나타내는 것이 목표\n",
    "# li[0] li[1] ~ li[-1] cnt\n",
    "\n",
    "import sys\n",
    "\n",
    "n = int(input())\n",
    "li = []\n",
    "for i in range(n) :\n",
    "    li.append(int(input()))\n",
    "dp = [0] * n\n",
    "# 1. input\n",
    "def find(k) :\n",
    "    if dp[k] != 0 :\n",
    "        return dp[k]\n",
    "    else :\n",
    "        dp[k] = max(li[k]+li[k-1]+find(k-3),li[k]+find(k-2),find(k-1))\n",
    "        # python 직 호출 불가능\n",
    "        return dp[k]\n",
    "# 2. dp\n",
    "\n",
    "\n",
    "if n >= 4 :\n",
    "    dp[0] = li[0]\n",
    "    dp[1] = li[0] + li[1]\n",
    "    dp[2] = max(li[0] + li[2], li[1] + li[2], li[0] + li[1])\n",
    "    print(find(n-1))\n",
    "\n"
   ]
  },
  {
   "cell_type": "markdown",
   "metadata": {},
   "source": [
    "더 개선해보자 "
   ]
  },
  {
   "cell_type": "code",
   "execution_count": 18,
   "metadata": {},
   "outputs": [
    {
     "name": "stdout",
     "output_type": "stream",
     "text": [
      "10\n",
      "1\n",
      "9\n",
      "9\n",
      "1\n",
      "1\n",
      "1\n",
      "1\n",
      "9\n",
      "9\n",
      "1\n",
      "38\n"
     ]
    }
   ],
   "source": [
    "# dp는 점화식의 형태로 나타내는 것이 목표\n",
    "# li[0] li[1] ~ li[-1] cnt\n",
    "\n",
    "import sys\n",
    "sys.setrecursionlimit(10**4) # 이거 너무 많이 쓰면 메모리 모자릅니다 딱 맞게 쓰세요\n",
    "n = int(input())\n",
    "li = []\n",
    "for i in range(n) :\n",
    "    li.append(int(input()))\n",
    "dp = [-1] * n\n",
    "# 1. input\n",
    "def find(k) :\n",
    "    if dp[k] != -1 :\n",
    "        return dp[k]\n",
    "    else :\n",
    "        c = find(k-1)\n",
    "        dp[k] = max(li[k]+li[k-1]+find(k-3),li[k]+find(k-2),c)\n",
    "        # python 직 호출 불가능\n",
    "        return dp[k]\n",
    "# 2. dp\n",
    "\n",
    "\n",
    "if n >= 3 :\n",
    "    dp[0] = li[0]\n",
    "    dp[1] = li[0] + li[1]\n",
    "    dp[2] = max(li[0] + li[2], li[1] + li[2], li[0] + li[1])\n",
    "    print(find(n-1))\n",
    "else :\n",
    "    print(sum(li))\n"
   ]
  },
  {
   "cell_type": "code",
   "execution_count": null,
   "metadata": {},
   "outputs": [],
   "source": [
    "1. sys.setrecursionlimit() 설정은 꼭 해두자\n",
    "2. 파이썬 재귀 함수 즉시 값 호출 불가하다 .변수에 넣어두고 사용하자 ex. 위의 c변수 \n"
   ]
  },
  {
   "cell_type": "markdown",
   "metadata": {},
   "source": [
    "# 1463번 1로 만들기"
   ]
  },
  {
   "cell_type": "code",
   "execution_count": 8,
   "metadata": {},
   "outputs": [
    {
     "name": "stdout",
     "output_type": "stream",
     "text": [
      "570\n",
      "12\n"
     ]
    }
   ],
   "source": [
    "n = int(input())\n",
    "\n",
    "dp = [0,0,1,1,2,3,2,3,3,2,3] + [-1] * n\n",
    "\n",
    "def find(n) :\n",
    "    if dp[n] != -1 :\n",
    "        return dp[n]\n",
    "    if n%3 == 0 and n%2== 0 :\n",
    "        dp[n] = min(find(n//3) + 1, find(n//2) + 1, find(n-1) + 1)\n",
    "        return dp[n]\n",
    "    elif n%3 == 0 :\n",
    "        dp[n] = find(n//3) + 1\n",
    "        return dp[n]\n",
    "    elif n%2 == 0 :\n",
    "        dp[n] = find(n//2) + 1\n",
    "        return dp[n]\n",
    "    else :\n",
    "        dp[n] = find(n-1) + 1\n",
    "        return dp[n]\n",
    "print(find(n))"
   ]
  },
  {
   "cell_type": "code",
   "execution_count": null,
   "metadata": {},
   "outputs": [],
   "source": [
    "570 2나 3 모두 나눠져도 -1이 최소가 되는 수들.... 예외"
   ]
  },
  {
   "cell_type": "code",
   "execution_count": 16,
   "metadata": {
    "scrolled": true
   },
   "outputs": [
    {
     "name": "stdout",
     "output_type": "stream",
     "text": [
      "842\n",
      "11\n"
     ]
    }
   ],
   "source": [
    "n = int(input())\n",
    "\n",
    "dp = [0,0,1,1,2,3,2,3,3,2,3] + [-1] * n\n",
    "\n",
    "def find(n) :\n",
    "    if dp[n] != -1 :\n",
    "        return dp[n]\n",
    "    else :\n",
    "        if n%3 == 0 :\n",
    "            if n%2 == 0 :\n",
    "                a = find(n//3)\n",
    "                b = find(n//2)\n",
    "                c = find(n-1)\n",
    "                dp[n] = min(a+1,b+1,c+1)\n",
    "                return dp[n]\n",
    "            else :\n",
    "                a = find(n//3)\n",
    "                c = find(n-1)\n",
    "                dp[n] = min(a+1,c+1)\n",
    "                return dp[n]\n",
    "        elif n%2 == 0 :\n",
    "            b = find(n//2)\n",
    "            c = find(n-1)\n",
    "            dp[n] = min(b+1,c+1)\n",
    "            return dp[n]\n",
    "        else :\n",
    "            c = find(n-1)\n",
    "            dp[n] = c + 1\n",
    "            return dp[n]\n",
    "        \n",
    "print(find(n))"
   ]
  },
  {
   "cell_type": "code",
   "execution_count": null,
   "metadata": {},
   "outputs": [],
   "source": [
    "위의 방법은 너무 트리가 넓어진다. 재귀가 막대해짐.\n",
    "중복을 제거하며 자르기엔\n",
    "\n",
    "빈 리스트에 순회 구간을 설정, 반복 돌리는 것이 빠르다. "
   ]
  },
  {
   "cell_type": "code",
   "execution_count": null,
   "metadata": {},
   "outputs": [],
   "source": [
    "a = int(input())\n",
    "count = 0\n",
    "minimum=[a]\n",
    "def cal(a):\n",
    "    list = []\n",
    "    for i in a:\n",
    "        list.append(i-1)\n",
    "        if i%3 == 0:\n",
    "            list.append(i/3)\n",
    "        if i%2 == 0:\n",
    "            list.append(i/2)\n",
    "    return list\n",
    " \n",
    "while True:\n",
    "    if a == 1:\n",
    "        print(count)\n",
    "        break\n",
    "    temp = minimum[:]\n",
    "    minimum = []\n",
    "    minimum = cal(temp)\n",
    "    count +=1\n",
    "    if min(minimum) == 1:\n",
    "        print(count)\n",
    "        break"
   ]
  },
  {
   "cell_type": "markdown",
   "metadata": {},
   "source": [
    "# 2110 공유기 설치\n",
    "\n",
    "다시 풀이\n",
    "\n",
    "이분 탐색이었지\n",
    "\n",
    "집 위치가 있고 공유기 개수가 있음 공유기를 놓아 집 간 거리 최대화 시키는 것"
   ]
  },
  {
   "cell_type": "markdown",
   "metadata": {},
   "source": [
    "1. n  n+1/2 (1과 n+1/2의 중앙값과, n과 n/2의 중앙값 중 최소의 최대값 ... )"
   ]
  },
  {
   "cell_type": "code",
   "execution_count": null,
   "metadata": {},
   "outputs": [],
   "source": [
    "집 개수 20만 , 공유기수 20만 이하 "
   ]
  },
  {
   "cell_type": "code",
   "execution_count": 19,
   "metadata": {},
   "outputs": [
    {
     "name": "stdout",
     "output_type": "stream",
     "text": [
      "5 3\n",
      "1\n",
      "2\n",
      "8\n",
      "4\n",
      "9\n"
     ]
    },
    {
     "data": {
      "text/plain": [
       "[1, 2, 8, 4, 9]"
      ]
     },
     "execution_count": 19,
     "metadata": {},
     "output_type": "execute_result"
    }
   ],
   "source": [
    "num, cnt = map(int,input().split())\n",
    "li = [0]*num\n",
    "for i in range(num) :\n",
    "    li[i] = int(input())\n",
    "li.sort()\n",
    "dp = [0] * n\n",
    "\n",
    "# 1. input\n",
    "\n",
    "def binary(start,end,cnt) :\n",
    "    if cnt == 0 :\n",
    "        return dp[]\n",
    "    mid = (start + end)//2\n",
    "# 2. binary recursion search\n"
   ]
  },
  {
   "cell_type": "markdown",
   "metadata": {},
   "source": [
    "# 13305 주유소"
   ]
  },
  {
   "cell_type": "code",
   "execution_count": null,
   "metadata": {},
   "outputs": [],
   "source": [
    "4\n",
    "2 3 1\n",
    "5 2 4 1"
   ]
  },
  {
   "cell_type": "code",
   "execution_count": 31,
   "metadata": {},
   "outputs": [
    {
     "name": "stdout",
     "output_type": "stream",
     "text": [
      "4\n",
      "3 3 4 \n",
      "1 1 1 1\n",
      "10\n"
     ]
    }
   ],
   "source": [
    "num = int(input())\n",
    "oil = list(map(int,input().split()))\n",
    "li= list(map(int,input().split()))\n",
    "\n",
    "dp = [0] * (num-1)\n",
    "dp[0] = li[0] * oil[0]\n",
    "\n",
    "# 1. input\n",
    "min_ = li[0]\n",
    "for i in range(num-1) :\n",
    "    if li[i] > li[i+1] :\n",
    "        min_ = li[i+1]\n",
    "    else :\n",
    "        li[i+1] = min_\n",
    "sum_ = 0\n",
    "for i in range(num-1) :\n",
    "    sum_ += li[i] * oil[i]\n",
    "print(sum_)"
   ]
  },
  {
   "cell_type": "code",
   "execution_count": null,
   "metadata": {},
   "outputs": [],
   "source": []
  }
 ],
 "metadata": {
  "kernelspec": {
   "display_name": "Python 3",
   "language": "python",
   "name": "python3"
  },
  "language_info": {
   "codemirror_mode": {
    "name": "ipython",
    "version": 3
   },
   "file_extension": ".py",
   "mimetype": "text/x-python",
   "name": "python",
   "nbconvert_exporter": "python",
   "pygments_lexer": "ipython3",
   "version": "3.7.6"
  }
 },
 "nbformat": 4,
 "nbformat_minor": 4
}
