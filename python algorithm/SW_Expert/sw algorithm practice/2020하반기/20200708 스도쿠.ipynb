{
 "cells": [
  {
   "cell_type": "markdown",
   "metadata": {},
   "source": [
    "## 스도쿠 자동 풀이 9x9 \n",
    "\n",
    "지금까지의 수식으로 스도쿠 자동 풀이 프로그램을 만들자\n",
    "\n",
    "빈값은 0으로 입력된다."
   ]
  },
  {
   "cell_type": "code",
   "execution_count": null,
   "metadata": {},
   "outputs": [],
   "source": [
    "힌트로는 빽트래킹을 받았는데 무식하게 풀기 다이나믹으로 풀이를 도전해보겠다."
   ]
  },
  {
   "cell_type": "markdown",
   "metadata": {},
   "source": [
    "## 1. 사전 지식들 set 집합"
   ]
  },
  {
   "cell_type": "code",
   "execution_count": 14,
   "metadata": {},
   "outputs": [
    {
     "data": {
      "text/plain": [
       "{1, 2, 3, 4, 5}"
      ]
     },
     "execution_count": 14,
     "metadata": {},
     "output_type": "execute_result"
    }
   ],
   "source": [
    "a = set([1,2,3,4,5])\n",
    "b = set([1,2,3,4,5])\n",
    "c= a & b\n",
    "c"
   ]
  },
  {
   "cell_type": "code",
   "execution_count": 8,
   "metadata": {},
   "outputs": [
    {
     "data": {
      "text/plain": [
       "[0, 1, 2]"
      ]
     },
     "execution_count": 8,
     "metadata": {},
     "output_type": "execute_result"
    }
   ],
   "source": [
    "graph = []\n",
    "for i in range(3):\n",
    "    graph += [i]\n",
    "graph\n"
   ]
  },
  {
   "cell_type": "markdown",
   "metadata": {},
   "source": [
    "## 2. 풀이 (error)"
   ]
  },
  {
   "cell_type": "code",
   "execution_count": 8,
   "metadata": {},
   "outputs": [
    {
     "name": "stdout",
     "output_type": "stream",
     "text": [
      "0 3 5 4 6 9 2 7 8\n",
      "7 8 2 1 0 5 6 0 9\n",
      "0 6 0 2 7 8 1 3 5\n",
      "3 2 1 0 4 6 8 9 7\n",
      "8 0 4 9 1 3 5 0 6\n",
      "5 9 6 8 2 0 4 1 3\n",
      "9 1 7 6 5 2 0 8 0\n",
      "6 0 3 7 0 1 9 5 2\n",
      "2 5 8 3 9 4 7 6 0\n"
     ]
    },
    {
     "ename": "KeyError",
     "evalue": "'pop from an empty set'",
     "output_type": "error",
     "traceback": [
      "\u001b[1;31m---------------------------------------------------------------------------\u001b[0m",
      "\u001b[1;31mKeyError\u001b[0m                                  Traceback (most recent call last)",
      "\u001b[1;32m<ipython-input-8-4fe992144df9>\u001b[0m in \u001b[0;36m<module>\u001b[1;34m\u001b[0m\n\u001b[0;32m     22\u001b[0m             \u001b[0mgraph_x\u001b[0m\u001b[1;33m[\u001b[0m\u001b[0mx\u001b[0m\u001b[1;33m]\u001b[0m \u001b[1;33m=\u001b[0m \u001b[0mlist\u001b[0m\u001b[1;33m(\u001b[0m\u001b[0mset\u001b[0m\u001b[1;33m(\u001b[0m\u001b[0mgraph_x\u001b[0m\u001b[1;33m[\u001b[0m\u001b[0mx\u001b[0m\u001b[1;33m]\u001b[0m\u001b[1;33m)\u001b[0m \u001b[1;33m-\u001b[0m \u001b[0mte\u001b[0m\u001b[1;33m)\u001b[0m\u001b[1;33m\u001b[0m\u001b[1;33m\u001b[0m\u001b[0m\n\u001b[0;32m     23\u001b[0m             \u001b[0mgraph_y\u001b[0m\u001b[1;33m[\u001b[0m\u001b[0my\u001b[0m\u001b[1;33m]\u001b[0m \u001b[1;33m=\u001b[0m \u001b[0mlist\u001b[0m\u001b[1;33m(\u001b[0m\u001b[0mset\u001b[0m\u001b[1;33m(\u001b[0m\u001b[0mgraph_y\u001b[0m\u001b[1;33m[\u001b[0m\u001b[0my\u001b[0m\u001b[1;33m]\u001b[0m\u001b[1;33m)\u001b[0m \u001b[1;33m-\u001b[0m \u001b[0mte\u001b[0m\u001b[1;33m)\u001b[0m\u001b[1;33m\u001b[0m\u001b[1;33m\u001b[0m\u001b[0m\n\u001b[1;32m---> 24\u001b[1;33m             \u001b[0mgraph\u001b[0m\u001b[1;33m[\u001b[0m\u001b[0mx\u001b[0m\u001b[1;33m]\u001b[0m\u001b[1;33m[\u001b[0m\u001b[0my\u001b[0m\u001b[1;33m]\u001b[0m \u001b[1;33m=\u001b[0m \u001b[0mte\u001b[0m\u001b[1;33m.\u001b[0m\u001b[0mpop\u001b[0m\u001b[1;33m(\u001b[0m\u001b[1;33m)\u001b[0m\u001b[1;33m\u001b[0m\u001b[1;33m\u001b[0m\u001b[0m\n\u001b[0m\u001b[0;32m     25\u001b[0m \u001b[1;31m# 2. find x,y\u001b[0m\u001b[1;33m\u001b[0m\u001b[1;33m\u001b[0m\u001b[1;33m\u001b[0m\u001b[0m\n\u001b[0;32m     26\u001b[0m \u001b[1;33m\u001b[0m\u001b[0m\n",
      "\u001b[1;31mKeyError\u001b[0m: 'pop from an empty set'"
     ]
    }
   ],
   "source": [
    "graph = [0]* 9\n",
    "graph_x =[0]*9\n",
    "graph_y =[0]*9\n",
    "\n",
    "temp = set([x for x in range(1,10)])\n",
    "for i in range(9) :\n",
    "    graph[i] = list(map(int,input().split()))\n",
    "\n",
    "for i in range(9) :\n",
    "    graph_x[i] = list(temp - set(graph[i]))\n",
    "for i in range(9) :\n",
    "    temp_g = []\n",
    "    for x in range(9) :\n",
    "        temp_g += [graph[i][x]] \n",
    "    graph_y[i] = list(temp - set(temp_g))\n",
    "    \n",
    "# 1. input\n",
    "for x in range(9) :\n",
    "    for y in range(9) :\n",
    "        if graph[x][y] == 0 :\n",
    "            te = set(graph_x[x]) & set(graph_y[y])\n",
    "            graph_x[x] = list(set(graph_x[x]) - te)\n",
    "            graph_y[y] = list(set(graph_y[y]) - te)\n",
    "            graph[x][y] = te.pop()\n",
    "            print(x,y)\n",
    "# 2. find x,y\n",
    "\n",
    "for i in range(9) :\n",
    "    for j in graph[i] :\n",
    "        print(j, end = \" \")\n",
    "    print()"
   ]
  },
  {
   "cell_type": "markdown",
   "metadata": {},
   "source": [
    "## 3. 풀이2 "
   ]
  },
  {
   "cell_type": "code",
   "execution_count": null,
   "metadata": {},
   "outputs": [],
   "source": [
    "import sys\n",
    "graph = [0]* 9\n",
    "graph_x =[0]*9\n",
    "graph_y =[0]*9\n",
    "temp = set([x for x in range(1,10)])\n",
    "\n",
    "for i in range(9) :\n",
    "    graph[i] = list(map(int,input().split()))\n",
    "\n",
    "for i in range(9) :\n",
    "    graph_x[i] = list(temp - set(graph[i]))\n",
    "for i in range(9) :\n",
    "    temp_g = []\n",
    "    for x in range(9) :\n",
    "        temp_g += [graph[x][i]] \n",
    "    graph_y[i] = list(temp - set(temp_g))\n",
    "    \n",
    "# 1. input\n",
    "for x in range(9) :\n",
    "    for y in range(9) :\n",
    "        if graph[x][y] == 0 :\n",
    "            te = set(graph_x[x]) & set(graph_y[y])\n",
    "            graph_x[x] = list(set(graph_x[x]) - te)\n",
    "            graph_y[y] = list(set(graph_y[y]) - te)\n",
    "            graph[x][y] = list(te).pop()\n",
    "            print(x,y)\n",
    "# 2. find x,y\n",
    "\n",
    "for i in range(9) :\n",
    "    for j in graph[i] :\n",
    "        print(j, end = \" \")\n",
    "    print()"
   ]
  },
  {
   "cell_type": "markdown",
   "metadata": {},
   "source": [
    "### 4. 파일 읽어오기 "
   ]
  },
  {
   "cell_type": "code",
   "execution_count": 19,
   "metadata": {},
   "outputs": [
    {
     "name": "stdout",
     "output_type": "stream",
     "text": [
      "[[2, 3, 5, 7, 8, 9], [4, 5, 7, 8, 9], [1, 2, 3, 5, 6, 7], [3, 4, 5], [1, 4, 5, 7, 8], [8, 3, 5], [2, 4, 6, 7, 8, 9], [1, 2, 4, 8, 9], [1, 3, 6, 7, 8, 9]]\n",
      "[[8, 3, 7], [1, 3, 4, 5, 7, 8, 9], [2, 3, 4, 5, 6, 7], [1, 3, 5, 7, 9], [8, 2, 5], [1, 4, 7, 8, 9], [2, 4, 5, 6, 8, 9], [1, 2, 3, 4, 5, 6, 8], [8, 9, 7]]\n",
      "0 1\n",
      "0 2\n"
     ]
    },
    {
     "ename": "IndexError",
     "evalue": "pop from empty list",
     "output_type": "error",
     "traceback": [
      "\u001b[1;31m---------------------------------------------------------------------------\u001b[0m",
      "\u001b[1;31mIndexError\u001b[0m                                Traceback (most recent call last)",
      "\u001b[1;32m<ipython-input-19-ad9b96144e90>\u001b[0m in \u001b[0;36m<module>\u001b[1;34m\u001b[0m\n\u001b[0;32m     23\u001b[0m             \u001b[0mgraph_x\u001b[0m\u001b[1;33m[\u001b[0m\u001b[0mx\u001b[0m\u001b[1;33m]\u001b[0m \u001b[1;33m=\u001b[0m \u001b[0mlist\u001b[0m\u001b[1;33m(\u001b[0m\u001b[0mset\u001b[0m\u001b[1;33m(\u001b[0m\u001b[0mgraph_x\u001b[0m\u001b[1;33m[\u001b[0m\u001b[0mx\u001b[0m\u001b[1;33m]\u001b[0m\u001b[1;33m)\u001b[0m \u001b[1;33m-\u001b[0m \u001b[0mte\u001b[0m\u001b[1;33m)\u001b[0m\u001b[1;33m\u001b[0m\u001b[1;33m\u001b[0m\u001b[0m\n\u001b[0;32m     24\u001b[0m             \u001b[0mgraph_y\u001b[0m\u001b[1;33m[\u001b[0m\u001b[0my\u001b[0m\u001b[1;33m]\u001b[0m \u001b[1;33m=\u001b[0m \u001b[0mlist\u001b[0m\u001b[1;33m(\u001b[0m\u001b[0mset\u001b[0m\u001b[1;33m(\u001b[0m\u001b[0mgraph_y\u001b[0m\u001b[1;33m[\u001b[0m\u001b[0my\u001b[0m\u001b[1;33m]\u001b[0m\u001b[1;33m)\u001b[0m \u001b[1;33m-\u001b[0m \u001b[0mte\u001b[0m\u001b[1;33m)\u001b[0m\u001b[1;33m\u001b[0m\u001b[1;33m\u001b[0m\u001b[0m\n\u001b[1;32m---> 25\u001b[1;33m             \u001b[0mgraph\u001b[0m\u001b[1;33m[\u001b[0m\u001b[0mx\u001b[0m\u001b[1;33m]\u001b[0m\u001b[1;33m[\u001b[0m\u001b[0my\u001b[0m\u001b[1;33m]\u001b[0m \u001b[1;33m=\u001b[0m \u001b[0mlist\u001b[0m\u001b[1;33m(\u001b[0m\u001b[0mte\u001b[0m\u001b[1;33m)\u001b[0m\u001b[1;33m.\u001b[0m\u001b[0mpop\u001b[0m\u001b[1;33m(\u001b[0m\u001b[1;33m)\u001b[0m\u001b[1;33m\u001b[0m\u001b[1;33m\u001b[0m\u001b[0m\n\u001b[0m\u001b[0;32m     26\u001b[0m             \u001b[0mprint\u001b[0m\u001b[1;33m(\u001b[0m\u001b[0mx\u001b[0m\u001b[1;33m,\u001b[0m\u001b[0my\u001b[0m\u001b[1;33m)\u001b[0m\u001b[1;33m\u001b[0m\u001b[1;33m\u001b[0m\u001b[0m\n\u001b[0;32m     27\u001b[0m \u001b[1;31m# 2. find x,y\u001b[0m\u001b[1;33m\u001b[0m\u001b[1;33m\u001b[0m\u001b[1;33m\u001b[0m\u001b[0m\n",
      "\u001b[1;31mIndexError\u001b[0m: pop from empty list"
     ]
    }
   ],
   "source": [
    "filename = '20200708.txt'\n",
    "with open(filename) as data:\n",
    "    graph = [[int(i) for i in line.split()] for line in data.readlines()]\n",
    "\n",
    "graph_x =[0]*9\n",
    "graph_y =[0]*9\n",
    "temp = set([x for x in range(1,10)])\n",
    "\n",
    "for i in range(9) :\n",
    "    graph_x[i] = list(temp - set(graph[i]))\n",
    "for i in range(9) :\n",
    "    temp_g = []\n",
    "    for x in range(9) :\n",
    "        temp_g += [graph[x][i]] \n",
    "    graph_y[i] = list(temp - set(temp_g))\n",
    "print(graph_x)\n",
    "print(graph_y)\n",
    "# 1. input\n",
    "for x in range(9) :\n",
    "    for y in range(9) :\n",
    "        if graph[x][y] == 0 :\n",
    "            te = set(graph_x[x]) & set(graph_y[y])\n",
    "            graph_x[x] = list(set(graph_x[x]) - te)\n",
    "            graph_y[y] = list(set(graph_y[y]) - te)\n",
    "            graph[x][y] = list(te).pop()\n",
    "            print(x,y)\n",
    "            \n",
    "# 2. find x,y\n",
    "for i in range(9) :\n",
    "    for j in graph[i] :\n",
    "        print(j, end = \" \")\n",
    "    print()"
   ]
  },
  {
   "cell_type": "code",
   "execution_count": null,
   "metadata": {},
   "outputs": [],
   "source": [
    "# 1. input\n",
    "for x in range(9) :\n",
    "    for y in range(9) :\n",
    "        if graph[x][y] == 0 :\n",
    "            te = set(graph_x[x]) & set(graph_y[y])\n",
    "            graph_x[x] = list(set(graph_x[x]) - te)\n",
    "            graph_y[y] = list(set(graph_y[y]) - te)\n",
    "            graph[x][y] = list(te).pop()\n",
    "            print(x,y)\n",
    "# 2. find x,y\n",
    "\n",
    "for i in range(9) :\n",
    "    for j in graph[i] :\n",
    "        print(j, end = \" \")\n",
    "    print()"
   ]
  }
 ],
 "metadata": {
  "kernelspec": {
   "display_name": "Python 3",
   "language": "python",
   "name": "python3"
  },
  "language_info": {
   "codemirror_mode": {
    "name": "ipython",
    "version": 3
   },
   "file_extension": ".py",
   "mimetype": "text/x-python",
   "name": "python",
   "nbconvert_exporter": "python",
   "pygments_lexer": "ipython3",
   "version": "3.7.6"
  }
 },
 "nbformat": 4,
 "nbformat_minor": 4
}
