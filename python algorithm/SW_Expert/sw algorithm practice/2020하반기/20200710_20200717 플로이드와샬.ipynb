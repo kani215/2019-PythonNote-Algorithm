{
 "cells": [
  {
   "cell_type": "markdown",
   "metadata": {},
   "source": [
    "# 12101번"
   ]
  },
  {
   "cell_type": "markdown",
   "metadata": {},
   "source": [
    "### greedy algorithm"
   ]
  },
  {
   "cell_type": "code",
   "execution_count": 2,
   "metadata": {},
   "outputs": [
    {
     "data": {
      "text/plain": [
       "[[1, 1, 1, 1], [1, 2, 1], [1, 3]]"
      ]
     },
     "execution_count": 2,
     "metadata": {},
     "output_type": "execute_result"
    }
   ],
   "source": [
    "p = [[1,2,1],[1,1,1,1],[1,3]]\n",
    "p.sort()\n",
    "p"
   ]
  },
  {
   "cell_type": "code",
   "execution_count": 42,
   "metadata": {
    "scrolled": false
   },
   "outputs": [
    {
     "name": "stdout",
     "output_type": "stream",
     "text": [
      "(1, 1, 2, 3)\n",
      "(1, 1, 3, 2)\n",
      "(1, 2, 1, 3)\n",
      "(1, 2, 3, 1)\n",
      "(1, 3, 1, 2)\n",
      "(1, 3, 2, 1)\n",
      "(1, 1, 2, 3)\n",
      "(1, 1, 3, 2)\n",
      "(1, 2, 1, 3)\n",
      "(1, 2, 3, 1)\n",
      "(1, 3, 1, 2)\n",
      "(1, 3, 2, 1)\n",
      "(2, 1, 1, 3)\n",
      "(2, 1, 3, 1)\n",
      "(2, 1, 1, 3)\n",
      "(2, 1, 3, 1)\n",
      "(2, 3, 1, 1)\n",
      "(2, 3, 1, 1)\n",
      "(3, 1, 1, 2)\n",
      "(3, 1, 2, 1)\n",
      "(3, 1, 1, 2)\n",
      "(3, 1, 2, 1)\n",
      "(3, 2, 1, 1)\n",
      "(3, 2, 1, 1)\n"
     ]
    }
   ],
   "source": [
    "from itertools import permutations\n",
    "\n",
    "i = [1,1,2,3]\n",
    "for j in permutations(i) :\n",
    "    print(j)"
   ]
  },
  {
   "cell_type": "code",
   "execution_count": 48,
   "metadata": {},
   "outputs": [
    {
     "name": "stdout",
     "output_type": "stream",
     "text": [
      "10 90\n",
      "[(1, 1, 1, 1, 1, 1, 1, 1, 1, 1), (1, 1, 1, 1, 1, 1, 1, 1, 2), (1, 1, 1, 1, 1, 1, 1, 2, 1), (1, 1, 1, 1, 1, 1, 1, 3), (1, 1, 1, 1, 1, 1, 2, 1, 1), (1, 1, 1, 1, 1, 1, 2, 2), (1, 1, 1, 1, 1, 1, 3, 1), (1, 1, 1, 1, 1, 2, 1, 1, 1), (1, 1, 1, 1, 1, 2, 1, 2), (1, 1, 1, 1, 1, 2, 2, 1), (1, 1, 1, 1, 1, 2, 3), (1, 1, 1, 1, 1, 3, 1, 1), (1, 1, 1, 1, 1, 3, 2), (1, 1, 1, 1, 2, 1, 1, 1, 1), (1, 1, 1, 1, 2, 1, 1, 2), (1, 1, 1, 1, 2, 1, 2, 1), (1, 1, 1, 1, 2, 1, 3), (1, 1, 1, 1, 2, 2, 1, 1), (1, 1, 1, 1, 2, 2, 2), (1, 1, 1, 1, 2, 3, 1), (1, 1, 1, 1, 3, 1, 1, 1), (1, 1, 1, 1, 3, 1, 2), (1, 1, 1, 1, 3, 2, 1), (1, 1, 1, 1, 3, 3), (1, 1, 1, 2, 1, 1, 1, 1, 1), (1, 1, 1, 2, 1, 1, 1, 2), (1, 1, 1, 2, 1, 1, 2, 1), (1, 1, 1, 2, 1, 1, 3), (1, 1, 1, 2, 1, 2, 1, 1), (1, 1, 1, 2, 1, 2, 2), (1, 1, 1, 2, 1, 3, 1), (1, 1, 1, 2, 2, 1, 1, 1), (1, 1, 1, 2, 2, 1, 2), (1, 1, 1, 2, 2, 2, 1), (1, 1, 1, 2, 2, 3), (1, 1, 1, 2, 3, 1, 1), (1, 1, 1, 2, 3, 2), (1, 1, 1, 3, 1, 1, 1, 1), (1, 1, 1, 3, 1, 1, 2), (1, 1, 1, 3, 1, 2, 1), (1, 1, 1, 3, 1, 3), (1, 1, 1, 3, 2, 1, 1), (1, 1, 1, 3, 2, 2), (1, 1, 1, 3, 3, 1), (1, 1, 2, 1, 1, 1, 1, 1, 1), (1, 1, 2, 1, 1, 1, 1, 2), (1, 1, 2, 1, 1, 1, 2, 1), (1, 1, 2, 1, 1, 1, 3), (1, 1, 2, 1, 1, 2, 1, 1), (1, 1, 2, 1, 1, 2, 2), (1, 1, 2, 1, 1, 3, 1), (1, 1, 2, 1, 2, 1, 1, 1), (1, 1, 2, 1, 2, 1, 2), (1, 1, 2, 1, 2, 2, 1), (1, 1, 2, 1, 2, 3), (1, 1, 2, 1, 3, 1, 1), (1, 1, 2, 1, 3, 2), (1, 1, 2, 2, 1, 1, 1, 1), (1, 1, 2, 2, 1, 1, 2), (1, 1, 2, 2, 1, 2, 1), (1, 1, 2, 2, 1, 3), (1, 1, 2, 2, 2, 1, 1), (1, 1, 2, 2, 2, 2), (1, 1, 2, 2, 3, 1), (1, 1, 2, 3, 1, 1, 1), (1, 1, 2, 3, 1, 2), (1, 1, 2, 3, 2, 1), (1, 1, 2, 3, 3), (1, 1, 3, 1, 1, 1, 1, 1), (1, 1, 3, 1, 1, 1, 2), (1, 1, 3, 1, 1, 2, 1), (1, 1, 3, 1, 1, 3), (1, 1, 3, 1, 2, 1, 1), (1, 1, 3, 1, 2, 2), (1, 1, 3, 1, 3, 1), (1, 1, 3, 2, 1, 1, 1), (1, 1, 3, 2, 1, 2), (1, 1, 3, 2, 2, 1), (1, 1, 3, 2, 3), (1, 1, 3, 3, 1, 1), (1, 1, 3, 3, 2), (1, 2, 1, 1, 1, 1, 1, 1, 1), (1, 2, 1, 1, 1, 1, 1, 2), (1, 2, 1, 1, 1, 1, 2, 1), (1, 2, 1, 1, 1, 1, 3), (1, 2, 1, 1, 1, 2, 1, 1), (1, 2, 1, 1, 1, 2, 2), (1, 2, 1, 1, 1, 3, 1), (1, 2, 1, 1, 2, 1, 1, 1), (1, 2, 1, 1, 2, 1, 2), (1, 2, 1, 1, 2, 2, 1), (1, 2, 1, 1, 2, 3), (1, 2, 1, 1, 3, 1, 1), (1, 2, 1, 1, 3, 2), (1, 2, 1, 2, 1, 1, 1, 1), (1, 2, 1, 2, 1, 1, 2), (1, 2, 1, 2, 1, 2, 1), (1, 2, 1, 2, 1, 3), (1, 2, 1, 2, 2, 1, 1), (1, 2, 1, 2, 2, 2), (1, 2, 1, 2, 3, 1), (1, 2, 1, 3, 1, 1, 1), (1, 2, 1, 3, 1, 2), (1, 2, 1, 3, 2, 1), (1, 2, 1, 3, 3), (1, 2, 2, 1, 1, 1, 1, 1), (1, 2, 2, 1, 1, 1, 2), (1, 2, 2, 1, 1, 2, 1), (1, 2, 2, 1, 1, 3), (1, 2, 2, 1, 2, 1, 1), (1, 2, 2, 1, 2, 2), (1, 2, 2, 1, 3, 1), (1, 2, 2, 2, 1, 1, 1), (1, 2, 2, 2, 1, 2), (1, 2, 2, 2, 2, 1), (1, 2, 2, 2, 3), (1, 2, 2, 3, 1, 1), (1, 2, 2, 3, 2), (1, 2, 3, 1, 1, 1, 1), (1, 2, 3, 1, 1, 2), (1, 2, 3, 1, 2, 1), (1, 2, 3, 1, 3), (1, 2, 3, 2, 1, 1), (1, 2, 3, 2, 2), (1, 2, 3, 3, 1), (1, 3, 1, 1, 1, 1, 1, 1), (1, 3, 1, 1, 1, 1, 2), (1, 3, 1, 1, 1, 2, 1), (1, 3, 1, 1, 1, 3), (1, 3, 1, 1, 2, 1, 1), (1, 3, 1, 1, 2, 2), (1, 3, 1, 1, 3, 1), (1, 3, 1, 2, 1, 1, 1), (1, 3, 1, 2, 1, 2), (1, 3, 1, 2, 2, 1), (1, 3, 1, 2, 3), (1, 3, 1, 3, 1, 1), (1, 3, 1, 3, 2), (1, 3, 2, 1, 1, 1, 1), (1, 3, 2, 1, 1, 2), (1, 3, 2, 1, 2, 1), (1, 3, 2, 1, 3), (1, 3, 2, 2, 1, 1), (1, 3, 2, 2, 2), (1, 3, 2, 3, 1), (1, 3, 3, 1, 1, 1), (1, 3, 3, 1, 2), (1, 3, 3, 2, 1), (1, 3, 3, 3), (2, 1, 1, 1, 1, 1, 1, 1, 1), (2, 1, 1, 1, 1, 1, 1, 2), (2, 1, 1, 1, 1, 1, 2, 1), (2, 1, 1, 1, 1, 1, 3), (2, 1, 1, 1, 1, 2, 1, 1), (2, 1, 1, 1, 1, 2, 2), (2, 1, 1, 1, 1, 3, 1), (2, 1, 1, 1, 2, 1, 1, 1), (2, 1, 1, 1, 2, 1, 2), (2, 1, 1, 1, 2, 2, 1), (2, 1, 1, 1, 2, 3), (2, 1, 1, 1, 3, 1, 1), (2, 1, 1, 1, 3, 2), (2, 1, 1, 2, 1, 1, 1, 1), (2, 1, 1, 2, 1, 1, 2), (2, 1, 1, 2, 1, 2, 1), (2, 1, 1, 2, 1, 3), (2, 1, 1, 2, 2, 1, 1), (2, 1, 1, 2, 2, 2), (2, 1, 1, 2, 3, 1), (2, 1, 1, 3, 1, 1, 1), (2, 1, 1, 3, 1, 2), (2, 1, 1, 3, 2, 1), (2, 1, 1, 3, 3), (2, 1, 2, 1, 1, 1, 1, 1), (2, 1, 2, 1, 1, 1, 2), (2, 1, 2, 1, 1, 2, 1), (2, 1, 2, 1, 1, 3), (2, 1, 2, 1, 2, 1, 1), (2, 1, 2, 1, 2, 2), (2, 1, 2, 1, 3, 1), (2, 1, 2, 2, 1, 1, 1), (2, 1, 2, 2, 1, 2), (2, 1, 2, 2, 2, 1), (2, 1, 2, 2, 3), (2, 1, 2, 3, 1, 1), (2, 1, 2, 3, 2), (2, 1, 3, 1, 1, 1, 1), (2, 1, 3, 1, 1, 2), (2, 1, 3, 1, 2, 1), (2, 1, 3, 1, 3), (2, 1, 3, 2, 1, 1), (2, 1, 3, 2, 2), (2, 1, 3, 3, 1), (2, 2, 1, 1, 1, 1, 1, 1), (2, 2, 1, 1, 1, 1, 2), (2, 2, 1, 1, 1, 2, 1), (2, 2, 1, 1, 1, 3), (2, 2, 1, 1, 2, 1, 1), (2, 2, 1, 1, 2, 2), (2, 2, 1, 1, 3, 1), (2, 2, 1, 2, 1, 1, 1), (2, 2, 1, 2, 1, 2), (2, 2, 1, 2, 2, 1), (2, 2, 1, 2, 3), (2, 2, 1, 3, 1, 1), (2, 2, 1, 3, 2), (2, 2, 2, 1, 1, 1, 1), (2, 2, 2, 1, 1, 2), (2, 2, 2, 1, 2, 1), (2, 2, 2, 1, 3), (2, 2, 2, 2, 1, 1), (2, 2, 2, 2, 2), (2, 2, 2, 3, 1), (2, 2, 3, 1, 1, 1), (2, 2, 3, 1, 2), (2, 2, 3, 2, 1), (2, 2, 3, 3), (2, 3, 1, 1, 1, 1, 1), (2, 3, 1, 1, 1, 2), (2, 3, 1, 1, 2, 1), (2, 3, 1, 1, 3), (2, 3, 1, 2, 1, 1), (2, 3, 1, 2, 2), (2, 3, 1, 3, 1), (2, 3, 2, 1, 1, 1), (2, 3, 2, 1, 2), (2, 3, 2, 2, 1), (2, 3, 2, 3), (2, 3, 3, 1, 1), (2, 3, 3, 2), (3, 1, 1, 1, 1, 1, 1, 1), (3, 1, 1, 1, 1, 1, 2), (3, 1, 1, 1, 1, 2, 1), (3, 1, 1, 1, 1, 3), (3, 1, 1, 1, 2, 1, 1), (3, 1, 1, 1, 2, 2), (3, 1, 1, 1, 3, 1), (3, 1, 1, 2, 1, 1, 1), (3, 1, 1, 2, 1, 2), (3, 1, 1, 2, 2, 1), (3, 1, 1, 2, 3), (3, 1, 1, 3, 1, 1), (3, 1, 1, 3, 2), (3, 1, 2, 1, 1, 1, 1), (3, 1, 2, 1, 1, 2), (3, 1, 2, 1, 2, 1), (3, 1, 2, 1, 3), (3, 1, 2, 2, 1, 1), (3, 1, 2, 2, 2), (3, 1, 2, 3, 1), (3, 1, 3, 1, 1, 1), (3, 1, 3, 1, 2), (3, 1, 3, 2, 1), (3, 1, 3, 3), (3, 2, 1, 1, 1, 1, 1), (3, 2, 1, 1, 1, 2), (3, 2, 1, 1, 2, 1), (3, 2, 1, 1, 3), (3, 2, 1, 2, 1, 1), (3, 2, 1, 2, 2), (3, 2, 1, 3, 1), (3, 2, 2, 1, 1, 1), (3, 2, 2, 1, 2), (3, 2, 2, 2, 1), (3, 2, 2, 3), (3, 2, 3, 1, 1), (3, 2, 3, 2), (3, 3, 1, 1, 1, 1), (3, 3, 1, 1, 2), (3, 3, 1, 2, 1), (3, 3, 1, 3), (3, 3, 2, 1, 1), (3, 3, 2, 2), (3, 3, 3, 1)]\n",
      "1+2+1+1+2+1+2\n"
     ]
    }
   ],
   "source": [
    "from itertools import permutations\n",
    "\n",
    "n, k = map(int,input().split())\n",
    "\n",
    "li = []\n",
    "for x in range(0,n+1) :\n",
    "    for y in range(0,n//2+1) :\n",
    "        for z in range(0,n//3+1) :\n",
    "            if 1*x + 2*y + 3*z == n :\n",
    "                temp = [1]*x +[2]*y+[3]*z\n",
    "                li.append(temp)\n",
    "let = []\n",
    "for i in li :\n",
    "    for j in permutations(i,len(i)) :\n",
    "        let.append(j)\n",
    "        \n",
    "let = set(let)\n",
    "let = list(let)\n",
    "let.sort()\n",
    "if k > len(let) :\n",
    "    print(-1)\n",
    "else :\n",
    "    let[k-1] = [str(x) for x in let[k-1] ]\n",
    "    print(\"+\".join(let[k-1]))"
   ]
  },
  {
   "cell_type": "markdown",
   "metadata": {},
   "source": [
    "# "
   ]
  },
  {
   "cell_type": "code",
   "execution_count": null,
   "metadata": {},
   "outputs": [],
   "source": [
    "num, q = map(int,input().split())\n",
    "graph = [[0]*num for _ in range(num)]\n",
    "\n",
    "for i in range(num-1) :\n",
    "    n, m, c = map(int,input().split())\n",
    "    graph[n-1][m-1] = c\n",
    "    graph[m-1][n-1] = c\n",
    "\n",
    "# 2.\n",
    "for x in range(num) :\n",
    "    for y in range(num) :\n",
    "        if graph[x][y] == 0 :\n",
    "            \n",
    "    \n",
    "# 3. \n",
    "for j in range(q) :\n",
    "    k, v = map(int,input().split())\n",
    "    cnt = 0\n",
    "    \n",
    "    \n",
    "    for h in graph[v] :\n",
    "        if h >= k :\n",
    "            cnt +=1\n",
    "    print(cnt)\n",
    "    "
   ]
  },
  {
   "cell_type": "markdown",
   "metadata": {},
   "source": [
    "# "
   ]
  },
  {
   "cell_type": "code",
   "execution_count": 6,
   "metadata": {},
   "outputs": [
    {
     "name": "stdout",
     "output_type": "stream",
     "text": [
      "4 7\n",
      "6 13\n",
      "4 8\n",
      "3 6\n",
      "5 12\n",
      "[(5, 12, 2.4), (6, 13, 2.1666666666666665), (4, 8, 2.0), (3, 6, 2.0)]\n"
     ]
    }
   ],
   "source": [
    "n, k = map(int,input().split())\n",
    "li = []\n",
    "for i in range(n) :\n",
    "    w,v = map(int,input().split())\n",
    "    gr = v/w\n",
    "    li.append([w,v,gr])\n",
    "li = sorted(li, key = lambda x : x[2],reverse = True)\n",
    "value = []\n",
    "index = 0\n",
    "weight = 0\n",
    "while True :\n",
    "    weigh += weight * (weight//li[key][0])\n",
    "    if k >  "
   ]
  },
  {
   "cell_type": "markdown",
   "metadata": {},
   "source": [
    "# 112865 냅색 문제 "
   ]
  },
  {
   "cell_type": "markdown",
   "metadata": {},
   "source": [
    "## 풀이\n",
    "\n",
    "1) x축엔 가방 1~K 까지의 무게, y축은 물건 N개 개수 만큼의 배열을 만들어준다.\n",
    "\n",
    "2) 행을 차례대로 돌며 다음과 같은 알고리즘을 수행해준다.\n",
    "\n",
    " \n",
    "\n",
    "3-0) 현재 물건이 현재 돌고있는 무게보다 작다면 바로 [이전 물건][같은 무게] (knapsack[i-1][j]를 입력해준다.\n",
    "\n",
    "3-1) 현재 물건을 넣어준다. 물건을 넣은 뒤의 남은 무게를 채울 수 있는 최댓값(knapsack[i-1][j-weight]을 위의 행에서 가져와 더해준다.\n",
    "\n",
    "3-2) 현재 물건을 넣어주는 것보다. 다른 물건들로 채우는 값(knapsack[i-1][j])을 가져온다.\n",
    "\n",
    "4) 3-1과 3-2 중 더 큰 값을 knapsack[i][j]에 저장해준다. 이 값은 현재까지의 물건들로 구성할 수 있는 가장 가치 높은 구성이다.\n",
    "\n",
    "5) knapsack[N][K]는 곧, K무게일 때의 최댓값을 가리킨다.\n",
    "\n",
    " "
   ]
  },
  {
   "cell_type": "markdown",
   "metadata": {},
   "source": [
    "## 수식\n",
    "결국 수식으로 표현하면 다음과 같다.\n",
    "\n",
    "knapsack[i][j] = max(현재 물건 가치 + knapsack[이전 물건][현재 가방 무게 - 현재 물건 무게], knapsack[이전 물건][현재 가방 무게])\n",
    "\n",
    "knapsack[i][j] = max(value + knapsack[i - 1][j - weight], knapsack[i - 1][j])"
   ]
  },
  {
   "cell_type": "code",
   "execution_count": null,
   "metadata": {},
   "outputs": [],
   "source": [
    "import sys\n",
    "\n",
    "N, K = map(int, input().split())\n",
    "stuff = [[0,0]]\n",
    "knapsack = [[0 for _ in range(K + 1)] for _ in range(N + 1)]\n",
    "\n",
    "for _ in range(N):\n",
    "    stuff.append(list(map(int, input().split())))\n",
    "\n",
    "\n",
    "#냅색 문제 풀이\n",
    "for i in range(1, N + 1):\n",
    "    for j in range(1, K + 1):\n",
    "        weight = stuff[i][0] \n",
    "        value = stuff[i][1]\n",
    "       \n",
    "        if j < weight:\n",
    "            knapsack[i][j] = knapsack[i - 1][j] #weight보다 작으면 위의 값을 그대로 가져온다\n",
    "        else:\n",
    "            knapsack[i][j] = max(value + knapsack[i - 1][j - weight], knapsack[i - 1][j])\n",
    "\n",
    "print(knapsack[N][K])"
   ]
  },
  {
   "cell_type": "markdown",
   "metadata": {},
   "source": [
    "# 11404 플로이드 와샬 알고리즘"
   ]
  },
  {
   "cell_type": "code",
   "execution_count": 2,
   "metadata": {},
   "outputs": [
    {
     "name": "stdout",
     "output_type": "stream",
     "text": [
      "['1', '2', '2', '1', '3', '3', '1', '4', '1', '1', '5', '10', '2', '4', '2', '3', '4', '1', '3', '5', '1', '4', '5', '3', '3', '5', '10', '3', '1', '8', '1', '4', '2', '5', '1', '7', '3', '4', '2', '5', '2', '4']\n"
     ]
    }
   ],
   "source": [
    "f = open(\"20200716.txt\",\"r\")\n",
    "read = f.read()\n",
    "\n",
    "s = read.split()\n",
    "print(s)\n"
   ]
  },
  {
   "cell_type": "code",
   "execution_count": 13,
   "metadata": {},
   "outputs": [
    {
     "name": "stdout",
     "output_type": "stream",
     "text": [
      "5\n",
      "14\n",
      "1 2 2\n",
      "1 3 3\n",
      "1 4 1\n",
      "1 5 10\n",
      "2 4 2\n",
      "3 4 1\n",
      "3 5 1\n",
      "4 5 3\n",
      "3 5 10\n",
      "3 1 8\n",
      "1 4 2\n",
      "5 1 7\n",
      "3 4 2\n",
      "5 2 4\n",
      "0 2 3 1 4 \n",
      "12 0 15 2 5 \n",
      "8 5 0 1 1 \n",
      "10 7 13 0 3 \n",
      "7 4 10 6 0 \n"
     ]
    }
   ],
   "source": [
    "n = int(input())\n",
    "m = int(input())\n",
    "graph = [[10000001] * n for _ in range(n)]\n",
    "\n",
    "for i in range(n) :\n",
    "    graph[i][i] = 0\n",
    "# 1. 0,0 존재 x 제거 \n",
    "\n",
    "for i in range(m) :\n",
    "    x,y,c= map(int,input().split())\n",
    "    if graph[x-1][y-1] == 10000001 :\n",
    "        graph[x-1][y-1] = c \n",
    "    else :\n",
    "        graph[x-1][y-1] = min(graph[x-1][y-1] , c)\n",
    "# 2. 중복값 고려 입력\n",
    "\n",
    "for inter in range(n) :        \n",
    "    for i in range(n) :\n",
    "        for j in range(n) :\n",
    "            if (graph[i][inter] + graph[inter][j]) < graph[i][j] :\n",
    "                graph[i][j] = (graph[i][inter] + graph[inter][j])\n",
    "# 3. 최단 경로\n",
    "\n",
    "for i in range(n) :\n",
    "    for j in range(n) :\n",
    "        if graph[i][j] == 10000001 :\n",
    "            graph[i][j] = 0 \n",
    "# 4. 안되는 것 = 100001제거             \n",
    "for i in range(n) :\n",
    "    for j in graph[i] :\n",
    "        print(j, end= \" \")\n",
    "    print()"
   ]
  },
  {
   "cell_type": "markdown",
   "metadata": {},
   "source": [
    "# 1956 운동 - 플로이드 와샬"
   ]
  },
  {
   "cell_type": "code",
   "execution_count": null,
   "metadata": {},
   "outputs": [],
   "source": [
    "v개 마을과 e개의 도로\n",
    "1부터 v까지의 번호 존재\n",
    "v와 e가 빈칸 사이에 두고 주어진다. \n"
   ]
  },
  {
   "cell_type": "code",
   "execution_count": 17,
   "metadata": {},
   "outputs": [
    {
     "name": "stdout",
     "output_type": "stream",
     "text": [
      "3 4\n",
      "1 2 1\n",
      "3 2 1\n",
      "1 3 5\n",
      "2 3 2\n",
      "3\n"
     ]
    }
   ],
   "source": [
    "n,m = map(int,input().split())\n",
    "graph = [[4000001]*n for _ in range(n)]\n",
    "for i in range(m) :\n",
    "    s,e,c = map(int,input().split())\n",
    "    graph[s-1][e-1] = c\n",
    "\n",
    "for inter in range(n) :        \n",
    "    for i in range(n) :\n",
    "        for j in range(n) :\n",
    "            if (graph[i][inter] + graph[inter][j]) < graph[i][j] :\n",
    "                graph[i][j] = (graph[i][inter] + graph[inter][j])\n",
    "minis = 4000001\n",
    "\n",
    "for mini in range(n) :\n",
    "    if graph[mini][mini] < minis :\n",
    "        minis = graph[mini][mini]\n",
    "if minis == 4000001 :\n",
    "    print(-1)\n",
    "else :\n",
    "    print(minis)"
   ]
  },
  {
   "cell_type": "markdown",
   "metadata": {},
   "source": [
    "# 17404"
   ]
  },
  {
   "cell_type": "code",
   "execution_count": null,
   "metadata": {},
   "outputs": [],
   "source": [
    "RGB 거리 2 매우 빠르게 0.5초 제한 "
   ]
  },
  {
   "cell_type": "code",
   "execution_count": null,
   "metadata": {},
   "outputs": [],
   "source": [
    "1번 집부터 n번 집까지 존재, 집은 RGB 3개중 1색 색칠해야함\n",
    "각각 비용 존재\n",
    "1번 2번 n번 집 색은 달라야 n번은 n-1과 1번 집 색과 달라야\n",
    "i번째 집의 색은 i-1 i+1과 달라야"
   ]
  },
  {
   "cell_type": "code",
   "execution_count": 2,
   "metadata": {},
   "outputs": [
    {
     "ename": "IndexError",
     "evalue": "list index out of range",
     "output_type": "error",
     "traceback": [
      "\u001b[1;31m---------------------------------------------------------------------------\u001b[0m",
      "\u001b[1;31mIndexError\u001b[0m                                Traceback (most recent call last)",
      "\u001b[1;32m<ipython-input-2-56919880bd0e>\u001b[0m in \u001b[0;36m<module>\u001b[1;34m\u001b[0m\n\u001b[0;32m      1\u001b[0m \u001b[0mdp\u001b[0m \u001b[1;33m=\u001b[0m \u001b[1;33m[\u001b[0m\u001b[1;36m1\u001b[0m\u001b[1;33m,\u001b[0m\u001b[1;36m2\u001b[0m\u001b[1;33m,\u001b[0m\u001b[1;36m3\u001b[0m\u001b[1;33m]\u001b[0m\u001b[1;33m\u001b[0m\u001b[1;33m\u001b[0m\u001b[0m\n\u001b[1;32m----> 2\u001b[1;33m \u001b[0mdp\u001b[0m\u001b[1;33m[\u001b[0m\u001b[1;33m-\u001b[0m\u001b[1;36m4\u001b[0m\u001b[1;33m]\u001b[0m\u001b[1;33m\u001b[0m\u001b[1;33m\u001b[0m\u001b[0m\n\u001b[0m",
      "\u001b[1;31mIndexError\u001b[0m: list index out of range"
     ]
    }
   ],
   "source": [
    "dp = [1,2,3]\n",
    "dp[0]\n",
    "dp"
   ]
  },
  {
   "cell_type": "code",
   "execution_count": null,
   "metadata": {},
   "outputs": [],
   "source": [
    "n = int(input())\n",
    "li= [[0]*3 for _ in range(n)]\n",
    "dp = [0]*n\n",
    "\n",
    "def find(n) :\n",
    "    if dp[n] != 0 :\n",
    "        return dp[n]\n",
    "    else :\n",
    "        dp[n] = max(dp[n-1])"
   ]
  }
 ],
 "metadata": {
  "kernelspec": {
   "display_name": "Python 3",
   "language": "python",
   "name": "python3"
  },
  "language_info": {
   "codemirror_mode": {
    "name": "ipython",
    "version": 3
   },
   "file_extension": ".py",
   "mimetype": "text/x-python",
   "name": "python",
   "nbconvert_exporter": "python",
   "pygments_lexer": "ipython3",
   "version": "3.7.6"
  }
 },
 "nbformat": 4,
 "nbformat_minor": 4
}
