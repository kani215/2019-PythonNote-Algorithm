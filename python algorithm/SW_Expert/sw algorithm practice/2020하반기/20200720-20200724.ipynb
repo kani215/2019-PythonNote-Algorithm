{
 "cells": [
  {
   "cell_type": "code",
   "execution_count": null,
   "metadata": {},
   "outputs": [],
   "source": [
    "from collections import deque\n",
    "def dfs(start) :\n",
    "    deque2 = deque()\n",
    "    deque2.append(start)\n",
    "    dx = [0,0,-1,1]\n",
    "    dy = [-1,1,0,0]\n",
    "    visited = []\n",
    "    while deque2 :\n",
    "        x,y = deque2.pop()\n",
    "        visited.append((x,y))\n",
    "        for i in range(4) : \n",
    "            nx = x + dx[i] \n",
    "            ny = y + dy[i]\n",
    "            if cnt < 7 :\n",
    "                \n",
    "\n",
    "for _ in range(int(input())) :\n",
    "    graph = [0]*4\n",
    "    s = []\n",
    "    for i in range(4) :\n",
    "        graph[i] = list(map(int,input().split()))\n",
    "    # 1. input\n",
    "    for i in range(4) :\n",
    "        for j in range(4) :\n",
    "            dfs((i,j))\n",
    "    s = set(s)\n",
    "    s = list(s)\n",
    "    print(len(s))\n"
   ]
  },
  {
   "cell_type": "markdown",
   "metadata": {},
   "source": [
    "# 15685 드래곤 커브 "
   ]
  },
  {
   "cell_type": "markdown",
   "metadata": {},
   "source": [
    "## 아이디어\n",
    "\n",
    "- 메모리가 많아서 넉넉히 활용하게끔 구현하였습니다.\n",
    "\n",
    "### 1단계 회전의 구현\n",
    "\n",
    "- 이 경우 기존 수치를 모두 저장 상태에서 새로 돌린 값을 넣어주어야했다.\n",
    "\n",
    "- 방향 d 의 리스트를 만들어 +1로 다음 회전 방향을 제시하였고\n",
    "\n",
    "- 최후의 좌표값에 그 d를 더한 값을 좌표값 모음 리스트로 기록하였다.\n",
    "\n",
    "### 2단계 상자 세기\n",
    "\n",
    "- 이 경우 graph라는 담는 리스트를 만들어 주기로 고안 => 줄 마다 세대를 n개 받으므로 이를 동시 저장 가능하기에\n",
    "\n",
    "- graph로 가장 왼쪽 가장 아래쪽 점이 1일때 우 우상 상 3개가 모두 1일때만 세었다.\n"
   ]
  },
  {
   "cell_type": "code",
   "execution_count": 44,
   "metadata": {},
   "outputs": [
    {
     "name": "stdout",
     "output_type": "stream",
     "text": [
      "4\n",
      "50 50 0 10\n",
      "50 50 1 10\n",
      "50 50 2 10\n",
      "50 50 3 10\n",
      "1992\n"
     ]
    }
   ],
   "source": [
    "from collections import deque\n",
    "dx = [1,0,-1,0] \n",
    "dy = [0,-1,0,1]\n",
    "# x증 y감 x감 y증\n",
    "      \n",
    "graph = [[0] * 101 for _ in range(101)]\n",
    "cnt = 0 \n",
    "\n",
    "def vis(start1,start2, d,n) :\n",
    "    deque_s = deque()\n",
    "    deque_s.append(start1)\n",
    "    deque_s.append(start2)\n",
    "    deque_d = deque()\n",
    "    deque_d.append(d)\n",
    "    for cnt in range(n) :\n",
    "        deque_d2 = []\n",
    "        # 세대\n",
    "        for i in range(1,2**cnt+1) :\n",
    "            x, y = deque_s[-1]\n",
    "            di = deque_d[-1*i]\n",
    "            di = (di+1)%4\n",
    "            deque_s.append((x+dx[di],y+dy[di]))\n",
    "            deque_d2.append(di)\n",
    "        deque_d.extend(deque_d2)\n",
    "    for x,y in deque_s :\n",
    "        graph[x][y] = 1\n",
    "        \n",
    "\n",
    "for i in range(int(input())) :\n",
    "    x,y, d,n = map(int,input().split())\n",
    "    vis((x,y),(x+dx[d],y+dy[d]),d,n)\n",
    "    \n",
    "for x in range(100) :\n",
    "    for y in range(100) :\n",
    "        if graph[x][y] == 1:\n",
    "            if graph[x+1][y+1] == 1 and graph[x+1][y] == 1 and graph[x][y+1] == 1 :\n",
    "                cnt+=1\n",
    "print(cnt)"
   ]
  },
  {
   "cell_type": "markdown",
   "metadata": {},
   "source": [
    "# sw 1244 최대 이익"
   ]
  },
  {
   "cell_type": "markdown",
   "metadata": {},
   "source": [
    "## 풀이\n",
    "\n",
    "- 자리 바꾸어서 값을 최대로 할 것 greedy로 풀이할 예정\n",
    "- 최대 교환수 10 최대 자릿수 6인게 큼"
   ]
  },
  {
   "cell_type": "code",
   "execution_count": 3,
   "metadata": {
    "scrolled": true
   },
   "outputs": [
    {
     "name": "stdout",
     "output_type": "stream",
     "text": [
      "(0, 1)\n",
      "(0, 2)\n",
      "(0, 3)\n",
      "(0, 4)\n",
      "(0, 5)\n",
      "(1, 2)\n",
      "(1, 3)\n",
      "(1, 4)\n",
      "(1, 5)\n",
      "(2, 3)\n",
      "(2, 4)\n",
      "(2, 5)\n",
      "(3, 4)\n",
      "(3, 5)\n",
      "(4, 5)\n",
      "1\n",
      "123 1\n",
      "[1, 2, 3]\n"
     ]
    }
   ],
   "source": [
    "import itertools\n",
    "\n",
    "    \n",
    "for i in range(1,int(input())+1) :\n",
    "    temp = list(input().split())\n",
    "    li = temp[0] \n",
    "    li = [int(x) for x in li]\n",
    "    g = [int(x) for x in range(len(li))]\n",
    "    graph = []\n",
    "    for p in itertools.combinations(g,2) :\n",
    "        graph.append(p)\n",
    "    # 횟수 반복 -----------------------------\n",
    "    tem_list = [li]\n",
    "    te = 0\n",
    "    for j in range(int(temp[1])) :\n",
    "        for k in range(len(graph)) :\n",
    "            x,y = graph[i]\n",
    "            te = li[x] \n",
    "            li[x] = li[y]\n",
    "            li[y] = te"
   ]
  },
  {
   "cell_type": "markdown",
   "metadata": {},
   "source": [
    "# sw 장훈이의 높은 선반"
   ]
  },
  {
   "cell_type": "code",
   "execution_count": 32,
   "metadata": {},
   "outputs": [
    {
     "data": {
      "text/plain": [
       "[7, 2, 8, 4]"
      ]
     },
     "execution_count": 32,
     "metadata": {},
     "output_type": "execute_result"
    }
   ],
   "source": [
    "s = [7,2,8,4]\n",
    "s[-4:]"
   ]
  },
  {
   "cell_type": "code",
   "execution_count": 34,
   "metadata": {},
   "outputs": [
    {
     "name": "stdout",
     "output_type": "stream",
     "text": [
      "1\n",
      "5 16\n",
      "1 3 3 5 6\n",
      "#1 1\n"
     ]
    }
   ],
   "source": [
    "# . greedy but n> cnt specific rule\n",
    "import itertools\n",
    "for test in range(1,int(input())+1) :\n",
    "    n,b = map(int,input().split())\n",
    "    s = list(map(int,input().split()))\n",
    "    s.sort()\n",
    "    min_cnt = 2000000\n",
    "    cnt = 0\n",
    "    for i in range(1,n+1) :\n",
    "        if sum(s[-i:]) >= b :\n",
    "            cnt = i\n",
    "            break\n",
    "    for c in range(cnt, n+1) :\n",
    "        for p in itertools.combinations(s,c) :\n",
    "            t = sum(p)\n",
    "            if t >= b :\n",
    "                min_cnt = min(min_cnt,t)\n",
    "    print(\"#\"+str(test),str(min_cnt-b))"
   ]
  }
 ],
 "metadata": {
  "kernelspec": {
   "display_name": "Python 3",
   "language": "python",
   "name": "python3"
  },
  "language_info": {
   "codemirror_mode": {
    "name": "ipython",
    "version": 3
   },
   "file_extension": ".py",
   "mimetype": "text/x-python",
   "name": "python",
   "nbconvert_exporter": "python",
   "pygments_lexer": "ipython3",
   "version": "3.7.6"
  }
 },
 "nbformat": 4,
 "nbformat_minor": 4
}
