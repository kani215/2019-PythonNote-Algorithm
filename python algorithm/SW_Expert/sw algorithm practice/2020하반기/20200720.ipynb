{
 "cells": [
  {
   "cell_type": "code",
   "execution_count": null,
   "metadata": {},
   "outputs": [],
   "source": [
    "from collections import deque\n",
    "def dfs(start) :\n",
    "    deque2 = deque()\n",
    "    deque2.append(start)\n",
    "    dx = [0,0,-1,1]\n",
    "    dy = [-1,1,0,0]\n",
    "    visited = []\n",
    "    while deque2 :\n",
    "        x,y = deque2.pop()\n",
    "        visited.append((x,y))\n",
    "        for i in range(4) : \n",
    "            nx = x + dx[i] \n",
    "            ny = y + dy[i]\n",
    "            if cnt < 7 :\n",
    "                \n",
    "\n",
    "for _ in range(int(input())) :\n",
    "    graph = [0]*4\n",
    "    s = []\n",
    "    for i in range(4) :\n",
    "        graph[i] = list(map(int,input().split()))\n",
    "    # 1. input\n",
    "    for i in range(4) :\n",
    "        for j in range(4) :\n",
    "            dfs((i,j))\n",
    "    s = set(s)\n",
    "    s = list(s)\n",
    "    print(len(s))\n"
   ]
  }
 ],
 "metadata": {
  "kernelspec": {
   "display_name": "Python 3",
   "language": "python",
   "name": "python3"
  },
  "language_info": {
   "codemirror_mode": {
    "name": "ipython",
    "version": 3
   },
   "file_extension": ".py",
   "mimetype": "text/x-python",
   "name": "python",
   "nbconvert_exporter": "python",
   "pygments_lexer": "ipython3",
   "version": "3.7.6"
  }
 },
 "nbformat": 4,
 "nbformat_minor": 4
}
