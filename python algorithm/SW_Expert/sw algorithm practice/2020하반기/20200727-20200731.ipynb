{
 "cells": [
  {
   "cell_type": "markdown",
   "metadata": {},
   "source": [
    "# sw 2819 격자판 숫자 이어 붙이기"
   ]
  },
  {
   "cell_type": "markdown",
   "metadata": {},
   "source": [
    "## 풀이\n",
    "\n",
    "- 고민이 엄청 되었다.\n",
    "- 메모리가 256mb로 완전탐색에도 용이하며 4x4격자판이기에 널널하다.\n",
    "- 완탐 DFS 로 가기로 정하였다. set 사용"
   ]
  },
  {
   "cell_type": "code",
   "execution_count": 1,
   "metadata": {},
   "outputs": [
    {
     "data": {
      "text/plain": [
       "'1'"
      ]
     },
     "execution_count": 1,
     "metadata": {},
     "output_type": "execute_result"
    }
   ],
   "source": [
    "sen = \"\"\n",
    "sen += \"1\"\n",
    "sen"
   ]
  },
  {
   "cell_type": "code",
   "execution_count": null,
   "metadata": {},
   "outputs": [],
   "source": [
    "from collections import deque\n",
    "dx = [-1,1,0,0]\n",
    "dy = [0,0,-1,1]\n",
    "cnt_set = []\n",
    "\n",
    "def dfs (graph_,start) :\n",
    "    deque2 = deque()\n",
    "    deque2.append(start)\n",
    "    \n",
    "    while deque2 :\n",
    "        x,y, sen = deque2.pop()\n",
    "        graph_[x][y] = 0 \n",
    "        for i in range(4) :\n",
    "            nx = x + dx[i]\n",
    "            ny = y + dy[i]\n",
    "            if 0 <= nx < 4 and 0 <= ny < 4 :\n",
    "                sen2 = sen + str(graph_[nx][ny])\n",
    "                if len(sen2) == 7 : \n",
    "                    cnt_set.append(sen2)\n",
    "                elif len(sen2) < 7 :\n",
    "                    deque2.append((nx,ny,sen2))\n",
    "\n",
    "\n",
    "for i in range(1,int(input())+1) :\n",
    "    graph = [0]*4\n",
    "    cnt_set = []\n",
    "    for j in range(4) :\n",
    "        graph[j] = list(map(int,input().split()))\n",
    "    \n",
    "    # 1. input\n",
    "    for p in range(4) :\n",
    "        for q in range(4) :\n",
    "            dfs(graph,(p,q,str(graph[p][q]))) \n",
    "    # 2. DFS\n",
    "    print(\"#\"+str(i),len(set(cnt_set)))"
   ]
  },
  {
   "cell_type": "code",
   "execution_count": 1,
   "metadata": {
    "scrolled": false
   },
   "outputs": [
    {
     "name": "stdout",
     "output_type": "stream",
     "text": [
      "ㅂ\n"
     ]
    },
    {
     "ename": "ValueError",
     "evalue": "invalid literal for int() with base 10: 'ㅂ'",
     "output_type": "error",
     "traceback": [
      "\u001b[1;31m---------------------------------------------------------------------------\u001b[0m",
      "\u001b[1;31mValueError\u001b[0m                                Traceback (most recent call last)",
      "\u001b[1;32m<ipython-input-1-310eb71ac26e>\u001b[0m in \u001b[0;36m<module>\u001b[1;34m\u001b[0m\n\u001b[0;32m     22\u001b[0m \u001b[1;33m\u001b[0m\u001b[0m\n\u001b[0;32m     23\u001b[0m \u001b[1;33m\u001b[0m\u001b[0m\n\u001b[1;32m---> 24\u001b[1;33m \u001b[1;32mfor\u001b[0m \u001b[0mi\u001b[0m \u001b[1;32min\u001b[0m \u001b[0mrange\u001b[0m\u001b[1;33m(\u001b[0m\u001b[1;36m1\u001b[0m\u001b[1;33m,\u001b[0m\u001b[0mint\u001b[0m\u001b[1;33m(\u001b[0m\u001b[0minput\u001b[0m\u001b[1;33m(\u001b[0m\u001b[1;33m)\u001b[0m\u001b[1;33m)\u001b[0m\u001b[1;33m+\u001b[0m\u001b[1;36m1\u001b[0m\u001b[1;33m)\u001b[0m \u001b[1;33m:\u001b[0m\u001b[1;33m\u001b[0m\u001b[1;33m\u001b[0m\u001b[0m\n\u001b[0m\u001b[0;32m     25\u001b[0m     \u001b[0mgraph\u001b[0m \u001b[1;33m=\u001b[0m \u001b[1;33m[\u001b[0m\u001b[1;36m0\u001b[0m\u001b[1;33m]\u001b[0m\u001b[1;33m*\u001b[0m\u001b[1;36m4\u001b[0m\u001b[1;33m\u001b[0m\u001b[1;33m\u001b[0m\u001b[0m\n\u001b[0;32m     26\u001b[0m     \u001b[0mcnt_set\u001b[0m \u001b[1;33m=\u001b[0m \u001b[1;33m[\u001b[0m\u001b[1;33m]\u001b[0m\u001b[1;33m\u001b[0m\u001b[1;33m\u001b[0m\u001b[0m\n",
      "\u001b[1;31mValueError\u001b[0m: invalid literal for int() with base 10: 'ㅂ'"
     ]
    }
   ],
   "source": [
    "from collections import deque\n",
    "dx = [-1,1,0,0]\n",
    "dy = [0,0,-1,1]\n",
    "cnt_set = []\n",
    "\n",
    "def dfs (graph_,start) :\n",
    "    deque2 = deque()\n",
    "    deque2.append(start)\n",
    "    \n",
    "    while deque2 :\n",
    "        x,y, sen = deque2.pop()\n",
    "        for i in range(4) :\n",
    "            nx = x + dx[i]\n",
    "            ny = y + dy[i]\n",
    "            if 0 <= nx < 4 and 0 <= ny < 4 :\n",
    "                sen2 = sen + str(graph_[nx][ny])\n",
    "                if len(sen2) == 7 : \n",
    "                    cnt_set.append(sen2)\n",
    "                    \n",
    "                elif len(sen2) < 7 :\n",
    "                    deque2.append((nx,ny,sen2))\n",
    "\n",
    "\n",
    "for i in range(1,int(input())+1) :\n",
    "    graph = [0]*4\n",
    "    cnt_set = []\n",
    "    for j in range(4) :\n",
    "        graph[j] = list(map(int,input().split()))\n",
    "    \n",
    "    # 1. input\n",
    "    for p in range(4) :\n",
    "        for q in range(4) :\n",
    "            dfs(graph,(p,q,str(graph[p][q]))) \n",
    "    # 2. DFS\n",
    "    print(\"#\"+str(i),len(set(cnt_set)))"
   ]
  },
  {
   "cell_type": "markdown",
   "metadata": {},
   "source": [
    "# 17406 배열 돌리기4"
   ]
  },
  {
   "cell_type": "markdown",
   "metadata": {},
   "source": [
    "## 풀이\n",
    "\n",
    "- 회전은 6 이하로 노가다적 풀이도 먹힌다.\n",
    "\n",
    "- 실 좌표를 알아야만 다음 회전이 가능하기에 각 경우 좌표 모두 계싼하는 방식\n",
    "\n",
    "- 반복되는 회전 재귀적으로 풀이\n"
   ]
  },
  {
   "cell_type": "code",
   "execution_count": 4,
   "metadata": {},
   "outputs": [
    {
     "data": {
      "text/plain": [
       "[1, 2, 3]"
      ]
     },
     "execution_count": 4,
     "metadata": {},
     "output_type": "execute_result"
    }
   ],
   "source": [
    "import copy\n",
    "graph = [1,2,3]\n",
    "graph2 = copy.deepcopy(graph) \n",
    "graph2.append(2)\n",
    "graph"
   ]
  },
  {
   "cell_type": "code",
   "execution_count": 5,
   "metadata": {},
   "outputs": [
    {
     "name": "stdout",
     "output_type": "stream",
     "text": [
      "5 6 2\n",
      "1 2 3 2 5 6\n",
      "3 8 7 2 1 3\n",
      "8 2 3 1 4 5\n",
      "3 4 5 1 1 1\n",
      "9 3 2 1 4 3\n",
      "3 4 2\n",
      "4 2 1\n",
      "12\n"
     ]
    }
   ],
   "source": [
    "import copy\n",
    "def permutations(prefix,k):\n",
    "    if len(prefix) == r:\n",
    "        yield prefix\n",
    "    else:\n",
    "        for i in range(k,len(arr)):\n",
    "            arr[i], arr[k] = arr[k], arr[i]\n",
    "            for next in permutations(prefix + [arr[k]], k+1):\n",
    "                yield next\n",
    "            arr[i], arr[k] = arr[k], arr[i]\n",
    "\n",
    "# 1. input\n",
    "n,m,k = map(int,input().split())\n",
    "graph = [0] * n\n",
    "point = [0] * k\n",
    "turn = []\n",
    "for i in range(n) :\n",
    "    graph[i] = list(map(int,input().split()))\n",
    "    \n",
    "for j in range(k) :\n",
    "    point[j] = list(map(int,input().split()))\n",
    "\n",
    "\n",
    "# 2. permutations\n",
    "r = k \n",
    "arr = [int(x) for x in range(r)]\n",
    "\n",
    "for perm in permutations([],0) :\n",
    "    turn.append(list(perm))\n",
    "\n",
    "# 3. move \n",
    "dx = [1,0,-1,0]\n",
    "dy = [0,1,0,-1]\n",
    "ans = []\n",
    "while turn :\n",
    "    se = turn.pop()\n",
    "    graph2 = copy.deepcopy(graph)\n",
    "    for q in se :\n",
    "        x2,y2,s = point[q] \n",
    "        for p in range(s, 0, -1) :\n",
    "            x = x2 - 1 - p\n",
    "            y = y2 - 1 - p\n",
    "            # one round\n",
    "            for i in range(4) :\n",
    "                for _ in range(2*p) :\n",
    "                    temp = graph2[x + dx[i]][y + dy[i]]\n",
    "                    graph2[x + dx[i]][y + dy[i]] = graph2[x][y]\n",
    "                    graph2[x][y] = temp\n",
    "                    x = x + dx[i]\n",
    "                    y = y + dy[i]\n",
    "            temp = graph2[x + dx[1]][y + dy[1]]\n",
    "            graph2[x + dx[1]][y + dy[1]] = graph2[x][y]\n",
    "            graph2[x][y] = temp\n",
    "            \n",
    "    for cnt in graph2 :\n",
    "        ans.append(sum(cnt))\n",
    "print(min(ans))"
   ]
  },
  {
   "cell_type": "markdown",
   "metadata": {},
   "source": [
    "# 16637"
   ]
  },
  {
   "cell_type": "markdown",
   "metadata": {},
   "source": [
    "## 풀이\n",
    "\n",
    "- 시간제한이 굉장히 째째하다. 메모리는 많이 써도 됨"
   ]
  },
  {
   "cell_type": "code",
   "execution_count": 39,
   "metadata": {},
   "outputs": [
    {
     "name": "stdout",
     "output_type": "stream",
     "text": [
      "7\n",
      "8*3+5+2\n",
      "80\n"
     ]
    }
   ],
   "source": [
    "from collections import deque\n",
    "import copy\n",
    "def permutations(prefix,k):\n",
    "    if len(prefix) == r:\n",
    "        yield prefix\n",
    "    else:\n",
    "        for i in range(k,len(arr)):\n",
    "            arr[i], arr[k] = arr[k], arr[i]\n",
    "            for next in permutations(prefix + [arr[k]], k+1):\n",
    "                yield next\n",
    "            arr[i], arr[k] = arr[k], arr[i]\n",
    "\n",
    "# 1. input and divide \n",
    "n = int(input())\n",
    "p = list(input())\n",
    "num = [int(p[2*i]) for i in range((n//2) + 1)]\n",
    "log = [str(p[2*i+1]) for i in range(n//2)]\n",
    "\n",
    "# 1-1 . logic break \n",
    "\n",
    "def lo(a,b,logic) :\n",
    "    if logic == \"+\" :\n",
    "        return a+b\n",
    "    elif logic == \"-\" :\n",
    "        return a-b\n",
    "    else :\n",
    "        return a*b\n",
    "    \n",
    "# 2. greedy search\n",
    "r = len(log)\n",
    "arr = [int(x) for x in range(r)]\n",
    "turn = []\n",
    "ans = []\n",
    "for perm in permutations([],0) :\n",
    "    turn.append(list(perm))\n",
    "\n",
    "while turn :\n",
    "    se = turn.pop()\n",
    "    # sep set \n",
    "    num_s = copy.deepcopy(num)\n",
    "    se2 = copy.deepcopy(se)\n",
    "    for se_time in range(len(se)) :\n",
    "        can = se.pop(0)\n",
    "        num1 = num_s[:can]\n",
    "        num2 = num_s[can+1:]\n",
    "        if num2 :\n",
    "            num2.pop(0)\n",
    "        a1 = num_s[can] \n",
    "        b1 = num_s[can+1]\n",
    "        t1 = lo(a1,b1 ,log[se2[se_time]])\n",
    "        num1.append(t1)\n",
    "        num_s = num1 + num2\n",
    "        \n",
    "        if se :\n",
    "            if can != max(se) :\n",
    "                for k in range(len(se)) :\n",
    "                    if can <= se[k] :\n",
    "                        se[k] -= 1 \n",
    "                        \n",
    "                        \n",
    "    ans.append(num_s[0])\n",
    "print(max(ans))"
   ]
  },
  {
   "cell_type": "markdown",
   "metadata": {},
   "source": [
    "## 위의 풀이는 조건 : 이중 부호 불가능을 위배 했다.\n",
    "- 거지!!!!!!!!!!!\n",
    "- 풀이 : 그리디 방식인데 문제가 요구하는 대로 풀이하면서 pick 방식\n"
   ]
  },
  {
   "cell_type": "code",
   "execution_count": 6,
   "metadata": {},
   "outputs": [
    {
     "name": "stdout",
     "output_type": "stream",
     "text": [
      "1\n",
      "2\n",
      "3\n"
     ]
    }
   ],
   "source": [
    "a = set([1,2,3,4,5])\n",
    "l = set([5,4])\n",
    "for i in (a-l) :\n",
    "    print(i)"
   ]
  },
  {
   "cell_type": "code",
   "execution_count": 22,
   "metadata": {},
   "outputs": [
    {
     "name": "stdout",
     "output_type": "stream",
     "text": [
      "[1, 2, 3, 4] []\n"
     ]
    }
   ],
   "source": [
    "log_s = [1,2,3,4,5]\n",
    "can = 4\n",
    "log1 = log_s[:can]\n",
    "log2 = log_s[can+1:]\n",
    "print(log1,log2)"
   ]
  },
  {
   "cell_type": "code",
   "execution_count": 26,
   "metadata": {
    "scrolled": true
   },
   "outputs": [
    {
     "name": "stdout",
     "output_type": "stream",
     "text": [
      "9\n",
      "3+8*7-9*2\n",
      "[0, 3]\n",
      "[11, 7, 9, 18] ['*', '-', '*']\n",
      "68\n",
      "[2, 3]\n",
      "[3, 8, -2, 18] ['+', '*', '*']\n",
      "-22\n",
      "[1, 3]\n",
      "[3, 56, 9, 18] ['+', '-', '*']\n",
      "50\n",
      "[2, 3]\n",
      "[3, 8, -2, 18] ['+', '*', '*']\n",
      "-22\n",
      "[0, 2]\n",
      "[11, 7, -2] ['*', '-']\n",
      "79\n",
      "[1, 2]\n",
      "[3, 56, -2] ['+', '-']\n",
      "61\n",
      "[1, 3]\n",
      "[3, 56, 9, 18] ['+', '-', '*']\n",
      "50\n",
      "[1, 2]\n",
      "[3, 56, -2] ['+', '-']\n",
      "61\n",
      "[0, 1]\n",
      "[11, 56, 2] ['*', '*']\n",
      "1232\n",
      "[0, 3]\n",
      "[11, 7, 9, 18] ['*', '-', '*']\n",
      "68\n",
      "[0, 2]\n",
      "[11, 7, -2] ['*', '-']\n",
      "79\n",
      "[0, 1]\n",
      "[11, 56, 2] ['*', '*']\n",
      "1232\n",
      "[3]\n",
      "[3, 8, 7, 18] ['+', '*', '-']\n",
      "59\n",
      "[2]\n",
      "[3, 8, -2, 2] ['+', '*', '*']\n",
      "-44\n",
      "[1]\n",
      "[3, 56, 9, 2] ['+', '-', '*']\n",
      "100\n",
      "[0]\n",
      "[11, 7, 9, 2] ['*', '-', '*']\n",
      "136\n",
      "1232\n"
     ]
    }
   ],
   "source": [
    "from collections import deque\n",
    "import copy\n",
    "def permutations(prefix,k,r):\n",
    "    if len(prefix) == r:\n",
    "        yield prefix\n",
    "    else:\n",
    "        for i in range(k,len(arr)):\n",
    "            arr[i], arr[k] = arr[k], arr[i]\n",
    "            for next in permutations(prefix + [arr[k]], k+1,r):\n",
    "                yield next\n",
    "            arr[i], arr[k] = arr[k], arr[i]\n",
    "\n",
    "            \n",
    "# 1. input and divide \n",
    "n = int(input())\n",
    "p = list(input())\n",
    "num = [int(p[2*i]) for i in range((n//2) + 1)]\n",
    "log = [str(p[2*i+1]) for i in range(n//2)]\n",
    "\n",
    "arr = [int(x) for x in range(len(log))]\n",
    "turn = []\n",
    "ans = []\n",
    "# 1-1 . logic break \n",
    "\n",
    "def lo(a,b,logic) :\n",
    "    if logic == \"+\" :\n",
    "        return a+b\n",
    "    elif logic == \"-\" :\n",
    "        return a-b\n",
    "    else :\n",
    "        return a*b\n",
    "    \n",
    "for q in range(1,(len(log)//2) +1 ) :\n",
    "    for perm in permutations([],0,q) :\n",
    "        turn.append(list(perm))\n",
    "# 2. check turn\n",
    "\n",
    "for se in turn :\n",
    "    se.sort()\n",
    "    \n",
    "    \n",
    "while turn :\n",
    "    se = turn.pop()\n",
    "    # sep set \n",
    "    num_s = copy.deepcopy(num)\n",
    "    log_s = copy.deepcopy(log)\n",
    "    se2 = copy.deepcopy(se)\n",
    "    print(se2)\n",
    "    for se_time in range(len(se2)) :\n",
    "        can = se.pop(0)\n",
    "        num1 = num_s[:can]\n",
    "        num2 = num_s[can+1:]\n",
    "        log1 = log_s[:can]\n",
    "        log2 = log_s[can+1:]\n",
    "        if num2 :\n",
    "            num2.pop(0)\n",
    "        a1 = num[can] \n",
    "        b1 = num[can+1]\n",
    "        t1 = lo(a1, b1 ,log[se2[se_time]])\n",
    "        num1.append(t1)\n",
    "        num_s = num1 + num2\n",
    "        log_s = log1 + log2\n",
    "        \n",
    "    print(num_s,log_s)\n",
    "    if len(num_s) == 1 :\n",
    "        ans.append(num_s[0])\n",
    "    else :\n",
    "        temp = num_s[0]   \n",
    "        for z in range(1, len(arr)-len(se2)+1) :\n",
    "            temp = lo(temp , num_s[z], log_s[z-1])\n",
    "    print(temp)\n",
    "    ans.append(temp)\n",
    "print(max(ans))"
   ]
  },
  {
   "cell_type": "markdown",
   "metadata": {},
   "source": [
    "eval() 함수로 풀이한 식이 보인다. \n",
    "정밀함의 차이인가? \n",
    "\n",
    "대체 .... "
   ]
  },
  {
   "cell_type": "markdown",
   "metadata": {},
   "source": [
    "# 17471 게리멘더링 \n",
    "\n",
    "- 선거구 1개 이상\n",
    "\n",
    "- 선거구끼린 연결 됨\n",
    "\n",
    "- 인구수 차가 최소일 것 "
   ]
  },
  {
   "cell_type": "code",
   "execution_count": 29,
   "metadata": {},
   "outputs": [
    {
     "name": "stdout",
     "output_type": "stream",
     "text": [
      "6\n",
      "10 20 10 20 30 40\n",
      "0\n",
      "0\n",
      "0\n",
      "0\n",
      "0\n",
      "0\n",
      "-1\n"
     ]
    },
    {
     "data": {
      "text/plain": [
       "[[0, 1],\n",
       " [0, 2],\n",
       " [0, 3],\n",
       " [0, 4],\n",
       " [0, 5],\n",
       " [1, 2],\n",
       " [1, 3],\n",
       " [1, 4],\n",
       " [1, 5],\n",
       " [2, 3],\n",
       " [2, 4],\n",
       " [2, 5],\n",
       " [3, 4],\n",
       " [3, 5],\n",
       " [4, 5]]"
      ]
     },
     "execution_count": 29,
     "metadata": {},
     "output_type": "execute_result"
    }
   ],
   "source": [
    "def combinations(arr,r) :\n",
    "    for i in range(len(arr)) :\n",
    "        if r ==1 :\n",
    "            yield [arr[i]]\n",
    "        else :\n",
    "            for next in combinations(arr[i+1:],r-1) :\n",
    "                yield [arr[i]] + next\n",
    "\n",
    "    \n",
    "# 1 . input\n",
    "n = int(input())\n",
    "li = list(map(int,input().split()))\n",
    "num_cnt = 0\n",
    "for i in range(n) :\n",
    "    temp = list(map(int,input().split()))\n",
    "    if temp[0] == 0 :\n",
    "        num_cnt += 1\n",
    "        continue\n",
    "    for se in temp : \n",
    "        graph[i][se - 1] = 1\n",
    "        graph[se - 1 ][i] = 1\n",
    "    \n",
    "# 2. use combinations and exp    \n",
    "if num_cnt >= 3 or (num_cnt == 2 and n>2) : \n",
    "    print(-1)\n",
    "    \n",
    "\n",
    "turn = []\n",
    "\n",
    "for combi in combinations([int(x) for x in range(n)],2) :\n",
    "    turn.append(combi)\n",
    "turn\n",
    "\n",
    "# 3. are groups connected?\n",
    "\n",
    "\n",
    " "
   ]
  }
 ],
 "metadata": {
  "kernelspec": {
   "display_name": "Python 3",
   "language": "python",
   "name": "python3"
  },
  "language_info": {
   "codemirror_mode": {
    "name": "ipython",
    "version": 3
   },
   "file_extension": ".py",
   "mimetype": "text/x-python",
   "name": "python",
   "nbconvert_exporter": "python",
   "pygments_lexer": "ipython3",
   "version": "3.7.6"
  }
 },
 "nbformat": 4,
 "nbformat_minor": 4
}
