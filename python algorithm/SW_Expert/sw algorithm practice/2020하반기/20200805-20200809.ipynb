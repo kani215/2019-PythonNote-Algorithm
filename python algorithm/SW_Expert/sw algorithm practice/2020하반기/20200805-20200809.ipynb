{
 "cells": [
  {
   "cell_type": "markdown",
   "metadata": {},
   "source": [
    "# 14499 주사위 굴리기 "
   ]
  },
  {
   "cell_type": "code",
   "execution_count": 4,
   "metadata": {},
   "outputs": [
    {
     "name": "stdout",
     "output_type": "stream",
     "text": [
      "[[0, 0, 0, 0], [0, 0, 0, 0], [0, 0, 0, 0]]\n"
     ]
    }
   ],
   "source": [
    "ans_dice  = [[0] * 4 for _ in range(3)]\n",
    "print(ans_dice)"
   ]
  },
  {
   "cell_type": "code",
   "execution_count": 14,
   "metadata": {
    "scrolled": true
   },
   "outputs": [
    {
     "name": "stdout",
     "output_type": "stream",
     "text": [
      "4 2 0 0 8\n",
      "0 2\n",
      "3 4\n",
      "5 6\n",
      "7 8\n",
      "4 4 4 1 3 3 3 2\n",
      "[[0, 0, -1, -1], [-1, 3, 0, -1], [-1, -1, 0, 0]]\n",
      "1 0\n",
      "0\n",
      "[[0, 0, -1, -1], [-1, 3, 0, -1], [-1, -1, 5, 0]]\n",
      "2 0\n",
      "0\n",
      "[[7, 0, -1, -1], [-1, 3, 0, -1], [-1, -1, 5, 0]]\n",
      "3 0\n",
      "0\n",
      "[[7, 8, -1, -1], [-1, 3, 0, -1], [-1, -1, 5, 0]]\n",
      "3 1\n",
      "5\n",
      "[[7, 8, -1, -1], [-1, 3, 0, -1], [6, -1, 5, 0]]\n",
      "2 1\n",
      "3\n",
      "[[7, 8, -1, -1], [-1, 3, 0, 4], [6, -1, 5, 0]]\n",
      "1 1\n",
      "7\n",
      "[[7, 8, 2, -1], [-1, 3, 0, 4], [6, -1, 5, 0]]\n",
      "0 1\n",
      "[[7, 8, 2, -1], [-1, 3, 0, 4], [6, -1, 5, 0]]\n",
      "0 0\n"
     ]
    }
   ],
   "source": [
    "import copy\n",
    "n,m, x,y, num = map(int,input().split())\n",
    "graph = [0] * n \n",
    "for i in range(n) :\n",
    "    graph[i] = list(map(int,input().split()))\n",
    "li = list(map(int, input().split()))\n",
    "li = [x-1 for x in li]\n",
    "# 1. input graph = map , li = move order\n",
    "\n",
    "ans_dice  = [[-1] * 4 for _ in range(3)]\n",
    "for p in range(3) :\n",
    "    for q in range(p,p+2) :\n",
    "        ans_dice[p][q] = 0\n",
    "# ans_dice :  dice_map 4*3 data\n",
    "\n",
    "# 2. move trigger\n",
    "dx = [0,0,-1,1]\n",
    "dy = [1,-1,]\n",
    "dx2 = [0,0,]\n",
    "dy2 = [1,-1,0,0]\n",
    "ansx = [1,2,-1,-2]\n",
    "ansy = [2,1,-2,-1]\n",
    "\n",
    "x2 = copy.deepcopy(x)\n",
    "y2 = copy.deepcopy(y)\n",
    "\n",
    "# 3. move\n",
    "for i in li :\n",
    "    x += dx[i]\n",
    "    y += dy[i]\n",
    "    x2 += dx2[i]\n",
    "    y2 += dy2[i]\n",
    "    if x > 2 or y > 3 :\n",
    "        x = 0\n",
    "        y = 0\n",
    "        \n",
    "    if graph[x2][y2] == 0 :\n",
    "        graph[x2][y2] = ans_dice[x][y]\n",
    "    else :\n",
    "        ans_dice[x][y] = graph[x2][y2]\n",
    "        graph[x2][y2] = 0\n",
    "    print(ans_dice)\n",
    "    print(x2,y2)\n",
    "    for k in range(4) :\n",
    "        if 0<= x+ansx[k] <= 2 and 0 <= y+ansy[k] <= 3 and ans_dice[x+ansx[k]][y+ansy[k]] != -1:\n",
    "            print(ans_dice[x+ansx[k]][y+ansy[k]])"
   ]
  },
  {
   "cell_type": "code",
   "execution_count": 19,
   "metadata": {
    "scrolled": false
   },
   "outputs": [
    {
     "name": "stdout",
     "output_type": "stream",
     "text": [
      "3 3 1 1 9\n",
      "1 2 3\n",
      "4 0 5\n",
      "6 7 8\n",
      "1 3 2 2 4 4 1 1 3\n",
      "0\n",
      "0\n",
      "0\n",
      "3\n",
      "0\n",
      "1\n",
      "0\n",
      "6\n",
      "0\n"
     ]
    }
   ],
   "source": [
    "n,m, x,y, num = map(int,input().split())\n",
    "graph = [0] * n \n",
    "for i in range(n) :\n",
    "    graph[i] = list(map(int,input().split()))\n",
    "li = list(map(int, input().split()))\n",
    "# 1. input graph = map , li = move order\n",
    "dx = [0,0,-1,1]\n",
    "dy = [1,-1,0,0]\n",
    "ans_dice = [0,0,0,0,0,0]\n",
    "# 2. move trigger\n",
    "\n",
    "# dice move hegiht 4 , length 4 flatten squire\n",
    "dice_d1 = [1,3,4,6]\n",
    "dice_d2 = [1,2,4,5]\n",
    "def dice_move(loc) :\n",
    "    global dice_d1,dice_d2\n",
    "    if loc == 1 :\n",
    "        a = dice_d2.pop(-1)\n",
    "        dice_d2 = [a]+dice_d2\n",
    "        dice_d1[0] = dice_d2[0]\n",
    "        dice_d1[2] = dice_d2[2]\n",
    "    elif loc == 2 :\n",
    "        a = dice_d2.pop(0)\n",
    "        dice_d2 = dice_d2 + [a]\n",
    "        dice_d1[0] = dice_d2[0]\n",
    "        dice_d1[2] = dice_d2[2]\n",
    "    elif loc == 3 :\n",
    "        a = dice_d1.pop(0)\n",
    "        dice_d1 = dice_d1 +[a]\n",
    "        dice_d2[0] = dice_d1[0]\n",
    "        dice_d2[2] = dice_d1[2]\n",
    "    else :\n",
    "        a = dice_d1.pop(-1)\n",
    "        dice_d1 = [a] + dice_d1\n",
    "        dice_d2[0] = dice_d1[0]\n",
    "        dice_d2[2] = dice_d1[2]\n",
    "    return dice_d1[0]\n",
    "\n",
    "start = 1\n",
    "# 3. move\n",
    "for i in li :\n",
    "    x += dx[i-1]\n",
    "    y += dy[i-1]\n",
    "    if 0 <= x < n and 0 <= y < m : \n",
    "        start = dice_move(i)\n",
    "        if graph[x][y] == 0 :\n",
    "            graph[x][y] = ans_dice[start-1]\n",
    "        else :\n",
    "            ans_dice[start-1] = graph[x][y]\n",
    "            graph[x][y] = 0\n",
    "        print(ans_dice[dice_d1[2]-1])\n",
    "    else :\n",
    "        x -= dx[i-1]\n",
    "        y -= dy[i-1]\n",
    "        continue"
   ]
  },
  {
   "cell_type": "markdown",
   "metadata": {},
   "source": [
    "# 14501  퇴사"
   ]
  },
  {
   "cell_type": "code",
   "execution_count": 20,
   "metadata": {
    "scrolled": true
   },
   "outputs": [
    {
     "name": "stdout",
     "output_type": "stream",
     "text": [
      "6\n",
      "5\n",
      "4\n",
      "3\n",
      "2\n",
      "1\n"
     ]
    }
   ],
   "source": [
    "for i in range(6,0,-1) :\n",
    "    print(i)"
   ]
  },
  {
   "cell_type": "code",
   "execution_count": 44,
   "metadata": {},
   "outputs": [
    {
     "name": "stdout",
     "output_type": "stream",
     "text": [
      "10\n",
      "5 50\n",
      "4 40\n",
      "3 30\n",
      "2 20\n",
      "1 10\n",
      "1 10\n",
      "2 20\n",
      "3 30\n",
      "4 40\n",
      "5 50\n",
      "[50, 40, 30, 20, 10, 10, 20, 30, 0, 0]\n",
      "[90, 80, 70, 60, 50, 40, 30, 30, 0, 0, 0, 0, 0, 0, 0, 0, 0, 0, 0, 0]\n",
      "90\n"
     ]
    }
   ],
   "source": [
    "n = int(input())\n",
    "t = [0]*n\n",
    "p = [0]*n\n",
    "for i in range(n) :\n",
    "    t[i], p[i] = map(int,input().split())\n",
    "v = 0\n",
    "for j in range(n,0,-1) :\n",
    "    if j - t[v] < 0 :\n",
    "        p[v] = 0\n",
    "    v +=1\n",
    "\n",
    "dp = [-1] * n\n",
    "dp = dp + [0]* (20-n)\n",
    "def search(s) :\n",
    "    if dp[s] != -1 :\n",
    "        return dp[s]\n",
    "    else :\n",
    "        a = search(t[s]+s)\n",
    "        b = search(s+1)\n",
    "        dp[s] = max(p[s]+ int(a),b)\n",
    "        return dp[s]\n",
    "search(0)\n",
    "print(max(dp))"
   ]
  },
  {
   "cell_type": "code",
   "execution_count": null,
   "metadata": {},
   "outputs": [],
   "source": []
  }
 ],
 "metadata": {
  "kernelspec": {
   "display_name": "Python 3",
   "language": "python",
   "name": "python3"
  },
  "language_info": {
   "codemirror_mode": {
    "name": "ipython",
    "version": 3
   },
   "file_extension": ".py",
   "mimetype": "text/x-python",
   "name": "python",
   "nbconvert_exporter": "python",
   "pygments_lexer": "ipython3",
   "version": "3.7.6"
  }
 },
 "nbformat": 4,
 "nbformat_minor": 4
}
