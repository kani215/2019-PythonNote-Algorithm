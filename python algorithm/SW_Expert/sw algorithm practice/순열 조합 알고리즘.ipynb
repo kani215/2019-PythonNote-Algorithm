{
 "cells": [
  {
   "cell_type": "markdown",
   "metadata": {},
   "source": [
    "# itertool 가능 시 import itertool "
   ]
  },
  {
   "cell_type": "markdown",
   "metadata": {},
   "source": [
    "## 1. 순열 > 순서 달라도 다른 걸로 침"
   ]
  },
  {
   "cell_type": "code",
   "execution_count": 15,
   "metadata": {},
   "outputs": [
    {
     "name": "stdout",
     "output_type": "stream",
     "text": [
      "(1, 2, 3)\n",
      "(1, 3, 2)\n",
      "(2, 1, 3)\n",
      "(2, 3, 1)\n",
      "(3, 1, 2)\n",
      "(3, 2, 1)\n"
     ]
    }
   ],
   "source": [
    "import itertools\n",
    "for p in itertools.permutations(range(1,4),3) :\n",
    "    print(p)"
   ]
  },
  {
   "cell_type": "markdown",
   "metadata": {},
   "source": [
    "## 1-1. 순열 중복 > 구성요소 반복 가능 추가"
   ]
  },
  {
   "cell_type": "code",
   "execution_count": 16,
   "metadata": {},
   "outputs": [
    {
     "name": "stdout",
     "output_type": "stream",
     "text": [
      "(1, 1, 1)\n",
      "(1, 1, 2)\n",
      "(1, 1, 3)\n",
      "(1, 2, 1)\n",
      "(1, 2, 2)\n",
      "(1, 2, 3)\n",
      "(1, 3, 1)\n",
      "(1, 3, 2)\n",
      "(1, 3, 3)\n",
      "(2, 1, 1)\n",
      "(2, 1, 2)\n",
      "(2, 1, 3)\n",
      "(2, 2, 1)\n",
      "(2, 2, 2)\n",
      "(2, 2, 3)\n",
      "(2, 3, 1)\n",
      "(2, 3, 2)\n",
      "(2, 3, 3)\n",
      "(3, 1, 1)\n",
      "(3, 1, 2)\n",
      "(3, 1, 3)\n",
      "(3, 2, 1)\n",
      "(3, 2, 2)\n",
      "(3, 2, 3)\n",
      "(3, 3, 1)\n",
      "(3, 3, 2)\n",
      "(3, 3, 3)\n"
     ]
    }
   ],
   "source": [
    "import itertools\n",
    "for p in itertools.product(range(1,4), repeat = 3) :\n",
    "    print(p)"
   ]
  },
  {
   "cell_type": "markdown",
   "metadata": {},
   "source": [
    "## 2. 조합 > 순서 달라도 같은 걸로 침"
   ]
  },
  {
   "cell_type": "code",
   "execution_count": 5,
   "metadata": {},
   "outputs": [
    {
     "name": "stdout",
     "output_type": "stream",
     "text": [
      "(1, 2, 3, 4)\n",
      "(1, 2, 3, 5)\n",
      "(1, 2, 4, 5)\n",
      "(1, 3, 4, 5)\n",
      "(2, 3, 4, 5)\n"
     ]
    }
   ],
   "source": [
    "import itertools\n",
    "for p in itertools.combinations(range(1,6),4) :\n",
    "    print(p)"
   ]
  },
  {
   "cell_type": "markdown",
   "metadata": {},
   "source": [
    "## 2-1. 조합 중복 > 구성요소 반복 가능 추가"
   ]
  },
  {
   "cell_type": "code",
   "execution_count": 13,
   "metadata": {},
   "outputs": [
    {
     "name": "stdout",
     "output_type": "stream",
     "text": [
      "(1, 1, 1)\n",
      "(1, 1, 2)\n",
      "(1, 1, 3)\n",
      "(1, 2, 2)\n",
      "(1, 2, 3)\n",
      "(1, 3, 3)\n",
      "(2, 2, 2)\n",
      "(2, 2, 3)\n",
      "(2, 3, 3)\n",
      "(3, 3, 3)\n"
     ]
    }
   ],
   "source": [
    "import itertools\n",
    "for p in itertools.combinations_with_replacement(range(1,4),3) :\n",
    "    print(p)"
   ]
  },
  {
   "cell_type": "markdown",
   "metadata": {},
   "source": [
    "# itertools 제한 시 "
   ]
  },
  {
   "cell_type": "markdown",
   "metadata": {},
   "source": [
    "## 1. 순열 > 순서 다르면 다른 걸로 침"
   ]
  },
  {
   "cell_type": "code",
   "execution_count": null,
   "metadata": {},
   "outputs": [],
   "source": [
    "def permutations(prefix,k):\n",
    "    if len(prefix) == r:\n",
    "        yield prefix\n",
    "    else:\n",
    "        for i in range(k,len(arr)):\n",
    "            arr[i], arr[k] = arr[k], arr[i]\n",
    "            for next in permutations(prefix + [arr[k]], k+1):\n",
    "                yield next\n",
    "            arr[i], arr[k] = arr[k], arr[i]\n",
    "\n",
    "# 출력\n",
    "arr = [1,2,3,4,5]\n",
    "r = 3\n",
    "for perm in permutations([],0):\n",
    "    print(perm)\n"
   ]
  },
  {
   "cell_type": "markdown",
   "metadata": {},
   "source": [
    "## 1-1. 순열 중복 > 구성요소 반복 가능 추가"
   ]
  },
  {
   "cell_type": "code",
   "execution_count": null,
   "metadata": {},
   "outputs": [],
   "source": [
    "def product(arr,r):\n",
    "    for i in range(len(arr)):\n",
    "        if r == 1:\n",
    "            yield [arr[i]]\n",
    "        else:\n",
    "            for next in product(arr,r-1):\n",
    "                yield [arr[i]] + next\n"
   ]
  },
  {
   "cell_type": "markdown",
   "metadata": {},
   "source": [
    "## 2. 조합 > 순서 달라도 같은 걸로 침"
   ]
  },
  {
   "cell_type": "code",
   "execution_count": null,
   "metadata": {},
   "outputs": [],
   "source": [
    "def combinations(arr,r) :\n",
    "    for i in range(len(arr)) :\n",
    "        if r == 1:\n",
    "            yield [arr[i]]\n",
    "            \n",
    "        else : \n",
    "            for next in combinations(arr[i+1:],r-1):\n",
    "                yield [arr[i]] + next\n",
    "\n",
    "# 2. 단순 출력 \n",
    "for combi in combinations([1,2,3,4,5],2):\n",
    "    print(combi)"
   ]
  },
  {
   "cell_type": "markdown",
   "metadata": {},
   "source": [
    "## 2-1. 순열 중복 > 구성요소 반복 가능 추가"
   ]
  },
  {
   "cell_type": "code",
   "execution_count": null,
   "metadata": {},
   "outputs": [],
   "source": [
    "def combinations_with_replacement(arr,r):\n",
    "    for i in range(len(arr)):\n",
    "        if r == 1:\n",
    "            yield [arr[i]]\n",
    "        else:\n",
    "            for next in combinations_with_replacement(arr[i:],r-1):\n",
    "                yield [arr[i]] + next\n"
   ]
  }
 ],
 "metadata": {
  "kernelspec": {
   "display_name": "Python 3",
   "language": "python",
   "name": "python3"
  },
  "language_info": {
   "codemirror_mode": {
    "name": "ipython",
    "version": 3
   },
   "file_extension": ".py",
   "mimetype": "text/x-python",
   "name": "python",
   "nbconvert_exporter": "python",
   "pygments_lexer": "ipython3",
   "version": "3.7.6"
  }
 },
 "nbformat": 4,
 "nbformat_minor": 4
}
