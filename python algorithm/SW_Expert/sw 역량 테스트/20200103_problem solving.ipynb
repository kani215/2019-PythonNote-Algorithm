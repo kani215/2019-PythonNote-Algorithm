{
 "cells": [
  {
   "cell_type": "code",
   "execution_count": null,
   "metadata": {},
   "outputs": [],
   "source": [
    "5948 수뽑기와 정렬"
   ]
  },
  {
   "cell_type": "code",
   "execution_count": null,
   "metadata": {},
   "outputs": [],
   "source": [
    "7개 수입력, 3개씩 더한 수중 5번째로 큰수\n",
    "\n",
    "> 1. 7개 수 입력 받아 크기순 정렬\n",
    "> 2. 최대 3개 합 구함 summax\n",
    "> 3. summax 3개와 그보다 작은수x의 차 3개씩을, x를 1씩 줄여가며 4번째로 작은 차이를 구함\n",
    "> 4. summax -3의해"
   ]
  },
  {
   "cell_type": "code",
   "execution_count": 12,
   "metadata": {},
   "outputs": [
    {
     "name": "stdout",
     "output_type": "stream",
     "text": [
      "2\n",
      "1 2 3 4 5 6 7\n",
      "#1 14\n",
      "5 24 99 76 1 77 6\n",
      "#2 181\n"
     ]
    }
   ],
   "source": [
    "for i in range(int(input())) :\n",
    "    Testlist = list(map(int,input().split()))\n",
    "    Testlist.sort()\n",
    "    summax = 0 \n",
    "    Temlist = []\n",
    "    key_list = []\n",
    "    \n",
    "    for j in range(3) :\n",
    "        bit = Testlist.pop(-1)\n",
    "        Temlist.append(bit)\n",
    "        summax += bit\n",
    "        \n",
    "    for t in range(4) :\n",
    "        for k in range(3) :\n",
    "            key_list.append(Temlist[k]-Testlist[t])\n",
    "            \n",
    "    key_list = list(set(key_list))\n",
    "    key_list.sort()\n",
    "    summax -= key_list[3]\n",
    "    \n",
    "    print(\"#\"+str(i+1),summax)\n",
    "    \n",
    "        "
   ]
  },
  {
   "cell_type": "markdown",
   "metadata": {},
   "source": [
    "# 1206  \n",
    "\n",
    "좌우 2개의 건물보다 높다면 그 층수 차이만큼 조명권 확보 층이 된다.\n",
    "\n",
    "> 1. 건물층수만큼 list생성 빈땅은 0이다. [2]부터 5개씩 앞2 뒤2 읽어서 templist를 생성한다. \n",
    "> 2. if max가 가운데면 실행 아니면 버림 되면 3.으로 넘긴다.\n",
    "> 3. max값과 나머지값들의 차이를 모두 계산 최대값을 층수로 한다."
   ]
  },
  {
   "cell_type": "code",
   "execution_count": null,
   "metadata": {},
   "outputs": [],
   "source": [
    "for test in range(10):\n",
    "    num = int(input())\n",
    "    gimlist = list(map(int,input().split()))\n",
    "    kensum = 0\n",
    "    for i in range(2,len(gimlist)-2):\n",
    "        templist = []\n",
    "        templist.append(gimlist[i-1])\n",
    "        templist.append(gimlist[i-2])\n",
    "        templist.append(gimlist[i])\n",
    "        templist.append(gimlist[i+1])\n",
    "        templist.append(gimlist[i+2])\n",
    "        \n",
    "        if max(templist) == templist[2] :\n",
    "            tempmax = templist[2]\n",
    "            for j in range(5) :\n",
    "                templist[j] = tempmax - templist[j]\n",
    "            templist[2] = tempmax\n",
    "            kensum += min(templist)\n",
    "        else :\n",
    "            continue\n",
    "            \n",
    "    print(\"#\"+str(test+1),kensum)"
   ]
  },
  {
   "cell_type": "markdown",
   "metadata": {},
   "source": [
    "# 1244\n",
    "\n",
    "> 오답 3케이스를 넘지 못합니다.\n",
    "\n",
    "> BFS로 3케이스 중심 순간 탐색 풀이가 필요해요\n"
   ]
  },
  {
   "cell_type": "code",
   "execution_count": 12,
   "metadata": {
    "scrolled": true
   },
   "outputs": [
    {
     "name": "stdout",
     "output_type": "stream",
     "text": [
      "3\n",
      "123 1\n",
      "#1 321\n",
      "2737 1\n",
      "#2 7732\n",
      "32888 2\n",
      "#3 88823\n"
     ]
    }
   ],
   "source": [
    "def BFS(index) :\n",
    "    global listset\n",
    "    before = []\n",
    "    g = []\n",
    "    visitmax = []\n",
    "    visitmin = []\n",
    "    \n",
    "    for i in range(index) :\n",
    "        before.append(listset.pop(0))\n",
    "        \n",
    "    bit = listset.pop(0)\n",
    "    \n",
    "    indec = [w for w in range(len(listset)) if listset[w]==max(listset)]\n",
    "    \n",
    "    for j in range(len(listset)) :\n",
    "        if j < indec[-1] :\n",
    "            visitmax.append(listset[j])\n",
    "        else :\n",
    "            visitmin.append(listset[j])\n",
    "            \n",
    "    visitmax.append(bit)\n",
    "    g.append(visitmin.pop(0))\n",
    "    listset = before +g+visitmax+visitmin\n",
    "    \n",
    "    \n",
    "for i in range(int(input())):\n",
    "    inputint, cnt = map(int,input().split())\n",
    "    listset = list(str(inputint))\n",
    "    listset = [int(x) for x in listset]\n",
    "    maxlist = sorted(listset, reverse=True)\n",
    "    k = 0\n",
    "    while True  :        \n",
    "        if listset == maxlist:\n",
    "            if k == cnt :\n",
    "                listset = [str(x) for x in listset]\n",
    "                print(\"#\"+str(i+1),\"\".join(listset))\n",
    "                break\n",
    "            else :\n",
    "                if (cnt-k)%2==0 :\n",
    "                    listset = [str(x) for x in listset]\n",
    "                    print(\"#\"+str(i+1),\"\".join(listset))\n",
    "                    break\n",
    "                else :\n",
    "                    bit = listset[len(listset)-1]\n",
    "                    listset[len(listset)-1] = listset[len(listset)-2]\n",
    "                    listset[len(listset)-2] = bit\n",
    "                    listset = [str(x) for x in listset]\n",
    "                    print(\"#\"+str(i+1),\"\".join(listset))\n",
    "                    break\n",
    "        else :\n",
    "            if k== cnt :\n",
    "                listset = [str(x) for x in listset]\n",
    "                print(\"#\"+str(i+1),\"\".join(listset))\n",
    "                break\n",
    "            else :\n",
    "                for z in range(k,len(listset)):\n",
    "                    if listset[z] != maxlist[z] :\n",
    "                        BFS(z)\n",
    "                k+=1\n",
    "                \n",
    "                \n",
    "\n"
   ]
  },
  {
   "cell_type": "markdown",
   "metadata": {},
   "source": [
    "# 1208 덤프\n",
    "\n",
    "> 답이 차수이니 차수만 집중해보았다."
   ]
  },
  {
   "cell_type": "code",
   "execution_count": 8,
   "metadata": {},
   "outputs": [
    {
     "name": "stdout",
     "output_type": "stream",
     "text": [
      "727\n",
      "70 79 60 9 20 72 4 46 82 5 93 86 14 99 90 23 39 38 11 62 35 9 62 60 94 16 70 38 70 59 1 72 65 18 16 56 16 31 40 13 89 83 55 86 11 85 75 81 16 52 42 16 80 11 99 74 89 78 33 57 90 14 9 42 91 24 64 29 85 79 1 72 86 75 72 34 68 54 96 69 26 77 30 51 99 10 94 87 81 17 50 68 29 80 65 22 6 27 17 17 \n",
      "#0 29\n"
     ]
    }
   ],
   "source": [
    "for j in range(1) :\n",
    "    num = int(input())\n",
    "    Testlist = list(map(int,input().split()))\n",
    "    for i in range(num) :\n",
    "        Testlist.sort()\n",
    "        Testlist[-1] -=1\n",
    "        Testlist[0] +=1\n",
    "    Testlist.sort()\n",
    "    print(\"#\"+str(j),Testlist[-1]-Testlist[0])"
   ]
  },
  {
   "cell_type": "code",
   "execution_count": 5,
   "metadata": {},
   "outputs": [
    {
     "name": "stdout",
     "output_type": "stream",
     "text": [
      "727\n",
      "70 79 60 9 20 72 4 46 82 5 93 86 14 99 90 23 39 38 11 62 35 9 62 60 94 16 70 38 70 59 1 72 65 18 16 56 16 31 40 13 89 83 55 86 11 85 75 81 16 52 42 16 80 11 99 74 89 78 33 57 90 14 9 42 91 24 64 29 85 79 1 72 86 75 72 34 68 54 96 69 26 77 30 51 99 10 94 87 81 17 50 68 29 80 65 22 6 27 17 17 \n",
      "T 100\n",
      "#0 28\n"
     ]
    }
   ],
   "source": [
    "for j in range(1) :\n",
    "    num = int(input())\n",
    "    Testlist = list(map(int,input().split()))\n",
    "    Testlist.sort()\n",
    "    memolist = []\n",
    "    \n",
    "    for i in range(len(Testlist)//2) :\n",
    "        memolist.append(Testlist[len(Testlist)-1-i]-Testlist[i])\n",
    "    for i in range(num) :\n",
    "        memolist.sort()\n",
    "        memolist[-1] -=2\n",
    "        \n",
    "    print(\"#\"+str(j),max(memolist))\n",
    "    \n",
    "    "
   ]
  }
 ],
 "metadata": {
  "kernelspec": {
   "display_name": "Python 3",
   "language": "python",
   "name": "python3"
  },
  "language_info": {
   "codemirror_mode": {
    "name": "ipython",
    "version": 3
   },
   "file_extension": ".py",
   "mimetype": "text/x-python",
   "name": "python",
   "nbconvert_exporter": "python",
   "pygments_lexer": "ipython3",
   "version": "3.7.3"
  }
 },
 "nbformat": 4,
 "nbformat_minor": 2
}
