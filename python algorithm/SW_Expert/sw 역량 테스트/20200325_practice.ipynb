{
 "cells": [
  {
   "cell_type": "code",
   "execution_count": 23,
   "metadata": {
    "scrolled": true
   },
   "outputs": [
    {
     "name": "stdout",
     "output_type": "stream",
     "text": [
      "1\n",
      "5\n",
      "abs\n",
      "aas\n",
      "x\n",
      "bb\n",
      "aaa\n",
      "#1\n",
      "x\n",
      "bb\n",
      "aaa\n",
      "aas\n",
      "abs\n"
     ]
    }
   ],
   "source": [
    "from operator import itemgetter\n",
    "for i in range(int(input())) :\n",
    "    li = []\n",
    "    for j in range(int(input())) :\n",
    "        temp = input()\n",
    "        li.append((temp,len(temp)))\n",
    "    #중복 막기\n",
    "    li = list(set(li)) \n",
    "    # 같은 길이일 경우 사전 순 정렬\n",
    "    li = sorted(li,key = lambda x : (x[1],x[0]))\n",
    "    print(\"#\"+str(i+1))\n",
    "    for k in range(len(li)) :\n",
    "        print(li[k][0])\n",
    "    "
   ]
  },
  {
   "cell_type": "code",
   "execution_count": 21,
   "metadata": {
    "scrolled": true
   },
   "outputs": [
    {
     "name": "stdout",
     "output_type": "stream",
     "text": [
      "1\n",
      "5\n",
      "ans\n",
      "aa\n",
      "p\n",
      "xemp\n",
      "bb\n",
      "#1\n",
      "p\n",
      "aa\n",
      "bb\n",
      "ans\n",
      "xemp\n"
     ]
    }
   ],
   "source": [
    "count = 1 \n",
    "loop_num = int(input()) \n",
    "for i in range(loop_num): \n",
    "    input_num = int(input()) \n",
    "    input_str_list = [] \n",
    "    for i in range(input_num): \n",
    "        string = str(input()) \n",
    "        input_str_list.append((string, len(string))) \n",
    "        # print(input_str_list) \n",
    "    input_str_list = list(set(input_str_list)) \n",
    "    sorted_str_list = sorted(input_str_list, key = lambda x : (x[1], x[0])) \n",
    "        # print(sorted_str_list) \n",
    "    print(\"#{}\".format(count)) \n",
    "    for i in range(len(sorted_str_list)): \n",
    "        print(sorted_str_list[i][0]) \n",
    "    count = count + 1\n",
    "\n"
   ]
  },
  {
   "cell_type": "code",
   "execution_count": null,
   "metadata": {},
   "outputs": [],
   "source": []
  }
 ],
 "metadata": {
  "kernelspec": {
   "display_name": "Python 3",
   "language": "python",
   "name": "python3"
  },
  "language_info": {
   "codemirror_mode": {
    "name": "ipython",
    "version": 3
   },
   "file_extension": ".py",
   "mimetype": "text/x-python",
   "name": "python",
   "nbconvert_exporter": "python",
   "pygments_lexer": "ipython3",
   "version": "3.7.3"
  }
 },
 "nbformat": 4,
 "nbformat_minor": 2
}
