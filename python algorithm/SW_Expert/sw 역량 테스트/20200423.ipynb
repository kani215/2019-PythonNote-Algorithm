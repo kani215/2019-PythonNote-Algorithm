{
 "cells": [
  {
   "cell_type": "markdown",
   "metadata": {},
   "source": [
    "# 3009"
   ]
  },
  {
   "cell_type": "code",
   "execution_count": 6,
   "metadata": {},
   "outputs": [
    {
     "name": "stdout",
     "output_type": "stream",
     "text": [
      "30 20\n",
      "10 10\n",
      "10 20\n",
      "30 10\n"
     ]
    }
   ],
   "source": [
    "x = []\n",
    "y = []\n",
    "\n",
    "for i in range(3) :\n",
    "    x1, y1 = map(int,input().split())\n",
    "    x.append(x1)\n",
    "    y.append(y1)\n",
    "x.sort()\n",
    "y.sort()\n",
    "ans_x = 0\n",
    "ans_y = 0\n",
    "if x[0] == x[1] :\n",
    "    ans_x = x[2]\n",
    "    \n",
    "else :\n",
    "    ans_x = x[0]\n",
    "    \n",
    "if y[0] == y[1] :\n",
    "    ans_y = y[2]\n",
    "    \n",
    "else :\n",
    "    ans_y = y[0]\n",
    "    \n",
    "print(\"%d %d\" % (ans_x, ans_y))\n",
    "    "
   ]
  },
  {
   "cell_type": "markdown",
   "metadata": {},
   "source": [
    "# 1085"
   ]
  },
  {
   "cell_type": "code",
   "execution_count": 7,
   "metadata": {},
   "outputs": [
    {
     "name": "stdout",
     "output_type": "stream",
     "text": [
      "6 2 10 3\n",
      "1\n"
     ]
    }
   ],
   "source": [
    "lista = list(map(int,input().split()))\n",
    "\n",
    "lista[2] -= lista[0]\n",
    "lista[3] -= lista[1]\n",
    "\n",
    "print(min(lista))\n",
    "\n"
   ]
  },
  {
   "cell_type": "markdown",
   "metadata": {},
   "source": [
    "# 4153"
   ]
  },
  {
   "cell_type": "code",
   "execution_count": 10,
   "metadata": {
    "scrolled": true
   },
   "outputs": [
    {
     "name": "stdout",
     "output_type": "stream",
     "text": [
      "6 8 10\n",
      "right\n",
      "25 52 60\n",
      "wrong\n",
      "5 12 13\n",
      "right\n",
      "0 0 0\n"
     ]
    }
   ],
   "source": [
    "while True :\n",
    "    templist = list(map(int,input().split()))\n",
    "    if templist == [0,0,0] :\n",
    "        break\n",
    "        \n",
    "    templist.sort()\n",
    "    if templist[2] **2 == templist[1]**2 + templist[0]**2 :\n",
    "        print(\"right\")\n",
    "    else :\n",
    "        print(\"wrong\")"
   ]
  },
  {
   "cell_type": "markdown",
   "metadata": {},
   "source": [
    "# 4948"
   ]
  },
  {
   "cell_type": "code",
   "execution_count": 8,
   "metadata": {},
   "outputs": [
    {
     "data": {
      "text/plain": [
       "[0, 1, 2, 3, 4]"
      ]
     },
     "execution_count": 8,
     "metadata": {},
     "output_type": "execute_result"
    }
   ],
   "source": [
    "li = [x for x in range(10)]\n",
    "li[5:]\n",
    "li[:5]"
   ]
  },
  {
   "cell_type": "code",
   "execution_count": 21,
   "metadata": {},
   "outputs": [
    {
     "name": "stdout",
     "output_type": "stream",
     "text": [
      "100000\n",
      "8392\n",
      "0\n"
     ]
    }
   ],
   "source": [
    "while True :\n",
    "    n = int(input())\n",
    "    if n == 0 :\n",
    "        break\n",
    "        \n",
    "    li = [0,0] + [1]* (2*n-1)\n",
    "    \n",
    "    for i in range(2,n+1) :\n",
    "        if li[i] == 1:\n",
    "            for j in range(i,n+1) :\n",
    "                if i*j > 2*n :\n",
    "                    break\n",
    "                li[i*j] =0\n",
    "    print(sum(li[n+1:]))    "
   ]
  },
  {
   "cell_type": "markdown",
   "metadata": {},
   "source": [
    "# 9020 골드바흐의 추측"
   ]
  },
  {
   "cell_type": "code",
   "execution_count": 15,
   "metadata": {
    "scrolled": false
   },
   "outputs": [
    {
     "name": "stdout",
     "output_type": "stream",
     "text": [
      "3\n",
      "8\n",
      "3 5\n",
      "10\n",
      "5 5\n",
      "16\n",
      "5 11\n"
     ]
    }
   ],
   "source": [
    "for i in range(int(input())) :\n",
    "    n = int(input())\n",
    "    li = [0,0] + [1]* (2*n-1)\n",
    "    \n",
    "    for i in range(2,n+1) :\n",
    "        if li[i] == 1:\n",
    "            for j in range(i,n+1) :\n",
    "                if i*j > 2*n :\n",
    "                    break\n",
    "                li[i*j] =0\n",
    "                \n",
    "    ans_list = []\n",
    "    for k in range((len(li[:n])//2)+1) :\n",
    "        if li[k] and li[n-k] :\n",
    "            ans_list.append((k,n-k))\n",
    "    y,u = ans_list.pop(-1)\n",
    "    print(\"%d %d\"%(y,u))    \n"
   ]
  },
  {
   "cell_type": "markdown",
   "metadata": {},
   "source": [
    "# 체스판 다시 칠하기"
   ]
  },
  {
   "cell_type": "code",
   "execution_count": 32,
   "metadata": {
    "scrolled": false
   },
   "outputs": [
    {
     "name": "stdout",
     "output_type": "stream",
     "text": [
      "10 13\n",
      "BBBBBBBBWBWBW\n",
      "BBBBBBBBBWBWB\n",
      "BBBBBBBBWBWBW\n",
      "BBBBBBBBBWBWB\n",
      "BBBBBBBBWBWBW\n",
      "BBBBBBBBBWBWB\n",
      "BBBBBBBBWBWBW\n",
      "BBBBBBBBBWBWB\n",
      "WWWWWWWWWWBWB\n",
      "WWWWWWWWWWBWB\n",
      "45\n"
     ]
    }
   ],
   "source": [
    "h,w = map(int,input().split())\n",
    "# 가로 세로\n",
    "\n",
    "li = [0 for i in range(h)]\n",
    "for i in range(h) :\n",
    "    li[i] = list(input())\n",
    "            \n",
    "C]\n"
   ]
  },
  {
   "cell_type": "code",
   "execution_count": null,
   "metadata": {},
   "outputs": [],
   "source": [
    "h,w = map(int,input().split())\n",
    "# 가로 세로\n",
    "\n",
    "li = [0 for i in range(h)]\n",
    "for i in range(h) :\n",
    "    li[i] = list(input())\n",
    "    \n",
    "ans_list = []    \n",
    "for p in range(h-8) :\n",
    "    for q in range(w-8) :\n",
    "        \n",
    "    "
   ]
  },
  {
   "cell_type": "markdown",
   "metadata": {},
   "source": [
    "# 1436"
   ]
  },
  {
   "cell_type": "code",
   "execution_count": 3,
   "metadata": {},
   "outputs": [
    {
     "name": "stdout",
     "output_type": "stream",
     "text": [
      "11\n",
      "10666\n"
     ]
    }
   ],
   "source": [
    "al = [1,10, 100, 1000, 10000]\n",
    "b1 = [1,9,90,900,9000]\n",
    "p = \"666\"\n",
    "shop = int(input())\n",
    "\n",
    "shop -= 1\n",
    "shop = str(shop)\n",
    "\n",
    "print(shop + p)"
   ]
  }
 ],
 "metadata": {
  "kernelspec": {
   "display_name": "Python 3",
   "language": "python",
   "name": "python3"
  },
  "language_info": {
   "codemirror_mode": {
    "name": "ipython",
    "version": 3
   },
   "file_extension": ".py",
   "mimetype": "text/x-python",
   "name": "python",
   "nbconvert_exporter": "python",
   "pygments_lexer": "ipython3",
   "version": "3.7.6"
  }
 },
 "nbformat": 4,
 "nbformat_minor": 4
}
