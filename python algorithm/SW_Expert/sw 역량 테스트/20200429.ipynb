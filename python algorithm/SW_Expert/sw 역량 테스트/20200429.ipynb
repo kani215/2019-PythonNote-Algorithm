{
 "cells": [
  {
   "cell_type": "code",
   "execution_count": 16,
   "metadata": {
    "scrolled": true
   },
   "outputs": [
    {
     "name": "stdout",
     "output_type": "stream",
     "text": [
      "9\n",
      "7 3\n",
      "7\n",
      "1 2\n",
      "1 3\n",
      "2 7\n",
      "2 8\n",
      "2 9\n",
      "4 5\n",
      "4 6\n"
     ]
    }
   ],
   "source": [
    "from collections import deque\n",
    "def DFS(st) :\n",
    "    temp = [st]\n",
    "    deque2 = deque(temp)\n",
    "    switch = 0 \n",
    "    while deque2 :\n",
    "        x , cnt = deque2.pop()\n",
    "        for i in range(people+1) :\n",
    "            if graph[x][i] == 1:\n",
    "                if i == end :\n",
    "                    switch = 1\n",
    "                    break\n",
    "                else :\n",
    "                    cnt2 = cnt + 1 \n",
    "                    deque2.append((i,cnt2))\n",
    "                    graph[x][i] = 0\n",
    "        \n",
    "# 1. 입력-------------------\n",
    "people = int(input())\n",
    "# 그래프 0 추가해서 원래 수로 잡고 싶어요 \n",
    "graph = [[0]*(people+1) for _ in range(people+1)]\n",
    "\n",
    "start, end = map(int,input().split())\n",
    "for k in range(int(input())) :\n",
    "    m,n = map(int,input().split())\n",
    "    graph[m][n] = 1\n",
    "    graph[n][m] = 1\n",
    "\n",
    "DFS((start,0))\n"
   ]
  },
  {
   "cell_type": "markdown",
   "metadata": {},
   "source": [
    "# 촌수 계산"
   ]
  },
  {
   "cell_type": "code",
   "execution_count": 25,
   "metadata": {},
   "outputs": [
    {
     "name": "stdout",
     "output_type": "stream",
     "text": [
      "9\n",
      "7 4\n",
      "7\n",
      "1 2\n",
      "1 3\n",
      "2 7\n",
      "2 8\n",
      "2 9\n",
      "4 5\n",
      "4 6\n",
      "-1\n"
     ]
    }
   ],
   "source": [
    "# 2. 함수 작성 DFS로 합니다.\n",
    "from collections import deque\n",
    "def DFS(st) :\n",
    "    temp = [st]\n",
    "    deque2 = deque(temp)\n",
    "    switch = 0 \n",
    "    temp2 = 0 \n",
    "    while deque2 :\n",
    "        x , cnt = deque2.pop() \n",
    "        for i in range(people+1) :\n",
    "            if graph[x][i] == 1:\n",
    "                cnt2 = cnt + 1 \n",
    "                if i == end :\n",
    "                    switch = 1\n",
    "                    cnt = cnt2\n",
    "                    temp2 = i\n",
    "                    break\n",
    "                else :\n",
    "                    deque2.append((i,cnt2))\n",
    "                    graph[x][i] = 0\n",
    "        if switch == 1 :\n",
    "            break\n",
    "            \n",
    "    if temp2 != end :\n",
    "        return -1\n",
    "    else :\n",
    "        return cnt\n",
    "        \n",
    "\n",
    "# 1. 입력-------------------\n",
    "people = int(input())\n",
    "# 그래프 0 추가해서 원래 수로 잡고 싶어요 \n",
    "graph = [[0]*(people+1) for _ in range(people+1)]\n",
    "\n",
    "start, end = map(int,input().split())\n",
    "for k in range(int(input())) :\n",
    "    m,n = map(int,input().split())\n",
    "    graph[m][n] = 1\n",
    "    graph[n][m] = 1\n",
    "\n",
    "print(DFS((start,0)))\n",
    "        \n",
    "        "
   ]
  },
  {
   "cell_type": "markdown",
   "metadata": {},
   "source": [
    "# 7569 3차원 DFS"
   ]
  },
  {
   "cell_type": "markdown",
   "metadata": {},
   "source": [
    "## 3차원 리스트에 대한 지식이 없기에 \n",
    "numpy배열법 이외의 리스트 n차원 구축에 대해 공부해 옵니다."
   ]
  },
  {
   "cell_type": "code",
   "execution_count": 9,
   "metadata": {},
   "outputs": [
    {
     "name": "stdout",
     "output_type": "stream",
     "text": [
      "9\n"
     ]
    }
   ],
   "source": [
    "li = [[[1,2,3],[4,5,6]],[[7,8,9],[10,11,12]]]\n",
    "print(li[1][0][2])"
   ]
  },
  {
   "cell_type": "code",
   "execution_count": 13,
   "metadata": {},
   "outputs": [
    {
     "name": "stdout",
     "output_type": "stream",
     "text": [
      "4 3 2\n",
      "1 1 1 1\n",
      "1 1 1 1\n",
      "1 1 1 1\n",
      "1 1 1 1\n",
      "-1 -1 -1 -1\n",
      "1 1 1 -1\n",
      "0\n"
     ]
    }
   ],
   "source": [
    "from collections import deque\n",
    "\n",
    "# 2. 함수 설계 ---------------------------\n",
    "def BFS(*start) :\n",
    "    global graph \n",
    "    temp = [*start]\n",
    "    deque2 = deque(temp)\n",
    "    cnt = 0\n",
    "    while deque2 : \n",
    "        x , y, z, cnt = deque2.popleft()\n",
    "        for i in range(6) :\n",
    "            nx = x + dx[i]\n",
    "            ny = y + dy[i]\n",
    "            nz = z + dz[i]\n",
    "            if 0 <= ny and 0 <= nx and 0<=nz and nz < h and ny < m and nx < n:\n",
    "                if graph[nz][nx][ny] == 0  :\n",
    "                    cnt2 = cnt +1\n",
    "                    deque2.append((nx,ny,nz, cnt2))\n",
    "                    graph[nz][nx][ny] = 1\n",
    "\n",
    "    switch = 0\n",
    "    for r in range(h) :\n",
    "        for u in range(n):\n",
    "            for v in range(m):\n",
    "                if graph[r][u][v] == 0 :\n",
    "                    switch = 1\n",
    "    if switch == 0 :        \n",
    "        return cnt\n",
    "    else :       \n",
    "        return -1\n",
    "\n",
    "    \n",
    "# 1. 값의 입력 ---------------------------\n",
    "m, n, h  = map(int, input().split())\n",
    "dx = [0,0,-1,1,0,0]\n",
    "dy = [-1,1,0,0,0,0]\n",
    "dz = [0,0,0,0,-1,1]\n",
    "graph = []\n",
    "\n",
    "for u in range(h) :\n",
    "    temp = [0] * n\n",
    "    for i in range(n) :\n",
    "        temp[i] = list(map(int,input().split()))\n",
    "    graph.append(temp)\n",
    "    \n",
    "# 3 . 출력 -------------------------------\n",
    "\n",
    "rem = []\n",
    "for o in range(h) :\n",
    "    for j in range(n):\n",
    "        for k in range(m):\n",
    "            if graph[o][j][k] == 1 :\n",
    "                rem.append((j,k,o,0))\n",
    "print(BFS(*rem))"
   ]
  }
 ],
 "metadata": {
  "kernelspec": {
   "display_name": "Python 3",
   "language": "python",
   "name": "python3"
  },
  "language_info": {
   "codemirror_mode": {
    "name": "ipython",
    "version": 3
   },
   "file_extension": ".py",
   "mimetype": "text/x-python",
   "name": "python",
   "nbconvert_exporter": "python",
   "pygments_lexer": "ipython3",
   "version": "3.7.6"
  }
 },
 "nbformat": 4,
 "nbformat_minor": 4
}
