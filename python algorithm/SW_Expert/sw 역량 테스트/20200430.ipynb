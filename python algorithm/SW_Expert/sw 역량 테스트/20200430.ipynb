{
 "cells": [
  {
   "cell_type": "markdown",
   "metadata": {},
   "source": [
    "# 14503 로봇 청소기\n",
    "\n",
    "input 청소기 수\n",
    "output 청소하는 영역의 수\n",
    "\n",
    "청소기는 방향이 존재,\n",
    "\n",
    "지도의 각 칸은 (r,c)\n",
    "\n",
    "1. 지금 청소\n",
    "2. 왼쪽방향부터 탐색\n",
    "3. 왼쪽 없으면 왼쪽 회전\n",
    "4. 4방향 모두 개끗할 시 바라보는 방향 유지 뒤로 한칸 후진 \n",
    "4. 단 뒤 벽이면 정지 "
   ]
  },
  {
   "cell_type": "code",
   "execution_count": null,
   "metadata": {},
   "outputs": [],
   "source": [
    "\n",
    "1 1 1 1 1 1 1 1 1 1\n",
    "1 0 0 0 0 0 0 0 0 1\n",
    "1 0 0 0 1 1 1 1 0 1\n",
    "1 0 0 1 1 0 0 0 0 1\n",
    "1 0 1 1 0 0 0 0 0 1\n",
    "1 0 0 0 0 0 0 0 0 1\n",
    "1 0 0 0 0 * * 1 0 1\n",
    "1 0 0 0 * * 1 1 0 1\n",
    "1 0 0 0 * * 1 1 0 1\n",
    "1 0 0 0 0 * * 0 0 1\n",
    "1 1 1 1 1 1 1 1 1 1"
   ]
  },
  {
   "cell_type": "markdown",
   "metadata": {},
   "source": [
    "방향이 있으니 주의해가며 DFS 탐색 하는 수를 사용하겠습니다.\n",
    "\n",
    "cnt 도 세어야 하는 군요\n",
    "\n"
   ]
  },
  {
   "cell_type": "code",
   "execution_count": 34,
   "metadata": {},
   "outputs": [
    {
     "name": "stdout",
     "output_type": "stream",
     "text": [
      "deque([1, 2])\n"
     ]
    },
    {
     "data": {
      "text/plain": [
       "2"
      ]
     },
     "execution_count": 34,
     "metadata": {},
     "output_type": "execute_result"
    }
   ],
   "source": [
    "from collections import deque\n",
    "\n",
    "deque3 = deque()\n",
    "deque3.append(1)\n",
    "deque3.append(2)\n",
    "\n",
    "print(deque3)\n",
    "a = deque3.pop()\n",
    "a"
   ]
  },
  {
   "cell_type": "code",
   "execution_count": 19,
   "metadata": {},
   "outputs": [
    {
     "name": "stdout",
     "output_type": "stream",
     "text": [
      "0\n"
     ]
    }
   ],
   "source": [
    "li = [1,2,3,4]\n",
    "x = 0\n",
    "\n",
    "li.pop()"
   ]
  },
  {
   "cell_type": "code",
   "execution_count": 10,
   "metadata": {},
   "outputs": [
    {
     "name": "stdout",
     "output_type": "stream",
     "text": [
      "6 6\n",
      "2 1 3\n",
      "1 1 1 1 1 1\n",
      "1 0 0 0 0 1\n",
      "1 0 1 1 1 1\n",
      "1 0 1 1 1 1\n",
      "1 0 1 1 1 1\n",
      "1 1 1 1 1 1\n",
      "cnt 3 l2 3\n",
      "cnt 3 l2 3\n",
      "cnt 7 l2 0\n",
      "cnt 7 l2 0\n",
      "cnt 7 l2 0\n",
      "cnt 7 l2 0\n",
      "7\n"
     ]
    }
   ],
   "source": [
    "from collections import deque\n",
    "# 2. DFS 구축 -------------------------- \n",
    "def DFS(start) :\n",
    "    global graph\n",
    "    deque2 = deque()\n",
    "    deque2.append(start)\n",
    "    shut = 0\n",
    "    cnt = 0\n",
    "    while deque2 :\n",
    "        if shut == 1 :\n",
    "            break\n",
    "        switch = 0\n",
    "        x, y, l = deque2.pop() \n",
    "        if graph[x][y] == 0 :\n",
    "            graph[x][y] = 2\n",
    "            cnt += 1\n",
    "        for i in range(l,l+4) :\n",
    "            nx = x + dx[i]\n",
    "            ny = y + dy[i]\n",
    "            l = dL[l+1]\n",
    "            if 0 <= nx and 0 <=ny and nx <m and ny <n and graph[nx][ny] == 0:\n",
    "                switch = 1\n",
    "                deque2.append((nx,ny,l))\n",
    "                break\n",
    "        \n",
    "        # 후진 \n",
    "        if switch == 0:\n",
    "            l2 = backdL[l]\n",
    "            if graph[x+dx[l2]][y+dy[l2]] != 1 : \n",
    "                deque2.append((x+dx[l2],y+dy[l2],l))\n",
    "            else :\n",
    "                shut = 1\n",
    "    return cnt\n",
    "                \n",
    "                \n",
    "                \n",
    "# 1. 입력 -----------------------------------\n",
    "m,n = map(int,input().split()) \n",
    "# m 세로\n",
    "r,c,L = map(int,input().split())\n",
    "dx = [0,1,0,-1,0,1,0,-1]\n",
    "dy = [-1,0,1,0,-1,0,1,0] # 시계회전 \n",
    "dL = [0,1,2,3] * 5000 #북0 서1 남2 동3\n",
    "backdL = [1,2,3,0]\n",
    "# L은 북0 서3 남2 동1\n",
    "if L == 3 :\n",
    "    L =1\n",
    "elif L == 1 :\n",
    "    L =3\n",
    "    \n",
    "graph = [0] * m\n",
    "for i in range(m) :\n",
    "    graph[i] = list(map(int, input().split()))\n",
    "    \n",
    "print(DFS((r,c,L)))"
   ]
  }
 ],
 "metadata": {
  "kernelspec": {
   "display_name": "Python 3",
   "language": "python",
   "name": "python3"
  },
  "language_info": {
   "codemirror_mode": {
    "name": "ipython",
    "version": 3
   },
   "file_extension": ".py",
   "mimetype": "text/x-python",
   "name": "python",
   "nbconvert_exporter": "python",
   "pygments_lexer": "ipython3",
   "version": "3.7.6"
  }
 },
 "nbformat": 4,
 "nbformat_minor": 4
}
