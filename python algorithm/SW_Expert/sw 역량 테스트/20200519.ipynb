{
 "cells": [
  {
   "cell_type": "markdown",
   "metadata": {},
   "source": [
    "# 5014 번 dfs\n",
    "\n",
    "DP 로 풀이하는 와리가리 형 탐색 문제\n",
    "\n",
    "u칸 위로 D칸 아래로 움직일때 \n",
    "\n",
    "최소 횟수 탐색?\n",
    "\n",
    "이건 완전 탐색형 문제 아니었나...\n",
    "\n",
    "\n",
    "완전 탐색적 풀이\n",
    "\n",
    "시작점 + U*최대치 를 D씩 내려간다.\n",
    "\n",
    "잠깐 \n",
    "\n",
    "U와 -D 조합 = 칸수를 판별 // 불가시 use the stair\n",
    "U 4개 + D 3개\n",
    "\n",
    "중복 불가능한 줄세우기 조합\n",
    "UUUUDDD\n",
    "UUUDDDU\n",
    "UUDDDUU\n"
   ]
  },
  {
   "cell_type": "markdown",
   "metadata": {},
   "source": [
    "BFS 로 이런 식을 구현할 수 있을까?\n",
    "\n",
    "        U\n",
    "시작 < \n",
    "        -D\n",
    "             식으로 이분법 되는 상황이기에\n",
    "             \n",
    "허나 DP문제 특유의 무한 루프는 어떻게 처리할 거냐\n"
   ]
  },
  {
   "cell_type": "code",
   "execution_count": 3,
   "metadata": {},
   "outputs": [
    {
     "name": "stdout",
     "output_type": "stream",
     "text": [
      "10 1 10 2 1\n",
      "6\n"
     ]
    }
   ],
   "source": [
    "from collections import deque\n",
    "# 2. BFS --------------------------------------------------\n",
    "def BFS(start) :\n",
    "    deque2 = deque()\n",
    "    deque2.append(start)\n",
    "    visit = [0 for _ in range(build)]\n",
    "    visit[start] = 1\n",
    "    while deque2:\n",
    "        x = deque2.popleft()\n",
    "        for i in range(2) :\n",
    "            nx = x + dx[i]\n",
    "            if 0 <= nx < build and visit[nx] == 0:\n",
    "                deque2.append(nx)\n",
    "                cnt_[nx] = cnt_[x] + 1\n",
    "                visit[nx] = 1\n",
    "    \n",
    "    \n",
    "# 1. 입력 --------------------------------------------------\n",
    "build, st, lo, u,d = map(int,input().split())\n",
    "# important idea \n",
    "# st 리스트를 만드는데 전부 -1까지 채워짐 여기 cnt할 예정 \n",
    "cnt_ = [-1 for i in range(build)]\n",
    "dx =[u,-d]\n",
    "cnt_[st-1] = 0 \n",
    "# count 해야 하니 시작점을 0으로 \n",
    "BFS(st-1)\n",
    "print(cnt_[lo-1] if cnt_[lo-1] != -1 else \"use the stairs\" )\n",
    "# -1이면 뱉는다."
   ]
  },
  {
   "cell_type": "code",
   "execution_count": 2,
   "metadata": {},
   "outputs": [
    {
     "name": "stdout",
     "output_type": "stream",
     "text": [
      "10 1 10 2 1\n",
      "6\n"
     ]
    }
   ],
   "source": [
    "from collections import deque\n",
    "def bfs(i):\n",
    "    q = deque()\n",
    "    q.append(i)\n",
    "    visit = [0 for i in range(f)]\n",
    "    visit[i] = 1\n",
    "    while q:\n",
    "        x = q.popleft()\n",
    "        for i in range(2):\n",
    "            nx = x + dire[i]\n",
    "            if 0 <= nx < f and visit[nx] == 0:\n",
    "                q.append(nx)\n",
    "                s_[nx] = s_[x] + 1\n",
    "                visit[nx] = 1\n",
    "f, s, g, u, d = map(int, input().split())\n",
    "s_ = [-1 for i in range(f)]\n",
    "dire = [u, -d]\n",
    "s_[s - 1] = 0\n",
    "bfs(s - 1)\n",
    "print(s_[g - 1] if s_[g - 1] != -1 else \"use the stairs\")"
   ]
  },
  {
   "cell_type": "code",
   "execution_count": 21,
   "metadata": {},
   "outputs": [
    {
     "data": {
      "text/plain": [
       "2"
      ]
     },
     "execution_count": 21,
     "metadata": {},
     "output_type": "execute_result"
    }
   ],
   "source": [
    "graph = [[0,9],[1,2],[3,7],[2,1]]\n",
    "max(graph[0])\n",
    "max(graph[1])"
   ]
  },
  {
   "cell_type": "code",
   "execution_count": 22,
   "metadata": {},
   "outputs": [
    {
     "name": "stdout",
     "output_type": "stream",
     "text": [
      "5\n",
      "1 1 1 1 1\n",
      "1 1 1 1 1\n",
      "1 1 1 1 1\n",
      "1 1 1 1 1\n",
      "1 1 1 1 1\n",
      "1\n"
     ]
    }
   ],
   "source": [
    "from collections import deque\n",
    "import copy\n",
    "def DFS(start,rainheight2) :\n",
    "    deque2 = deque()\n",
    "    deque2.append(start) \n",
    "    while deque2 :\n",
    "        x,y = deque2.pop()\n",
    "        for i in range(4) :\n",
    "            nx = x + dx[i]\n",
    "            ny = y + dy[i]\n",
    "            if 0 <= nx < rain and 0 <= ny < rain and graph2[nx][ny] > rainheight2 :\n",
    "                graph2[nx][ny] = -1\n",
    "                deque2.append((nx,ny))\n",
    "    return 1\n",
    "\n",
    "rain = int(input())\n",
    "graph = [0] * rain\n",
    "cnt = [1]\n",
    "dx = [0,0,-1,1]\n",
    "dy = [-1,1,0,0]\n",
    "max_ = [0]*rain\n",
    "for i in range(rain) :\n",
    "    graph[i] = list(map(int,input().split()))\n",
    "    max_[i] = max(graph[i])\n",
    "for rainheight in range(max(max_)+1) :\n",
    "    tempcnt = 0\n",
    "    graph2 = copy.deepcopy(graph)\n",
    "    for p in range(rain) :\n",
    "        for q in range(rain) :\n",
    "            if graph2[p][q] > rainheight :\n",
    "                tempcnt += DFS((p,q),rainheight)\n",
    "    cnt.append(tempcnt)\n",
    "print(max(cnt))"
   ]
  },
  {
   "cell_type": "code",
   "execution_count": null,
   "metadata": {},
   "outputs": [],
   "source": [
    "dx = [-1, 1, 0, 0]\n",
    "dy = [0, 0, -1, 1]\n",
    "\n",
    "def DFS(graph, visited, myStack, rain, N):\n",
    "    while (len(myStack) != 0):\n",
    "        y, x = myStack.pop()\n",
    "        for i in range(4):\n",
    "            new_x = x + dx[i]\n",
    "            new_y = y + dy[i]\n",
    "            if new_x >= 0 and new_x < N and new_y >= 0 and new_y < N:\n",
    "                if graph[new_y][new_x] > rain and (not visited[new_y][new_x]):\n",
    "                    visited[new_y][new_x] = True\n",
    "                    myStack.append((new_y, new_x))\n",
    "    return 0\n",
    "\n",
    "def getArea(graph, rain, N):\n",
    "    visited = [[False for _ in range(N)] for _ in range(N)]\n",
    "    area = 0\n",
    "    myStack = []\n",
    "    for i in range(N):\n",
    "        for j in range(N):\n",
    "            if (not visited[i][j]) and graph[i][j] > rain:\n",
    "                visited[i][j] = True\n",
    "                myStack.append((i, j))\n",
    "                DFS(graph, visited, myStack, rain, N)\n",
    "                area += 1\n",
    "    return area\n",
    "\n",
    "def solve(graph, minHeight, maxHeight, N):\n",
    "    maxArea = 0\n",
    "    for i in range(minHeight, maxHeight):\n",
    "        maxArea = max(maxArea, getArea(graph, i, N))\n",
    "    return maxArea\n",
    "\n",
    "\n",
    "def main():\n",
    "    N = int(input())\n",
    "    graph = []\n",
    "    minHeight = 101\n",
    "    maxHeight = 0\n",
    "    for i in range(N):\n",
    "        temp = []\n",
    "        inp = input().split()\n",
    "        for j in range(N):\n",
    "            temp_num = int(inp[j])\n",
    "            temp.append(temp_num)\n",
    "            if temp_num > maxHeight:\n",
    "                maxHeight = temp_num\n",
    "            elif temp_num < minHeight:\n",
    "                minHeight = temp_num\n",
    "        graph.append(temp)\n",
    "\n",
    "    if minHeight == maxHeight:\n",
    "        result = 1\n",
    "    else:\n",
    "        result = solve(graph, minHeight, maxHeight, N)\n",
    "    print(result)\n",
    "\n",
    "if __name__ == \"__main__\":\n",
    "    main()"
   ]
  }
 ],
 "metadata": {
  "kernelspec": {
   "display_name": "Python 3",
   "language": "python",
   "name": "python3"
  },
  "language_info": {
   "codemirror_mode": {
    "name": "ipython",
    "version": 3
   },
   "file_extension": ".py",
   "mimetype": "text/x-python",
   "name": "python",
   "nbconvert_exporter": "python",
   "pygments_lexer": "ipython3",
   "version": "3.7.6"
  }
 },
 "nbformat": 4,
 "nbformat_minor": 4
}
