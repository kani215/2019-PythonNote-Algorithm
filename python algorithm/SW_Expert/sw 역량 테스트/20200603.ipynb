{
 "cells": [
  {
   "cell_type": "markdown",
   "metadata": {},
   "source": [
    "###  13460 구슬 탈출2\n",
    "\n",
    "전형적 BFS 탐색 문제라 생각한다.\n",
    "\n",
    "구슬을 이동시켜 구멍에 넣을 최단 횟수\n",
    "\n",
    "10회 시행 후 안되면 out\n",
    "\n",
    "전체 탐색 "
   ]
  },
  {
   "cell_type": "code",
   "execution_count": 3,
   "metadata": {},
   "outputs": [
    {
     "name": "stdout",
     "output_type": "stream",
     "text": [
      "8 11\n"
     ]
    }
   ],
   "source": []
  },
  {
   "cell_type": "code",
   "execution_count": 6,
   "metadata": {},
   "outputs": [
    {
     "name": "stdout",
     "output_type": "stream",
     "text": [
      "3\n"
     ]
    }
   ],
   "source": [
    "a = 1\n",
    "b =2\n",
    "if 0<= a&b <=3 :\n",
    "    print(3)"
   ]
  },
  {
   "cell_type": "code",
   "execution_count": 15,
   "metadata": {},
   "outputs": [
    {
     "name": "stdout",
     "output_type": "stream",
     "text": [
      "3 7\n",
      "#######\n",
      "#R.O.B#\n",
      "#######\n",
      "[['#', '#', '#', '#', '#', '#', '#'], ['#', 'R', '.', 'O', '.', 'B', '#'], ['#', '#', '#', '#', '#', '#', '#']]\n",
      "[['#', '#', '#', '#', '#', '#', '#'], ['#', 'R', '.', 'O', '.', 'B', '#'], ['#', '#', '#', '#', '#', '#', '#']]\n",
      "[['#', 'R', '#', '#', '#', 'B', '#'], ['#', 'R', '.', 'O', '.', 'B', '#'], ['#', '#', '#', '#', '#', '#', '#']]\n",
      "[['#', 'R', '#', '#', '#', 'B', '#'], ['#', 'R', '.', 'O', '.', 'B', '#'], ['#', 'R', '#', '#', '#', 'B', '#']]\n",
      "[['#', 'R', '#', '#', '#', 'B', '#'], ['#', 'R', '.', 'O', '.', 'B', '#'], ['#', 'R', '#', '#', '#', 'B', '#']]\n",
      "[['R', 'R', '#', '#', 'B', 'B', '#'], ['#', 'R', '.', 'O', 'B', 'B', '#'], ['#', 'R', '#', '#', '#', 'B', '#']]\n"
     ]
    },
    {
     "ename": "IndexError",
     "evalue": "list index out of range",
     "output_type": "error",
     "traceback": [
      "\u001b[1;31m---------------------------------------------------------------------------\u001b[0m",
      "\u001b[1;31mIndexError\u001b[0m                                Traceback (most recent call last)",
      "\u001b[1;32m<ipython-input-15-45145fd1d676>\u001b[0m in \u001b[0;36m<module>\u001b[1;34m\u001b[0m\n\u001b[0;32m     71\u001b[0m             \u001b[0mal_start\u001b[0m\u001b[1;33m+=\u001b[0m\u001b[1;36m1\u001b[0m\u001b[1;33m\u001b[0m\u001b[1;33m\u001b[0m\u001b[0m\n\u001b[0;32m     72\u001b[0m         \u001b[1;32mif\u001b[0m \u001b[0mal_start\u001b[0m \u001b[1;33m==\u001b[0m \u001b[1;36m2\u001b[0m \u001b[1;33m:\u001b[0m\u001b[1;33m\u001b[0m\u001b[1;33m\u001b[0m\u001b[0m\n\u001b[1;32m---> 73\u001b[1;33m             \u001b[0mBFS\u001b[0m\u001b[1;33m(\u001b[0m\u001b[0mtemp\u001b[0m\u001b[1;33m)\u001b[0m\u001b[1;33m\u001b[0m\u001b[1;33m\u001b[0m\u001b[0m\n\u001b[0m\u001b[0;32m     74\u001b[0m \u001b[1;33m\u001b[0m\u001b[0m\n\u001b[0;32m     75\u001b[0m \u001b[1;31m# 4. print\u001b[0m\u001b[1;33m\u001b[0m\u001b[1;33m\u001b[0m\u001b[1;33m\u001b[0m\u001b[0m\n",
      "\u001b[1;32m<ipython-input-15-45145fd1d676>\u001b[0m in \u001b[0;36mBFS\u001b[1;34m(start)\u001b[0m\n\u001b[0;32m     24\u001b[0m                         \u001b[0mnx\u001b[0m \u001b[1;33m+=\u001b[0m \u001b[0mdx\u001b[0m\u001b[1;33m[\u001b[0m\u001b[0mi\u001b[0m\u001b[1;33m]\u001b[0m\u001b[1;33m\u001b[0m\u001b[1;33m\u001b[0m\u001b[0m\n\u001b[0;32m     25\u001b[0m                         \u001b[0mny\u001b[0m \u001b[1;33m+=\u001b[0m \u001b[0mdy\u001b[0m\u001b[1;33m[\u001b[0m\u001b[0mi\u001b[0m\u001b[1;33m]\u001b[0m\u001b[1;33m\u001b[0m\u001b[1;33m\u001b[0m\u001b[0m\n\u001b[1;32m---> 26\u001b[1;33m                     \u001b[1;32mif\u001b[0m \u001b[0mgraph\u001b[0m\u001b[1;33m[\u001b[0m\u001b[0mmx\u001b[0m\u001b[1;33m]\u001b[0m\u001b[1;33m[\u001b[0m\u001b[0mmy\u001b[0m\u001b[1;33m]\u001b[0m \u001b[1;33m==\u001b[0m \u001b[1;34m\".\"\u001b[0m \u001b[1;33m:\u001b[0m\u001b[1;33m\u001b[0m\u001b[1;33m\u001b[0m\u001b[0m\n\u001b[0m\u001b[0;32m     27\u001b[0m                         \u001b[0mmx\u001b[0m \u001b[1;33m+=\u001b[0m \u001b[0mdx\u001b[0m\u001b[1;33m[\u001b[0m\u001b[0mi\u001b[0m\u001b[1;33m]\u001b[0m\u001b[1;33m\u001b[0m\u001b[1;33m\u001b[0m\u001b[0m\n\u001b[0;32m     28\u001b[0m                         \u001b[0mmy\u001b[0m \u001b[1;33m+=\u001b[0m \u001b[0mdy\u001b[0m\u001b[1;33m[\u001b[0m\u001b[0mi\u001b[0m\u001b[1;33m]\u001b[0m\u001b[1;33m\u001b[0m\u001b[1;33m\u001b[0m\u001b[0m\n",
      "\u001b[1;31mIndexError\u001b[0m: list index out of range"
     ]
    }
   ],
   "source": [
    "from collections import deque\n",
    "import copy\n",
    "# 2. def -------------------------\n",
    "\n",
    "\n",
    "def BFS(start) :\n",
    "    global graph\n",
    "    deque2 = deque()\n",
    "    deque2.append(start)\n",
    "    for c in range(10) :\n",
    "        print(graph)\n",
    "\n",
    "        rx,ry,bx,by = deque2.popleft()\n",
    "        graph[rx][ry] = \".\"\n",
    "        graph[bx][by] = \".\"\n",
    "        # 공 출발 \n",
    "        for i in range(4) :\n",
    "            nx = rx + dx[i]\n",
    "            ny = ry + dy[i]\n",
    "            mx = bx + dx[i]\n",
    "            my = by + dy[i]\n",
    "            switch2 = 0\n",
    "            while True :\n",
    "                if 0 <= nx&mx < h and 0 <= ny&my < l :\n",
    "                    if graph[nx][ny] == \".\" :\n",
    "                        graph[nx][ny] = \"R\"\n",
    "                        nx += dx[i]\n",
    "                        ny += dy[i]                   \n",
    "                    if graph[mx][my] == \".\" :\n",
    "                        mx += dx[i]\n",
    "                        my += dy[i]\n",
    "                    if graph[nx][ny] == \"O\" :\n",
    "                        switch2 =1\n",
    "                        break\n",
    "                    if graph[mx][my] == \"O\" :\n",
    "                        switch2 =2\n",
    "                        break\n",
    "                        deque2.append((nx,ny,mx,my))\n",
    "                        break\n",
    "                else :\n",
    "                    break\n",
    "            if switch2 == 1 :\n",
    "                cnt.append(c)\n",
    "    \n",
    "        \n",
    "# 1. input ------------------------\n",
    "\n",
    "\n",
    "h,l = map(int,input().split())\n",
    "graph = [0]*h\n",
    "switch = 0\n",
    "cnt = []\n",
    "dx = [-1,1,0,0]\n",
    "dy = [0,0,-1,1]\n",
    "temp = [0,0,0,0]\n",
    "al_start = 0\n",
    "for i in range(h) :\n",
    "    graph[i] = list(input())\n",
    "\n",
    "# 3. al --------------------------\n",
    "for i in range(h) :\n",
    "    for j in range(l):\n",
    "        if graph[i][j] == \"R\" :\n",
    "            temp[0] = i\n",
    "            temp[1] = j\n",
    "            al_start+=1\n",
    "        elif graph[i][j] == \"B\" :\n",
    "            temp[2] = i\n",
    "            temp[3] = j   \n",
    "            al_start+=1\n",
    "        if al_start == 2 :\n",
    "            BFS(temp)\n",
    "            \n",
    "# 4. print\n",
    "if switch :\n",
    "    print(min(cnt))\n",
    "else :\n",
    "    print(-1)"
   ]
  },
  {
   "cell_type": "code",
   "execution_count": null,
   "metadata": {},
   "outputs": [],
   "source": [
    "계속 고민하던 부분은 R 구슬 이동중 B와의 충돌이다. 이는 R구슬 이동 횟수와 B구슬 이동 횟수가 더 작게 하도록하여\n",
    "피할 수 있었다."
   ]
  },
  {
   "cell_type": "code",
   "execution_count": 59,
   "metadata": {
    "scrolled": true
   },
   "outputs": [
    {
     "name": "stdout",
     "output_type": "stream",
     "text": [
      "4 2\n",
      "9 8 7 1\n",
      "1 7\n",
      "1 8\n",
      "1 9\n",
      "7 1\n",
      "7 8\n",
      "7 9\n",
      "8 1\n",
      "8 7\n",
      "8 9\n",
      "9 1\n",
      "9 7\n",
      "9 8\n"
     ]
    }
   ],
   "source": [
    "import itertools \n",
    "\n",
    "n,m = map(int,input().split())\n",
    "li = list(map(str,input().split()))\n",
    "li.sort()\n",
    "for i in itertools.permutations(li, m) :\n",
    "    print(\" \".join(i))"
   ]
  },
  {
   "cell_type": "code",
   "execution_count": 57,
   "metadata": {},
   "outputs": [
    {
     "name": "stdout",
     "output_type": "stream",
     "text": [
      "4 4\n",
      "1 1 1 1\n",
      "[['1', '1', '1', '1'], ['1', '1', '1', '1'], ['1', '1', '1', '1'], ['1', '1', '1', '1'], ['1', '1', '1', '1'], ['1', '1', '1', '1'], ['1', '1', '1', '1'], ['1', '1', '1', '1'], ['1', '1', '1', '1'], ['1', '1', '1', '1'], ['1', '1', '1', '1'], ['1', '1', '1', '1'], ['1', '1', '1', '1'], ['1', '1', '1', '1'], ['1', '1', '1', '1'], ['1', '1', '1', '1'], ['1', '1', '1', '1'], ['1', '1', '1', '1'], ['1', '1', '1', '1'], ['1', '1', '1', '1'], ['1', '1', '1', '1'], ['1', '1', '1', '1'], ['1', '1', '1', '1'], ['1', '1', '1', '1']]\n"
     ]
    }
   ],
   "source": [
    "def permutations(prefix,k) :\n",
    "    if len(prefix) == m :\n",
    "        yield prefix\n",
    "    else :\n",
    "        for i in range(k,len(arr)) :\n",
    "            arr[i], arr[k] = arr[k], arr[i]\n",
    "            for next in permutations(prefix+[arr[k]],k+1) :\n",
    "                yield next\n",
    "            arr[i], arr[k] = arr[k],arr[i]\n",
    "            \n",
    "        \n",
    "\n",
    "n,m = map(int,input().split())\n",
    "arr = list(map(str,input().split()))\n",
    "arr.sort()\n",
    "graph = []\n",
    "for perm in permutations([],0) :\n",
    "    graph.append(perm)\n",
    "print(graph)"
   ]
  },
  {
   "cell_type": "code",
   "execution_count": null,
   "metadata": {},
   "outputs": [],
   "source": [
    "from itertools import permutations\n",
    "\n",
    "N, M = map(int, input().split())\n",
    "N_list = list(map(int, input().split()))\n",
    "N_list = sorted(N_list) #순서대로 나오게 정렬 먼저\n",
    "\n",
    "for numbers in list(permutations(N_list, M)):\n",
    "    for num in numbers:\n",
    "        print(num, end=' ')\n",
    "    print()"
   ]
  },
  {
   "cell_type": "markdown",
   "metadata": {},
   "source": [
    "# 15655 조합"
   ]
  },
  {
   "cell_type": "code",
   "execution_count": 70,
   "metadata": {},
   "outputs": [
    {
     "name": "stdout",
     "output_type": "stream",
     "text": [
      "4 2\n",
      "999999 123 12 3\n",
      "3 12 \n",
      "3 123 \n",
      "3 999999 \n",
      "12 123 \n",
      "12 999999 \n",
      "123 999999 \n"
     ]
    }
   ],
   "source": [
    "from itertools import combinations\n",
    "n,m = map(int,input().split())\n",
    "li = list(map(int,input().split()))\n",
    "li.sort()\n",
    "for i in combinations(li, m) :\n",
    "    for num in i :\n",
    "        print(num, end= ' ')\n",
    "    print()"
   ]
  },
  {
   "cell_type": "code",
   "execution_count": 71,
   "metadata": {
    "scrolled": true
   },
   "outputs": [
    {
     "name": "stdout",
     "output_type": "stream",
     "text": [
      "4 2\n",
      "999999 123 12 3\n",
      "12 123\n",
      "12 3\n",
      "12 999999\n",
      "123 3\n",
      "123 999999\n",
      "3 999999\n"
     ]
    }
   ],
   "source": [
    "from itertools import combinations\n",
    "n,m = map(int,input().split())\n",
    "li = list(map(str,input().split()))\n",
    "li.sort()\n",
    "for i in combinations(li, m) :\n",
    "    print(\" \".join(i))"
   ]
  },
  {
   "cell_type": "markdown",
   "metadata": {},
   "source": [
    "###  15656  중복순열"
   ]
  },
  {
   "cell_type": "code",
   "execution_count": 80,
   "metadata": {},
   "outputs": [
    {
     "name": "stdout",
     "output_type": "stream",
     "text": [
      "4 2\n",
      "9 8 7 1\n",
      "1 1 \n",
      "1 7 \n",
      "1 8 \n",
      "1 9 \n",
      "7 1 \n",
      "7 7 \n",
      "7 8 \n",
      "7 9 \n",
      "8 1 \n",
      "8 7 \n",
      "8 8 \n",
      "8 9 \n",
      "9 1 \n",
      "9 7 \n",
      "9 8 \n",
      "9 9 \n"
     ]
    }
   ],
   "source": [
    "import itertools\n",
    "\n",
    "n,m = map(int,input().split())\n",
    "li = list(map(int,input().split()))\n",
    "li.sort()\n",
    "for i in itertools.product(li, repeat = m) :\n",
    "    for num in i :\n",
    "        print(num, end= \" \")\n",
    "    print()"
   ]
  },
  {
   "cell_type": "markdown",
   "metadata": {},
   "source": [
    "### 15657  중복조합"
   ]
  },
  {
   "cell_type": "code",
   "execution_count": 78,
   "metadata": {
    "scrolled": true
   },
   "outputs": [
    {
     "name": "stdout",
     "output_type": "stream",
     "text": [
      "4 2\n",
      "9 8 7 1\n",
      "1 1 \n",
      "1 7 \n",
      "1 8 \n",
      "1 9 \n",
      "7 7 \n",
      "7 8 \n",
      "7 9 \n",
      "8 8 \n",
      "8 9 \n",
      "9 9 \n"
     ]
    }
   ],
   "source": [
    "import itertools\n",
    "\n",
    "n,m = map(int,input().split())\n",
    "li = list(map(int,input().split()))\n",
    "li.sort()\n",
    "for i in itertools.combinations_with_replacement(li, m) :\n",
    "    for num in i :\n",
    "        print(num, end= \" \")\n",
    "    print()"
   ]
  },
  {
   "cell_type": "markdown",
   "metadata": {},
   "source": [
    "### 15663 중복되는 순열"
   ]
  },
  {
   "cell_type": "code",
   "execution_count": 92,
   "metadata": {},
   "outputs": [
    {
     "name": "stdout",
     "output_type": "stream",
     "text": [
      "4 4\n",
      "1 1 1 1\n",
      "1 1 1 1 \n"
     ]
    }
   ],
   "source": [
    "from itertools import permutations\n",
    "\n",
    "N, M = map(int, input().split())\n",
    "N_list = list(map(int, input().split()))\n",
    "graph = []\n",
    "for numbers in list(permutations(N_list, M)):\n",
    "    graph.append(numbers)\n",
    "graph = set(graph)\n",
    "graph = list(graph)\n",
    "graph.sort()\n",
    "for i in graph :\n",
    "    for num in i :\n",
    "        print(num, end= \" \")\n",
    "    print()"
   ]
  },
  {
   "cell_type": "markdown",
   "metadata": {},
   "source": [
    "### 15663 중복되는 조합"
   ]
  },
  {
   "cell_type": "code",
   "execution_count": 4,
   "metadata": {},
   "outputs": [
    {
     "name": "stdout",
     "output_type": "stream",
     "text": [
      "4 2\n",
      "9 7 9 1\n",
      "1 7 \n",
      "1 9 \n",
      "7 9 \n",
      "9 9 \n"
     ]
    }
   ],
   "source": [
    "from itertools import combinations\n",
    "\n",
    "N, M = map(int, input().split())\n",
    "N_list = list(map(int, input().split()))\n",
    "graph = []\n",
    "N_list.sort()\n",
    "for numbers in list(combinations(N_list, M)):\n",
    "    graph.append(numbers)\n",
    "graph = set(graph)\n",
    "graph = list(graph)\n",
    "graph.sort()\n",
    "for i in graph :\n",
    "    for num in i :\n",
    "        print(num, end= \" \")\n",
    "    print()"
   ]
  },
  {
   "cell_type": "markdown",
   "metadata": {},
   "source": [
    "# 15665 중복가능한 중복순열"
   ]
  },
  {
   "cell_type": "code",
   "execution_count": 5,
   "metadata": {},
   "outputs": [
    {
     "name": "stdout",
     "output_type": "stream",
     "text": [
      "4 2\n",
      "9 7 9 1\n",
      "1 1 \n",
      "1 7 \n",
      "1 9 \n",
      "7 1 \n",
      "7 7 \n",
      "7 9 \n",
      "9 1 \n",
      "9 7 \n",
      "9 9 \n"
     ]
    }
   ],
   "source": [
    "from itertools import product\n",
    "\n",
    "N, M = map(int, input().split())\n",
    "N_list = list(map(int, input().split()))\n",
    "graph = []\n",
    "N_list.sort()\n",
    "for numbers in list(product(N_list,repeat = M)):\n",
    "    graph.append(numbers)\n",
    "graph = set(graph)\n",
    "graph = list(graph)\n",
    "graph.sort()\n",
    "for i in graph :\n",
    "    for num in i :\n",
    "        print(num, end= \" \")\n",
    "    print()"
   ]
  },
  {
   "cell_type": "markdown",
   "metadata": {},
   "source": [
    "# 15666 중복가능한 중복조합"
   ]
  },
  {
   "cell_type": "code",
   "execution_count": 9,
   "metadata": {},
   "outputs": [
    {
     "name": "stdout",
     "output_type": "stream",
     "text": [
      "4 4\n",
      "1 1 2 2\n",
      "1 1 1 1 \n",
      "1 1 1 2 \n",
      "1 1 2 2 \n",
      "1 2 2 2 \n",
      "2 2 2 2 \n"
     ]
    }
   ],
   "source": [
    "from itertools import combinations_with_replacement\n",
    "\n",
    "N, M = map(int, input().split())\n",
    "N_list = list(map(int, input().split()))\n",
    "graph = []\n",
    "N_list.sort()\n",
    "for numbers in list(combinations_with_replacement(N_list, M)):\n",
    "    graph.append(numbers)\n",
    "graph = set(graph)\n",
    "graph = list(graph)\n",
    "graph.sort()\n",
    "for i in graph :\n",
    "    for num in i :\n",
    "        print(num, end= \" \")\n",
    "    print()"
   ]
  }
 ],
 "metadata": {
  "kernelspec": {
   "display_name": "Python 3",
   "language": "python",
   "name": "python3"
  },
  "language_info": {
   "codemirror_mode": {
    "name": "ipython",
    "version": 3
   },
   "file_extension": ".py",
   "mimetype": "text/x-python",
   "name": "python",
   "nbconvert_exporter": "python",
   "pygments_lexer": "ipython3",
   "version": "3.7.6"
  }
 },
 "nbformat": 4,
 "nbformat_minor": 4
}
