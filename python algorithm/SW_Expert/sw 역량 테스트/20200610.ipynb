{
 "cells": [
  {
   "cell_type": "code",
   "execution_count": 5,
   "metadata": {},
   "outputs": [
    {
     "name": "stdout",
     "output_type": "stream",
     "text": [
      "4\n",
      "1\n",
      "3\n",
      "7\n",
      "13\n",
      "3\n"
     ]
    }
   ],
   "source": [
    "from math import gcd\n",
    "f = int(input())\n",
    "li = []\n",
    "ans = []\n",
    "for i in range(f) :\n",
    "    li.append(int(input()))\n",
    "# 1. input -------------------------\n",
    "li.sort()\n",
    "for j in range(1,f) :\n",
    "    ans.append(li[j] - li[j-1])\n",
    "    \n",
    "# 2. input integer-------------------------\n",
    "gcd1 = ans[0]\n",
    "for k in range(1,len(ans)) :\n",
    "    gcd1 = gcd(gcd1,ans[k])\n",
    "su = 0\n",
    "for q in range(f-1) :\n",
    "    su += ans[q]//gcd1\n",
    "print(su-f+1)"
   ]
  },
  {
   "cell_type": "markdown",
   "metadata": {},
   "source": [
    "# 1644 소수의 연속합"
   ]
  },
  {
   "cell_type": "code",
   "execution_count": 54,
   "metadata": {},
   "outputs": [
    {
     "name": "stdout",
     "output_type": "stream",
     "text": [
      "53\n",
      "2\n"
     ]
    }
   ],
   "source": [
    "def prime_list(n) :\n",
    "    sieve = [True] * (n+2)\n",
    "    for i in range(2,n+1) :\n",
    "        if sieve[i] == True :\n",
    "            for k in range(i+i,n+1,i) :\n",
    "                sieve[k] = False\n",
    "    return [i for i in range(2,n+1) if sieve[i] == True]\n",
    "n = int(input())\n",
    "li = prime_list(n)\n",
    "# 이중 탐색\n",
    "cnt = 0\n",
    "for i in range(n) :\n",
    "    #start point\n",
    "    for j in range(i,n) :\n",
    "    #end point\n",
    "        temp = sum(li[i:j])\n",
    "        if temp == n :\n",
    "            cnt+=1\n",
    "            break\n",
    "        elif temp > n :\n",
    "            break\n",
    "print(cnt)"
   ]
  }
 ],
 "metadata": {
  "kernelspec": {
   "display_name": "Python 3",
   "language": "python",
   "name": "python3"
  },
  "language_info": {
   "codemirror_mode": {
    "name": "ipython",
    "version": 3
   },
   "file_extension": ".py",
   "mimetype": "text/x-python",
   "name": "python",
   "nbconvert_exporter": "python",
   "pygments_lexer": "ipython3",
   "version": "3.7.6"
  }
 },
 "nbformat": 4,
 "nbformat_minor": 4
}
