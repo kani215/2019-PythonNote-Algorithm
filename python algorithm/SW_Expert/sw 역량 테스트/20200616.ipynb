{
 "cells": [
  {
   "cell_type": "markdown",
   "metadata": {},
   "source": [
    "## 11052 dp 카드 구매하기\n",
    "\n",
    "- 기억해서 풀이하기"
   ]
  },
  {
   "cell_type": "code",
   "execution_count": null,
   "metadata": {},
   "outputs": [],
   "source": [
    "DP 항목을 만들어서 정리해보았습니당. 문서 참조"
   ]
  },
  {
   "cell_type": "code",
   "execution_count": 11,
   "metadata": {},
   "outputs": [
    {
     "name": "stdout",
     "output_type": "stream",
     "text": [
      "4\n",
      "3 5 15 16\n",
      "16\n"
     ]
    }
   ],
   "source": [
    "p = int(input())\n",
    "li = list(map(int,input().split()))\n",
    "li2 = [[int(i+1)] for i in range(p)]\n",
    "\n",
    "for i in range(p) :\n",
    "    li2[i].append(li[i]/(i+1))\n",
    "li2 = sorted(li2, key = lambda li2 : li2[1],reverse = True)\n",
    "\n",
    "ans = []\n",
    "for j in range(p) :\n",
    "    reaf = p\n",
    "    ans_money = 0\n",
    "    for k in range(j,p) :\n",
    "        ans_money += (reaf//li2[j][0])* li2[j][1]*li2[j][0]\n",
    "        reaf -= (reaf//li2[j][0]) * li2[j][0]\n",
    "        if reaf == 0 :\n",
    "            ans.append(int(ans_money))\n",
    "            break\n",
    "print(max(ans))"
   ]
  },
  {
   "cell_type": "markdown",
   "metadata": {},
   "source": [
    "# 2636번 치즈"
   ]
  },
  {
   "cell_type": "code",
   "execution_count": 3,
   "metadata": {},
   "outputs": [
    {
     "name": "stdout",
     "output_type": "stream",
     "text": [
      "6\n"
     ]
    }
   ],
   "source": [
    "s = [[0,1],[2,3]]\n",
    "\n",
    "t = 0\n",
    "for i in s :\n",
    "    t += sum(i)\n",
    "print(t)"
   ]
  },
  {
   "cell_type": "code",
   "execution_count": 9,
   "metadata": {},
   "outputs": [
    {
     "name": "stdout",
     "output_type": "stream",
     "text": [
      "13 12\n",
      "0 0 0 0 0 0 0 0 0 0 0 0\n",
      "0 0 0 0 0 0 0 0 0 0 0 0\n",
      "0 0 0 0 0 0 0 1 1 0 0 0\n",
      "0 1 1 1 0 0 0 1 1 0 0 0\n",
      "0 1 1 1 1 1 1 0 0 0 0 0\n",
      "0 1 1 1 1 1 0 1 1 0 0 0\n",
      "0 1 1 1 1 0 0 1 1 0 0 0\n",
      "0 0 1 1 0 0 0 1 1 0 0 0\n",
      "0 0 1 1 1 1 1 1 1 0 0 0\n",
      "0 0 1 1 1 1 1 1 1 0 0 0\n",
      "0 0 1 1 1 1 1 1 1 0 0 0\n",
      "0 0 1 1 1 1 1 1 1 0 0 0\n",
      "0 0 0 0 0 0 0 0 0 0 0 0\n",
      "[[0, 0, 0, 0, 0, 0, 0, 0, 0, 0, 0, 0], [0, 0, 0, 0, 0, 0, 0, 0, 0, 0, 0, 0], [0, 0, 0, 0, 0, 0, 0, 0, 0, 0, 0, 0], [0, 0, 0, 0, 0, 0, 0, 0, 0, 0, 0, 0], [0, 0, 1, 1, 0, 0, 0, 0, 0, 0, 0, 0], [0, 0, 1, 1, 1, 0, 0, 0, 0, 0, 0, 0], [0, 0, 1, 1, 0, 0, 0, 0, 0, 0, 0, 0], [0, 0, 0, 0, 0, 0, 0, 0, 0, 0, 0, 0], [0, 0, 0, 1, 0, 0, 0, 1, 0, 0, 0, 0], [0, 0, 0, 1, 1, 1, 1, 1, 0, 0, 0, 0], [0, 0, 0, 1, 1, 1, 1, 1, 0, 0, 0, 0], [0, 0, 0, 0, 0, 0, 0, 0, 0, 0, 0, 0], [0, 0, 0, 0, 0, 0, 0, 0, 0, 0, 0, 0]]\n",
      "[[0, 0, 0, 0, 0, 0, 0, 0, 0, 0, 0, 0], [0, 0, 0, 0, 0, 0, 0, 0, 0, 0, 0, 0], [0, 0, 0, 0, 0, 0, 0, 0, 0, 0, 0, 0], [0, 0, 0, 0, 0, 0, 0, 0, 0, 0, 0, 0], [0, 0, 0, 0, 0, 0, 0, 0, 0, 0, 0, 0], [0, 0, 0, 1, 0, 0, 0, 0, 0, 0, 0, 0], [0, 0, 0, 0, 0, 0, 0, 0, 0, 0, 0, 0], [0, 0, 0, 0, 0, 0, 0, 0, 0, 0, 0, 0], [0, 0, 0, 0, 0, 0, 0, 0, 0, 0, 0, 0], [0, 0, 0, 0, 0, 0, 0, 0, 0, 0, 0, 0], [0, 0, 0, 0, 0, 0, 0, 0, 0, 0, 0, 0], [0, 0, 0, 0, 0, 0, 0, 0, 0, 0, 0, 0], [0, 0, 0, 0, 0, 0, 0, 0, 0, 0, 0, 0]]\n",
      "[[0, 0, 0, 0, 0, 0, 0, 0, 0, 0, 0, 0], [0, 0, 0, 0, 0, 0, 0, 0, 0, 0, 0, 0], [0, 0, 0, 0, 0, 0, 0, 0, 0, 0, 0, 0], [0, 0, 0, 0, 0, 0, 0, 0, 0, 0, 0, 0], [0, 0, 0, 0, 0, 0, 0, 0, 0, 0, 0, 0], [0, 0, 0, 0, 0, 0, 0, 0, 0, 0, 0, 0], [0, 0, 0, 0, 0, 0, 0, 0, 0, 0, 0, 0], [0, 0, 0, 0, 0, 0, 0, 0, 0, 0, 0, 0], [0, 0, 0, 0, 0, 0, 0, 0, 0, 0, 0, 0], [0, 0, 0, 0, 0, 0, 0, 0, 0, 0, 0, 0], [0, 0, 0, 0, 0, 0, 0, 0, 0, 0, 0, 0], [0, 0, 0, 0, 0, 0, 0, 0, 0, 0, 0, 0], [0, 0, 0, 0, 0, 0, 0, 0, 0, 0, 0, 0]]\n",
      "3\n",
      "1\n"
     ]
    }
   ],
   "source": [
    "from collections import deque\n",
    "import sys\n",
    "def BFS_B(start) :\n",
    "    deque2 = deque()\n",
    "    deque2.append(start)\n",
    "    while deque2 :\n",
    "        x,y = deque2.popleft()\n",
    "        for i in range(4) :\n",
    "            nx = x + dx[i]\n",
    "            ny = y + dy[i]\n",
    "            if 0 <= nx < m and 0 <= ny < n and graph[nx][ny] == 0 :\n",
    "                graph[nx][ny] = 3\n",
    "                deque2.append((nx,ny))\n",
    "def BFS(start) :\n",
    "    x,y = start\n",
    "    s = 1\n",
    "    for i in range(4) :\n",
    "        nx = x + dx[i]\n",
    "        ny = y + dy[i]\n",
    "        if 0 <= nx < m and 0 <= ny < n and graph[nx][ny] == 0  :\n",
    "            s = 0\n",
    "            break\n",
    "            \n",
    "    if s == 1:\n",
    "        return 1\n",
    "    else :\n",
    "        return 2\n",
    "m,n = map(int,input().split())\n",
    "graph = [0]*m\n",
    "dx = [-1,1,0,0]\n",
    "dy = [0,0,-1,1]\n",
    "for i in range(m) :\n",
    "    graph[i] = list(map(int,input().split()))\n",
    "\n",
    "t = 0\n",
    "for i in graph :\n",
    "    t += sum(i)\n",
    "time = [t]\n",
    "# 첫 sum 계측 -----------------------------\n",
    "# 외곽을 계산 ----------------------------\n",
    "BFS_B((0,0))\n",
    "\n",
    "# 2로 사라질 부분 스케치-----------------------\n",
    "while True :\n",
    "    if time[-1] == 0 :\n",
    "        print(len(time)-1)\n",
    "        print(time[len(time)-2])\n",
    "        break\n",
    "        \n",
    "    for i in range(m) :\n",
    "        for j in range(n) :\n",
    "            if graph[i][j] ==1 :\n",
    "                graph[i][j] = BFS((i,j))\n",
    "            \n",
    "    for i in range(m) :\n",
    "        for j in range(n) :\n",
    "            if graph[i][j] == 2 :\n",
    "                graph[i][j] = 0\n",
    "# 2 > 0 으로 소멸시킴-------------------------------\n",
    "    ti = 0\n",
    "    \n",
    "    for i in graph :\n",
    "        ti += sum(i)\n",
    "    print(graph)\n",
    "    time.append(ti)\n",
    "\n",
    "    \n",
    "# if time = [0분일때 칸수, 1분일때 칸수, 2분일때 칸수] sum(graph) 저장 "
   ]
  },
  {
   "cell_type": "code",
   "execution_count": null,
   "metadata": {},
   "outputs": [],
   "source": [
    "위 방식으로는 도저히 구멍과 구멍 밖을 구분해내기가 어렵다. \n",
    "\n",
    "공기가 구멍으로 오는 구현을 어찌 할지"
   ]
  },
  {
   "cell_type": "code",
   "execution_count": null,
   "metadata": {},
   "outputs": [],
   "source": [
    "1. 치즈가 없어질때 까지의 시간 time과 시간별로 없어지는 치즈의 수인 cnt를 0으로 초기화 한다.\n",
    "2. 주어진 배열의 상하좌우에 0을 추가해 준다.\n",
    "3. 치즈가 존재하지 않는 (0, 0) 인덱스를 q에 추가해 준다.\n",
    "4. q에서 처음꺼를 pop해서 배열의 상하좌우를 탐색하며 아래 조건에 해당하는 인덱스만 q에 추가한다.\n",
    "   배열의 범위(0 <= row < N+2, 0<= column < M+2)를 초과하는 값은 추가하지 않는다.\n",
    "   치즈가 존재하지 않는 인덱스는 q에 추가해 주고, 해당 위치의 값을 -1로 바꿔준다.\n",
    "   치즈가 존재하는 인덱스는 nxt에 추가해 주고, 마찬가지로 값을 -1로 바꿔준다.\n",
    "   이 작업을 q가 빈 리스트가 될 때까지 반복한다.\n",
    "5. 3번 작업이 끝나고 nxt의 값이 빈 리스트이면 배열에 치즈가 더이상 존재하지 않는것이므로 while문을 종료한다.\n",
    "6. time을 1초 증가하고 nxt의 길이를 구해 다음에 없어질 치즈의 갯수를 저장한다.\n",
    "7. 4번 작업에서 -1로 바꿔 방문한 곳을 표시한 인덱스를 모두 0으로 바꿔준 후 위 작업을 nxt가 빈 배열이 될 때까지 반복한다."
   ]
  },
  {
   "cell_type": "code",
   "execution_count": 2,
   "metadata": {},
   "outputs": [
    {
     "name": "stdout",
     "output_type": "stream",
     "text": [
      "13 12\n",
      "q\n"
     ]
    },
    {
     "ename": "ValueError",
     "evalue": "invalid literal for int() with base 10: 'q'",
     "output_type": "error",
     "traceback": [
      "\u001b[1;31m---------------------------------------------------------------------------\u001b[0m",
      "\u001b[1;31mValueError\u001b[0m                                Traceback (most recent call last)",
      "\u001b[1;32m<ipython-input-2-dc783f88bc47>\u001b[0m in \u001b[0;36m<module>\u001b[1;34m\u001b[0m\n\u001b[0;32m      1\u001b[0m \u001b[1;32mfrom\u001b[0m \u001b[0mcollections\u001b[0m \u001b[1;32mimport\u001b[0m \u001b[0mdeque\u001b[0m\u001b[1;33m\u001b[0m\u001b[1;33m\u001b[0m\u001b[0m\n\u001b[0;32m      2\u001b[0m \u001b[0mN\u001b[0m\u001b[1;33m,\u001b[0m\u001b[0mM\u001b[0m \u001b[1;33m=\u001b[0m \u001b[0mmap\u001b[0m\u001b[1;33m(\u001b[0m\u001b[0mint\u001b[0m\u001b[1;33m,\u001b[0m\u001b[0minput\u001b[0m\u001b[1;33m(\u001b[0m\u001b[1;33m)\u001b[0m\u001b[1;33m.\u001b[0m\u001b[0msplit\u001b[0m\u001b[1;33m(\u001b[0m\u001b[1;33m)\u001b[0m\u001b[1;33m)\u001b[0m\u001b[1;33m\u001b[0m\u001b[1;33m\u001b[0m\u001b[0m\n\u001b[1;32m----> 3\u001b[1;33m \u001b[0marr\u001b[0m \u001b[1;33m=\u001b[0m \u001b[1;33m[\u001b[0m\u001b[1;33m[\u001b[0m\u001b[1;36m0\u001b[0m\u001b[1;33m]\u001b[0m\u001b[1;33m*\u001b[0m\u001b[1;33m(\u001b[0m\u001b[0mM\u001b[0m\u001b[1;33m+\u001b[0m\u001b[1;36m2\u001b[0m\u001b[1;33m)\u001b[0m\u001b[1;33m]\u001b[0m \u001b[1;33m+\u001b[0m \u001b[1;33m[\u001b[0m\u001b[1;33m[\u001b[0m\u001b[1;36m0\u001b[0m\u001b[1;33m]\u001b[0m\u001b[1;33m+\u001b[0m\u001b[0mlist\u001b[0m\u001b[1;33m(\u001b[0m\u001b[0mmap\u001b[0m\u001b[1;33m(\u001b[0m\u001b[0mint\u001b[0m\u001b[1;33m,\u001b[0m\u001b[0minput\u001b[0m\u001b[1;33m(\u001b[0m\u001b[1;33m)\u001b[0m\u001b[1;33m.\u001b[0m\u001b[0msplit\u001b[0m\u001b[1;33m(\u001b[0m\u001b[1;33m)\u001b[0m\u001b[1;33m)\u001b[0m\u001b[1;33m)\u001b[0m\u001b[1;33m+\u001b[0m\u001b[1;33m[\u001b[0m\u001b[1;36m0\u001b[0m\u001b[1;33m]\u001b[0m \u001b[1;32mfor\u001b[0m \u001b[0m_\u001b[0m \u001b[1;32min\u001b[0m \u001b[0mrange\u001b[0m\u001b[1;33m(\u001b[0m\u001b[0mN\u001b[0m\u001b[1;33m)\u001b[0m\u001b[1;33m]\u001b[0m \u001b[1;33m+\u001b[0m\u001b[1;33m[\u001b[0m\u001b[1;33m[\u001b[0m\u001b[1;36m0\u001b[0m\u001b[1;33m]\u001b[0m\u001b[1;33m*\u001b[0m\u001b[1;33m(\u001b[0m\u001b[0mM\u001b[0m\u001b[1;33m+\u001b[0m\u001b[1;36m2\u001b[0m\u001b[1;33m)\u001b[0m\u001b[1;33m]\u001b[0m\u001b[1;33m\u001b[0m\u001b[1;33m\u001b[0m\u001b[0m\n\u001b[0m\u001b[0;32m      4\u001b[0m \u001b[0mcnt\u001b[0m\u001b[1;33m,\u001b[0m\u001b[0mtime\u001b[0m \u001b[1;33m=\u001b[0m \u001b[1;36m0\u001b[0m\u001b[1;33m,\u001b[0m\u001b[1;36m0\u001b[0m\u001b[1;33m\u001b[0m\u001b[1;33m\u001b[0m\u001b[0m\n\u001b[0;32m      5\u001b[0m \u001b[1;32mwhile\u001b[0m \u001b[1;32mTrue\u001b[0m \u001b[1;33m:\u001b[0m\u001b[1;33m\u001b[0m\u001b[1;33m\u001b[0m\u001b[0m\n",
      "\u001b[1;32m<ipython-input-2-dc783f88bc47>\u001b[0m in \u001b[0;36m<listcomp>\u001b[1;34m(.0)\u001b[0m\n\u001b[0;32m      1\u001b[0m \u001b[1;32mfrom\u001b[0m \u001b[0mcollections\u001b[0m \u001b[1;32mimport\u001b[0m \u001b[0mdeque\u001b[0m\u001b[1;33m\u001b[0m\u001b[1;33m\u001b[0m\u001b[0m\n\u001b[0;32m      2\u001b[0m \u001b[0mN\u001b[0m\u001b[1;33m,\u001b[0m\u001b[0mM\u001b[0m \u001b[1;33m=\u001b[0m \u001b[0mmap\u001b[0m\u001b[1;33m(\u001b[0m\u001b[0mint\u001b[0m\u001b[1;33m,\u001b[0m\u001b[0minput\u001b[0m\u001b[1;33m(\u001b[0m\u001b[1;33m)\u001b[0m\u001b[1;33m.\u001b[0m\u001b[0msplit\u001b[0m\u001b[1;33m(\u001b[0m\u001b[1;33m)\u001b[0m\u001b[1;33m)\u001b[0m\u001b[1;33m\u001b[0m\u001b[1;33m\u001b[0m\u001b[0m\n\u001b[1;32m----> 3\u001b[1;33m \u001b[0marr\u001b[0m \u001b[1;33m=\u001b[0m \u001b[1;33m[\u001b[0m\u001b[1;33m[\u001b[0m\u001b[1;36m0\u001b[0m\u001b[1;33m]\u001b[0m\u001b[1;33m*\u001b[0m\u001b[1;33m(\u001b[0m\u001b[0mM\u001b[0m\u001b[1;33m+\u001b[0m\u001b[1;36m2\u001b[0m\u001b[1;33m)\u001b[0m\u001b[1;33m]\u001b[0m \u001b[1;33m+\u001b[0m \u001b[1;33m[\u001b[0m\u001b[1;33m[\u001b[0m\u001b[1;36m0\u001b[0m\u001b[1;33m]\u001b[0m\u001b[1;33m+\u001b[0m\u001b[0mlist\u001b[0m\u001b[1;33m(\u001b[0m\u001b[0mmap\u001b[0m\u001b[1;33m(\u001b[0m\u001b[0mint\u001b[0m\u001b[1;33m,\u001b[0m\u001b[0minput\u001b[0m\u001b[1;33m(\u001b[0m\u001b[1;33m)\u001b[0m\u001b[1;33m.\u001b[0m\u001b[0msplit\u001b[0m\u001b[1;33m(\u001b[0m\u001b[1;33m)\u001b[0m\u001b[1;33m)\u001b[0m\u001b[1;33m)\u001b[0m\u001b[1;33m+\u001b[0m\u001b[1;33m[\u001b[0m\u001b[1;36m0\u001b[0m\u001b[1;33m]\u001b[0m \u001b[1;32mfor\u001b[0m \u001b[0m_\u001b[0m \u001b[1;32min\u001b[0m \u001b[0mrange\u001b[0m\u001b[1;33m(\u001b[0m\u001b[0mN\u001b[0m\u001b[1;33m)\u001b[0m\u001b[1;33m]\u001b[0m \u001b[1;33m+\u001b[0m\u001b[1;33m[\u001b[0m\u001b[1;33m[\u001b[0m\u001b[1;36m0\u001b[0m\u001b[1;33m]\u001b[0m\u001b[1;33m*\u001b[0m\u001b[1;33m(\u001b[0m\u001b[0mM\u001b[0m\u001b[1;33m+\u001b[0m\u001b[1;36m2\u001b[0m\u001b[1;33m)\u001b[0m\u001b[1;33m]\u001b[0m\u001b[1;33m\u001b[0m\u001b[1;33m\u001b[0m\u001b[0m\n\u001b[0m\u001b[0;32m      4\u001b[0m \u001b[0mcnt\u001b[0m\u001b[1;33m,\u001b[0m\u001b[0mtime\u001b[0m \u001b[1;33m=\u001b[0m \u001b[1;36m0\u001b[0m\u001b[1;33m,\u001b[0m\u001b[1;36m0\u001b[0m\u001b[1;33m\u001b[0m\u001b[1;33m\u001b[0m\u001b[0m\n\u001b[0;32m      5\u001b[0m \u001b[1;32mwhile\u001b[0m \u001b[1;32mTrue\u001b[0m \u001b[1;33m:\u001b[0m\u001b[1;33m\u001b[0m\u001b[1;33m\u001b[0m\u001b[0m\n",
      "\u001b[1;31mValueError\u001b[0m: invalid literal for int() with base 10: 'q'"
     ]
    }
   ],
   "source": [
    "from collections import deque\n",
    "N,M = map(int,input().split())\n",
    "arr = [[0]*(M+2)] + [[0]+list(map(int,input().split()))+[0] for _ in range(N)] +[[0]*(M+2)] \n",
    "cnt,time = 0,0\n",
    "while True :\n",
    "    nxt = []\n",
    "    q = deque()\n",
    "    q.append((0,0))\n",
    "    while q :\n",
    "        y,x = q.popleft()\n",
    "        for dx, dy in (0,-1),(1,0),(0,1),(-1,0) :\n",
    "            ny,nx = y+dy, x+dx\n",
    "            if nx < 0 or nx >= M+2 or ny < 0 or ny >= N+2:\n",
    "                continue\n",
    "            if arr[ny][nx] == 0:\n",
    "                arr[ny][nx] = -1\n",
    "                q.append((ny, nx))\n",
    "            if arr[ny][nx] == 1 :\n",
    "                arr[ny][nx] = -1\n",
    "                nxt.append((ny, nx))\n",
    "    if not nxt :\n",
    "        # nxt는 녹은 얼음의 수 , nxt는 다 녹은 것을 알리는 종료 조건 \n",
    "        break\n",
    "    time +=1\n",
    "    cnt = len(nxt)\n",
    "    for y in range(N+2):\n",
    "        for x in range(M+2):\n",
    "            if arr[y][x] == -1:\n",
    "                arr[y][x] = 0\n",
    "\n",
    "print(f'{time}\\n{cnt}')   "
   ]
  },
  {
   "cell_type": "code",
   "execution_count": 16,
   "metadata": {},
   "outputs": [
    {
     "name": "stdout",
     "output_type": "stream",
     "text": [
      "8\n",
      "34\n"
     ]
    }
   ],
   "source": [
    "memo = [1,1]+ [0] *1000\n",
    "\n",
    "def fact(n) :\n",
    "    global memo\n",
    "    \n",
    "    if memo[n] != 0:\n",
    "        return memo[n]\n",
    "    else :\n",
    "        memo[n] = n * fact(n-1)\n",
    "        \n",
    "    return memo[n]\n",
    "\n",
    "n = int(input())\n",
    "su = 1 \n",
    "\n",
    "for i in range(1,(n//2)+1):\n",
    "    su += fact(n-i)/(fact(n-2*i)*fact(i))\n",
    "print(int(su%10007))"
   ]
  }
 ],
 "metadata": {
  "kernelspec": {
   "display_name": "Python 3",
   "language": "python",
   "name": "python3"
  },
  "language_info": {
   "codemirror_mode": {
    "name": "ipython",
    "version": 3
   },
   "file_extension": ".py",
   "mimetype": "text/x-python",
   "name": "python",
   "nbconvert_exporter": "python",
   "pygments_lexer": "ipython3",
   "version": "3.7.6"
  }
 },
 "nbformat": 4,
 "nbformat_minor": 4
}
