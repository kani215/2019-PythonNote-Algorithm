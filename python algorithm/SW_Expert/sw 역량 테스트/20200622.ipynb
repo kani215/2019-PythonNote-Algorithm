{
 "cells": [
  {
   "cell_type": "markdown",
   "metadata": {},
   "source": [
    "# 2661 좋은 수열"
   ]
  },
  {
   "cell_type": "code",
   "execution_count": null,
   "metadata": {},
   "outputs": [],
   "source": [
    "인접한, 두개 수열 동일시 그 수열은 나쁜 수열 "
   ]
  },
  {
   "cell_type": "code",
   "execution_count": null,
   "metadata": {},
   "outputs": [],
   "source": [
    "n = int(input())\n",
    "\n",
    "def find(index, dx) :\n",
    "    \n",
    "    for d in range(1, n//2+1) :\n",
    "        a = li[len(li)-d:]\n",
    "        b = \n",
    "        if len(li) = n :\n",
    "            print(li)\n",
    "            break\n",
    "        \n",
    "    li.append()\n",
    "    index+=1\n",
    "    find()\n",
    "        \n",
    "        \n",
    "d = [0]+[1,2,3] * 1000\n",
    "li = [1] \n",
    "\n",
    "find(2,)\n"
   ]
  },
  {
   "cell_type": "code",
   "execution_count": null,
   "metadata": {},
   "outputs": [],
   "source": [
    "위 처럼 BFS 이용 백트래킹으로 풀려 했다.\n",
    "\n",
    "밑은 완전탐색 "
   ]
  },
  {
   "cell_type": "code",
   "execution_count": 1,
   "metadata": {},
   "outputs": [
    {
     "ename": "SyntaxError",
     "evalue": "'break' outside loop (<ipython-input-1-322a6eab597a>, line 13)",
     "output_type": "error",
     "traceback": [
      "\u001b[1;36m  File \u001b[1;32m\"<ipython-input-1-322a6eab597a>\"\u001b[1;36m, line \u001b[1;32m13\u001b[0m\n\u001b[1;33m    \u001b[0m\n\u001b[1;37m    ^\u001b[0m\n\u001b[1;31mSyntaxError\u001b[0m\u001b[1;31m:\u001b[0m 'break' outside loop\n"
     ]
    }
   ],
   "source": [
    "# from sys import exit \n",
    "def solve(s, l): \n",
    "    for d in range(1, l//2 + 1): \n",
    "        a = int(s[l-d:]) \n",
    "        b = int(s[l-2*d:l-d]) #여기서 판별해냄\n",
    "        if a == b: \n",
    "            return \n",
    "    if l == n: \n",
    "        print(int(s)) \n",
    "        exit()\n",
    "    for i in ['1', '2', '3']: \n",
    "        solve(s+i, l+1)  # 3개 다 해버리고\n",
    "\n",
    "n = int(input())  \n",
    "solve('1', 1) #문자열을 애초에 넣어두고 123 다 넣을 때를 재귀로 돌리는 수법\n",
    "\n"
   ]
  },
  {
   "cell_type": "code",
   "execution_count": 7,
   "metadata": {},
   "outputs": [
    {
     "name": "stdout",
     "output_type": "stream",
     "text": [
      "10\n"
     ]
    },
    {
     "ename": "KeyboardInterrupt",
     "evalue": "",
     "output_type": "error",
     "traceback": [
      "\u001b[1;31m---------------------------------------------------------------------------\u001b[0m",
      "\u001b[1;31mKeyboardInterrupt\u001b[0m                         Traceback (most recent call last)",
      "\u001b[1;32m<ipython-input-7-442bbe259f38>\u001b[0m in \u001b[0;36m<module>\u001b[1;34m\u001b[0m\n\u001b[0;32m     20\u001b[0m     \u001b[1;32mfor\u001b[0m \u001b[0mi\u001b[0m \u001b[1;32min\u001b[0m \u001b[0mrange\u001b[0m\u001b[1;33m(\u001b[0m\u001b[1;36m1\u001b[0m\u001b[1;33m,\u001b[0m\u001b[1;36m4\u001b[0m\u001b[1;33m)\u001b[0m \u001b[1;33m:\u001b[0m\u001b[1;33m\u001b[0m\u001b[1;33m\u001b[0m\u001b[0m\n\u001b[0;32m     21\u001b[0m         \u001b[0mli\u001b[0m\u001b[1;33m.\u001b[0m\u001b[0mappend\u001b[0m\u001b[1;33m(\u001b[0m\u001b[0mi\u001b[0m\u001b[1;33m)\u001b[0m\u001b[1;33m\u001b[0m\u001b[1;33m\u001b[0m\u001b[0m\n\u001b[1;32m---> 22\u001b[1;33m         \u001b[1;32mif\u001b[0m \u001b[0mfind\u001b[0m\u001b[1;33m(\u001b[0m\u001b[0mli\u001b[0m\u001b[1;33m)\u001b[0m\u001b[1;33m==\u001b[0m\u001b[1;36m1\u001b[0m \u001b[1;33m:\u001b[0m\u001b[1;33m\u001b[0m\u001b[1;33m\u001b[0m\u001b[0m\n\u001b[0m\u001b[0;32m     23\u001b[0m             \u001b[1;32mbreak\u001b[0m\u001b[1;33m\u001b[0m\u001b[1;33m\u001b[0m\u001b[0m\n\u001b[0;32m     24\u001b[0m         \u001b[0mli\u001b[0m\u001b[1;33m.\u001b[0m\u001b[0mpop\u001b[0m\u001b[1;33m(\u001b[0m\u001b[1;33m)\u001b[0m\u001b[1;33m\u001b[0m\u001b[1;33m\u001b[0m\u001b[0m\n",
      "\u001b[1;32m<ipython-input-7-442bbe259f38>\u001b[0m in \u001b[0;36mfind\u001b[1;34m(li)\u001b[0m\n\u001b[0;32m      4\u001b[0m \u001b[1;32mdef\u001b[0m \u001b[0mfind\u001b[0m\u001b[1;33m(\u001b[0m\u001b[0mli\u001b[0m\u001b[1;33m)\u001b[0m \u001b[1;33m:\u001b[0m\u001b[1;33m\u001b[0m\u001b[1;33m\u001b[0m\u001b[0m\n\u001b[0;32m      5\u001b[0m     \u001b[0ml\u001b[0m \u001b[1;33m=\u001b[0m \u001b[0mlen\u001b[0m\u001b[1;33m(\u001b[0m\u001b[0mli\u001b[0m\u001b[1;33m)\u001b[0m\u001b[1;33m\u001b[0m\u001b[1;33m\u001b[0m\u001b[0m\n\u001b[1;32m----> 6\u001b[1;33m     \u001b[1;32mfor\u001b[0m \u001b[0md\u001b[0m \u001b[1;32min\u001b[0m \u001b[0mrange\u001b[0m\u001b[1;33m(\u001b[0m\u001b[1;36m1\u001b[0m\u001b[1;33m,\u001b[0m \u001b[0ml\u001b[0m\u001b[1;33m//\u001b[0m\u001b[1;36m2\u001b[0m \u001b[1;33m+\u001b[0m \u001b[1;36m1\u001b[0m\u001b[1;33m)\u001b[0m\u001b[1;33m:\u001b[0m\u001b[1;33m\u001b[0m\u001b[1;33m\u001b[0m\u001b[0m\n\u001b[0m\u001b[0;32m      7\u001b[0m         \u001b[0ma\u001b[0m \u001b[1;33m=\u001b[0m \u001b[0mlen\u001b[0m\u001b[1;33m(\u001b[0m\u001b[0mli\u001b[0m\u001b[1;33m[\u001b[0m\u001b[0ml\u001b[0m\u001b[1;33m-\u001b[0m\u001b[0md\u001b[0m\u001b[1;33m:\u001b[0m\u001b[1;33m]\u001b[0m\u001b[1;33m)\u001b[0m\u001b[1;33m\u001b[0m\u001b[1;33m\u001b[0m\u001b[0m\n\u001b[0;32m      8\u001b[0m         \u001b[0mb\u001b[0m \u001b[1;33m=\u001b[0m \u001b[0mlen\u001b[0m\u001b[1;33m(\u001b[0m\u001b[0mli\u001b[0m\u001b[1;33m[\u001b[0m\u001b[0ml\u001b[0m\u001b[1;33m-\u001b[0m\u001b[1;36m2\u001b[0m\u001b[1;33m*\u001b[0m\u001b[0md\u001b[0m\u001b[1;33m:\u001b[0m\u001b[0ml\u001b[0m\u001b[1;33m-\u001b[0m\u001b[0md\u001b[0m\u001b[1;33m]\u001b[0m\u001b[1;33m)\u001b[0m \u001b[1;31m#여기서 판별해냄\u001b[0m\u001b[1;33m\u001b[0m\u001b[1;33m\u001b[0m\u001b[0m\n",
      "\u001b[1;31mKeyboardInterrupt\u001b[0m: "
     ]
    }
   ],
   "source": [
    "n = int(input())\n",
    "li = [1]\n",
    "\n",
    "def find(li) :\n",
    "    l = len(li)\n",
    "    for d in range(1, l//2 + 1): \n",
    "        a = len(li[l-d:]) \n",
    "        b = len(li[l-2*d:l-d]) #여기서 판별해냄\n",
    "        if a == b: \n",
    "            return 0\n",
    "    return 1\n",
    "            \n",
    "            \n",
    "while True :\n",
    "    if len(li) == n :\n",
    "        for x in li :\n",
    "            print(x, end= \"\")\n",
    "        break\n",
    "    \n",
    "    for i in range(1,4) :\n",
    "        li.append(i)\n",
    "        if find(li)==1 :\n",
    "            break\n",
    "        li.pop()\n",
    "        \n"
   ]
  },
  {
   "cell_type": "code",
   "execution_count": 9,
   "metadata": {},
   "outputs": [
    {
     "name": "stdout",
     "output_type": "stream",
     "text": [
      "50\n",
      "12131231321231213123132131213212312131231321231213\n"
     ]
    }
   ],
   "source": [
    "def is_good(seq):\n",
    "    n = len(seq)\n",
    "    for i in range(2, n + 1, 2):\n",
    "        if seq[n - i // 2: n] == seq[n - i: n - i//2]:\n",
    "            return False\n",
    "    return True\n",
    "\n",
    "N = int(input())\n",
    "seq = [0]\n",
    "while len(seq) <= N:\n",
    "    if seq[-1] == 3:\n",
    "        seq.pop()\n",
    "        continue\n",
    "    seq[-1] += 1\n",
    "    if is_good(seq):\n",
    "        seq.append(0)\n",
    "        continue\n",
    "seq.pop()\n",
    "print(''.join([str(x) for x in seq]))"
   ]
  },
  {
   "cell_type": "markdown",
   "metadata": {},
   "source": [
    "## 좀 수정해보았다. 계속해서 시간초과 오류가 나는 상황 , for append pop 과정을 단축시키는 게 맞다고 보았다.\n"
   ]
  },
  {
   "cell_type": "code",
   "execution_count": 26,
   "metadata": {},
   "outputs": [
    {
     "name": "stdout",
     "output_type": "stream",
     "text": [
      "50\n",
      "12131231321231213123132131213212312131231321231213"
     ]
    }
   ],
   "source": [
    "n = int(input())\n",
    "li = [0]\n",
    "\n",
    "def find(li) :\n",
    "    n = len(li)\n",
    "    for i in range(2, n + 1, 2):\n",
    "        if li[n - i // 2: n] == li[n - i: n - i//2]:\n",
    "            return False\n",
    "    return True\n",
    "            \n",
    "            \n",
    "while len(li) <= n :\n",
    "\n",
    "    if li[-1] == 3 :\n",
    "        li.pop()\n",
    "        \n",
    "    li[-1] +=1\n",
    "    if find(li)== 1 :\n",
    "        li.append(0)\n",
    "        continue\n",
    "        \n",
    "li.pop()\n",
    "for x in li :\n",
    "    print(x, end= \"\")\n"
   ]
  },
  {
   "cell_type": "markdown",
   "metadata": {},
   "source": [
    "### 근데 이거 백트래킹 아니냐 다이나믹으로 풀었네 \n",
    "- 사실 백트래킹이 맞다고 보아도 좀 빡셈\n",
    "- 문제는 결국 1 2 3 중 규칙 맞게 수를 넣는 건데\n",
    "- 오류 생기면 이전 index로 가지쳐서 가기에는 그냥 1 2 3 넣어서 판단하는게 빨라 보임\n"
   ]
  },
  {
   "cell_type": "markdown",
   "metadata": {},
   "source": [
    "# 2529 부등호 \n",
    "-이런 문제는 노가다가 답이지\n"
   ]
  },
  {
   "cell_type": "code",
   "execution_count": 28,
   "metadata": {},
   "outputs": [
    {
     "name": "stdout",
     "output_type": "stream",
     "text": [
      "2\n",
      "< >\n",
      "897\n",
      "021"
     ]
    }
   ],
   "source": [
    "from itertools import permutations\n",
    "p1 = [9,8,7,6,5,4,3,2,1,0]\n",
    "p2 = [0,1,2,3,4,5,6,7,8,9]\n",
    "n = int(input())\n",
    "\n",
    "gr = list(input().split())\n",
    "\n",
    "for li in permutations(p1,n+1) :\n",
    "    switch = 0\n",
    "    li = list(li)\n",
    "    for j in range(len(gr)) :\n",
    "        if gr[j] == \"<\" :\n",
    "            switch += bool(li[j+1] > li[j]) \n",
    "        else :\n",
    "            switch += bool(li[j+1] < li[j])         \n",
    "    if switch == len(gr) :\n",
    "        for d in li :\n",
    "            print(d, end = \"\")\n",
    "        break\n",
    "print()\n",
    "for li in permutations(p2,n+1) :\n",
    "    switch = 0\n",
    "    li = list(li)\n",
    "    for j in range(len(gr)) :\n",
    "        if gr[j] == \"<\" :\n",
    "            switch += bool(li[j+1] > li[j]) \n",
    "        else :\n",
    "            switch += bool(li[j+1] < li[j])         \n",
    "    if switch == len(gr) :\n",
    "        for d in li :\n",
    "            print(d, end = \"\")\n",
    "        break    \n"
   ]
  },
  {
   "cell_type": "markdown",
   "metadata": {},
   "source": [
    "## 다른 방식도 도전해봤는데 잘 안됨 \n",
    "\n",
    "<><<<\n",
    "\n",
    "index 1자리가 최고 수라는 것을 증명 못함"
   ]
  },
  {
   "cell_type": "code",
   "execution_count": 13,
   "metadata": {},
   "outputs": [
    {
     "name": "stdout",
     "output_type": "stream",
     "text": [
      "5\n",
      "< > < < <\n",
      "[0, 3, 0, 1, 2, 3]\n",
      "594678\n",
      "041235"
     ]
    }
   ],
   "source": [
    "n = int(input())\n",
    "gr = list(input().split())\n",
    "li = [0] * (len(gr) +1)\n",
    "p1 = [9,8,7,6,5,4,3,2,1,0]\n",
    "so = [[],[],[],[],[],[],[],[],[],[]]\n",
    "\n",
    "# 1. input\n",
    "\n",
    "# 2. indexing grade\n",
    "s = 0\n",
    "for i in range(len(gr)) :\n",
    "    if gr[i] == \"<\" :\n",
    "        li[i+1] = li[i] + 1\n",
    "        s = 1\n",
    "    else :\n",
    "        li[i+1] = li[i] - 1        \n",
    "        if s == 1:\n",
    "            li[i] = 100\n",
    "            s = 0\n",
    "\n",
    "for i in range(len(li)) :\n",
    "    if li[i] == 100 :\n",
    "        li[i] = 0\n",
    "        li[i] = max(li)\n",
    "print(li)\n",
    "li = [x + (0 - min(li)) for x in (li) ] # normalization\n",
    "\n",
    "# 4. max\n",
    "li2 = sorted(li,reverse= True)\n",
    "\n",
    "for key in range(len(li)) :\n",
    "    so[li2[key]].append(p1[key]) \n",
    "\n",
    "for d in li :\n",
    "    temp = so[d].pop(0)\n",
    "    print(temp,end = \"\")\n",
    "print()  \n",
    "# 3. min\n",
    "li2 = sorted(li)\n",
    "\n",
    "for key in range(len(li)) :\n",
    "    so[li2[key]].append(key) \n",
    "\n",
    "for d in li :\n",
    "    temp = so[d].pop(0)\n",
    "    print(temp,end = \"\")\n",
    "\n"
   ]
  },
  {
   "cell_type": "code",
   "execution_count": 10,
   "metadata": {},
   "outputs": [
    {
     "data": {
      "text/plain": [
       "[2]"
      ]
     },
     "execution_count": 10,
     "metadata": {},
     "output_type": "execute_result"
    }
   ],
   "source": [
    "l = [1,2]\n",
    "n = 0\n",
    "l[1:2]"
   ]
  },
  {
   "cell_type": "code",
   "execution_count": 25,
   "metadata": {},
   "outputs": [
    {
     "name": "stdout",
     "output_type": "stream",
     "text": [
      "20\n",
      "[2, 3, 5, 7, 11, 13, 17, 19]\n",
      "0\n"
     ]
    }
   ],
   "source": [
    "n = int(input())\n",
    "li = [1,1,0,0] + [0]* (n-3)\n",
    "li2 = []\n",
    "# 1. find\n",
    "for i in range(2,len(li)) :\n",
    "    if li[i] == 0 :\n",
    "        for k in range(2, (n//i)+1) :\n",
    "            li[(i*k)] = 1\n",
    "                \n",
    "li2 = [x for x in range(len(li)) if li[x] != 1] \n",
    "# 2. mult \n",
    "cnt = 0\n",
    "for i in range(len(li2)) :\n",
    "    for l in range(len(li2)-i) :\n",
    "        temp = sum(li2[i:i+l+1]) \n",
    "        if temp == n :\n",
    "            cnt +=1 \n",
    "        elif temp > n :\n",
    "            break\n",
    "            \n",
    "print(cnt)"
   ]
  },
  {
   "cell_type": "markdown",
   "metadata": {},
   "source": [
    "# 2110 공유기 설치"
   ]
  },
  {
   "cell_type": "code",
   "execution_count": 23,
   "metadata": {},
   "outputs": [
    {
     "name": "stdout",
     "output_type": "stream",
     "text": [
      "5 5\n",
      "1\n",
      "2\n",
      "4\n",
      "8\n",
      "\n"
     ]
    },
    {
     "ename": "ValueError",
     "evalue": "invalid literal for int() with base 10: ''",
     "output_type": "error",
     "traceback": [
      "\u001b[1;31m---------------------------------------------------------------------------\u001b[0m",
      "\u001b[1;31mValueError\u001b[0m                                Traceback (most recent call last)",
      "\u001b[1;32m<ipython-input-23-6db48e73827d>\u001b[0m in \u001b[0;36m<module>\u001b[1;34m\u001b[0m\n\u001b[0;32m      2\u001b[0m \u001b[0mli\u001b[0m\u001b[1;33m=\u001b[0m \u001b[1;33m[\u001b[0m\u001b[1;36m0\u001b[0m\u001b[1;33m]\u001b[0m\u001b[1;33m*\u001b[0m\u001b[0mn\u001b[0m\u001b[1;33m\u001b[0m\u001b[1;33m\u001b[0m\u001b[0m\n\u001b[0;32m      3\u001b[0m \u001b[1;32mfor\u001b[0m \u001b[0mi\u001b[0m \u001b[1;32min\u001b[0m \u001b[0mrange\u001b[0m\u001b[1;33m(\u001b[0m\u001b[0mn\u001b[0m\u001b[1;33m)\u001b[0m \u001b[1;33m:\u001b[0m\u001b[1;33m\u001b[0m\u001b[1;33m\u001b[0m\u001b[0m\n\u001b[1;32m----> 4\u001b[1;33m     \u001b[0mli\u001b[0m\u001b[1;33m[\u001b[0m\u001b[0mi\u001b[0m\u001b[1;33m]\u001b[0m \u001b[1;33m=\u001b[0m \u001b[0mint\u001b[0m\u001b[1;33m(\u001b[0m\u001b[0minput\u001b[0m\u001b[1;33m(\u001b[0m\u001b[1;33m)\u001b[0m\u001b[1;33m)\u001b[0m\u001b[1;33m\u001b[0m\u001b[1;33m\u001b[0m\u001b[0m\n\u001b[0m\u001b[0;32m      5\u001b[0m \u001b[0mli\u001b[0m\u001b[1;33m.\u001b[0m\u001b[0msort\u001b[0m\u001b[1;33m(\u001b[0m\u001b[1;33m)\u001b[0m\u001b[1;33m\u001b[0m\u001b[1;33m\u001b[0m\u001b[0m\n\u001b[0;32m      6\u001b[0m \u001b[1;33m\u001b[0m\u001b[0m\n",
      "\u001b[1;31mValueError\u001b[0m: invalid literal for int() with base 10: ''"
     ]
    }
   ],
   "source": [
    "n,num = map(int,input().split())\n",
    "li= [0]*n\n",
    "for i in range(n) :\n",
    "    li[i] = int(input())\n",
    "li.sort()\n",
    "\n",
    "def find(start,end, cnt) :\n",
    "    mid = (start+end)//2\n",
    "    if cnt == 0 :\n",
    "        return min(abs(li[start]-li[mid]),abs(li[mid]-li[end]))\n",
    "    \n",
    "    if abs(li[start]-li[mid]) > abs(li[end]-li[mid]) :\n",
    "        return find(start,mid,cnt-1)\n",
    "        return find(mid,end,cnt-2)\n",
    "    else : \n",
    "        return find(start,mid,cnt-2)\n",
    "        return find(mid,end,cnt-1)          \n",
    "if num == 2 :\n",
    "    print(li[-1]-li[0])\n",
    "else :\n",
    "    print(find(0,n-1,num-3))\n",
    "\n",
    "\n",
    "\n",
    "    "
   ]
  },
  {
   "cell_type": "code",
   "execution_count": null,
   "metadata": {},
   "outputs": [],
   "source": [
    "n, c = map(int,input().split())\n",
    "s = []\n",
    "for _ in range(n):\n",
    "    s.append(int(input()))\n",
    "s.sort()\n",
    "st = 1\n",
    "en = s[-1] - s[0]\n",
    "res = 0\n",
    "while st <= en:\n",
    "    mid = (st + en) // 2\n",
    "    cnt = 1\n",
    "    ih = s[0]\n",
    "    for i in range(1,n):\n",
    "        if mid <= s[i] - ih:\n",
    "            cnt += 1\n",
    "            ih = s[i]\n",
    "    if cnt >= c:\n",
    "        res = mid\n",
    "        st = mid + 1\n",
    "    else:\n",
    "        en = mid-1\n",
    "print(res) "
   ]
  }
 ],
 "metadata": {
  "kernelspec": {
   "display_name": "Python 3",
   "language": "python",
   "name": "python3"
  },
  "language_info": {
   "codemirror_mode": {
    "name": "ipython",
    "version": 3
   },
   "file_extension": ".py",
   "mimetype": "text/x-python",
   "name": "python",
   "nbconvert_exporter": "python",
   "pygments_lexer": "ipython3",
   "version": "3.7.6"
  }
 },
 "nbformat": 4,
 "nbformat_minor": 4
}
