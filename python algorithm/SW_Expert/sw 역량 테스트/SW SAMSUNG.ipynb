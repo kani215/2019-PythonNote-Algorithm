{
 "cells": [
  {
   "cell_type": "markdown",
   "metadata": {},
   "source": [
    " # 16637번 괄호 추가하기"
   ]
  },
  {
   "cell_type": "code",
   "execution_count": null,
   "metadata": {},
   "outputs": [],
   "source": [
    "식을 쓴다. 그 수와 연산기호들을 적절히 괄호 씌워 최대값을 출력하자"
   ]
  },
  {
   "cell_type": "markdown",
   "metadata": {},
   "source": [
    "## 나의풀이 :\n",
    "\n",
    "시간제한이 빡빡해서 규격화된 함수 제작을 고려했습니다.\n",
    "파이썬의 자동 계산 기능 때문에 이를 해결하는 것도 하 문제였습니다.\n",
    "\n",
    "1. 입력수가 9이면 당연히 연산자는 4개입니다. 10이면 5개이겠지요\n",
    "\n",
    "2. 최대화 규칙은 무엇일까.\n"
   ]
  },
  {
   "cell_type": "code",
   "execution_count": 1,
   "metadata": {},
   "outputs": [
    {
     "name": "stdout",
     "output_type": "stream",
     "text": [
      "41\n"
     ]
    }
   ],
   "source": [
    "print(3+8*7-9*2)"
   ]
  },
  {
   "cell_type": "markdown",
   "metadata": {},
   "source": [
    "# 17070번 파이프옮기기"
   ]
  },
  {
   "cell_type": "code",
   "execution_count": null,
   "metadata": {},
   "outputs": [],
   "source": [
    "새 집의 크기는 N×N의 격자판으로 나타낼 수 있고, 1×1크기의 정사각형 칸으로 나누어져 있다. \n",
    "각각의 칸은 (r, c)로 나타낼 수 있다. 여기서 r은 행의 번호, c는 열의 번호이고, 행과 열의 번호는 1부터 시작한다. 각각의 칸은 빈 칸이거나 벽이다.\n",
    "\n",
    "오늘은 집 수리를 위해서 파이프 하나를 옮기려고 한다. 파이프는 아래와 같은 형태이고, \n",
    "2개의 연속된 칸을 차지하는 크기이다.\n",
    "\n",
    "이 2칸 잡아먹는 파이프는 대각선(11시5시) 가로 세로 3가지 방향이 가능하다.\n",
    "\n",
    "처음 파이프가 1.1 1.2 차지중이다.\n",
    "\n",
    "집의 크기가 주어질때 0은 빈곳 1첫째 줄에 파이프의 한쪽 끝을 (N, N)으로 이동시키는 방법의 수를 출력한다. \n",
    "이동시킬 수 없는 경우에는 0을 출력한다. 방법의 수는 항상 1,000,000보다 작거나 같다."
   ]
  },
  {
   "cell_type": "markdown",
   "metadata": {},
   "source": [
    "## 풀이 :\n",
    "\n",
    "> 1. DFS 로 직선적인 풀이가 가장 적합하다 판단했습니다.\n",
    "> 2. cnt로 재귀횟수를 탐색합니다.\n",
    "> 3. start node는 1,2로 진행합니다. matrix 로 표현하면....\n"
   ]
  },
  {
   "cell_type": "code",
   "execution_count": 4,
   "metadata": {
    "scrolled": true
   },
   "outputs": [
    {
     "name": "stdout",
     "output_type": "stream",
     "text": [
      "6\n",
      "0 0 0 0 0 0\n",
      "0 1 0 0 0 0\n",
      "0 0 0 0 0 0\n",
      "0 0 0 0 0 0\n",
      "0 0 0 0 0 0\n",
      "0 0 0 0 0 0\n",
      "13\n"
     ]
    }
   ],
   "source": [
    "from collections import deque\n",
    "def DFS(start):\n",
    "    li = [start]\n",
    "    deque2 = deque(li)    \n",
    "    visited = [[0]*num for _ in range(num)]\n",
    "    while deque2 :\n",
    "        x,y,pipebefore = deque2.popleft()\n",
    "        for i in range(3) :\n",
    "            nx =-1\n",
    "            ny = -1\n",
    "            pipeafter = -1\n",
    "            if typepipe[pipebefore][i] :\n",
    "                nx = x+dx[i]\n",
    "                ny = y+dy[i]\n",
    "                pipeafter = i\n",
    "            if nx<=num-1 and ny<=num-1 :\n",
    "                if pipeafter == 0 :\n",
    "                    if graph[nx-1][ny] or graph[nx][ny-1] :\n",
    "                        continue\n",
    "                if graph[nx][ny] == 0 :\n",
    "                    deque2.append((nx,ny,pipeafter))\n",
    "                    visited[nx][ny] +=1\n",
    "    return visited[num-1][num-1]\n",
    "                    \n",
    "# 3. DFS \n",
    "num = int(input())\n",
    "graph = [0]*num\n",
    "dx = [1,0,1]\n",
    "dy = [1,1,0]\n",
    "typepipe = [[1,1,1],[1,1,0],[1,0,1]]\n",
    "# 방향 제한이 있다 0 , 1 , 2 순서대로 대각 가로 세로이다. 현 상태는 가로이므로 1로 start \n",
    "for i in range(num) :\n",
    "    graph[i]= list(map(int,input().split()))\n",
    "    \n",
    "# 1. 입력\n",
    "graph[0][0] = 1\n",
    "graph[0][1] = 1\n",
    "print(DFS((0,1,1)))\n",
    "# 3. 출력"
   ]
  },
  {
   "cell_type": "markdown",
   "metadata": {},
   "source": [
    "DP 경로 경우의 수를 기억해두고 그 곱을 구해서 풀이"
   ]
  },
  {
   "cell_type": "code",
   "execution_count": 18,
   "metadata": {},
   "outputs": [
    {
     "name": "stdout",
     "output_type": "stream",
     "text": [
      "6\n",
      "0 0 0 0 0 0\n",
      "0 1 0 0 0 0\n",
      "0 0 0 0 0 0\n",
      "0 0 0 0 0 0\n",
      "0 0 0 0 0 0\n",
      "0 0 0 0 0 0\n",
      "13\n"
     ]
    }
   ],
   "source": [
    "def DFS(x,y,pipetype) :\n",
    "    global k\n",
    "    if x == num-1 and y == num-1 :k +=1\n",
    "    if pipetype  == 0 or pipetype == 1 or pipetype ==2 :\n",
    "        if y+1<num and x+1<num :\n",
    "            if graph[x+1][y] == graph[x][y+1]==graph[x+1][y+1]==0:\n",
    "                DFS(x+1,y+1,0)\n",
    "    if pipetype == 0 or  pipetype == 2:\n",
    "        if x+1<num :\n",
    "            if not graph[x+1][y] :\n",
    "                DFS(x+1,y,2)\n",
    "    if pipetype == 0 or  pipetype == 1:\n",
    "        if y+1<num :\n",
    "            if not graph[x][y+1] :\n",
    "                DFS(x,y+1,1)\n",
    "        \n",
    "num = int(input())\n",
    "graph = [0]*num\n",
    "\n",
    "# 방향 제한이 있다 0 , 1 , 2 순서대로 대각 가로 세로이다. 현 상태는 가로이므로 1로 start \n",
    "for i in range(num) :\n",
    "    graph[i]= list(map(int,input().split()))\n",
    "    \n",
    "# 1. 입력 ------------------------------------------------------------------------------------\n",
    "k = 0\n",
    "DFS(0,1,1)\n",
    "print(k)"
   ]
  },
  {
   "cell_type": "code",
   "execution_count": null,
   "metadata": {},
   "outputs": [],
   "source": [
    "import sys 넣으면 시간 초과된다 ㅋㅋㅋㅋㅋㅋㅋㅋㅋㅋㅋㅋ"
   ]
  },
  {
   "cell_type": "code",
   "execution_count": 2,
   "metadata": {
    "scrolled": true
   },
   "outputs": [
    {
     "name": "stdout",
     "output_type": "stream",
     "text": [
      "3\n",
      "0 0 0\n",
      "0 0 0\n",
      "0 0 0\n",
      "1\n"
     ]
    }
   ],
   "source": [
    "# 방향 제한이 있다 0 , 1 , 2 순서대로 대각 가로 세로이다. 현 상태는 가로이므로 1로 start \n",
    "\n",
    "import sys\n",
    "def DFS(x,y,pipetype) :\n",
    "    global k\n",
    "    if x == num-1 and y == num-1 :k +=1\n",
    "    if pipetype  == 0 or pipetype == 1 or pipetype ==2 :\n",
    "        if y+1<num and x+1<num :\n",
    "            if graph[x+1][y] == graph[x][y+1]==graph[x+1][y+1]==0:\n",
    "                DFS(x+1,y+1,0)\n",
    "    if pipetype == 0 or  pipetype == 2:\n",
    "        if x+1<num :\n",
    "            if not graph[x+1][y] :\n",
    "                DFS(x+1,y,2)\n",
    "    if pipetype == 0 or  pipetype == 1:\n",
    "        if y+1<num :\n",
    "            if not graph[x][y+1] :\n",
    "                DFS(x,y+1,1)\n",
    "\n",
    "num = int(input())\n",
    "graph = [[*map(int, input().split())] for _ in range(num)]\n",
    "# 1. 입력 ------------------------------------------------------------------------------------\n",
    "k = 0\n",
    "DFS(0,1,1)\n",
    "print(k)"
   ]
  },
  {
   "cell_type": "code",
   "execution_count": null,
   "metadata": {},
   "outputs": [],
   "source": []
  }
 ],
 "metadata": {
  "kernelspec": {
   "display_name": "Python 3",
   "language": "python",
   "name": "python3"
  },
  "language_info": {
   "codemirror_mode": {
    "name": "ipython",
    "version": 3
   },
   "file_extension": ".py",
   "mimetype": "text/x-python",
   "name": "python",
   "nbconvert_exporter": "python",
   "pygments_lexer": "ipython3",
   "version": "3.7.3"
  }
 },
 "nbformat": 4,
 "nbformat_minor": 2
}
