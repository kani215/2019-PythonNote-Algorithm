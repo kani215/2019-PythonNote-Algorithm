{
 "cells": [
  {
   "cell_type": "code",
   "execution_count": 1,
   "metadata": {},
   "outputs": [
    {
     "name": "stdout",
     "output_type": "stream",
     "text": [
      "3\n",
      "3 6\n",
      "#1 1\n",
      "5 15\n",
      "#2 1\n",
      "5 10\n",
      "#3 0\n"
     ]
    }
   ],
   "source": [
    "from itertools import combinations\n",
    "\n",
    "l = [1,2,3,4,5,6,7,8,9,10,11,12 ]\n",
    "\n",
    "def powerset(items):\n",
    "    combo = []\n",
    "    for r in range(len(items) + 1):\n",
    "        #use a list to coerce a actual list from the combinations generator\n",
    "        combo.append(list(combinations(items,r)))\n",
    "    return combo\n",
    "\n",
    "l_powerset = powerset(l)\n",
    "\n",
    "T = int(input())\n",
    "for i in range(1,T+1) :\n",
    "    n,k = map(int,input().split())\n",
    "    cnt = 0\n",
    "    for j,a in enumerate(l_powerset[n]):\n",
    "        if sum(a) == k :\n",
    "            cnt += 1\n",
    "    num = str(i)        \n",
    "    print(\"#\"+num,cnt)\n"
   ]
  },
  {
   "cell_type": "code",
   "execution_count": null,
   "metadata": {},
   "outputs": [],
   "source": [
    "3"
   ]
  }
 ],
 "metadata": {
  "kernelspec": {
   "display_name": "Python 3",
   "language": "python",
   "name": "python3"
  },
  "language_info": {
   "codemirror_mode": {
    "name": "ipython",
    "version": 3
   },
   "file_extension": ".py",
   "mimetype": "text/x-python",
   "name": "python",
   "nbconvert_exporter": "python",
   "pygments_lexer": "ipython3",
   "version": "3.7.3"
  }
 },
 "nbformat": 4,
 "nbformat_minor": 2
}
