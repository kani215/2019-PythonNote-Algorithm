{
 "cells": [
  {
   "cell_type": "markdown",
   "metadata": {},
   "source": [
    "1 2 3 4 5 6 7 8 9 10\n",
    "> 1 10 1 9 2 8 3 7 4 6 5\n",
    "\n",
    "정렬 알고리즘 즉변경으로 풀이해야하는데 도저히 모르겠다. \n",
    "풀이는 list 2개 로 분해 저장\n",
    "list빈값 생성 홀수 대입 짝수 대입으로 풀이함 "
   ]
  },
  {
   "cell_type": "code",
   "execution_count": 5,
   "metadata": {
    "scrolled": true
   },
   "outputs": [
    {
     "name": "stdout",
     "output_type": "stream",
     "text": [
      "1\n",
      "20\n",
      "3 69 21 46 43 60 62 97 64 30 17 88 18 98 71 75 59 36 9 26\t\n",
      "#1 98 3 97 9 88 17 75 18 71 21\n"
     ]
    }
   ],
   "source": [
    "T = int(input())\n",
    "for i in range(T) :\n",
    "    N = int(input())\n",
    "    pin = list(map(int,input().split()))\n",
    "    pin = sorted(pin, reverse = True)\n",
    "    emplist = [0] * N\n",
    "      \n",
    "    for j in range(int((N+1)/2) ) :\n",
    "        emplist[2*j] = pin[j]\n",
    "    for k in range(int(N/2)) :\n",
    "        pin.sort()\n",
    "        emplist[2*k+1] = pin[k]\n",
    "    \n",
    "    print(\"#\"+str(i+1),\" \".join(map(str,emplist[0:10])))\n"
   ]
  },
  {
   "cell_type": "code",
   "execution_count": 22,
   "metadata": {},
   "outputs": [
    {
     "data": {
      "text/plain": [
       "['3', '2', '1']"
      ]
     },
     "execution_count": 22,
     "metadata": {},
     "output_type": "execute_result"
    }
   ],
   "source": [
    "i = [\"1\",\"2\",\"3\"]\n",
    "sorted(i,reverse=True)"
   ]
  }
 ],
 "metadata": {
  "kernelspec": {
   "display_name": "Python 3",
   "language": "python",
   "name": "python3"
  },
  "language_info": {
   "codemirror_mode": {
    "name": "ipython",
    "version": 3
   },
   "file_extension": ".py",
   "mimetype": "text/x-python",
   "name": "python",
   "nbconvert_exporter": "python",
   "pygments_lexer": "ipython3",
   "version": "3.7.3"
  }
 },
 "nbformat": 4,
 "nbformat_minor": 2
}
