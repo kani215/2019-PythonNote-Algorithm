{
 "cells": [
  {
   "cell_type": "code",
   "execution_count": null,
   "metadata": {},
   "outputs": [],
   "source": [
    "2019. 05~  \n",
    "\n",
    "김익환 작성\n",
    "\n",
    "이곳에 담길 파일들은 SW Expert Academy에서 진행된 \n",
    "Programming Intermediate 강좌의 메모들입니다.\n",
    "\n",
    "왜? 나는 알고리즘을 공부해야만 하는가?\n",
    "현실의 문제를 적용해 새로운 편의를 가지게 만드는 행위가\n",
    "프로그래밍이라고 생각합니다. 그 기초, 혹은 구체적 논리까지 생각의 성립을\n",
    "도와주기 위해서는 자주 쓰이는 알고리즘에 관한 공부가 필요합니다.\n",
    "\n",
    "이 질문은 다시 원점으로 내가 하려는 일에 관한 물음으로 이어집니다\n",
    "\n",
    "아직 내가 노리느\n",
    "알고리즘을 암기 숙지 < 현실문제를 끌어오거나\n",
    "알고리즘 개선 > 새로운 알고리즘의 탄생\n",
    "\n"
   ]
  }
 ],
 "metadata": {
  "kernelspec": {
   "display_name": "Python 3",
   "language": "python",
   "name": "python3"
  },
  "language_info": {
   "codemirror_mode": {
    "name": "ipython",
    "version": 3
   },
   "file_extension": ".py",
   "mimetype": "text/x-python",
   "name": "python",
   "nbconvert_exporter": "python",
   "pygments_lexer": "ipython3",
   "version": "3.7.3"
  }
 },
 "nbformat": 4,
 "nbformat_minor": 2
}
