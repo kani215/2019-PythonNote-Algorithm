{
 "cells": [
  {
   "cell_type": "markdown",
   "metadata": {},
   "source": [
    "# Stack "
   ]
  },
  {
   "cell_type": "markdown",
   "metadata": {},
   "source": [
    "## 1. Stack 자료구조의 개념\n",
    "\n",
    "* stack : 프로그램에서 중요성과 활용도가 매우 높은 자료구조\n",
    "\n",
    "1. 물건 쌓아 올리듯 자료를 쌓아 올림\n",
    "\n",
    "2. 스택에 저장된 자료는 선형구조를 가짐 1대1 관계\n",
    "\n",
    "3. 스택에 자료 삽입 출력 가능\n",
    "\n",
    "4. 마지막에 삽입한 자료를 가장 먼저 꺼냄 (후입list in first out 선출 기억)\n",
    "\n",
    "## 2. stack의 구현\n",
    "\n",
    "* 자료구조 \n",
    "> 파이썬 list 사용\n",
    "> 저장소 자체를 스택이라 하기도\n",
    "> 마지막 삽입된 원소 위치를 top이라 부른다.\n",
    "\n",
    "* 연산\n",
    "> 삽입 : 저장소에 자료 저장 push라고 합\n",
    "> 삭제 : 자료를 꺼낸다라는 의미 자료의 삽입과 역순 pop이라고 함\n",
    "\n",
    "> isEmpty : 스택이 공백인지 아닌지 확인\n",
    "> peek : 젤 마지막top에 있는 원소 반환\n",
    "\n",
    "## 3.  스택의 삽입 삭제 연산 과정\n",
    "### 그릇에 담는 다고 생각하여라\n",
    "\n",
    "1. ex. 빈 스택에 원소 A,B,C 넣고 삭제\n",
    "> push a push b push c pop c pop b pop a \n",
    "\n",
    "2. push 알고리즘"
   ]
  },
  {
   "cell_type": "code",
   "execution_count": null,
   "metadata": {},
   "outputs": [],
   "source": [
    "s=[]\n",
    "def push(item) :\n",
    "    s.append(item)\n",
    "    "
   ]
  },
  {
   "cell_type": "markdown",
   "metadata": {},
   "source": [
    "3. pop 알고리즘"
   ]
  },
  {
   "cell_type": "code",
   "execution_count": null,
   "metadata": {},
   "outputs": [],
   "source": [
    "def pop():\n",
    "    if len(s)==0 :\n",
    "        return # 빈 값일때 종료\n",
    "    else :\n",
    "        return s.pop(-1)"
   ]
  },
  {
   "cell_type": "markdown",
   "metadata": {},
   "source": [
    "4. 1,2,3 번 과정을 하나의 코드로 구현하기"
   ]
  },
  {
   "cell_type": "code",
   "execution_count": null,
   "metadata": {},
   "outputs": [],
   "source": [
    "def push(item) :\n",
    "    s.append(item)\n",
    "def pop():\n",
    "    if len(s)==0 :\n",
    "        return # 빈 값일때 종료\n",
    "    else :\n",
    "        return s.pop(-1)\n",
    "s=[]\n",
    "push(1)\n",
    "push(2)\n",
    "push(3)\n",
    "pop()\n"
   ]
  },
  {
   "cell_type": "markdown",
   "metadata": {},
   "source": [
    "### 스택 구현 고려사항\n",
    "* 리스트를 이용하여 스택 구현\n",
    ">장점 : 구현이 용이\n",
    ">단점 : list 크기 변경 작업은 엄청난 시간이 필요합니다.\n",
    "> 해결 : 배열처럼 크기 미리 정하고 사용 \n",
    "동적 연결리스트를 이용 저장소 동적 할당 스택 구현 "
   ]
  },
  {
   "cell_type": "markdown",
   "metadata": {},
   "source": [
    "## 2. Stack의 응용\n",
    "### 1. 괄호 맞춤법 검사\n",
    "* 스택을 활용한 가로 검사\n",
    "> 짝이 () [] 맞아야한다는 것은 push pop 결과 공백 스택이 되어야한다는 원리로 괄호검사 가능  \n",
    "\n",
    "### 2. 함수 호출 관리\n",
    "\n",
    "* 프로그램에서의 함수 호출과 복귀에 따른 수행 순서를 관리\n",
    "> 1. 가장 마지막에 호출된 함수가 가장 먼저 실행 완료 복귀하는 stack 성질 이용\n",
    "> 2. 함수 호출 발생시 호출한 함수 수행에 필요한 지역변수 및 수행후 복귀 주소를 스택프레임에 저장 시스템 스택에 삽입\n",
    "> 3. 함수 실행이 끝나면 시스템 스택의 top원소를 삭제pop하면서 프레임에 저장되어있던 복귀주소를 확인하고 복귀\n",
    "> 4. 이 과정은 결국 공백 스택이 되어야한다.\n",
    "\n",
    "#### 잘 보자\n",
    "\n",
    "1. main() 실행함수 호출 2. F_1() 함수 호출 3. F_1안에서 F_2함수 호출 4. F_2 함수 종료 5.F_1함수 종료 main함수종료\n",
    "\n",
    "> 이때 실행하는건 stack 함수 \n",
    "\n",
    "#### 2-2. 재귀 호출\n",
    "1. 자기 자신 순환 호출 \n",
    "2. 장점 : 메모리가 단축된다.\n"
   ]
  },
  {
   "cell_type": "code",
   "execution_count": null,
   "metadata": {},
   "outputs": [],
   "source": []
  }
 ],
 "metadata": {
  "kernelspec": {
   "display_name": "Python 3",
   "language": "python",
   "name": "python3"
  },
  "language_info": {
   "codemirror_mode": {
    "name": "ipython",
    "version": 3
   },
   "file_extension": ".py",
   "mimetype": "text/x-python",
   "name": "python",
   "nbconvert_exporter": "python",
   "pygments_lexer": "ipython3",
   "version": "3.7.3"
  }
 },
 "nbformat": 4,
 "nbformat_minor": 2
}
