{
 "cells": [
  {
   "cell_type": "markdown",
   "metadata": {},
   "source": [
    "# 깊이 우선 탐색"
   ]
  },
  {
   "cell_type": "markdown",
   "metadata": {},
   "source": [
    "## 1. 깊이 우선 탐색 이란?\n",
    "비선형구조인 그래프 구조는 그래프로 표현된 모든 자료를 빠짐없이 검색하는 것이 중요\n",
    "> 1-1.깊이 우선 탐색 DFS\n",
    "\n",
    "> 1-2. 너비 우선 탐색 BFS"
   ]
  },
  {
   "cell_type": "markdown",
   "metadata": {},
   "source": [
    "### 1-1. DFS 깊이 우선 탐색 방법\n",
    "\n",
    "* 시작 정점의 한 방향으로 갈 수 있는 경로가 깊은 곳까지 탐색\n",
    "* 가장 마지막에 만났던 갈림길 간선이 있는 정점으로 되돌아옴\n",
    "\n",
    "* 가장 마지막에 만났던 갈림길의 정점으로 되돌아가서 다시 깊이 우선 탐색을 반복 후입선출 구조의 스택사용\n",
    "\n",
    "### 1-2 과정\n",
    "\n",
    "1. 시작 점 v를 결정 \n",
    "2. 방문시작 점 v와 인접한 점들중 방문 안한 w존재시 v를 스택에 push하고 w방문\n",
    "3. 방문 전부 했을 시 탐색 방향 변경 위해 스택을 pop하고 빠꾸\n",
    "\n",
    "> 의사코드\n",
    "\n",
    "visited[] stack[] 초기화\n",
    "DFS(v)\n",
    "  v방문\n",
    "  visited[v] <- true\n",
    "  do {\n",
    "      if(v 인접 점중 방문 안한 w 찾기 )\n",
    "        push(v)\n",
    "      while(w) {\n",
    "        W방문\n",
    "        visited[w] <-true;\n",
    "        push(w)\n",
    "        v<-w\n",
    "        v의 인접 정점 중 방문 안 한 w 찾기\n",
    "        }\n",
    "        v <- pop(stack);\n",
    "        \n",
    "     } while(v)\n",
    "end DFS()\n",
    " "
   ]
  },
  {
   "cell_type": "markdown",
   "metadata": {},
   "source": [
    "DFS에서 강조되는 사항은 노드에서 부모노드로 빽할때 stack 자료구조를 활용했다는 것이다.\n",
    "\n",
    "이게 중요하다. \n"
   ]
  },
  {
   "cell_type": "code",
   "execution_count": null,
   "metadata": {},
   "outputs": [],
   "source": []
  }
 ],
 "metadata": {
  "kernelspec": {
   "display_name": "Python 3",
   "language": "python",
   "name": "python3"
  },
  "language_info": {
   "codemirror_mode": {
    "name": "ipython",
    "version": 3
   },
   "file_extension": ".py",
   "mimetype": "text/x-python",
   "name": "python",
   "nbconvert_exporter": "python",
   "pygments_lexer": "ipython3",
   "version": "3.7.3"
  }
 },
 "nbformat": 4,
 "nbformat_minor": 2
}
