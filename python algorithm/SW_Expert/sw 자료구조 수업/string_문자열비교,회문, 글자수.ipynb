{
 "cells": [
  {
   "cell_type": "markdown",
   "metadata": {},
   "source": [
    "# string \n",
    "\n",
    "1. 문자열 비교 \n",
    "두 개의 문자열 str1과 str2가 주어진다. 문자열 str2 안에 str1과 일치하는 부분이 있는지 찾는 프로그램을 만드시오.\n",
    "\n",
    "예를 들어 두 개의 문자열이 다음과 같이 주어질 때, 첫 문자열이 두번째에 존재하면 1, 존재하지 않으면 0을 출력한다.\n",
    " \n",
    "\n",
    "ABC\n",
    "\n",
    "ZZZZZABCZZZZZ\n",
    "\n",
    "두번째 문자열에 첫번째 문자열과 일치하는 부분이 있으므로 1을 출력.\n",
    " \n",
    "\n",
    "ABC\n",
    "\n",
    "ZZZZAZBCZZZZZ\n",
    "\n",
    "문자열이 일치하지 않으므로 0을 출력.\n",
    "\n",
    "## 풀이 \n",
    "> 문자열 탐색 알고리즘 보어 - 무이어 사용예정\n",
    "\n",
    "> 파이썬 list값 원소들 타입 변환은 map(int,list명)으로 간단히 됩니다."
   ]
  },
  {
   "cell_type": "code",
   "execution_count": null,
   "metadata": {},
   "outputs": [],
   "source": [
    "T = int(input())\n",
    "\n",
    "for i in range(T) :\n",
    "    pin = list(input())\n",
    "    pwin = list(input())\n",
    "    findal(pin,pwin)\n",
    "    \n",
    "def findal(pin,pout) :\n",
    "    pin.reverse()\n",
    "    \n",
    "    for i in pin :\n",
    "        pin[i]\n",
    "        "
   ]
  },
  {
   "cell_type": "code",
   "execution_count": 4,
   "metadata": {},
   "outputs": [
    {
     "name": "stdout",
     "output_type": "stream",
     "text": [
      "[2, 3, 1]\n"
     ]
    }
   ],
   "source": []
  },
  {
   "cell_type": "code",
   "execution_count": null,
   "metadata": {},
   "outputs": [],
   "source": []
  },
  {
   "cell_type": "code",
   "execution_count": null,
   "metadata": {},
   "outputs": [],
   "source": []
  }
 ],
 "metadata": {
  "kernelspec": {
   "display_name": "Python 3",
   "language": "python",
   "name": "python3"
  },
  "language_info": {
   "codemirror_mode": {
    "name": "ipython",
    "version": 3
   },
   "file_extension": ".py",
   "mimetype": "text/x-python",
   "name": "python",
   "nbconvert_exporter": "python",
   "pygments_lexer": "ipython3",
   "version": "3.7.3"
  }
 },
 "nbformat": 4,
 "nbformat_minor": 2
}
