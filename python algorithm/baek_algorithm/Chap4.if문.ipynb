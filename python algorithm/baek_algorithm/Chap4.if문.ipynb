{
 "cells": [
  {
   "cell_type": "code",
   "execution_count": null,
   "metadata": {},
   "outputs": [],
   "source": [
    "시험 점수를 입력받아 90 ~ 100점은 A, \n",
    "80 ~ 89점은 B, \n",
    "70 ~ 79점은 C, \n",
    "60 ~ 69점은 D, \n",
    "\n",
    "나머지 점수는 F를 출력하는 프로그램을 작성하시오."
   ]
  },
  {
   "cell_type": "code",
   "execution_count": 8,
   "metadata": {},
   "outputs": [
    {
     "name": "stdout",
     "output_type": "stream",
     "text": [
      "91\n",
      "A\n"
     ]
    }
   ],
   "source": [
    "T = int(input())\n",
    "if (T<=100 and T>=90): \n",
    "    print(\"A\")\n",
    "elif (T<=89 and T>=80):\n",
    "    print(\"B\")\n",
    "elif (T<=79 and T>=70):\n",
    "    print(\"C\")\n",
    "elif (T<=69 and T>=60):\n",
    "    print(\"D\")\n",
    "else :\n",
    "    print(\"F\")"
   ]
  },
  {
   "cell_type": "markdown",
   "metadata": {},
   "source": [
    "첫째 줄에 세 정수 A, B, C가 공백으로 구분되어 주어진다. (1 ≤ A, B, C ≤ 100)"
   ]
  },
  {
   "cell_type": "code",
   "execution_count": 26,
   "metadata": {},
   "outputs": [
    {
     "name": "stdout",
     "output_type": "stream",
     "text": [
      "10 20 30\n",
      "20\n"
     ]
    }
   ],
   "source": [
    "l1 = []\n",
    "a,b,c = map(int,input().split())\n",
    "l1.append(a)\n",
    "l1.append(b)\n",
    "l1.append(c)\n",
    "l1.sort()\n",
    "\n",
    "print(l1[1])\n",
    "    \n",
    "\n"
   ]
  },
  {
   "cell_type": "code",
   "execution_count": null,
   "metadata": {},
   "outputs": [],
   "source": [
    "list(filter(lambda x: x > 5, range(1,10)))\n",
    "\n",
    ">>> [1, 2, 3, 4, 5, 6, 7, 8, 9]\n",
    "\n",
    "#이걸로도 가능"
   ]
  },
  {
   "cell_type": "code",
   "execution_count": 8,
   "metadata": {},
   "outputs": [
    {
     "name": "stdout",
     "output_type": "stream",
     "text": [
      "10 5\n",
      "1 10 4 9 2 3 8 5 7 6\n",
      "1 4 2 3\n"
     ]
    }
   ],
   "source": [
    "n,x = map(int,input().split())\n",
    "listn = []\n",
    "a = input().split()\n",
    "for i in range(n) :\n",
    "    if int(a[i])<x :\n",
    "        listn.append(a[i])\n",
    "print(' '.join(listn))\n",
    "\n"
   ]
  },
  {
   "cell_type": "code",
   "execution_count": 7,
   "metadata": {
    "scrolled": true
   },
   "outputs": [
    {
     "name": "stdout",
     "output_type": "stream",
     "text": [
      "3\n",
      "40 80 60\n",
      "[40, 60, 80]\n",
      "75.0\n"
     ]
    }
   ],
   "source": [
    "n = int(input())\n",
    "a = map(int, input().split())\n",
    "a = list(a)\n",
    "a.sort()\n",
    "avg = 0\n",
    "\n",
    "for i in range(n) :\n",
    "    avg += (float((a[i]))/float(a[n-1]))\n",
    "print(avg*100/n)\n"
   ]
  },
  {
   "cell_type": "markdown",
   "metadata": {},
   "source": [
    "format 에 대한 이해\n",
    "format(3.141592653589793,\"6.2f\")\n",
    "format(42,'{:04d}')\n"
   ]
  },
  {
   "cell_type": "code",
   "execution_count": 20,
   "metadata": {
    "scrolled": true
   },
   "outputs": [
    {
     "data": {
      "text/plain": [
       "'15.000'"
      ]
     },
     "execution_count": 20,
     "metadata": {},
     "output_type": "execute_result"
    }
   ],
   "source": [
    "import math\n",
    "a = [1,2,3,4,5]\n",
    "T = sum(a, 0.00)\n",
    "'{:5.3f}'.format(T)"
   ]
  },
  {
   "cell_type": "code",
   "execution_count": 35,
   "metadata": {},
   "outputs": [
    {
     "name": "stdout",
     "output_type": "stream",
     "text": [
      "1\n",
      "4 10 1 1 1\n",
      "25.000%\n"
     ]
    }
   ],
   "source": [
    "T = int(input())\n",
    "for i in range(T) :\n",
    "    nums = list(map(int, input().split()))\n",
    "    \n",
    "    avg = 0\n",
    "    cnt = 0\n",
    "    ans = 0\n",
    "    for j in range(1, nums[0]+1) :\n",
    "        avg += nums[j]\n",
    "\n",
    "    for k in range(1, nums[0]+1) :\n",
    "        if (avg/nums[0])<nums[k] :\n",
    "            cnt +=1\n",
    "    ans += cnt/nums[0]*100\n",
    "    print(format(ans,\"5.3f\")+\"%\")\n",
    "        \n",
    "        \n"
   ]
  },
  {
   "cell_type": "code",
   "execution_count": 12,
   "metadata": {},
   "outputs": [
    {
     "name": "stdout",
     "output_type": "stream",
     "text": [
      "1\n"
     ]
    }
   ],
   "source": [
    "a=1\n",
    "if a == 1 :\n",
    "\n",
    "print(a)"
   ]
  },
  {
   "cell_type": "code",
   "execution_count": 3,
   "metadata": {},
   "outputs": [
    {
     "name": "stdout",
     "output_type": "stream",
     "text": [
      "1\n",
      "60\n"
     ]
    }
   ],
   "source": [
    "ainput = int(input())\n",
    "a2input = ainput\n",
    "cnt = 0\n",
    "while True :\n",
    "    tena = a2input//10 \n",
    "    onea = a2input%10\n",
    "    binput = tena + onea\n",
    "    cnt += 1\n",
    "    cinput = onea *10 + binput%10\n",
    "    if ainput == cinput :\n",
    "        print(cnt)\n",
    "        break\n",
    "    a2input = cinput\n",
    "    "
   ]
  }
 ],
 "metadata": {
  "kernelspec": {
   "display_name": "Python 3",
   "language": "python",
   "name": "python3"
  },
  "language_info": {
   "codemirror_mode": {
    "name": "ipython",
    "version": 3
   },
   "file_extension": ".py",
   "mimetype": "text/x-python",
   "name": "python",
   "nbconvert_exporter": "python",
   "pygments_lexer": "ipython3",
   "version": "3.7.3"
  }
 },
 "nbformat": 4,
 "nbformat_minor": 2
}
