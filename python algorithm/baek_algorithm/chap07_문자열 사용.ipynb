{
 "cells": [
  {
   "cell_type": "markdown",
   "metadata": {},
   "source": [
    "#  chap7문자열 사용"
   ]
  },
  {
   "cell_type": "markdown",
   "metadata": {},
   "source": [
    "* in 연산자의 사용\n",
    "  - in은 문자열이 있나 찾아주며 boolean값으로 결과를 반환한다. 이는 list의 처리에서 상당히 유용한데\n",
    "  for if로 처리가 가능하기 때문이다."
   ]
  },
  {
   "cell_type": "code",
   "execution_count": 5,
   "metadata": {
    "scrolled": false
   },
   "outputs": [
    {
     "name": "stdout",
     "output_type": "stream",
     "text": [
      "A\n",
      "65\n"
     ]
    }
   ],
   "source": [
    "T = input()\n",
    "print(ord(T))\n"
   ]
  },
  {
   "cell_type": "code",
   "execution_count": 12,
   "metadata": {},
   "outputs": [],
   "source": [
    "li = ['a','v']"
   ]
  },
  {
   "cell_type": "markdown",
   "metadata": {},
   "source": [
    "## 알파벳 찾기\n",
    "\n",
    "입력 문장의 알파벳들에 대해서, a가 처음 등장하는 위치, b가 처음 등장하는 위치, ... z가 처음 등장하는 위치를 공백으로 구분해서 출력한다."
   ]
  },
  {
   "cell_type": "code",
   "execution_count": 16,
   "metadata": {
    "scrolled": true
   },
   "outputs": [
    {
     "name": "stdout",
     "output_type": "stream",
     "text": [
      "baekjoon\n",
      "1 0 -1 -1 2 -1 -1 -1 -1 4 3 -1 -1 7 5 -1 -1 -1 -1 -1 -1 -1 -1 -1 -1 -1\n"
     ]
    }
   ],
   "source": [
    "T = input()\n",
    "Text = list(T)\n",
    "alpa = ['a','b','c','d','e','f','g','h','i','j','k','l','m','n','o','p','q','r','s','t','u','v','w','x','y','z']\n",
    "elist = [\"-1\"]*26\n",
    "for i in range(len(alpa)) :\n",
    "    if(alpa[i] in Text)==True :\n",
    "        if (elist[i]== '-1') :\n",
    "            Textstr = str(Text.index(alpa[i]))\n",
    "            elist[i] = Textstr\n",
    "            \n",
    "\n",
    "print(\" \".join(elist))"
   ]
  },
  {
   "cell_type": "markdown",
   "metadata": {},
   "source": [
    "## 문자열 반복\n",
    "2\n",
    "3 ABC\n",
    "5 /HTP\n",
    "\n",
    "요점은 이거다. 뒤에 split()사용 없이 연속입력 값을 어떻게 개별 변수로 list저장할거냐\n",
    "\n",
    "str()값이면 곱셈만 해주면 끝이기 때문이지 "
   ]
  },
  {
   "cell_type": "code",
   "execution_count": 5,
   "metadata": {},
   "outputs": [
    {
     "name": "stdout",
     "output_type": "stream",
     "text": [
      "2222222222222\n",
      "3333333333333\n"
     ]
    }
   ],
   "source": [
    "a = ['1','2','3']\n",
    "\n",
    "for j in range(1,len(a)) : \n",
    "    print(a[j]*13)"
   ]
  },
  {
   "cell_type": "code",
   "execution_count": 2,
   "metadata": {},
   "outputs": [
    {
     "name": "stdout",
     "output_type": "stream",
     "text": [
      "1\n",
      "5 /HTP\n",
      "/////HHHHHTTTTTPPPPP\n"
     ]
    }
   ],
   "source": [
    "s = int(input())\n",
    "for i in range(s):\n",
    "    skylist = []\n",
    "    putlist = list(map(str,input().split()))\n",
    "    resum = int(putlist[0])\n",
    "    gfox = list(putlist[1])\n",
    "\n",
    "    for j in range(len(gfox)) :\n",
    "        skylist.append(gfox[j]*resum)\n",
    "    print(\"\".join(skylist))"
   ]
  },
  {
   "cell_type": "markdown",
   "metadata": {},
   "source": [
    "## 1157 단어공부\n",
    "첫째 줄에 알파벳 대소문자로 이루어진 단어가 주어진다. 주어지는 단어의 길이는 1,000,000을 넘지 않는다.\n",
    "\n",
    "출력\n",
    "첫째 줄에 이 단어에서 가장 많이 사용된 알파벳을 대문자로 출력한다. 단, 가장 많이 사용된 알파벳이 여러 개 존재하는 경우에는 ?를 출력한다.\n",
    "\n",
    "예제 입력 1 \n",
    "Mississipi\n",
    "예제 출력 1 \n",
    "?"
   ]
  },
  {
   "cell_type": "code",
   "execution_count": 11,
   "metadata": {},
   "outputs": [
    {
     "name": "stdout",
     "output_type": "stream",
     "text": [
      "baaaa\n",
      "A\n"
     ]
    }
   ],
   "source": [
    "T = input().upper()\n",
    "alpa = ['A','B','C','D','E','F','G','H','I','J','K','L','M','N','O','P','Q','R','S','T','U','V','W','X','Y','Z']\n",
    "plist = [0]*26\n",
    "\n",
    "    \n",
    "for j in str(T) :\n",
    "    for i in range(26) :\n",
    "        if alpa[i] == j :\n",
    "            plist[i] +=1\n",
    "            \n",
    "def func(plist) :\n",
    "    p = sorted(plist,reverse = True)\n",
    "    if p[0]==p[1] :\n",
    "        return \"?\"\n",
    "    else :\n",
    "        return alpa[plist.index(p[0])]\n",
    "    \n",
    "print(func(plist))\n",
    "            \n"
   ]
  },
  {
   "cell_type": "markdown",
   "metadata": {},
   "source": [
    "## 1316 그룹단어 체커\n",
    "\n",
    ">19 06 27\n",
    "\n",
    "list의 index 정렬로 풀이\n",
    "\n",
    "list 원소로 저장 후 알파벳 전체를 indexing 나온 index값들이 서로 1차이 나는지 판단하는 것으로 작성\n"
   ]
  },
  {
   "cell_type": "code",
   "execution_count": 6,
   "metadata": {},
   "outputs": [
    {
     "data": {
      "text/plain": [
       "{'caaza'}"
      ]
     },
     "execution_count": 6,
     "metadata": {},
     "output_type": "execute_result"
    }
   ],
   "source": [
    "al = set(['caaza'])\n",
    "al"
   ]
  },
  {
   "cell_type": "code",
   "execution_count": 2,
   "metadata": {},
   "outputs": [
    {
     "name": "stdout",
     "output_type": "stream",
     "text": [
      "1\n",
      "happy\n",
      "[1, 0, 2, 2, 4]\n",
      "0\n"
     ]
    }
   ],
   "source": [
    "T = int(input())\n",
    "\n",
    "alpa = ['a','b','c','d','e','f','g','h','i','j','k','l','m','n','o','p','q','r','s','t','u','v','w','x','y','z']\n",
    "for i in range(T) :\n",
    "    test_case = list(input())\n",
    "    cnt = 0\n",
    "    emplist = []\n",
    "    for k in alpa :\n",
    "        for j in test_case :\n",
    "            if k == j :\n",
    "                emplist.append(test_case.index(k))\n",
    "    print(emplist)\n",
    "    for w in range(len(emplist)-1) :\n",
    "        if emplist[w+1] - emplist[w] == 1 :\n",
    "            cnt +=1\n",
    "print(cnt)\n",
    "        "
   ]
  },
  {
   "cell_type": "markdown",
   "metadata": {},
   "source": [
    "### 2908 상수\n",
    "문자열일 경우 a[::-1]로 뒤집을수 있다는 것을 적극활용\n",
    "list -> join ->str ->split -> list 이동하며 풀이"
   ]
  },
  {
   "cell_type": "code",
   "execution_count": 39,
   "metadata": {},
   "outputs": [
    {
     "name": "stdout",
     "output_type": "stream",
     "text": [
      "734 893\n",
      "437\n"
     ]
    }
   ],
   "source": [
    "s = input().split() \n",
    "t = \" \".join(s)\n",
    "q = list(map(int,t[::-1].split()))\n",
    "if q[0] > q[1] :\n",
    "    print(q[0])\n",
    "else :\n",
    "    print(q[1])"
   ]
  },
  {
   "cell_type": "markdown",
   "metadata": {},
   "source": [
    "### 5622 다이얼\n",
    "\n",
    "1 : 2초\n",
    "2 : 3초 : ABC\n",
    "3 : 4초 : DEF\n",
    "4 : 5초 : GHI\n",
    "7 : 8초 : PQRS\n",
    "8 : 9초 : TUV\n",
    "9 : 10초 : WXYZ          8개 * 3 \n",
    "\n",
    "dict으로 연동시켜서 풀이해야한다.\n",
    "\n",
    "s = {1:[\"a\",\"c\",\"d\"], 2 : \"b\"}\n",
    "\n",
    "print(s[1][1])\n",
    "\n",
    "out : c\n"
   ]
  },
  {
   "cell_type": "code",
   "execution_count": 88,
   "metadata": {
    "scrolled": true
   },
   "outputs": [
    {
     "data": {
      "text/plain": [
       "[]"
      ]
     },
     "execution_count": 88,
     "metadata": {},
     "output_type": "execute_result"
    }
   ],
   "source": [
    "s = {1:[\"a\",\"c\",\"d\"], 2 : \"b\"}\n",
    "\n",
    "[name for name, age in s.items() if age == \"a\"]\n",
    "# 굉장히 중요한 표현이다. dict 형은 a[value][값의 위치] 면 해당 딕을 불러올수 있다는 것"
   ]
  },
  {
   "cell_type": "code",
   "execution_count": null,
   "metadata": {},
   "outputs": [],
   "source": [
    "# 이는 value로 key를 끌어내준다. .items() 문법이다. \n",
    "\n",
    "[name for name, age in mydict.items() if age == search_age]"
   ]
  },
  {
   "cell_type": "code",
   "execution_count": 8,
   "metadata": {},
   "outputs": [],
   "source": [
    "multi = (0,0,(1,2,3))\n",
    "if 1 in multi :\n",
    "    print(5)\n",
    "    "
   ]
  },
  {
   "cell_type": "code",
   "execution_count": 1,
   "metadata": {
    "scrolled": false
   },
   "outputs": [
    {
     "name": "stdout",
     "output_type": "stream",
     "text": [
      "UNUCIC\n"
     ]
    },
    {
     "ename": "IndexError",
     "evalue": "list index out of range",
     "output_type": "error",
     "traceback": [
      "\u001b[1;31m---------------------------------------------------------------------------\u001b[0m",
      "\u001b[1;31mIndexError\u001b[0m                                Traceback (most recent call last)",
      "\u001b[1;32m<ipython-input-1-12b3a8379489>\u001b[0m in \u001b[0;36m<module>\u001b[1;34m\u001b[0m\n\u001b[0;32m      6\u001b[0m \u001b[1;33m\u001b[0m\u001b[0m\n\u001b[0;32m      7\u001b[0m \u001b[1;32mfor\u001b[0m \u001b[0mi\u001b[0m \u001b[1;32min\u001b[0m \u001b[0mrange\u001b[0m\u001b[1;33m(\u001b[0m\u001b[1;36m2\u001b[0m\u001b[1;33m,\u001b[0m\u001b[1;36m10\u001b[0m\u001b[1;33m)\u001b[0m \u001b[1;33m:\u001b[0m\u001b[1;33m\u001b[0m\u001b[1;33m\u001b[0m\u001b[0m\n\u001b[1;32m----> 8\u001b[1;33m     \u001b[1;32mif\u001b[0m \u001b[0muser\u001b[0m\u001b[1;33m[\u001b[0m\u001b[0mi\u001b[0m\u001b[1;33m]\u001b[0m \u001b[1;32min\u001b[0m \u001b[0mmulti\u001b[0m \u001b[1;33m:\u001b[0m\u001b[1;33m\u001b[0m\u001b[1;33m\u001b[0m\u001b[0m\n\u001b[0m\u001b[0;32m      9\u001b[0m         \u001b[0mcnt\u001b[0m \u001b[1;33m+=\u001b[0m \u001b[0mmulti\u001b[0m\u001b[1;33m.\u001b[0m\u001b[0mindex\u001b[0m\u001b[1;33m[\u001b[0m\u001b[0mi\u001b[0m\u001b[1;33m]\u001b[0m\u001b[1;33m\u001b[0m\u001b[1;33m\u001b[0m\u001b[0m\n\u001b[0;32m     10\u001b[0m \u001b[1;33m\u001b[0m\u001b[0m\n",
      "\u001b[1;31mIndexError\u001b[0m: list index out of range"
     ]
    }
   ],
   "source": [
    "multi = [0,0,[\"A\",\"B\",\"C\"],[\"D\",\"E\",\"F\"],[\"G\",\"H\",\"I\"],[\"J\",\"K\",\"L\"],[\"M\",\"N\",\"O\"],[\"P\",\"Q\",\"R\",'S'],['T','U','V'],['W','X','Y','Z']]\n",
    "\n",
    "user = list(input())\n",
    "\n",
    "cnt = 0     \n",
    "\n",
    "for i in range(2,10) :\n",
    "    if user[i] in multi :\n",
    "        cnt += multi.index[i]\n",
    "                \n",
    "print(cnt)"
   ]
  },
  {
   "cell_type": "markdown",
   "metadata": {},
   "source": [
    "# 크로아티아 알파벳\n",
    "> 19 07 02"
   ]
  },
  {
   "cell_type": "code",
   "execution_count": null,
   "metadata": {},
   "outputs": [],
   "source": []
  },
  {
   "cell_type": "code",
   "execution_count": null,
   "metadata": {},
   "outputs": [],
   "source": []
  },
  {
   "cell_type": "code",
   "execution_count": null,
   "metadata": {},
   "outputs": [],
   "source": []
  },
  {
   "cell_type": "code",
   "execution_count": null,
   "metadata": {},
   "outputs": [],
   "source": []
  }
 ],
 "metadata": {
  "kernelspec": {
   "display_name": "Python 3",
   "language": "python",
   "name": "python3"
  },
  "language_info": {
   "codemirror_mode": {
    "name": "ipython",
    "version": 3
   },
   "file_extension": ".py",
   "mimetype": "text/x-python",
   "name": "python",
   "nbconvert_exporter": "python",
   "pygments_lexer": "ipython3",
   "version": "3.7.3"
  }
 },
 "nbformat": 4,
 "nbformat_minor": 2
}
