{
 "cells": [
  {
   "cell_type": "markdown",
   "metadata": {},
   "source": [
    "# chap8_규칙 찾기"
   ]
  },
  {
   "cell_type": "markdown",
   "metadata": {},
   "source": [
    "## 1712 손익분기점\n",
    "> 19 17 2\n",
    "import sys\n",
    "\n",
    "sys.stdin.readline()"
   ]
  },
  {
   "cell_type": "code",
   "execution_count": 10,
   "metadata": {},
   "outputs": [
    {
     "name": "stdout",
     "output_type": "stream",
     "text": [
      "1000 70 170\n",
      "11\n"
     ]
    }
   ],
   "source": [
    "import sys\n",
    "\n",
    "T = list(map(int,input().split()))\n",
    "\n",
    "n = T[0]/(T[2]- T[1]) \n",
    "if n > 0 :\n",
    "    print(int(n)+1)\n",
    "else :\n",
    "    print(-1)\n",
    "        \n",
    "        \n",
    "    \n",
    "    \n"
   ]
  },
  {
   "cell_type": "markdown",
   "metadata": {},
   "source": [
    "벌집"
   ]
  },
  {
   "cell_type": "code",
   "execution_count": 11,
   "metadata": {
    "scrolled": true
   },
   "outputs": [
    {
     "name": "stdout",
     "output_type": "stream",
     "text": [
      "1\n",
      "1\n"
     ]
    }
   ],
   "source": [
    "T = int(input())\n",
    "\n",
    "for n in range(18259) :\n",
    "    if (T >= 3*(n-2)*(n-1)+2 and T<=3*(n-1)*n+1) :\n",
    "        print(n)\n",
    "        \n",
    "    elif T==1 :\n",
    "        print(1)\n",
    "        break"
   ]
  },
  {
   "cell_type": "markdown",
   "metadata": {},
   "source": [
    "# 1011번 Fly me to the Alpha Centauri\n",
    ">19 07 03\n",
    "\n",
    "피라미드형 중첩수열로 풀이 : 1로 시작해서 속도를 올려도 결국 1로 낮춰야한다.\n",
    "\n",
    "1 2 1 3개\n",
    "1 2 3 2 1 5개\n",
    "1 2 3 4 3 2 1 7개"
   ]
  },
  {
   "cell_type": "code",
   "execution_count": 9,
   "metadata": {},
   "outputs": [
    {
     "name": "stdout",
     "output_type": "stream",
     "text": [
      "3\n"
     ]
    }
   ],
   "source": [
    "def turn(n) :\n",
    "    if n ==1 :\n",
    "        return 1\n",
    "    return n+turn(n-1)\n"
   ]
  },
  {
   "cell_type": "markdown",
   "metadata": {},
   "source": [
    "> 1. 시간초과"
   ]
  },
  {
   "cell_type": "code",
   "execution_count": 16,
   "metadata": {},
   "outputs": [
    {
     "name": "stdout",
     "output_type": "stream",
     "text": [
      "1\n",
      "1 5\n",
      "3\n"
     ]
    }
   ],
   "source": [
    "import sys\n",
    "T = int(sys.stdin.readline())\n",
    "\n",
    "for i in range(T) : \n",
    "    k = list(map(int,sys.stdin.readline().split()))\n",
    "    b = k[1]-k[0]\n",
    "    print(fun(b))\n",
    "    \n",
    "def turn(n) :\n",
    "    if n ==1 :\n",
    "        return 1\n",
    "    return n+turn(n-1)\n",
    "\n",
    "def fun(b) :\n",
    "    if b < 4 :\n",
    "        return b\n",
    "    n=2\n",
    "    while True : \n",
    "        if turn(n)+turn(n-1) - b >= 0 :\n",
    "            if turn(n-1)*2 -b >=0 :\n",
    "                return 2*n-2\n",
    "            else :\n",
    "                return 2*n-1\n",
    "            break ;\n",
    "        n +=1\n",
    "\n",
    "     "
   ]
  },
  {
   "cell_type": "code",
   "execution_count": null,
   "metadata": {},
   "outputs": [],
   "source": []
  },
  {
   "cell_type": "markdown",
   "metadata": {},
   "source": [
    "> 2. 정답 코드 왜 정답인가....."
   ]
  },
  {
   "cell_type": "code",
   "execution_count": 2,
   "metadata": {
    "scrolled": true
   },
   "outputs": [
    {
     "name": "stdout",
     "output_type": "stream",
     "text": [
      "1\n",
      "1 9\n",
      "5\n"
     ]
    }
   ],
   "source": [
    "Case = input()\n",
    "\n",
    "x_to_y = [list(map(int, input().split(' '))) for _ in range(int(Case))]\n",
    "\n",
    "def work(sp, ep):\n",
    "    dist = ep - sp\n",
    "    \n",
    "    if(dist == 1):\n",
    "        return 1\n",
    "    elif(dist == 2):\n",
    "        return 2\n",
    "    \n",
    "    n = 1\n",
    "    \n",
    "    while True :\n",
    "        if((dist >= (n ** 2 - n + 1)) & (dist <= n ** 2)):\n",
    "            return n * 2 - 1\n",
    "        elif((dist > n**2) & (dist <= (n ** 2 + n))):\n",
    "            return n * 2\n",
    "        \n",
    "        n += 1\n",
    "        \n",
    "for a, b in x_to_y:\n",
    "    print(work(a, b))\n",
    "    "
   ]
  },
  {
   "cell_type": "markdown",
   "metadata": {},
   "source": [
    "> 3. 내풀이"
   ]
  },
  {
   "cell_type": "code",
   "execution_count": 4,
   "metadata": {},
   "outputs": [
    {
     "name": "stdout",
     "output_type": "stream",
     "text": [
      "1\n",
      "0 5\n",
      "4\n"
     ]
    }
   ],
   "source": [
    "# 위의 메모리 효율 증진을 위한 [[]for _ in range] 후 for 출력도 맘에 들고\n",
    "# while (true) 이용 풀이도 좋았다.\n",
    "# 결과적으로는 재귀가 내 풀이의 큰 문제였다. \n",
    "T = int(input())\n",
    "\n",
    "def fun(b) :\n",
    "    if b < 4 :\n",
    "        return b\n",
    "    n=2\n",
    "    \n",
    "    while(True):\n",
    "        if((b >= (n ** 2 - n + 1)) & (b <= n ** 2)):\n",
    "            return n * 2 - 1\n",
    "        elif((b > n**2) & (b <= (n ** 2 + n))):\n",
    "            return n * 2\n",
    "        \n",
    "        n += 1\n",
    "        \n",
    "for i in range(T) : \n",
    "    k = list(map(int,input().split()))\n",
    "    b = k[1]-k[0]\n",
    "    print(fun(b))"
   ]
  },
  {
   "cell_type": "markdown",
   "metadata": {},
   "source": [
    "1193 지그재그 경로탐색\n",
    "\n",
    "이와 같이 나열된 분수들을 \n",
    "1/1 -> 1/2 -> 2/1 -> 3/1 -> 2/2 -> … 과 같은 지그재그 순서로 차례대로 1번, 2번, 3번, 4번, 5번, … 분수라고 하자.\n",
    "\n",
    "\n",
    "X가 주어졌을 때, X번째 분수를 구하는 프로그램을 작성하시오."
   ]
  },
  {
   "cell_type": "code",
   "execution_count": 28,
   "metadata": {},
   "outputs": [
    {
     "name": "stdout",
     "output_type": "stream",
     "text": [
      "3\n",
      "2/1\n"
     ]
    }
   ],
   "source": [
    "T = int(input())\n",
    "\n",
    "def groupfind(T) :\n",
    "    for n in range(4473) :\n",
    "        if (T > n*(n-1)/2 and T <=n*(n+1)/2) :\n",
    "            return n\n",
    "        \n",
    "def findans(T) :\n",
    "    findn = groupfind(T)\n",
    "    k = int(T - findn*(findn-1)/2)\n",
    "    if findn%2 == 1:\n",
    "        y = 1 \n",
    "        for i in range(k-1) :\n",
    "            y += 1\n",
    "            findn -=1\n",
    "        return str(findn)+\"/\"+str(y)\n",
    "        \n",
    "    else :\n",
    "        x = 1\n",
    "        for i in range(k-1) :\n",
    "            findn -=1\n",
    "            x +=1\n",
    "        return str(x)+\"/\"+str(findn)\n",
    "                              \n",
    "print(findans(T))"
   ]
  },
  {
   "cell_type": "markdown",
   "metadata": {},
   "source": [
    "# 10250 ACM호텔"
   ]
  },
  {
   "cell_type": "code",
   "execution_count": 19,
   "metadata": {},
   "outputs": [
    {
     "name": "stdout",
     "output_type": "stream",
     "text": [
      "1\n",
      "6 12 12\n",
      "602\n"
     ]
    }
   ],
   "source": [
    "T = int(input())\n",
    "for i in range(T) :\n",
    "    inputinfo = list(map(int,input().split()))\n",
    "    H = inputinfo[0]\n",
    "    W = inputinfo[1]\n",
    "    N = inputinfo[2]\n",
    "    findw = N//H + 1\n",
    "    findh = N%H\n",
    "    if findh ==0 : \n",
    "        findh = H \n",
    "        findw -=1 \n",
    "        \n",
    "        \n",
    "        \n",
    "    print(findw +100*findh)\n",
    "    "
   ]
  },
  {
   "cell_type": "code",
   "execution_count": 20,
   "metadata": {},
   "outputs": [
    {
     "ename": "ValueError",
     "evalue": "invalid literal for int() with base 10: ''",
     "output_type": "error",
     "traceback": [
      "\u001b[1;31m---------------------------------------------------------------------------\u001b[0m",
      "\u001b[1;31mValueError\u001b[0m                                Traceback (most recent call last)",
      "\u001b[1;32m<ipython-input-20-a6242c09852b>\u001b[0m in \u001b[0;36m<module>\u001b[1;34m\u001b[0m\n\u001b[0;32m      1\u001b[0m \u001b[1;32mimport\u001b[0m \u001b[0msys\u001b[0m\u001b[1;33m\u001b[0m\u001b[1;33m\u001b[0m\u001b[0m\n\u001b[0;32m      2\u001b[0m \u001b[1;33m\u001b[0m\u001b[0m\n\u001b[1;32m----> 3\u001b[1;33m \u001b[0mT\u001b[0m \u001b[1;33m=\u001b[0m \u001b[0mint\u001b[0m\u001b[1;33m(\u001b[0m\u001b[0msys\u001b[0m\u001b[1;33m.\u001b[0m\u001b[0mstdin\u001b[0m\u001b[1;33m.\u001b[0m\u001b[0mreadline\u001b[0m\u001b[1;33m(\u001b[0m\u001b[1;33m)\u001b[0m\u001b[1;33m)\u001b[0m\u001b[1;33m\u001b[0m\u001b[1;33m\u001b[0m\u001b[0m\n\u001b[0m\u001b[0;32m      4\u001b[0m \u001b[1;32mfor\u001b[0m \u001b[0m_\u001b[0m \u001b[1;32min\u001b[0m \u001b[0mrange\u001b[0m\u001b[1;33m(\u001b[0m\u001b[0mT\u001b[0m\u001b[1;33m)\u001b[0m\u001b[1;33m:\u001b[0m\u001b[1;33m\u001b[0m\u001b[1;33m\u001b[0m\u001b[0m\n\u001b[0;32m      5\u001b[0m     \u001b[0mH\u001b[0m\u001b[1;33m,\u001b[0m \u001b[0mW\u001b[0m\u001b[1;33m,\u001b[0m \u001b[0mN\u001b[0m \u001b[1;33m=\u001b[0m \u001b[0mmap\u001b[0m\u001b[1;33m(\u001b[0m\u001b[0mint\u001b[0m\u001b[1;33m,\u001b[0m \u001b[0msys\u001b[0m\u001b[1;33m.\u001b[0m\u001b[0mstdin\u001b[0m\u001b[1;33m.\u001b[0m\u001b[0mreadline\u001b[0m\u001b[1;33m(\u001b[0m\u001b[1;33m)\u001b[0m\u001b[1;33m.\u001b[0m\u001b[0msplit\u001b[0m\u001b[1;33m(\u001b[0m\u001b[1;33m)\u001b[0m\u001b[1;33m)\u001b[0m\u001b[1;33m\u001b[0m\u001b[1;33m\u001b[0m\u001b[0m\n",
      "\u001b[1;31mValueError\u001b[0m: invalid literal for int() with base 10: ''"
     ]
    }
   ],
   "source": [
    "import sys\n",
    "\n",
    "T = int(sys.stdin.readline())\n",
    "for _ in range(T):\n",
    "    H, W, N = map(int, sys.stdin.readline().split())\n",
    "    N -= 1\n",
    "    q = N //H +1\n",
    "    r = N %H +1\n",
    "    sys.stdout.write('{}{:0>2}'.format(r, q) +'\\n')\n",
    "    \n"
   ]
  },
  {
   "cell_type": "code",
   "execution_count": 21,
   "metadata": {},
   "outputs": [],
   "source": [
    "import sys\n",
    "\n",
    "T = sys.stdin.readline()"
   ]
  },
  {
   "cell_type": "markdown",
   "metadata": {},
   "source": [
    "## 2869 달팽이 \n",
    "땅 위에 달팽이가 있다. 이 달팽이는 높이가 V미터인 나무 막대를 올라갈 것이다.\n",
    "\n",
    "달팽이는 낮에 A미터 올라갈 수 있다. 하지만, 밤에 잠을 자는 동안 B미터 미끄러진다. 또, 정상에 올라간 후에는 미끄러지지 않는다.\n",
    "\n",
    "달팽이가 나무 막대를 모두 올라가려면, 며칠이 걸리는지 구하는 프로그램을 작성하시오.\n",
    "> 19 07 03"
   ]
  },
  {
   "cell_type": "markdown",
   "metadata": {},
   "source": [
    "### 1. 시간초과\n",
    "풀이를 증가 감소 증가 감소 하면서 풀이했더니 실패"
   ]
  },
  {
   "cell_type": "code",
   "execution_count": 6,
   "metadata": {},
   "outputs": [
    {
     "name": "stdout",
     "output_type": "stream",
     "text": [
      "2 1 5\n",
      "4\n"
     ]
    }
   ],
   "source": [
    "import sys\n",
    "T = list(map(int,input().split()))\n",
    "def fun(T0,T1,T2) :\n",
    "    cnt = 0\n",
    "    sum1 = 0\n",
    "    while (True) :\n",
    "        cnt +=1\n",
    "        sum1 += T0   \n",
    "        if T2<=sum1 :\n",
    "            return(cnt)\n",
    "        sum1 -= T1\n",
    "        \n",
    "print(fun(T[0],T[1],T[2]))\n"
   ]
  },
  {
   "cell_type": "markdown",
   "metadata": {},
   "source": [
    "### 2. 시간초과\n",
    "\n",
    "한번에 수식으로 풀이하기로 함 마찬가지로 while 부등식의 도임임"
   ]
  },
  {
   "cell_type": "code",
   "execution_count": 7,
   "metadata": {},
   "outputs": [
    {
     "name": "stdout",
     "output_type": "stream",
     "text": [
      "2 1 5\n",
      "4\n"
     ]
    }
   ],
   "source": [
    "import sys\n",
    "T = list(map(int,input().split()))\n",
    "def fun(T0,T1,T2) :\n",
    "    n = 0\n",
    "    while (True) :\n",
    "        if (T0-T1)*(n-1) +T0 >=T2 :\n",
    "            return n\n",
    "        n +=1\n",
    "        \n",
    "print(fun(T[0],T[1],T[2]))\n"
   ]
  },
  {
   "cell_type": "markdown",
   "metadata": {},
   "source": [
    "### 3. 시간초과 진짜 ;;; 등식만 씁"
   ]
  },
  {
   "cell_type": "code",
   "execution_count": null,
   "metadata": {},
   "outputs": [],
   "source": [
    "A, B, V = [int(x) for x in input().split()]\n",
    " \n",
    "day = 1\n",
    " \n",
    "day += int((V-A)/(A-B))\n",
    "if ((V-A)%(A-B)):\n",
    "    day += 1\n",
    " \n",
    "print(day)\n",
    "\n",
    "\n"
   ]
  },
  {
   "cell_type": "markdown",
   "metadata": {},
   "source": [
    "# 2941 크로아티아 알파벳\n"
   ]
  },
  {
   "cell_type": "code",
   "execution_count": null,
   "metadata": {},
   "outputs": [],
   "source": []
  },
  {
   "cell_type": "markdown",
   "metadata": {},
   "source": [
    "# 2775 부녀회장이 될테야\n",
    "> 19_06_27\n",
    "1\n",
    "1\n",
    "1 4 10 20\n",
    "1 3 6 10\n",
    "1 2 3 4\n",
    "\n",
    "재귀로 풀이\n",
    "\n"
   ]
  },
  {
   "cell_type": "code",
   "execution_count": null,
   "metadata": {},
   "outputs": [],
   "source": []
  },
  {
   "cell_type": "code",
   "execution_count": 9,
   "metadata": {},
   "outputs": [
    {
     "ename": "TypeError",
     "evalue": "'list' object cannot be interpreted as an integer",
     "output_type": "error",
     "traceback": [
      "\u001b[1;31m---------------------------------------------------------------------------\u001b[0m",
      "\u001b[1;31mTypeError\u001b[0m                                 Traceback (most recent call last)",
      "\u001b[1;32m<ipython-input-9-32b223b79534>\u001b[0m in \u001b[0;36m<module>\u001b[1;34m\u001b[0m\n\u001b[1;32m----> 1\u001b[1;33m \u001b[0mT\u001b[0m \u001b[1;33m=\u001b[0m \u001b[1;33m[\u001b[0m\u001b[0minput\u001b[0m\u001b[1;33m(\u001b[0m\u001b[1;33m)\u001b[0m \u001b[1;32mfor\u001b[0m \u001b[0m_\u001b[0m \u001b[1;32min\u001b[0m \u001b[0mrange\u001b[0m\u001b[1;33m(\u001b[0m\u001b[0mT\u001b[0m\u001b[1;33m)\u001b[0m\u001b[1;33m]\u001b[0m\u001b[1;33m\u001b[0m\u001b[1;33m\u001b[0m\u001b[0m\n\u001b[0m\u001b[0;32m      2\u001b[0m \u001b[1;33m\u001b[0m\u001b[0m\n",
      "\u001b[1;31mTypeError\u001b[0m: 'list' object cannot be interpreted as an integer"
     ]
    }
   ],
   "source": [
    "T = int(input())\n",
    "for i in range(T) :\n",
    "    k = input()\n",
    "    n = input()\n",
    "    li = [0]*n\n",
    "    for j in list :\n",
    "        [1][j] = j\n",
    "        \n",
    "def fun() :\n",
    "    [n][k] = for i in range(k)"
   ]
  },
  {
   "cell_type": "markdown",
   "metadata": {},
   "source": [
    "## 6064 카잉달력\n",
    ">19 07 03"
   ]
  },
  {
   "cell_type": "code",
   "execution_count": null,
   "metadata": {},
   "outputs": [],
   "source": []
  },
  {
   "cell_type": "markdown",
   "metadata": {},
   "source": [
    "## 1978 소수찾기 \n",
    "> 19 07 03\n",
    "\n",
    "주어진 수 N개 중에서 소수가 몇 개인지 찾아서 출력하는 프로그램을 작성하시오.\n",
    "풀이 :\n",
    "1~1000까지 리스트 원소로 만들고 짝수 전멸, 모든 수 서로 나누어서 탐색"
   ]
  },
  {
   "cell_type": "code",
   "execution_count": 36,
   "metadata": {},
   "outputs": [
    {
     "name": "stdout",
     "output_type": "stream",
     "text": [
      "5\n",
      "1 99 8 7 6\n",
      "[1, 6, 7, 8, 99]\n",
      "[1, 3, 5, 7, 9, 11, 13, 15, 17, 19, 21, 23, 25, 27, 29, 31, 33, 35, 37, 39, 41, 43, 45, 47, 49, 51, 53, 55, 57, 59, 61, 63, 65, 67, 69, 71, 73, 75, 77, 79, 81, 83, 85, 87, 89, 91, 93, 95, 97, 99]\n"
     ]
    }
   ],
   "source": [
    "import sys\n",
    "N = int(input())\n",
    "num = sys.stdin.readline().split()\n",
    "result=0\n",
    "for i in num:\n",
    "    c = 0\n",
    "    for j in range(1,int(i)+1):\n",
    "        if int(i) % j == 0:\n",
    "            c+=1\n",
    "    if c==2:\n",
    "        result+=1\n",
    "print(result)\n",
    "\n"
   ]
  },
  {
   "cell_type": "markdown",
   "metadata": {},
   "source": [
    "## 2581 소수 간격 합\n",
    "\n",
    "예를 들어 M=60, N=100인 경우 60이상 100이하의 자연수 중 소수는 61, 67, 71, 73, 79, 83, 89, 97 총 8개가 있으므로, 이들 소수의 합은 620이고, 최솟값은 61이 된다.\n",
    "\n",
    "풀이 일일이 해준다. 다만 list에 소수를 추가하여 합을 구할수 있도록 한다."
   ]
  },
  {
   "cell_type": "code",
   "execution_count": 43,
   "metadata": {},
   "outputs": [
    {
     "name": "stdout",
     "output_type": "stream",
     "text": [
      "64\n",
      "65\n",
      "-1\n"
     ]
    }
   ],
   "source": [
    "M = int(input())\n",
    "N = int(input())\n",
    "longnum = [int(x) for x in range(M,N+1)]\n",
    "emp = []*(M-N)\n",
    "for i in longnum:\n",
    "    c = 0\n",
    "    for j in range(1,int(i)+1):\n",
    "        if int(i) % j == 0:\n",
    "            c+=1\n",
    "    if c==2:\n",
    "        emp.append(j)\n",
    "if len(emp) == 0:\n",
    "    print(-1)\n",
    "else :\n",
    "    print(sum(emp),emp[0],sep=\"\\n\")"
   ]
  },
  {
   "cell_type": "markdown",
   "metadata": {},
   "source": [
    "# 1929 소수구하기 에라토스테네스의 체\n",
    "> 19 07 02\n",
    "에라토스테네스의 체 : 범위에서 합성수를 지우는 방식으로 소수를 찾는 방법. 1. 1은 제거 2. 지워지지 않은 수 중 제일 작은 2를 소수로 채택하고, 나머지 2의 배수를 모두 지운다. 3. 지워지지 않은 수 중 제일 작은 3을 소수로 채택하고, 나머지 3의 배수를 모두 지운다. 4. 지워지지 않은 수 중 제일 작은 5를 소수로 채택하고, 나머지 5의 배수를 모두 지운다. 5. (반복)"
   ]
  },
  {
   "cell_type": "markdown",
   "metadata": {},
   "source": [
    "### 1. 나의 풀이 시간초과\n",
    "\n",
    "> 차집합을 이용해서 풀이하였다.\n",
    "> 입력을 받고 list화\n",
    "> 앞의 수의 배수열 집합 구해서 차집합 구함\n",
    "반복"
   ]
  },
  {
   "cell_type": "code",
   "execution_count": 20,
   "metadata": {},
   "outputs": [
    {
     "name": "stdout",
     "output_type": "stream",
     "text": [
      "1 10\n",
      "[1, 2, 3, 5, 7]\n"
     ]
    }
   ],
   "source": [
    "### 1. 나의 풀이 시간초과\n",
    "\n",
    "# 차집합을 이용해서 풀이하였다.\n",
    "# 입력을 받고 list화\n",
    "# 앞의 수의 배수열 집합 구해서 차집합 구함 반복\n",
    "test = list(map(int,input().split()))\n",
    "\n",
    "\n",
    "def conbine(test) : \n",
    "    sosu = [int(x) for x in range(test[0],test[1]+1)]\n",
    "    for j in range(2,len(sosu)+1) :\n",
    "        makebig = j\n",
    "        set1 = set([int(x) for x in range(makebig+1,test[1]+1) if x%makebig ==0])\n",
    "        sosu = set(sosu)\n",
    "        sosu = sosu-set1\n",
    "        sosu = list(sosu) \n",
    "            \n",
    "    return sosu\n",
    "\n",
    "print(conbine(test))\n"
   ]
  },
  {
   "cell_type": "markdown",
   "metadata": {},
   "source": [
    "### 위 번호는 차집합을 알면 쉽다."
   ]
  },
  {
   "cell_type": "code",
   "execution_count": 11,
   "metadata": {},
   "outputs": [
    {
     "name": "stdout",
     "output_type": "stream",
     "text": [
      "{1, 2}\n",
      "{1, 2}\n",
      "6\n"
     ]
    }
   ],
   "source": [
    "\n",
    "set1 = set([1,2,3,4,5,6])\n",
    "set2 = set([3,4,5,6,8,9])\n",
    "\n",
    "\n",
    "print(set1 - set2)\n",
    "print(set1.difference(set2))\n",
    "\n",
    "# set이여도 len 돰\n",
    "\n",
    "print (len(set1))"
   ]
  },
  {
   "cell_type": "markdown",
   "metadata": {},
   "source": [
    "### 2.  ARRAY이용한 접근\n",
    "\n",
    "> array list 지원 기능을 이용해 풀이를 시작했다.\n",
    "> 파이썬 array는 기본적으로 [::] 을 통한 정렬기능이 존재한다.\n"
   ]
  },
  {
   "cell_type": "code",
   "execution_count": null,
   "metadata": {},
   "outputs": [],
   "source": [
    ">> arr = range(10) \n",
    ">> arr [0,1,2,3,4,5,6,7,8,9] \n",
    ">> arr[::2] # 처음부터 끝까지 두 칸 간격으로 [0,2,4,6,8] \n",
    ">> arr[1::2] # index 1 부터 끝까지 두 칸 간격으로 [1,3,5,7,9] \n",
    ">> arr[::-1] # 처음부터 끝까지 -1칸 간격으로 ( == 역순으로) [9,8,7,6,5,4,3,2,1,0] \n",
    ">> arr[::-2] # 처음부터 끝까지 -2칸 간격으로 ( == 역순, 두 칸 간격으로) [9,7,5,3,1] \n",
    ">> arr[3::-1] # index 3 부터 끝까지 -1칸 간격으로 ( == 역순으로) [3,2,1,0] \n",
    ">> arr[1:6:2] # index 1 부터 index 6 까지 두 칸 간격으로 [1,3,5]"
   ]
  },
  {
   "cell_type": "code",
   "execution_count": 6,
   "metadata": {
    "scrolled": true
   },
   "outputs": [
    {
     "name": "stdout",
     "output_type": "stream",
     "text": [
      "3 16\n",
      "[0, 0, 1, 1, 0, 1, 0, 1, 0, 0, 0, 1, 0, 1, 0, 0, 0]\n",
      "3\n",
      "5\n",
      "7\n",
      "11\n",
      "13\n"
     ]
    }
   ],
   "source": [
    "m,n = list(map(int,input().split()))\n",
    "\n",
    "s = [0,0] + [1]*(n-1)   # []의 합을 사용시 그냥 더해질 뿐이다. [0,0,1,1]\n",
    "\n",
    "for i in range(2,int(n **.5)+1) : # 속도 중시한 방안 루트 구하는 것과 동일\n",
    "    if s[i] :\n",
    "# if s[i] :쓰면 i 범위 틀려도 대체로 인정 됩니다.\n",
    "        s[i *2 ::i] = [0] *((n-i)//i)\n",
    "print(s)\n",
    "        \n",
    "for i,v in enumerate(s) :  #enumerate: 반복문 사용 시 몇 번째 반복문인지 확인이 필요할 수 있습니다. 이때 사용합니다. 인덱스 번호와 컬렉션의 원소를 tuple형태로 반환합니다.\n",
    "    if v and i >=m:\n",
    "        print(i)\n"
   ]
  },
  {
   "cell_type": "code",
   "execution_count": null,
   "metadata": {},
   "outputs": [],
   "source": [
    "# if s[i] :\n",
    "쓰면 i 범위 틀려도 대체로 인정 됩니다."
   ]
  },
  {
   "cell_type": "code",
   "execution_count": 15,
   "metadata": {
    "scrolled": false
   },
   "outputs": [
    {
     "name": "stdout",
     "output_type": "stream",
     "text": [
      "0\n",
      "0\n",
      "1\n",
      "1\n",
      "0\n",
      "1\n",
      "0\n",
      "1\n",
      "0\n",
      "0\n",
      "0\n",
      "1\n",
      "0\n",
      "1\n",
      "0\n",
      "0\n",
      "0\n",
      "0\n",
      "1\n",
      "2\n",
      "3\n",
      "4\n",
      "5\n",
      "6\n",
      "7\n",
      "8\n",
      "9\n",
      "10\n",
      "11\n",
      "12\n",
      "13\n",
      "14\n",
      "15\n",
      "16\n"
     ]
    }
   ],
   "source": [
    "t = [0, 0, 1, 1, 0, 1, 0, 1, 0, 0, 0, 1, 0, 1, 0, 0, 0]\n",
    "for i in t :\n",
    "    print(i)\n",
    "    \n",
    "for i,v in enumerate(t) :\n",
    "    print(i)"
   ]
  },
  {
   "cell_type": "markdown",
   "metadata": {},
   "source": [
    "# 4948. 베르트랑 공준\n",
    "\n",
    "Q. 베르트랑 공준은 임의의 자연수 n에 대하여, n보다 크고, 2n보다 작거나 같은 소수는 적어도 하나 존재한다는 내용을 담고 있다.\n",
    "\n",
    "n이 주어졌을 때, n보다 크고, 2n보다 작거나 같은 소수의 개수를 구하는 프로그램을 작성하시오. "
   ]
  },
  {
   "cell_type": "markdown",
   "metadata": {},
   "source": [
    "### 1. 나의 풀이\n",
    "2019 07 15\n",
    "> 동일한 패턴이다.\n",
    "\n",
    "> 입력을 받으면 리스트로 그만큼 생성시킨다.\n"
   ]
  },
  {
   "cell_type": "code",
   "execution_count": 17,
   "metadata": {},
   "outputs": [
    {
     "name": "stdout",
     "output_type": "stream",
     "text": [
      "1\n"
     ]
    },
    {
     "ename": "TypeError",
     "evalue": "'int' object is not subscriptable",
     "output_type": "error",
     "traceback": [
      "\u001b[1;31m---------------------------------------------------------------------------\u001b[0m",
      "\u001b[1;31mTypeError\u001b[0m                                 Traceback (most recent call last)",
      "\u001b[1;32m<ipython-input-17-5da1382cd1bf>\u001b[0m in \u001b[0;36m<module>\u001b[1;34m\u001b[0m\n\u001b[0;32m     13\u001b[0m     \u001b[1;32mreturn\u001b[0m \u001b[0msosu\u001b[0m\u001b[1;33m\u001b[0m\u001b[1;33m\u001b[0m\u001b[0m\n\u001b[0;32m     14\u001b[0m \u001b[1;33m\u001b[0m\u001b[0m\n\u001b[1;32m---> 15\u001b[1;33m \u001b[0mprint\u001b[0m\u001b[1;33m(\u001b[0m\u001b[0mconbine\u001b[0m\u001b[1;33m(\u001b[0m\u001b[0mtest\u001b[0m\u001b[1;33m)\u001b[0m\u001b[1;33m)\u001b[0m\u001b[1;33m\u001b[0m\u001b[1;33m\u001b[0m\u001b[0m\n\u001b[0m",
      "\u001b[1;32m<ipython-input-17-5da1382cd1bf>\u001b[0m in \u001b[0;36mconbine\u001b[1;34m(test)\u001b[0m\n\u001b[0;32m      6\u001b[0m     \u001b[1;32mfor\u001b[0m \u001b[0mj\u001b[0m \u001b[1;32min\u001b[0m \u001b[0mrange\u001b[0m\u001b[1;33m(\u001b[0m\u001b[1;36m2\u001b[0m\u001b[1;33m,\u001b[0m\u001b[0mlen\u001b[0m\u001b[1;33m(\u001b[0m\u001b[0msosu\u001b[0m\u001b[1;33m)\u001b[0m\u001b[1;33m+\u001b[0m\u001b[1;36m1\u001b[0m\u001b[1;33m)\u001b[0m \u001b[1;33m:\u001b[0m\u001b[1;33m\u001b[0m\u001b[1;33m\u001b[0m\u001b[0m\n\u001b[0;32m      7\u001b[0m         \u001b[0mmakebig\u001b[0m \u001b[1;33m=\u001b[0m \u001b[0mj\u001b[0m\u001b[1;33m\u001b[0m\u001b[1;33m\u001b[0m\u001b[0m\n\u001b[1;32m----> 8\u001b[1;33m         \u001b[0mset1\u001b[0m \u001b[1;33m=\u001b[0m \u001b[0mset\u001b[0m\u001b[1;33m(\u001b[0m\u001b[1;33m[\u001b[0m\u001b[0mint\u001b[0m\u001b[1;33m(\u001b[0m\u001b[0mx\u001b[0m\u001b[1;33m)\u001b[0m \u001b[1;32mfor\u001b[0m \u001b[0mx\u001b[0m \u001b[1;32min\u001b[0m \u001b[0mrange\u001b[0m\u001b[1;33m(\u001b[0m\u001b[0mmakebig\u001b[0m\u001b[1;33m+\u001b[0m\u001b[1;36m1\u001b[0m\u001b[1;33m,\u001b[0m\u001b[0mtest\u001b[0m\u001b[1;33m[\u001b[0m\u001b[1;36m1\u001b[0m\u001b[1;33m]\u001b[0m\u001b[1;33m+\u001b[0m\u001b[1;36m1\u001b[0m\u001b[1;33m)\u001b[0m \u001b[1;32mif\u001b[0m \u001b[0mx\u001b[0m\u001b[1;33m%\u001b[0m\u001b[0mmakebig\u001b[0m \u001b[1;33m==\u001b[0m\u001b[1;36m0\u001b[0m\u001b[1;33m]\u001b[0m\u001b[1;33m)\u001b[0m\u001b[1;33m\u001b[0m\u001b[1;33m\u001b[0m\u001b[0m\n\u001b[0m\u001b[0;32m      9\u001b[0m         \u001b[0msosu\u001b[0m \u001b[1;33m=\u001b[0m \u001b[0mset\u001b[0m\u001b[1;33m(\u001b[0m\u001b[0msosu\u001b[0m\u001b[1;33m)\u001b[0m\u001b[1;33m\u001b[0m\u001b[1;33m\u001b[0m\u001b[0m\n\u001b[0;32m     10\u001b[0m         \u001b[0msosu\u001b[0m \u001b[1;33m=\u001b[0m \u001b[0msosu\u001b[0m\u001b[1;33m-\u001b[0m\u001b[0mset1\u001b[0m\u001b[1;33m\u001b[0m\u001b[1;33m\u001b[0m\u001b[0m\n",
      "\u001b[1;31mTypeError\u001b[0m: 'int' object is not subscriptable"
     ]
    }
   ],
   "source": [
    "test = int(input())\n",
    "\n",
    "\n",
    "def conbine(test) : \n",
    "    sosu = [int(x) for x in range(test,2*test+1)]\n",
    "    for j in range(2,len(sosu)+1) :\n",
    "        makebig = j\n",
    "        set1 = set([int(x) for x in range(makebig+1,test[1]+1) if x%makebig ==0])\n",
    "        sosu = set(sosu)\n",
    "        sosu = sosu-set1\n",
    "        sosu = list(sosu) \n",
    "            \n",
    "    return sosu\n",
    "\n",
    "print(conbine(test))\n"
   ]
  },
  {
   "cell_type": "code",
   "execution_count": null,
   "metadata": {},
   "outputs": [],
   "source": []
  },
  {
   "cell_type": "code",
   "execution_count": null,
   "metadata": {},
   "outputs": [],
   "source": []
  },
  {
   "cell_type": "code",
   "execution_count": null,
   "metadata": {},
   "outputs": [],
   "source": []
  },
  {
   "cell_type": "code",
   "execution_count": null,
   "metadata": {},
   "outputs": [],
   "source": []
  }
 ],
 "metadata": {
  "kernelspec": {
   "display_name": "Python 3",
   "language": "python",
   "name": "python3"
  },
  "language_info": {
   "codemirror_mode": {
    "name": "ipython",
    "version": 3
   },
   "file_extension": ".py",
   "mimetype": "text/x-python",
   "name": "python",
   "nbconvert_exporter": "python",
   "pygments_lexer": "ipython3",
   "version": "3.7.3"
  }
 },
 "nbformat": 4,
 "nbformat_minor": 2
}
