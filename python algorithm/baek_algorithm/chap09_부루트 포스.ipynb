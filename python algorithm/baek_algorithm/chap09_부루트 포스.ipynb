{
 "cells": [
  {
   "cell_type": "markdown",
   "metadata": {},
   "source": [
    "## 2798 블랙잭\n",
    "> 19 0705\n",
    "\n",
    "노가다로 어떻게함? 진심 모르겠어"
   ]
  },
  {
   "cell_type": "code",
   "execution_count": null,
   "metadata": {},
   "outputs": [],
   "source": [
    "num = list(map(int,input().split()))\n",
    "test = list(map(int,input().split()))\n",
    "test.sort()\n",
    "\n",
    "def find(test) :\n",
    "    if test[num[0]-1]+test[num[0]-2]+test[num[0]-3] < num[1] : \n",
    "        return(test[num[0]-1]+test[num[0]-2]+test[num[0]-3])\n",
    "    else :\n",
    "        for i in range(0, num[0]-2) :\n",
    "            for j in range(i+1,num[0]-1) :\n",
    "                for k in range(j+1,num[0]) :\n",
    "                    if (test[i]+test[j]+test[k]) > num[1] :\n",
    "                        break \n",
    "                        \n",
    "        while True :\n",
    "            test[i] + test[j] + test[k]\n",
    "\n",
    "    "
   ]
  },
  {
   "cell_type": "code",
   "execution_count": 6,
   "metadata": {},
   "outputs": [
    {
     "name": "stdout",
     "output_type": "stream",
     "text": [
      "1\n",
      "2\n"
     ]
    }
   ],
   "source": [
    "T =[5,4,3,2,1]\n",
    "for i in range(4,2,-1) :\n",
    "    print(T[i])"
   ]
  },
  {
   "cell_type": "markdown",
   "metadata": {},
   "source": [
    "## 2231 분해합\n",
    "> 19 0704\n",
    "\n",
    "list 원소 합으로 풀이하고 싶었다."
   ]
  },
  {
   "cell_type": "code",
   "execution_count": 9,
   "metadata": {},
   "outputs": [
    {
     "ename": "SyntaxError",
     "evalue": "invalid syntax (<ipython-input-9-087c7550c240>, line 4)",
     "output_type": "error",
     "traceback": [
      "\u001b[1;36m  File \u001b[1;32m\"<ipython-input-9-087c7550c240>\"\u001b[1;36m, line \u001b[1;32m4\u001b[0m\n\u001b[1;33m    e = list(map(, str(low_n)))\u001b[0m\n\u001b[1;37m                 ^\u001b[0m\n\u001b[1;31mSyntaxError\u001b[0m\u001b[1;31m:\u001b[0m invalid syntax\n"
     ]
    }
   ],
   "source": [
    "# 수치형을 개별 int로 나누어 저장 기법\n",
    "\n",
    "low_n =123\n",
    "e = list(map(, str(low_n)))\n"
   ]
  },
  {
   "cell_type": "code",
   "execution_count": 4,
   "metadata": {
    "scrolled": true
   },
   "outputs": [
    {
     "name": "stdout",
     "output_type": "stream",
     "text": [
      "123\n",
      "['1', '2', '3'] 1\n",
      "['1', '2', '3'] 1\n",
      "['1', '2', '3'] 3\n"
     ]
    },
    {
     "ename": "TypeError",
     "evalue": "sequence item 0: expected str instance, int found",
     "output_type": "error",
     "traceback": [
      "\u001b[1;31m---------------------------------------------------------------------------\u001b[0m",
      "\u001b[1;31mTypeError\u001b[0m                                 Traceback (most recent call last)",
      "\u001b[1;32m<ipython-input-4-cda2854b5e37>\u001b[0m in \u001b[0;36m<module>\u001b[1;34m\u001b[0m\n\u001b[0;32m     20\u001b[0m         \u001b[0mn\u001b[0m\u001b[1;33m+=\u001b[0m\u001b[1;36m1\u001b[0m\u001b[1;33m\u001b[0m\u001b[1;33m\u001b[0m\u001b[0m\n\u001b[0;32m     21\u001b[0m \u001b[1;33m\u001b[0m\u001b[0m\n\u001b[1;32m---> 22\u001b[1;33m \u001b[0mprint\u001b[0m\u001b[1;33m(\u001b[0m\u001b[1;34m\"\"\u001b[0m\u001b[1;33m.\u001b[0m\u001b[0mjoin\u001b[0m\u001b[1;33m(\u001b[0m\u001b[0mT\u001b[0m\u001b[1;33m)\u001b[0m\u001b[1;33m)\u001b[0m\u001b[1;33m\u001b[0m\u001b[1;33m\u001b[0m\u001b[0m\n\u001b[0m",
      "\u001b[1;31mTypeError\u001b[0m: sequence item 0: expected str instance, int found"
     ]
    }
   ],
   "source": [
    "N = int(input()) # 목표 분해합\n",
    "low = 0\n",
    "\n",
    "# 분해합을 구하는 과정 low_n이 입력되면 분해해서 합을 구해주는 devided_num을 생성\n",
    "def get_devided_num(low_n):\n",
    "    e = list(map(int, str(low_n)))\n",
    "    devided_num = low_n + sum(e)\n",
    "    \n",
    "    return devided_num\n",
    "\n",
    "\n",
    "\n",
    "while get_devided_num(low) != N:\n",
    "    if low == N :\n",
    "        low = 0\n",
    "        break\n",
    "    else : \n",
    "        low += 1\n",
    "\n",
    "print(low)\n",
    "\n",
    "# low를 1씩 추가하면서 찾아가는 \n",
    "# 씹노가다구먼 근데 while 함수형의 정답으로 추론하는건 배워들만하다."
   ]
  },
  {
   "cell_type": "markdown",
   "metadata": {},
   "source": [
    "## 7568 덩치"
   ]
  },
  {
   "cell_type": "code",
   "execution_count": null,
   "metadata": {},
   "outputs": [],
   "source": []
  },
  {
   "cell_type": "markdown",
   "metadata": {},
   "source": [
    "## 1018 체스판 다시 칠하기"
   ]
  },
  {
   "cell_type": "code",
   "execution_count": null,
   "metadata": {},
   "outputs": [],
   "source": []
  },
  {
   "cell_type": "markdown",
   "metadata": {},
   "source": [
    "## 1436 영화감독 숌"
   ]
  },
  {
   "cell_type": "code",
   "execution_count": null,
   "metadata": {},
   "outputs": [],
   "source": []
  },
  {
   "cell_type": "markdown",
   "metadata": {},
   "source": [
    "## 1107 리모컨"
   ]
  },
  {
   "cell_type": "code",
   "execution_count": null,
   "metadata": {},
   "outputs": [],
   "source": []
  }
 ],
 "metadata": {
  "kernelspec": {
   "display_name": "Python 3",
   "language": "python",
   "name": "python3"
  },
  "language_info": {
   "codemirror_mode": {
    "name": "ipython",
    "version": 3
   },
   "file_extension": ".py",
   "mimetype": "text/x-python",
   "name": "python",
   "nbconvert_exporter": "python",
   "pygments_lexer": "ipython3",
   "version": "3.7.3"
  }
 },
 "nbformat": 4,
 "nbformat_minor": 2
}
