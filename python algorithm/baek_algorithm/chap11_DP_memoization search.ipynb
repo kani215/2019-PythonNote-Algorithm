{
 "cells": [
  {
   "cell_type": "markdown",
   "metadata": {},
   "source": [
    "## 2748. 피보나치 수 2\n",
    "0, 1, 1, 2, 3, 5, 8, 13, 21, 34, 55, 89, 144, 233, 377, 610, 987, 1597\n",
    "\n",
    "n이 주어졌을 때, n번째 피보나치 수를 구하는 프로그램을 작성하시오."
   ]
  },
  {
   "cell_type": "markdown",
   "metadata": {},
   "source": [
    "### 1. 나의 풀이 \n",
    "> DP 메모리 접근으로 속도를 높힙니다.\n",
    "> 중요한 건 두 list[] + list[] 원소간 합을 구하는 식만 알면 된다는 것 "
   ]
  },
  {
   "cell_type": "code",
   "execution_count": 3,
   "metadata": {},
   "outputs": [
    {
     "name": "stdout",
     "output_type": "stream",
     "text": [
      "10\n",
      "55\n"
     ]
    }
   ],
   "source": [
    "n = int(input())\n",
    "memo = [0 for _ in range(100)] #n<=90 이므로 넉넉히 이정도 구비해둡시다.\n",
    "\n",
    "def fibo(n) :\n",
    "    if n<=1 :\n",
    "        return n\n",
    "        \n",
    "    if memo[n]!=0 :\n",
    "        return memo[n]\n",
    "    \n",
    "    memo[n] = fibo(n-1) +fibo(n-2)\n",
    "    return memo[n]    \n",
    "\n",
    "print(fibo(n))"
   ]
  },
  {
   "cell_type": "markdown",
   "metadata": {},
   "source": [
    "## 1003. 피보나치 함수\n",
    "fibonacci(N)을 호출했을 때, 0과 1이 각각 몇 번 출력되는지 구하는 프로그램을 작성하시오."
   ]
  },
  {
   "cell_type": "markdown",
   "metadata": {},
   "source": [
    "### 1. 나의 풀이 \n",
    "> DP 메모리에 0 1 2개를 기록합시다.\n",
    "> 1. list in list 식으로 0 1 수를 계산해서 누적시키는 방식이다\n",
    "> 2. [[],[],[],[],[]] 식으로 n번째 index에 0과 1수가 묶음으로 들어가 있지"
   ]
  },
  {
   "cell_type": "code",
   "execution_count": 21,
   "metadata": {
    "scrolled": false
   },
   "outputs": [
    {
     "name": "stdout",
     "output_type": "stream",
     "text": [
      "3\n",
      "0\n",
      "1 0\n",
      "1\n",
      "0 1\n",
      "3\n",
      "1 2\n"
     ]
    }
   ],
   "source": [
    "memo = [0]*100\n",
    "\n",
    "def fibo(n) :\n",
    "    global memo\n",
    "    \n",
    "    if n<=1 :\n",
    "        if n == 0 :\n",
    "            memo[0] = [1,0]\n",
    "            return [1,0]\n",
    "        elif n == 1:\n",
    "            memo[1] = [1,0]\n",
    "            return [0,1]\n",
    "        \n",
    "    if memo[n]!=0 :\n",
    "        return memo[n]\n",
    "    \n",
    "    memo[n] = fibo(n-1) + fibo(n-2)\n",
    "    \n",
    "    if len(memo[n]) >2  :\n",
    "        t = [0,0]\n",
    "        t[0] = memo[n][0] +memo[n][2]\n",
    "        t[1] = memo[n][1] +memo[n][3]\n",
    "        memo[n] = t\n",
    "    return memo[n]\n",
    "\n",
    "for i in range(int(input())) :\n",
    "    n = int(input())\n",
    "    print(\" \".join(map(str,fibo(n))))"
   ]
  },
  {
   "cell_type": "markdown",
   "metadata": {},
   "source": [
    "## 1904. 2진 타일 만들기\n",
    "지원이에게 2진 수열을 가르쳐 주기 위해, 지원이 아버지는 그에게 타일들을 선물해주셨다. 그리고 이 각각의 타일들은 0 또는 1이 쓰여 있는 낱장의 타일들이다.\n",
    "\n",
    "어느 날 짓궂은 동주가 지원이의 공부를 방해하기 위해 0이 쓰여진 낱장의 타일들을 붙여서 한 쌍으로 이루어진 00 타일들을 만들었다. 결국 현재 1 하나만으로 이루어진 타일 또는 0타일을 두 개 붙인 한 쌍의 00타일들만이 남게 되었다.\n",
    "\n",
    "그러므로 지원이는 타일로 더 이상 크기가 N인 모든 2진 수열을 만들 수 없게 되었다. 예를 들어, N=1일 때 1만 만들 수 있고, N=2일 때는 00, 11을 만들 수 있다. (01, 10은 만들 수 없게 되었다.) 또한 N=4일 때는 0011, 0000, 1001, 1100, 1111 등 총 5개의 2진 수열을 만들 수 있다.\n",
    "\n",
    "우리의 목표는 N이 주어졌을 때 지원이가 만들 수 있는 모든 가짓수를 세는 것이다. 단 타일들은 무한히 많은 것으로 가정하자."
   ]
  },
  {
   "cell_type": "markdown",
   "metadata": {},
   "source": [
    "### 1. 나의 풀이 :\n",
    "> n이 굉장히 크다. 1. 노가다로 규칙 탐색 후 DP로 접근한다.\n",
    "\n",
    "> 2. 규칙은 그냥 피보나치 였다."
   ]
  },
  {
   "cell_type": "markdown",
   "metadata": {},
   "source": [
    "### dp 문제 풀이시 깊이의 최대 한도 오류가 뜨기도 한다.\n",
    "<br> RecursionError: maximum recursion depth exceeded in comparison\n",
    "\n",
    "import sys      sys모듈을 불러온뒤import sys\n",
    "sys.setrecursionlimit(1000001)     재귀의 한도를 10000까지 풀어준다.\n",
    "\n",
    "\n",
    "\n"
   ]
  },
  {
   "cell_type": "code",
   "execution_count": null,
   "metadata": {},
   "outputs": [
    {
     "name": "stdout",
     "output_type": "stream",
     "text": [
      "4000\n"
     ]
    }
   ],
   "source": [
    "import sys\n",
    "sys.setrecursionlimit(100001)\n",
    "n = int(input())\n",
    "memo = [0 for _ in range(1000001)] #n<=90 이므로 넉넉히 이정도 구비해둡시다.\n",
    "\n",
    "def fibo(n) :\n",
    "    if n<=1 :\n",
    "        return 1\n",
    "        \n",
    "    if memo[n]!=0 :\n",
    "        return memo[n]\n",
    "    \n",
    "    memo[n] = fibo(n-1) +fibo(n-2)\n",
    "    return memo[n]    \n",
    "    \n",
    "print(fibo(n)%15746)"
   ]
  },
  {
   "cell_type": "markdown",
   "metadata": {},
   "source": [
    "## 9461. 파도반 수열\n",
    "> DP의 마음으로 "
   ]
  },
  {
   "cell_type": "code",
   "execution_count": 3,
   "metadata": {},
   "outputs": [
    {
     "name": "stdout",
     "output_type": "stream",
     "text": [
      "2\n",
      "6\n",
      "3\n",
      "12\n",
      "16\n"
     ]
    }
   ],
   "source": [
    "memo = [0,1,1,1,2,2,3]+[0]*100\n",
    "\n",
    "def fibo(n) :\n",
    "    if 0<n<=6 :\n",
    "        return memo[n]\n",
    "        \n",
    "    if memo[n]!=0 :\n",
    "        return memo[n]\n",
    "    \n",
    "    memo[n] = fibo(n-5) +fibo(n-1)\n",
    "    return memo[n]    \n",
    "\n",
    "for i in range(int(input())) :\n",
    "    n = int(input())\n",
    "    print(fibo(n))\n"
   ]
  },
  {
   "cell_type": "markdown",
   "metadata": {},
   "source": [
    "## 1149. RGB거리"
   ]
  },
  {
   "cell_type": "code",
   "execution_count": null,
   "metadata": {},
   "outputs": [],
   "source": []
  },
  {
   "cell_type": "code",
   "execution_count": null,
   "metadata": {},
   "outputs": [],
   "source": []
  },
  {
   "cell_type": "code",
   "execution_count": null,
   "metadata": {},
   "outputs": [],
   "source": []
  },
  {
   "cell_type": "code",
   "execution_count": null,
   "metadata": {},
   "outputs": [],
   "source": []
  },
  {
   "cell_type": "code",
   "execution_count": null,
   "metadata": {},
   "outputs": [],
   "source": []
  },
  {
   "cell_type": "code",
   "execution_count": null,
   "metadata": {},
   "outputs": [],
   "source": []
  }
 ],
 "metadata": {
  "kernelspec": {
   "display_name": "Python 3",
   "language": "python",
   "name": "python3"
  },
  "language_info": {
   "codemirror_mode": {
    "name": "ipython",
    "version": 3
   },
   "file_extension": ".py",
   "mimetype": "text/x-python",
   "name": "python",
   "nbconvert_exporter": "python",
   "pygments_lexer": "ipython3",
   "version": "3.7.3"
  }
 },
 "nbformat": 4,
 "nbformat_minor": 2
}
