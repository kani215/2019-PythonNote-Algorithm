{
 "cells": [
  {
   "cell_type": "markdown",
   "metadata": {},
   "source": [
    "## 11047. 동전 0\n",
    "문제\n",
    "준규가 가지고 있는 동전은 총 N종류이고, 각각의 동전을 매우 많이 가지고 있다.\n",
    "\n",
    "동전을 적절히 사용해서 그 가치의 합을 K로 만들려고 한다. 이때 필요한 동전 개수의 최솟값을 구하는 프로그램을 작성하시오.\n",
    "\n",
    "입력\n",
    "첫째 줄에 N과 K가 주어진다. (1 ≤ N ≤ 10, 1 ≤ K ≤ 100,000,000)\n",
    "\n",
    "둘째 줄부터 N개의 줄에 동전의 가치 Ai가 오름차순으로 주어진다. (1 ≤ Ai ≤ 1,000,000, A1 = 1, i ≥ 2인 경우에 Ai는 Ai-1의 배수)\n",
    "\n",
    "출력\n",
    "첫째 줄에 K원을 만드는데 필요한 동전 개수의 최솟값을 출력한다."
   ]
  },
  {
   "cell_type": "markdown",
   "metadata": {},
   "source": [
    "### 1. 나의풀이 - 시간초과\n",
    "> 동전문제는 그리디 알고리즘 (최적해도출)의 숙원 \n",
    "> 로드맵은 이거다 최적해 (최대가치를 지닌 동전을 찾아내서 차감식으로  풀이한다.)"
   ]
  },
  {
   "cell_type": "code",
   "execution_count": 5,
   "metadata": {},
   "outputs": [
    {
     "name": "stdout",
     "output_type": "stream",
     "text": [
      "10 12\n",
      "1\n",
      "5\n",
      "10\n",
      "50\n",
      "100\n",
      "500\n",
      "1000\n",
      "5000\n",
      "10000\n",
      "50000\n",
      "result : [10] totalcost: 10.0\n",
      "result : [10, 1] totalcost: 11.0\n",
      "result : [10, 1, 1] totalcost: 12.0\n",
      "3\n"
     ]
    }
   ],
   "source": [
    "n,k = map(int,input().split())\n",
    "itemsCopy=[0]*n\n",
    "for i in range(n) :\n",
    "    itemsCopy[i] = int(input())\n",
    "\n",
    "def greedy(items, maxCost):\n",
    "    result =0\n",
    "    totalCost = 0.0\n",
    "    while True :\n",
    "        for i in range(len(itemsCopy)):\n",
    "            if (totalCost+itemsCopy[i]) > maxCost :\n",
    "                itemsLimit = (maxCost-totalCost) // itemsCopy[i-1]\n",
    "                result += itemsLimit\n",
    "                totalCost += itemsCopy[i-1] * itemsLimit\n",
    "                break\n",
    "        if totalCost == maxCost :\n",
    "            return result\n",
    "            break\n",
    "                           \n",
    "print(greedy(itemsCopy,k))"
   ]
  },
  {
   "cell_type": "markdown",
   "metadata": {},
   "source": [
    "## 2. 속도 개선 문제 부분은 핵심 코어 부위 4000원이면 한번에 1000원 4개를 지워야한다."
   ]
  },
  {
   "cell_type": "code",
   "execution_count": 7,
   "metadata": {
    "scrolled": true
   },
   "outputs": [
    {
     "name": "stdout",
     "output_type": "stream",
     "text": [
      "10 4200\n",
      "1\n",
      "5\n",
      "10\n",
      "50\n",
      "100\n",
      "500\n",
      "1000\n",
      "5000\n",
      "10000\n",
      "50000\n",
      "result: 4 totalcost 4000\n",
      "result: 6 totalcost 4200\n",
      "6\n"
     ]
    }
   ],
   "source": [
    "n,k = map(int,input().split())\n",
    "itemsCopy=[0]*n\n",
    "for i in range(n) :\n",
    "    itemsCopy[i] = int(input())\n",
    "\n",
    "def greedy(items, maxCost):\n",
    "    result =0\n",
    "    totalCost = 0\n",
    "    while True :\n",
    "        for i in range(len(itemsCopy)):\n",
    "            if (totalCost+itemsCopy[i]) > maxCost :\n",
    "                itemsLimit = (maxCost-totalCost) // itemsCopy[i-1]\n",
    "                result += itemsLimit\n",
    "                totalCost += itemsCopy[i-1] * itemsLimit\n",
    "                print(\"result:\",result,\"totalcost\",totalCost)\n",
    "\n",
    "                break\n",
    "        if totalCost == maxCost :\n",
    "            return result\n",
    "            break\n",
    "                           \n",
    "print(greedy(itemsCopy,k))"
   ]
  },
  {
   "cell_type": "markdown",
   "metadata": {},
   "source": [
    "### 3. 오 오류가 있네... 위의 풀이의 한계는 \n",
    "> 최대 원소가 maxcost보다 작은 경우 못잡고\n",
    "> 1개 이하 입력도 못잡음"
   ]
  },
  {
   "cell_type": "code",
   "execution_count": 9,
   "metadata": {},
   "outputs": [
    {
     "name": "stdout",
     "output_type": "stream",
     "text": [
      "10 4200\n",
      "1\n",
      "5\n",
      "10\n",
      "50\n",
      "100\n",
      "500\n",
      "1000\n",
      "5000\n",
      "10000\n",
      "50000\n",
      "6\n"
     ]
    }
   ],
   "source": [
    "#입력을 받는 부분입니다.\n",
    "n,k = map(int,input().split())\n",
    "itemsCopy=[0]*n\n",
    "for i in range(n) :\n",
    "    itemsCopy[i] = int(input())\n",
    "itemsCopy.reverse()\n",
    "#그리디 알고리즘 구현 최적값은 동전의 값이 클수록 우선적으로 넣게 하였습니다.\n",
    "def greedy(items, maxCost):\n",
    "    result =0\n",
    "    totalCost = 0\n",
    "    while True :\n",
    "        for i in range(len(itemsCopy)):\n",
    "            if (totalCost+itemsCopy[i]) <= maxCost :\n",
    "                itemsLimit = (maxCost-totalCost) // itemsCopy[i]\n",
    "                result += itemsLimit\n",
    "                totalCost += itemsCopy[i] * itemsLimit\n",
    "                break\n",
    "# 누적된 totalCost값이 maxCost와 동일하면 while문에서 나옵니다.             \n",
    "        if totalCost == maxCost :\n",
    "            return result\n",
    "            break\n",
    "                           \n",
    "print(greedy(itemsCopy,k))"
   ]
  },
  {
   "cell_type": "code",
   "execution_count": null,
   "metadata": {},
   "outputs": [],
   "source": [
    "성공"
   ]
  },
  {
   "cell_type": "markdown",
   "metadata": {},
   "source": [
    "### 4. 개선된 정답자의 코드 -i탐색으로 역수 과정을 생략할 수 있습니다."
   ]
  },
  {
   "cell_type": "code",
   "execution_count": null,
   "metadata": {},
   "outputs": [],
   "source": [
    "# 입력 받기 \n",
    "N, K = map(int, input().split())\n",
    "coins = [int(input()) for _ in range(N)]\n",
    "\n",
    "# 최소 동전 개수 구하기 \n",
    "coin_num = 0\n",
    "\n",
    "for i in range(1,N+1):\n",
    "    # 인덱스 끝부터 순회 : 마이너스 인덱스 \n",
    "    coin = coins[-i]\n",
    "    \n",
    "    if K >= coin : \n",
    "        num = K//coin\n",
    "        K -= coin*num\n",
    "        coin_num += num\n",
    "        \n",
    "print(coin_num)"
   ]
  },
  {
   "cell_type": "markdown",
   "metadata": {},
   "source": [
    "## 11399. ATM\n",
    "인하은행에는 ATM이 1대밖에 없다. 지금 이 ATM앞에 N명의 사람들이 줄을 서있다. 사람은 1번부터 N번까지 번호가 매겨져 있으며, i번 사람이 돈을 인출하는데 걸리는 시간은 Pi분이다.\n",
    "\n",
    "사람들이 줄을 서는 순서에 따라서, 돈을 인출하는데 필요한 시간의 합이 달라지게 된다. 예를 들어, 총 5명이 있고, P1 = 3, P2 = 1, P3 = 4, P4 = 3, P5 = 2 인 경우를 생각해보자. [1, 2, 3, 4, 5] 순서로 줄을 선다면, 1번 사람은 3분만에 돈을 뽑을 수 있다. 2번 사람은 1번 사람이 돈을 뽑을 때 까지 기다려야 하기 때문에, 3+1 = 4분이 걸리게 된다. 3번 사람은 1번, 2번 사람이 돈을 뽑을 때까지 기다려야 하기 때문에, 총 3+1+4 = 8분이 필요하게 된다. 4번 사람은 3+1+4+3 = 11분, 5번 사람은 3+1+4+3+2 = 13분이 걸리게 된다. 이 경우에 각 사람이 돈을 인출하는데 필요한 시간의 합은 3+4+8+11+13 = 39분이 된다.\n",
    "\n",
    "줄을 [2, 5, 1, 4, 3] 순서로 줄을 서면, 2번 사람은 1분만에, 5번 사람은 1+2 = 3분, 1번 사람은 1+2+3 = 6분, 4번 사람은 1+2+3+3 = 9분, 3번 사람은 1+2+3+3+4 = 13분이 걸리게 된다. 각 사람이 돈을 인출하는데 필요한 시간의 합은 1+3+6+9+13 = 32분이다. 이 방법보다 더 필요한 시간의 합을 최소로 만들 수는 없다.\n",
    "\n",
    "줄을 서 있는 사람의 수 N과 각 사람이 돈을 인출하는데 걸리는 시간 Pi가 주어졌을 때, 각 사람이 돈을 인출하는데 필요한 시간의 합의 최솟값을 구하는 프로그램을 작성하시오."
   ]
  },
  {
   "cell_type": "markdown",
   "metadata": {},
   "source": [
    "### 1. dp접근 memo\n",
    "> 1. list로 입력 수들을 담그고 그만큼의 list메모리를 또 만들어 거기다가 합을 넣어줄 예정\n",
    "> 2. 물론 sort 사용"
   ]
  },
  {
   "cell_type": "code",
   "execution_count": 14,
   "metadata": {},
   "outputs": [
    {
     "name": "stdout",
     "output_type": "stream",
     "text": [
      "5\n",
      "3 1 4 3 2\n",
      "[3, 1, 4, 3, 2]\n",
      "32\n"
     ]
    }
   ],
   "source": [
    "T = int(input())\n",
    "li = list(map(int,input().split()))\n",
    "\n",
    "li.sort()\n",
    "memo = [0] * T \n",
    "\n",
    "for i in range(T) :\n",
    "    if i == 0:\n",
    "        memo[i] =li[i]\n",
    "    else :\n",
    "        memo[i] = memo[i-1] + li[i]\n",
    "print(sum(memo))"
   ]
  },
  {
   "cell_type": "markdown",
   "metadata": {},
   "source": [
    "## 2217. 로프 \n",
    "> 중량 문제 입력 수 n개를 받는다 1 2 3 4 5 6  여기서 최소값은 1이며 총 6개 이기 때문에 6중량까지 들수 있다고 한다.\n",
    "\n",
    "> 최대 중량수 구하기 문제\n",
    "\n",
    "> 그리디 알고리즘 보다는 최단 탐색과 관련이 깊은 문제가 아닐까?\n",
    "\n",
    "> 속도를 위해 "
   ]
  },
  {
   "cell_type": "markdown",
   "metadata": {},
   "source": [
    "### 1. 풀이 : 문제가 도무지 이해가 안됨 해석 불가;;"
   ]
  },
  {
   "cell_type": "code",
   "execution_count": 3,
   "metadata": {},
   "outputs": [
    {
     "name": "stdout",
     "output_type": "stream",
     "text": [
      "1\n",
      "10\n",
      "10\n"
     ]
    }
   ],
   "source": [
    "def merge_sort(a) :\n",
    "    n = len(a)\n",
    "    if n==1:\n",
    "        return a\n",
    "    mid = n//2\n",
    "    g1 = a[:mid]\n",
    "    g2 = a[mid:]\n",
    "    merge_sort(g1)\n",
    "    merge_sort(g2)\n",
    "    \n",
    "    i1 = 0\n",
    "    i2 = 0\n",
    "    ia = 0 #작은 수 초기화 \n",
    "    while i1 < len(g1) and i2 <len(g2) :\n",
    "        if g1[i1]<g2[i2]:\n",
    "            g1[ia] = g1[i1]\n",
    "            i1+=1\n",
    "            ia+=1\n",
    "            \n",
    "        else :\n",
    "            a[ia]=g2[i2]\n",
    "            i2 +=1\n",
    "            ia +=1\n",
    "            \n",
    "    while i1 <len(g1) :\n",
    "        a[ia] = g1[i1] \n",
    "        i1 +=1\n",
    "        ia +=1\n",
    "        \n",
    "    while i2 < len(g2) :\n",
    "        a[ia] = g2[i2]\n",
    "        i2 +=1\n",
    "        ia +=1\n",
    "n = int(input())\n",
    "d_loop = list(map(int,input().split()))\n",
    "merge_sort(d_loop)\n",
    "\n",
    "# 2. 조건에 맞는 로프 선택과정 \n",
    "for i in range(1,len(d_loop)+1) : \n",
    "    if d_loop[i]*i > d_loop[-(i+1)]*(i+1) :\n",
    "        print(d_loop[-i]*i)\n",
    "    else : \n",
    "        print(d_loop[-(i+1)]*)"
   ]
  },
  {
   "cell_type": "code",
   "execution_count": 5,
   "metadata": {},
   "outputs": [
    {
     "name": "stdout",
     "output_type": "stream",
     "text": [
      "1\n"
     ]
    }
   ],
   "source": []
  },
  {
   "cell_type": "markdown",
   "metadata": {},
   "source": [
    "## 1541. 잃어버린 괄호 \n",
    "숫자 +,- 로 이루어진 식에 괄호를 쳐서 식의 값을 최소로 만들어라 \n",
    "> 최소값을 출력"
   ]
  },
  {
   "cell_type": "markdown",
   "metadata": {},
   "source": [
    "### 1. 그리디의 마음으로 풀자\n",
    "\n",
    "> 1. str  문자 형으로 풀이할 예정이다\n",
    "> 2. + 기호들을 탐색해서 묶어버리면 정답이다. \n",
    "> 3. 사실상 50크기의 수이기 때문에 일일 탐색이 먹힐 것이다."
   ]
  },
  {
   "cell_type": "markdown",
   "metadata": {},
   "source": [
    "#### 1-1. 파이썬의 문자열 분해"
   ]
  },
  {
   "cell_type": "code",
   "execution_count": 36,
   "metadata": {},
   "outputs": [
    {
     "name": "stdout",
     "output_type": "stream",
     "text": [
      "15\n"
     ]
    }
   ],
   "source": [
    "def plus(s) :\n",
    "    t,m = map(int,s.split(\"+\"))\n",
    "    return (t+m)\n",
    "s = \"9+6\"\n",
    "print(plus(s))"
   ]
  },
  {
   "cell_type": "markdown",
   "metadata": {},
   "source": [
    "#### 1-2. 파이썬의 문자열 포함여부 "
   ]
  },
  {
   "cell_type": "code",
   "execution_count": 32,
   "metadata": {},
   "outputs": [
    {
     "name": "stdout",
     "output_type": "stream",
     "text": [
      "0\n"
     ]
    }
   ],
   "source": [
    "s = \"9+6\"\n",
    "if \"-\" in s:\n",
    "    print(1)\n",
    "else :\n",
    "    print(0)"
   ]
  },
  {
   "cell_type": "code",
   "execution_count": 2,
   "metadata": {
    "scrolled": true
   },
   "outputs": [
    {
     "name": "stdout",
     "output_type": "stream",
     "text": [
      "55-100+100+100\n",
      "-245\n"
     ]
    }
   ],
   "source": [
    "user_sik = list(map(str,input().split(\"-\")))\n",
    "\n",
    "# 1. 문자열분해 \n",
    "def plus2(input_plus) :\n",
    "    time_plus = list(map(int,input_plus.split(\"+\")))\n",
    "    return sum(time_plus)\n",
    "\n",
    "for i in range(len(user_sik)) :\n",
    "    if \"+\" in user_sik[i] :\n",
    "        user_sik[i] = plus2(user_sik[i])\n",
    "        \n",
    "        \n",
    "sum = int(user_sik[0])    \n",
    "\n",
    "for i in range(1,len(user_sik)) :\n",
    "    user_sik[i] = int(user_sik[i])\n",
    "    sum -=user_sik[i] \n",
    "print(sum)"
   ]
  },
  {
   "cell_type": "code",
   "execution_count": 1,
   "metadata": {
    "scrolled": true
   },
   "outputs": [
    {
     "name": "stdout",
     "output_type": "stream",
     "text": [
      "42\n"
     ]
    }
   ],
   "source": [
    "\n",
    "\n"
   ]
  }
 ],
 "metadata": {
  "kernelspec": {
   "display_name": "Python 3",
   "language": "python",
   "name": "python3"
  },
  "language_info": {
   "codemirror_mode": {
    "name": "ipython",
    "version": 3
   },
   "file_extension": ".py",
   "mimetype": "text/x-python",
   "name": "python",
   "nbconvert_exporter": "python",
   "pygments_lexer": "ipython3",
   "version": "3.7.3"
  }
 },
 "nbformat": 4,
 "nbformat_minor": 2
}
