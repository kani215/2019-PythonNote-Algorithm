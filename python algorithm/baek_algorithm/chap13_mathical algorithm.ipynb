{
 "cells": [
  {
   "cell_type": "markdown",
   "metadata": {},
   "source": [
    "# 5086.배수 약수"
   ]
  },
  {
   "cell_type": "markdown",
   "metadata": {},
   "source": [
    "## 1.  무한 입력수 중 배수 약수 구별\n",
    "\n",
    "> 1. 무한 반복 구현\n",
    "> 2. if 조건 으로 각기 구현 "
   ]
  },
  {
   "cell_type": "code",
   "execution_count": 2,
   "metadata": {},
   "outputs": [
    {
     "name": "stdout",
     "output_type": "stream",
     "text": [
      "8 16\n",
      "factor\n",
      "32 4\n",
      "multiple\n",
      "17 5\n",
      "neither\n",
      "0 0\n"
     ]
    }
   ],
   "source": [
    "while True :\n",
    "    a,b = map(int,input().split())\n",
    "    if a==0 and b==0 :\n",
    "        break\n",
    "    def mula(a,b):\n",
    "        if b%a==0 :\n",
    "            return(\"factor\")\n",
    "        elif a%b==0 :\n",
    "            return(\"multiple\")\n",
    "        else :\n",
    "            return(\"neither\")\n",
    "    \n",
    "    print(mula(a,b))\n"
   ]
  },
  {
   "cell_type": "code",
   "execution_count": 3,
   "metadata": {
    "scrolled": true
   },
   "outputs": [
    {
     "name": "stdout",
     "output_type": "stream",
     "text": [
      "2\n",
      "4 2\n",
      "8\n"
     ]
    }
   ],
   "source": [
    "i = int(input())\n",
    "li = list(map(int,input().split()))\n",
    "li.sort()\n",
    "print(li[0]*li[-1])"
   ]
  },
  {
   "cell_type": "markdown",
   "metadata": {},
   "source": [
    "# 11653. 소인수 분해\n",
    "\n",
    "### 1. 노가다로 되나;;; 소수 다 찾아야하긴 하네 \n",
    "> 소수를 찾는다\n",
    "\n",
    "> 범위보다 작은 소수로 나누어지는지 검증한다."
   ]
  },
  {
   "cell_type": "code",
   "execution_count": 22,
   "metadata": {},
   "outputs": [
    {
     "name": "stdout",
     "output_type": "stream",
     "text": [
      "72\n",
      "[1, 2, 3, 4, 6, 8, 9, 12, 18, 24, 36, 72]\n"
     ]
    }
   ],
   "source": [
    "num = int(input())\n",
    "ans_li = []\n",
    "def sosu(n) :\n",
    "    li = []\n",
    "    for i in range(n) :\n",
    "        li.append(2,3)\n",
    "        \n",
    "for i in range(1,(num)+1):\n",
    "    if num%i==0:\n",
    "        ans_li.append(i)\n",
    "print(ans_li)\n"
   ]
  },
  {
   "cell_type": "markdown",
   "metadata": {},
   "source": [
    "# 2609. 최대공약수 최소공배수"
   ]
  },
  {
   "cell_type": "code",
   "execution_count": 9,
   "metadata": {},
   "outputs": [
    {
     "name": "stdout",
     "output_type": "stream",
     "text": [
      "199 7\n",
      "1\n",
      "1393.0\n"
     ]
    }
   ],
   "source": [
    "a, b = map(int,input().split())\n",
    "c = 0\n",
    "if a < b :\n",
    "    c = a\n",
    "    a = b\n",
    "    b = c\n",
    "k = a\n",
    "m = b\n",
    "while True :\n",
    "    if a%b == 0 :\n",
    "        print(b)\n",
    "        print(int(k*m/b))\n",
    "        break\n",
    "    else :\n",
    "        c = a%b\n",
    "        a = b\n",
    "        b = c\n",
    "        \n"
   ]
  },
  {
   "cell_type": "markdown",
   "metadata": {},
   "source": [
    "# 2981. 검문"
   ]
  },
  {
   "cell_type": "markdown",
   "metadata": {},
   "source": [
    "# 3036. 링"
   ]
  },
  {
   "cell_type": "code",
   "execution_count": 15,
   "metadata": {},
   "outputs": [
    {
     "name": "stdout",
     "output_type": "stream",
     "text": [
      "4\n",
      "12 3 8 4\n",
      "4/1\n",
      "3/2\n",
      "3/1\n"
     ]
    }
   ],
   "source": [
    "N =int(input())\n",
    "ling = list(map(int,input().split()))\n",
    "chan = 0\n",
    "def find(a,b) :\n",
    "    while True :\n",
    "        if a%b == 0 :\n",
    "            return(b)\n",
    "            break\n",
    "        else :\n",
    "            c = a%b\n",
    "            a = b\n",
    "            b = c\n",
    "        \n",
    "for i in range(1,len(ling)):\n",
    "    if ling[0]%ling[i]==0 :\n",
    "        print(str(ling[0]//ling[i])+\"/\"+\"1\")\n",
    "    elif ling[i]%ling[0] ==0:\n",
    "        print(\"1\"+\"/\"+str(ling[i]//ling[0]))\n",
    "    else :\n",
    "        print(str(int(ling[0]/find(ling[0],ling[i])))+\"/\"+str(int(ling[i]/find(ling[0],ling[i]))))\n",
    "\n",
    "    "
   ]
  },
  {
   "cell_type": "markdown",
   "metadata": {},
   "source": [
    "## 11050 이항계수"
   ]
  },
  {
   "cell_type": "code",
   "execution_count": 20,
   "metadata": {},
   "outputs": [
    {
     "name": "stdout",
     "output_type": "stream",
     "text": [
      "5 0\n",
      "1\n"
     ]
    }
   ],
   "source": [
    "n, k = map(int,input().split())\n",
    "\n",
    "def factor(k) :\n",
    "    if k==1 or k==0 :\n",
    "        return 1\n",
    "    else :\n",
    "        return k *factor(k-1)\n",
    "print(int(factor(n)/(factor(k)*factor(n-k))))\n"
   ]
  },
  {
   "cell_type": "markdown",
   "metadata": {},
   "source": [
    "## 1676. 팩토리얼 0의 개수"
   ]
  },
  {
   "cell_type": "code",
   "execution_count": 57,
   "metadata": {},
   "outputs": [
    {
     "name": "stdout",
     "output_type": "stream",
     "text": [
      "125\n",
      "31\n"
     ]
    }
   ],
   "source": [
    "n =int(input())\n",
    "# 2의 배수보다 5의 배수가 적은 상황이기에 2x5=10 0을 늘리기 위해선 5가 소인수로 몇개나 있는지 파악\n",
    "\n",
    "def find5(n):\n",
    "    count =0\n",
    "    for i in range(1,n//5+1):\n",
    "        if 5*i%5==0:\n",
    "            count +=1\n",
    "        if 5*i%25==0 :\n",
    "            count +=1\n",
    "        if 5*i%125==0 :\n",
    "            count +=1\n",
    "    return count\n",
    "\n",
    "if n>=5 :\n",
    "    print(find5(n))\n",
    "elif n ==0:\n",
    "    print(1)\n",
    "else :\n",
    "    print(0)"
   ]
  },
  {
   "cell_type": "markdown",
   "metadata": {},
   "source": [
    "# 9375. 패션왕 신혜빈씨\n",
    "\n",
    "## 1. 평범한 조합이네 \n",
    "> 안 입을때 포함시켜서 (n가지+1)*(n가지+1) -1 해주면 된다"
   ]
  },
  {
   "cell_type": "code",
   "execution_count": null,
   "metadata": {},
   "outputs": [],
   "source": [
    "for i in range(input()) :\n",
    "    n = int(input())\n",
    "    fashion = [0]*n\n",
    "    for i in range(n) :\n",
    "        fashion[i] = list(input().split())"
   ]
  },
  {
   "cell_type": "markdown",
   "metadata": {},
   "source": [
    "## 11051 이항계수 2\n",
    "n k 입력시 nCk 계산한 값을 10007로 나눈 나머지를 구하여라"
   ]
  },
  {
   "cell_type": "markdown",
   "metadata": {},
   "source": [
    "### 1. 그냥 c로 풀었더니 범위상의 오류인지 값이 잘 안나온다.\n",
    "\n",
    ">크기가 커지면 올바른 답이 나오질 않는다. 1000,500 >8662나오고 있다면 오답이다."
   ]
  },
  {
   "cell_type": "code",
   "execution_count": 14,
   "metadata": {},
   "outputs": [
    {
     "name": "stdout",
     "output_type": "stream",
     "text": [
      "1000 500\n",
      "8662\n"
     ]
    }
   ],
   "source": [
    "n,k = map(int,input().split())\n",
    "def fact(n) :\n",
    "    if n==0 :\n",
    "        return 1\n",
    "    if n ==1 :\n",
    "        return 1\n",
    "    else :\n",
    "        return n*fact(n-1)\n",
    "    \n",
    "t1 =fact(n)\n",
    "t2 =fact(n-k)*fact(k)\n",
    "t = t1/t2\n",
    "print(int(t%10007))"
   ]
  },
  {
   "cell_type": "markdown",
   "metadata": {},
   "source": [
    "## 2004번 조합 0의 수"
   ]
  },
  {
   "cell_type": "markdown",
   "metadata": {},
   "source": []
  },
  {
   "cell_type": "code",
   "execution_count": null,
   "metadata": {},
   "outputs": [],
   "source": []
  }
 ],
 "metadata": {
  "kernelspec": {
   "display_name": "Python 3",
   "language": "python",
   "name": "python3"
  },
  "language_info": {
   "codemirror_mode": {
    "name": "ipython",
    "version": 3
   },
   "file_extension": ".py",
   "mimetype": "text/x-python",
   "name": "python",
   "nbconvert_exporter": "python",
   "pygments_lexer": "ipython3",
   "version": "3.7.3"
  }
 },
 "nbformat": 4,
 "nbformat_minor": 2
}
