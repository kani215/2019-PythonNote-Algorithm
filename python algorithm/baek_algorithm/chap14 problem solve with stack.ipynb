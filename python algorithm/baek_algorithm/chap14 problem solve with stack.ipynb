{
 "cells": [
  {
   "cell_type": "markdown",
   "metadata": {},
   "source": [
    "# 10828 스택"
   ]
  },
  {
   "cell_type": "code",
   "execution_count": null,
   "metadata": {},
   "outputs": [
    {
     "name": "stdout",
     "output_type": "stream",
     "text": [
      "100\n"
     ]
    }
   ],
   "source": [
    "stack = []\n",
    "\n",
    "def top(b) :\n",
    "    if len(stack)!=0:\n",
    "        return stack[-1]\n",
    "    else :\n",
    "        return -1\n",
    "    \n",
    "def size(b) :\n",
    "    return len(stack)\n",
    "\n",
    "def empty(b) :\n",
    "    if len(stack)!=0:\n",
    "        return 0\n",
    "    else :\n",
    "        return 1\n",
    "def pop(b) :\n",
    "    if len(stack)!=0:\n",
    "        return stack.pop(-1)\n",
    "    else :\n",
    "        return -1\n",
    "    \n",
    "for i in range(int(input())) :\n",
    "    a = input()\n",
    "    b = a.split(\" \")\n",
    "    if len(b)!=1 :\n",
    "        stack.append(b[1])\n",
    "    else :\n",
    "        if b[0]==\"top\" :\n",
    "            print(top(b))\n",
    "            \n",
    "        elif b[0]==\"size\":\n",
    "            print(size(b))\n",
    "\n",
    "        elif b[0]==\"empty\" :\n",
    "            print(empty(b))\n",
    "\n",
    "        elif b[0]==\"pop\":\n",
    "            print(pop(b))\n"
   ]
  },
  {
   "cell_type": "code",
   "execution_count": 14,
   "metadata": {},
   "outputs": [
    {
     "ename": "NameError",
     "evalue": "name 'top' is not defined",
     "output_type": "error",
     "traceback": [
      "\u001b[1;31m---------------------------------------------------------------------------\u001b[0m",
      "\u001b[1;31mNameError\u001b[0m                                 Traceback (most recent call last)",
      "\u001b[1;32m<ipython-input-14-816b81771e62>\u001b[0m in \u001b[0;36m<module>\u001b[1;34m\u001b[0m\n\u001b[0;32m      1\u001b[0m \u001b[0mli\u001b[0m\u001b[1;33m=\u001b[0m\u001b[1;33m[\u001b[0m\u001b[1;36m1\u001b[0m\u001b[1;33m,\u001b[0m\u001b[1;36m2\u001b[0m\u001b[1;33m,\u001b[0m\u001b[1;36m3\u001b[0m\u001b[1;33m]\u001b[0m\u001b[1;33m\u001b[0m\u001b[1;33m\u001b[0m\u001b[0m\n\u001b[1;32m----> 2\u001b[1;33m \u001b[0mprint\u001b[0m\u001b[1;33m(\u001b[0m\u001b[0mtop\u001b[0m\u001b[1;33m(\u001b[0m\u001b[0mli\u001b[0m\u001b[1;33m)\u001b[0m\u001b[1;33m)\u001b[0m\u001b[1;33m\u001b[0m\u001b[1;33m\u001b[0m\u001b[0m\n\u001b[0m",
      "\u001b[1;31mNameError\u001b[0m: name 'top' is not defined"
     ]
    }
   ],
   "source": []
  },
  {
   "cell_type": "markdown",
   "metadata": {},
   "source": [
    "# 10773 제로\n",
    "\n",
    "> 민수는 회계장부 쓴다\n",
    "> 처음 입력은 말할 수들의 총 횟수이고\n",
    "> 아무런 수를 부른다 0일 경우 직전 부른 수를 지운다. 적힌 수들의 총합은?"
   ]
  },
  {
   "cell_type": "code",
   "execution_count": 3,
   "metadata": {
    "scrolled": true
   },
   "outputs": [
    {
     "name": "stdout",
     "output_type": "stream",
     "text": [
      "10\n",
      "1\n",
      "3\n",
      "5\n",
      "4\n",
      "0\n",
      "0\n",
      "7\n",
      "0\n",
      "0\n",
      "6\n",
      "7\n"
     ]
    }
   ],
   "source": [
    "stack = []\n",
    "sum =0\n",
    "for i in range(int(input())) :\n",
    "    stack.append(int(input()))\n",
    "    if stack[-1] ==0 :\n",
    "        stack.pop(-1)\n",
    "        stack.pop(-1)\n",
    "\n",
    "for i in stack :\n",
    "    sum +=i\n",
    "print(sum)"
   ]
  },
  {
   "cell_type": "markdown",
   "metadata": {},
   "source": [
    "# 9012 괄호\n",
    "괄호 문자열(Parenthesis String, PS)은 두 개의 괄호 기호인 ‘(’ 와 ‘)’ 만으로 구성되어 있는 문자열이다. 그 중에서 괄호의 모양이 바르게 구성된 문자열을 올바른 괄호 문자열(Valid PS, VPS)이라고 부른다. 한 쌍의 괄호 기호로 된 “( )” 문자열은 기본 VPS 이라고 부른다. 만일 x 가 VPS 라면 이것을 하나의 괄호에 넣은 새로운 문자열 “(x)”도 VPS 가 된다. 그리고 두 VPS x 와 y를 접합(concatenation)시킨 새로운 문자열 xy도 VPS 가 된다. 예를 들어 “(())()”와 “((()))” 는 VPS 이지만 “(()(”, “(())()))” , 그리고 “(()” 는 모두 VPS 가 아닌 문자열이다. \n",
    "\n",
    "여러분은 입력으로 주어진 괄호 문자열이 VPS 인지 아닌지를 판단해서 그 결과를 YES 와 NO 로 나타내어야 한다."
   ]
  },
  {
   "cell_type": "markdown",
   "metadata": {},
   "source": [
    "> stack 문제는 간단하다.\n",
    "> 1. 넣고 빼주면 된다\n",
    "> 2. ( 입력시 stack에 입력되고 )입력시 pop된다 stack이 비면 괄호가 맞다"
   ]
  },
  {
   "cell_type": "code",
   "execution_count": 3,
   "metadata": {},
   "outputs": [
    {
     "name": "stdout",
     "output_type": "stream",
     "text": [
      "6\n",
      "(())())\n",
      "NO\n",
      "(((()())()\n",
      "NO\n",
      "(()())((()))\n",
      "YES\n",
      "((()()(()))(((())))()\n",
      "NO\n",
      "()()()()(()()())()\n",
      "YES\n",
      "(()((())()(\n",
      "NO\n"
     ]
    }
   ],
   "source": [
    "for i in range(int(input())) :\n",
    "    stack =[]\n",
    "    gual = list(map(str,input()))\n",
    "    for i in gual :\n",
    "        if i == \"(\" :\n",
    "            stack.append(i)\n",
    "        else :\n",
    "            if \"(\" in stack :\n",
    "                stack.pop(-1)\n",
    "            else :\n",
    "                stack.append(\"1\")\n",
    "    if not stack :\n",
    "        print(\"YES\")\n",
    "    elif \"1\" in stack :\n",
    "        print(\"NO\")\n",
    "        \n",
    "    else :\n",
    "        print(\"NO\")\n",
    "            \n",
    "        "
   ]
  },
  {
   "cell_type": "markdown",
   "metadata": {},
   "source": [
    "# 4949 균형잡힌 세상\n",
    "하나 또는 여러줄에 걸쳐서 문자열이 주어진다. 각 문자열은 영문 알파벳, 공백, 소괄호(\"( )\") 대괄호(\"[ ]\")등으로 이루어져 있으며, 길이는 100글자보다 작거나 같다.\n",
    "\n",
    "입력의 종료조건으로 맨 마지막에 점 하나(\".\")가 들어온다.\n",
    "각 줄마다 해당 문자열이 균형을 이루고 있으면 \"yes\"를, 아니면 \"no\"를 출력한다."
   ]
  },
  {
   "cell_type": "markdown",
   "metadata": {},
   "source": [
    "> 1. 균형 stack을 이용해야하ㅡㄴ 문제인데 상황이 심상치 않다.  괄호들이 섞일때?\n",
    "> 2. ({)}은 어떻게 잡는 건가 \n",
    "> 3. pop-1로 직전 제거는 수식이 굉장히 어려워진다.\n",
    "> 4. 0903 싯팔 _ 문장 띄어쓰기 포함 입력받아 낱게로 처리가 안된당"
   ]
  },
  {
   "cell_type": "markdown",
   "metadata": {},
   "source": [
    "## 고안한 방법은 이렇다\n",
    "0. 무한 입력의 틀 마련\n",
    "1. 문자열 분해 해서 낱개로 list인수로 저장\n",
    "2. 인수 탐색 > (){}만 추려내서 \n",
    "3. 나의 경우 앞과 뒤가 합쳐지면 된다는 논리 사용중 () {}"
   ]
  },
  {
   "cell_type": "markdown",
   "metadata": {},
   "source": [
    "## 문자열 분석 문법 \n",
    "> 문제해결 4번을 완료\n",
    "> 거의 답안 완성임\n",
    "\n",
    "a = list(\"\".join(input().split()))\n",
    "print(a)"
   ]
  },
  {
   "cell_type": "code",
   "execution_count": null,
   "metadata": {
    "scrolled": true
   },
   "outputs": [],
   "source": [
    "while True :\n",
    "    ans_list = [[\"(\",\")\"],[\"[\",\"]\"]]\n",
    "    stack1 = []\n",
    "    ques_G = [\"(\",\")\",\"[\",\"]\"]\n",
    "    a = list(\"\".join(input().split()))\n",
    "    if a == [\".\"] :\n",
    "        break\n",
    "    for i in a :\n",
    "        if i in ques_G :\n",
    "            stack1.append(i)\n",
    "            \n",
    "    #--------1단계\n",
    "    if len(stack1)%2 !=0 :\n",
    "        print(\"no\")\n",
    "        continue\n",
    "    print(\"stalc1는\",stack1) \n",
    "    \n",
    "    while True :\n",
    "        if len(stack1) ==0 :\n",
    "            print(\"yes\")\n",
    "            break\n",
    "            \n",
    "        stack2 = []\n",
    "        stack3 = []\n",
    "        stack2.append(stack1[0])\n",
    "        stack2.append(stack1[1])\n",
    "\n",
    "        stack3.append(stack1[0])\n",
    "        stack3.append(stack1[-1])\n",
    "\n",
    "        if stack2 in ans_list :\n",
    "            print(\"통과stack2\",stack2)\n",
    "            stack1.pop(0)\n",
    "            stack1.pop(1)\n",
    "            \n",
    "        elif stack3 in ans_list :\n",
    "            stack1.pop(0)\n",
    "            stack1.pop(-1)\n",
    "            print(\"통과stakc3\",stack3)\n",
    "            \n",
    "        \n",
    "       \n",
    "           \n",
    "                \n",
    "                \n",
    "                "
   ]
  },
  {
   "cell_type": "code",
   "execution_count": null,
   "metadata": {},
   "outputs": [],
   "source": [
    "stack1 =[\"(\",\"(\",\")\",\"[\",\"]\",\")\"]\n",
    "ans_list = [[\"(\",\")\"],[\"[\",\"]\"]]\n",
    "\n",
    "while True :\n",
    "    if len(stack1) ==0 :\n",
    "        print(\"yes\")\n",
    "        break\n",
    "    stack2 = []\n",
    "    stack3 = []\n",
    "\n",
    "    stack2.append(stack1[0])\n",
    "    stack2.append(stack1[1])\n",
    "\n",
    "    stack3.append(stack1[0])\n",
    "    stack3.append(stack1[-1])\n",
    "\n",
    "    if stack2 in ans_list :\n",
    "        stack1.pop(0)\n",
    "        stack1.pop(1)\n",
    "        print(\"stack2통과\",stack2)\n",
    "    elif stack3 in ans_list :\n",
    "        stack1.pop(0)\n",
    "        stack1.pop(-1)\n",
    "        print(\"stack3통과\",stack3)\n",
    "            \n",
    "print(cnt)"
   ]
  },
  {
   "cell_type": "markdown",
   "metadata": {},
   "source": [
    "# 1874 스택 수열 "
   ]
  },
  {
   "cell_type": "markdown",
   "metadata": {},
   "source": [
    "### 규칙이 있다.\n",
    "\n",
    "> 4 3 6 8 7 5 2 1\n",
    "> 왼쪽부터 큰수를 저장할때 4 > 이후에는 321은 내림차순으로 존재\n",
    "> 43 6 6이면 남은 521은 내림차순으로 존재\n",
    "> 43 68 8이면 남은 7521은 내림차순으로 존재\n",
    "\n",
    "즉 나온수중 가장 큰수를 인지해야한다.\n",
    "\n",
    "이 문제는 10만단위이다 이걸 어떻게 파이썬으로 해결해야하는가"
   ]
  },
  {
   "cell_type": "code",
   "execution_count": null,
   "metadata": {},
   "outputs": [],
   "source": [
    "N = int(input())\n",
    "li =[0]*N\n",
    "ans_li=[0]*N\n",
    "max_save = 0\n",
    "\n",
    "for i in range(N) :\n",
    "    li[i] = int(input())\n",
    "\n",
    "#1. ----일단 입력을 받습니다 .\n",
    "\n",
    "\n",
    "#2. 판독 시작 "
   ]
  },
  {
   "cell_type": "markdown",
   "metadata": {},
   "source": [
    "### 2번째 간결 풀이 - 규칙이 있네"
   ]
  },
  {
   "cell_type": "code",
   "execution_count": null,
   "metadata": {},
   "outputs": [],
   "source": [
    "num = int(input())\n",
    "stack =[]\n",
    "chk = []\n",
    "result = []\n",
    "# 1. 입력 완료 chk리스트\n",
    "for i in range(num) :\n",
    "    chk.append(int(input()))\n",
    "idx = 0\n",
    "\n",
    "# 2. stack에다 넣으면서 \n",
    "\n",
    "for i in range(1,num+1) :\n",
    "    stack.append(i)\n",
    "    result.append(\"+\")\n",
    "\n",
    "    while idx < num and  len(stack) != 0 and chk[idx] == stack[-1] :\n",
    "        stack.pop()\n",
    "        result.append(\"-\")\n",
    "        idx = idx + 1\n",
    "\n",
    "if not stack :\n",
    "    for i in result :\n",
    "        print(i)\n",
    "else :\n",
    "    print(\"NO\")\n",
    "\n",
    "\n"
   ]
  },
  {
   "cell_type": "code",
   "execution_count": 5,
   "metadata": {},
   "outputs": [
    {
     "name": "stdout",
     "output_type": "stream",
     "text": [
      "1\n",
      "2\n",
      "3\n",
      "4\n"
     ]
    }
   ],
   "source": [
    "# 이문제에서 반드시 기억할 것은 while의 조건 실행방법이다.\n",
    "\n",
    "# ==를 and식으로 쳐넣으면 while문의 구동을 특정한 조건일때만 돌리게 할 수 있다.\n",
    "\n",
    "i=1\n",
    "j=10\n",
    "while i<5 and j==10 :\n",
    "    print(i)\n",
    "    i =i+1\n",
    "    \n",
    "    \n",
    "# j가 다른 수 이면 안 돌아 간다."
   ]
  },
  {
   "cell_type": "markdown",
   "metadata": {},
   "source": [
    "## 17298 오큰수\n",
    "수 입력 후 왼쪽부터 그 수보다 크되 가장 왼쪽에 있는 수 출력"
   ]
  },
  {
   "cell_type": "markdown",
   "metadata": {},
   "source": [
    "### 1. 앞 수 메모리 저장후 뒷수와 1개1개 비교하면서 풀이하는 방식\n",
    "\n",
    "> 1번 수 stack저장 2번 부터 1과 비교 큰수 탐색\n",
    "\n",
    "> 마지막 수일 경우 -1이므로 앞번까지만 탐색하자\n",
    "\n",
    "이 경우 계산복잡도는 크다. 정말로 일일이 하나씩 비교하는 방식이니 오래걸린다.\n"
   ]
  },
  {
   "cell_type": "code",
   "execution_count": 24,
   "metadata": {},
   "outputs": [
    {
     "name": "stdout",
     "output_type": "stream",
     "text": [
      "4\n",
      "1 1 1 1\n",
      "-1 -1 -1 -1\n"
     ]
    }
   ],
   "source": [
    "num = int(input())\n",
    "stack = []\n",
    "result = list(map(int,input().split()))\n",
    "ans = []\n",
    "# 1. 입력 완료 chk리스트\n",
    "\n",
    "\n",
    "\n",
    "# 2. 계산\n",
    "\n",
    "for i in range(num) :\n",
    "    stack.append(result[i])\n",
    "    for j in range(i,num) :\n",
    "        if stack[0] <  result[j]:\n",
    "            stack.pop()\n",
    "            ans.append(str(result[j]))\n",
    "            break\n",
    "            \n",
    "    if stack :\n",
    "        stack.pop()\n",
    "        ans.append(\"-1\")\n",
    "print(\" \".join(ans))"
   ]
  },
  {
   "cell_type": "markdown",
   "metadata": {},
   "source": [
    "### 2. 좋은 힌트를 얻었다. 스택메모리로 풀이하되\n",
    "\n",
    "1. 입력 값을 > 담는 배열 3 5 2 7\n",
    "2. stack메모리 역배열 7 2 5 3 \n",
    "로 풀이해봐라\n",
    "\n",
    "\n",
    "어리둥절하지만 ㄱㄱ"
   ]
  },
  {
   "cell_type": "code",
   "execution_count": 70,
   "metadata": {},
   "outputs": [
    {
     "name": "stdout",
     "output_type": "stream",
     "text": [
      "4\n",
      "3 5 7 2\n",
      "5 7 -1 -1\n"
     ]
    }
   ],
   "source": [
    "num = int(input())\n",
    "stack = [1000001]\n",
    "result = list(map(int,input().split()))\n",
    "ans = [\"-1\"]\n",
    "# 1. 입력 완료 chk리스트\n",
    "\n",
    "stack.append(result[num-1])\n",
    "for i in range(num-2,-1,-1) :\n",
    "    while True :\n",
    "        \n",
    "        if stack[-1]> result[i] :\n",
    "            if len(stack)==1 :\n",
    "                stack.append(result[i])\n",
    "                ans.append(\"-1\")\n",
    "                break\n",
    "            else :\n",
    "                ans.append(str(stack[-1]))\n",
    "                stack.append(result[i])\n",
    "                break\n",
    "        else :\n",
    "            stack.pop()\n",
    "            \n",
    "            \n",
    "ans.reverse()\n",
    "print(\" \".join(ans))\n",
    "\n",
    "\n"
   ]
  },
  {
   "cell_type": "code",
   "execution_count": null,
   "metadata": {},
   "outputs": [],
   "source": [
    "문제를 풀이하는데 제가 생각한 논리는 이렇습니다.\n",
    "\n",
    "result : 입력 받은 수를 저장한 리스트\n",
    "stack : 역수로 result의 끝수부터 하나씩 넣을 stack리스트\n",
    "ans : 정답을 출력할 리스트입니다. 뒤에서 부터 수를 비교하므로 ans를 뒤집어서 마지막에 출력합니다.\n",
    "    \n",
    "1. 입력과정을 끝냅니다.\n",
    "\n",
    "2. 뒤에서 부터 result[num]부터 비교하여 큰수를 ans에 담습니다.\n",
    "이때 stack 속 수가 작다면 result[i]가 더 큰 상황이므로  pop과정을 통해 \n",
    "stack의 top에 위치한 수를 제거해갑니다. \n",
    "\n",
    "적어도 게시판 속 모든 반례는 통과하였습니다.\n"
   ]
  }
 ],
 "metadata": {
  "kernelspec": {
   "display_name": "Python 3",
   "language": "python",
   "name": "python3"
  },
  "language_info": {
   "codemirror_mode": {
    "name": "ipython",
    "version": 3
   },
   "file_extension": ".py",
   "mimetype": "text/x-python",
   "name": "python",
   "nbconvert_exporter": "python",
   "pygments_lexer": "ipython3",
   "version": "3.7.3"
  }
 },
 "nbformat": 4,
 "nbformat_minor": 2
}
