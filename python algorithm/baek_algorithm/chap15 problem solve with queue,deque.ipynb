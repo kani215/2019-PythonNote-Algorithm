{
 "cells": [
  {
   "cell_type": "markdown",
   "metadata": {},
   "source": [
    "# about Queue\n",
    "\n",
    "\n",
    "너비우선 탐색에서 쓰인다는 기본 자료구조인 큐\n",
    "스텍도 원리는 쉬웠지만 막상 써먹으려니 한참걸렸었지;;;\n",
    "\n",
    "1. 큐는 뭐냐 \n",
    "\n",
    "선출 후입 관련 자료구조 형식 먼저 줄서면 먼저 밥먹음\n",
    "\n",
    "나오는 곳을 front ,head\n",
    "데이터를 dequeue\n",
    "들어가는 곳을 rear, tail 이라고들 합니다.\n",
    "데이터를 enqueue"
   ]
  },
  {
   "cell_type": "markdown",
   "metadata": {},
   "source": [
    "## 구 현 예 시 1."
   ]
  },
  {
   "cell_type": "code",
   "execution_count": null,
   "metadata": {},
   "outputs": [],
   "source": [
    "class Queue(list):\n",
    "    # enqueue == > insert 관용적인 이름\n",
    "    enqueue = list.append\n",
    "    # dequeue == > delete\n",
    "    def dequeue(self):\n",
    "        return self.pop(0)\n",
    "\n",
    "    def is_empty(self):\n",
    "        if not self:\n",
    "            return True\n",
    "        else:\n",
    "            return False\n",
    "\n",
    "    def peek(self):\n",
    "        return self[0]\n",
    "\n",
    "if __name__ == '__main__':\n",
    "    q = Queue()\n",
    "    q.enqueue(1)\n",
    "    q.enqueue(2)\n",
    "    q.enqueue(3)\n",
    "    q.enqueue(4)\n",
    "    q.enqueue(5)\n",
    "\n",
    "    while not q.is_empty():\n",
    "        print(q.dequeue(), end= ' ') # 1 2 3 4 5"
   ]
  },
  {
   "cell_type": "code",
   "execution_count": null,
   "metadata": {},
   "outputs": [],
   "source": [
    "class Node:\n",
    "    def __init__(self, data):\n",
    "        self.data = data\n",
    "        self.next = None\n",
    "\n",
    "class Queue:\n",
    "    def __init__(self):\n",
    "        self.head = None\n",
    "        self.tail = None\n",
    "\n",
    "    def is_empty(self):\n",
    "        if not self.head:\n",
    "            return True\n",
    "\n",
    "        return False\n",
    "\n",
    "    def enqueue(self, data):\n",
    "        new_node = Node(data)\n",
    "\n",
    "        if self.is_empty():\n",
    "            self.head = new_node\n",
    "            self.tail = new_node\n",
    "            return\n",
    "\n",
    "        self.tail.next = new_node\n",
    "        self.tail = new_node\n",
    "\n",
    "    def dequeue(self):\n",
    "        if self.is_empty():\n",
    "            return None\n",
    "\n",
    "        ret_data = self.head.data\n",
    "        self.head = self.head.next\n",
    "        return ret_data\n",
    "\n",
    "    def peek(self):\n",
    "        if self.is_empty():\n",
    "            return None\n",
    "\n",
    "        return self.head.data\n"
   ]
  },
  {
   "cell_type": "markdown",
   "metadata": {},
   "source": [
    "## 10845번 큐의 사용법 "
   ]
  },
  {
   "cell_type": "code",
   "execution_count": 6,
   "metadata": {},
   "outputs": [
    {
     "name": "stdout",
     "output_type": "stream",
     "text": [
      "1\n",
      "pop\n",
      "-1\n"
     ]
    }
   ],
   "source": [
    "import sys\n",
    "queue = []\n",
    "def front(b) :\n",
    "    if len(queue)!=0:\n",
    "        return queue[0]\n",
    "    else :\n",
    "        return -1\n",
    "def back(b) :\n",
    "    if len(queue)!=0:\n",
    "        return queue[-1]\n",
    "    else :\n",
    "        return -1   \n",
    "    \n",
    "def size(b) :\n",
    "    return len(queue)\n",
    "\n",
    "def empty(b) :\n",
    "    if len(queue)!=0:\n",
    "        return 0\n",
    "    else :\n",
    "        return 1\n",
    "    \n",
    "def pop(b) :\n",
    "    if len(queue)!=0:\n",
    "        return queue.pop(0)\n",
    "    else :\n",
    "        return -1\n",
    "    \n",
    "for i in range(int(sys.stdin.readline())) :\n",
    "    b = list(sys.stdin.readline().split())   \n",
    "    if len(b)!=1 :\n",
    "        queue.append(b[1])\n",
    "    else :\n",
    "        if b[0]==\"front\" :\n",
    "            print(front(b))\n",
    "            \n",
    "        elif b[0]==\"size\":\n",
    "            print(size(b))\n",
    "\n",
    "        elif b[0]==\"empty\" :\n",
    "            print(empty(b))\n",
    "\n",
    "        elif b[0]==\"pop\":\n",
    "            print(pop(b))\n",
    "        elif b[0]==\"back\" :\n",
    "            print(back(b))"
   ]
  },
  {
   "cell_type": "markdown",
   "metadata": {},
   "source": [
    "## 2164 카드2 \n",
    "N장의 카드가 있다. 각각의 카드는 차례로 1부터 N까지의 번호가 붙어 있으며, 1번 카드가 제일 위에, N번 카드가 제일 아래인 상태로 순서대로 카드가 놓여 있다.\n",
    "\n",
    "이제 다음과 같은 동작을 카드가 한 장 남을 때까지 반복하게 된다. 우선, 제일 위에 있는 카드를 바닥에 버린다. 그 다음, 제일 위에 있는 카드를 제일 아래에 있는 카드 밑으로 옮긴다.\n",
    "\n",
    "예를 들어 N=4인 경우를 생각해 보자. 카드는 제일 위에서부터 1234 의 순서로 놓여있다. 1을 버리면 234가 남는다. 여기서 2를 제일 아래로 옮기면 342가 된다. 3을 버리면 42가 되고, 4를 밑으로 옮기면 24가 된다. 마지막으로 2를 버리고 나면, 남는 카드는 4가 된다.\n",
    "\n",
    "N이 주어졌을 때, 제일 마지막에 남게 되는 카드를 구하는 프로그램을 작성하시오."
   ]
  },
  {
   "cell_type": "markdown",
   "metadata": {},
   "source": [
    "> 1. 2배수씩 지워가면서 제거하면 됩니다.\n",
    "> n.차가 있으면 좋겠네요\n",
    "> 홀짝성 주의합시다.\n",
    "\n",
    "> 2. 2의 n승 식으로 올라가는 수가 남게 됩니다. 2 4 8 16 최대 수를 출력\n",
    "19승이  524288 충분"
   ]
  },
  {
   "cell_type": "code",
   "execution_count": 6,
   "metadata": {},
   "outputs": [
    {
     "name": "stdout",
     "output_type": "stream",
     "text": [
      "6\n",
      "4\n"
     ]
    }
   ],
   "source": [
    "a = int(input())\n",
    "b = 2\n",
    "while True:\n",
    "    if a == 1 or a == 2:\n",
    "        print(a)\n",
    "        break\n",
    "    b *= 2\n",
    "    if b >= a:\n",
    "        print((a - (b // 2)) * 2)\n",
    "        break"
   ]
  },
  {
   "cell_type": "markdown",
   "metadata": {},
   "source": [
    "## 11866번 조세퍼스 문제 0 "
   ]
  },
  {
   "cell_type": "markdown",
   "metadata": {},
   "source": [
    "구현과정\n",
    "1. queue : a : (1,2,3,4,5,6...)\n",
    "    count : 0\n",
    "2.  count 를 증가시키며 queue 변화\n",
    "> 1 맨 뒤로\n",
    ">  2 맨 뒤로\n",
    "> 3 출력 \n",
    "> 4 맨뒤로 ....\n"
   ]
  },
  {
   "cell_type": "code",
   "execution_count": 1,
   "metadata": {},
   "outputs": [
    {
     "name": "stdout",
     "output_type": "stream",
     "text": [
      "3 1\n",
      "<1, 2, 3>\n"
     ]
    }
   ],
   "source": [
    "n, k = map(int,input().split())\n",
    "queue = [str(x) for x in range(1,n+1)]\n",
    "memo = []\n",
    "count = k\n",
    "if count ==1 :\n",
    "    print(\"<\"+\", \".join(queue)+\">\")\n",
    "else : \n",
    "    while True :\n",
    "        if len(queue) ==1 :\n",
    "            memo.append(queue.pop(-1))\n",
    "            print(\"<\"+\", \".join(memo)+\">\")\n",
    "            breakb\n",
    "        queue.append(queue.pop(0))\n",
    "        k -=1\n",
    "        if k==1 : \n",
    "            memo.append(queue.pop(0))\n",
    "            k = count\n",
    "    \n",
    "    \n",
    "    "
   ]
  },
  {
   "cell_type": "markdown",
   "metadata": {},
   "source": [
    "# 1966 프린터 큐"
   ]
  },
  {
   "cell_type": "code",
   "execution_count": 1,
   "metadata": {},
   "outputs": [
    {
     "name": "stdout",
     "output_type": "stream",
     "text": [
      "3 5\n",
      "3\n"
     ]
    }
   ],
   "source": [
    "from collections import deque\n",
    "\n",
    "lista = deque(list(map(int,input().split())))\n",
    "lista.append(lista.pop())\n",
    "print(lista[0])"
   ]
  },
  {
   "cell_type": "code",
   "execution_count": 8,
   "metadata": {},
   "outputs": [
    {
     "name": "stdout",
     "output_type": "stream",
     "text": [
      "1\n",
      "4 2\n",
      "1 2 3 4\n",
      "2\n"
     ]
    }
   ],
   "source": [
    "from collections import deque\n",
    "\n",
    "for i in range(int(input())) :\n",
    "    num,index = map(int,input().split())\n",
    "    lista = deque(list(map(int,input().split())))\n",
    "    cout = 1\n",
    "    find = lista[index]\n",
    "    indexqueue = [0]*num\n",
    "    indexqueue[index] = \"T\"\n",
    "    indexqueue = deque(indexqueue)\n",
    "    while True :\n",
    "        if lista[0] == max(lista) :\n",
    "            if indexqueue[0] == \"T\" :\n",
    "                print(cout)\n",
    "                break\n",
    "            else :    \n",
    "                cout +=1\n",
    "                lista.popleft()\n",
    "                indexqueue.popleft()\n",
    "\n",
    "        else :\n",
    "            lista.append(lista.popleft())\n",
    "            indexqueue.append(indexqueue.popleft())"
   ]
  },
  {
   "cell_type": "markdown",
   "metadata": {},
   "source": [
    "# 10866번 덱\n",
    "\n",
    "덱 스텍 큐 메모리 합친 느낌이다. \n",
    "양쪽으로 넣고 내보내기가 가능하다.\n"
   ]
  },
  {
   "cell_type": "code",
   "execution_count": null,
   "metadata": {},
   "outputs": [],
   "source": [
    " from collections import deque\n",
    ">>> d = deque('ghi')                 # make a new deque with three items\n",
    ">>> for elem in d:                   # iterate over the deque's elements\n",
    "...     print elem.upper()\n",
    "G\n",
    "H\n",
    "I\n",
    "\n",
    ">>> d.append('j')                    # add a new entry to the right side\n",
    ">>> d.appendleft('f')                # add a new entry to the left side\n",
    ">>> d                                # show the representation of the deque\n",
    "deque(['f', 'g', 'h', 'i', 'j'])\n",
    "\n",
    ">>> d.pop()                          # return and remove the rightmost item\n",
    "'j'\n",
    ">>> d.popleft()                      # return and remove the leftmost item\n",
    "'f'\n",
    ">>> list(d)                          # list the contents of the deque\n",
    "['g', 'h', 'i']\n",
    ">>> d[0]                             # peek at leftmost item\n",
    "'g'\n",
    ">>> d[-1]                            # peek at rightmost item\n",
    "'i'\n",
    "\n",
    ">>> list(reversed(d))                # list the contents of a deque in reverse\n",
    "['i', 'h', 'g']\n",
    ">>> 'h' in d                         # search the deque\n",
    "True\n",
    ">>> d.extend('jkl')                  # add multiple elements at once\n",
    ">>> d\n",
    "deque(['g', 'h', 'i', 'j', 'k', 'l'])\n",
    ">>> d.rotate(1)                      # right rotation\n",
    ">>> d\n",
    "deque(['l', 'g', 'h', 'i', 'j', 'k'])\n",
    ">>> d.rotate(-1)                     # left rotation\n",
    ">>> d\n",
    "deque(['g', 'h', 'i', 'j', 'k', 'l'])\n",
    "\n",
    ">>> deque(reversed(d))               # make a new deque in reverse order\n",
    "deque(['l', 'k', 'j', 'i', 'h', 'g'])\n",
    ">>> d.clear()                        # empty the deque\n",
    ">>> d.pop()                          # cannot pop from an empty deque\n",
    "Traceback (most recent call last):\n",
    "  File \"<pyshell#6>\", line 1, in -toplevel-\n",
    "    d.pop()\n",
    "IndexError: pop from an empty deque\n",
    "\n",
    ">>> d.extendleft('abc')              # extendleft() reverses the input order\n",
    ">>> d\n",
    "deque(['c', 'b', 'a'])"
   ]
  },
  {
   "cell_type": "code",
   "execution_count": 3,
   "metadata": {},
   "outputs": [
    {
     "name": "stdout",
     "output_type": "stream",
     "text": [
      "[]\n"
     ]
    }
   ],
   "source": [
    "from collections import deque\n",
    "deque = deque()\n",
    "# 덱의 선언 \n",
    "print(list(deque))"
   ]
  },
  {
   "cell_type": "code",
   "execution_count": 4,
   "metadata": {},
   "outputs": [
    {
     "ename": "ValueError",
     "evalue": "invalid literal for int() with base 10: ''",
     "output_type": "error",
     "traceback": [
      "\u001b[1;31m---------------------------------------------------------------------------\u001b[0m",
      "\u001b[1;31mValueError\u001b[0m                                Traceback (most recent call last)",
      "\u001b[1;32m<ipython-input-4-8dd505b25166>\u001b[0m in \u001b[0;36m<module>\u001b[1;34m\u001b[0m\n\u001b[0;32m     34\u001b[0m         \u001b[1;32mreturn\u001b[0m \u001b[1;33m-\u001b[0m\u001b[1;36m1\u001b[0m\u001b[1;33m\u001b[0m\u001b[1;33m\u001b[0m\u001b[0m\n\u001b[0;32m     35\u001b[0m \u001b[1;33m\u001b[0m\u001b[0m\n\u001b[1;32m---> 36\u001b[1;33m \u001b[1;32mfor\u001b[0m \u001b[0mi\u001b[0m \u001b[1;32min\u001b[0m \u001b[0mrange\u001b[0m\u001b[1;33m(\u001b[0m\u001b[0mint\u001b[0m\u001b[1;33m(\u001b[0m\u001b[0msys\u001b[0m\u001b[1;33m.\u001b[0m\u001b[0mstdin\u001b[0m\u001b[1;33m.\u001b[0m\u001b[0mreadline\u001b[0m\u001b[1;33m(\u001b[0m\u001b[1;33m)\u001b[0m\u001b[1;33m)\u001b[0m\u001b[1;33m)\u001b[0m \u001b[1;33m:\u001b[0m\u001b[1;33m\u001b[0m\u001b[1;33m\u001b[0m\u001b[0m\n\u001b[0m\u001b[0;32m     37\u001b[0m     \u001b[0mb\u001b[0m \u001b[1;33m=\u001b[0m \u001b[0mlist\u001b[0m\u001b[1;33m(\u001b[0m\u001b[0msys\u001b[0m\u001b[1;33m.\u001b[0m\u001b[0mstdin\u001b[0m\u001b[1;33m.\u001b[0m\u001b[0mreadline\u001b[0m\u001b[1;33m(\u001b[0m\u001b[1;33m)\u001b[0m\u001b[1;33m.\u001b[0m\u001b[0msplit\u001b[0m\u001b[1;33m(\u001b[0m\u001b[1;33m)\u001b[0m\u001b[1;33m)\u001b[0m\u001b[1;33m\u001b[0m\u001b[1;33m\u001b[0m\u001b[0m\n\u001b[0;32m     38\u001b[0m     \u001b[1;32mif\u001b[0m \u001b[0mlen\u001b[0m\u001b[1;33m(\u001b[0m\u001b[0mb\u001b[0m\u001b[1;33m)\u001b[0m\u001b[1;33m!=\u001b[0m\u001b[1;36m1\u001b[0m \u001b[1;33m:\u001b[0m\u001b[1;33m\u001b[0m\u001b[1;33m\u001b[0m\u001b[0m\n",
      "\u001b[1;31mValueError\u001b[0m: invalid literal for int() with base 10: ''"
     ]
    }
   ],
   "source": [
    "from collections import deque\n",
    "import sys\n",
    "deque = deque()\n",
    "def front(b) :\n",
    "    if len(deque)!=0:\n",
    "        return deque[0]\n",
    "    else :\n",
    "        return -1\n",
    "def back(b) :\n",
    "    if len(deque)!=0:\n",
    "        return deque[-1]\n",
    "    else :\n",
    "        return -1   \n",
    "    \n",
    "def size(b) :\n",
    "    return len(deque)\n",
    "\n",
    "def empty(b) :\n",
    "    if len(deque)!=0:\n",
    "        return 0\n",
    "    else :\n",
    "        return 1\n",
    "    \n",
    "def pop_front(b) :\n",
    "    if len(deque)!=0:\n",
    "        return deque.popleft()\n",
    "    else :\n",
    "        return -1\n",
    "    \n",
    "def pop_back(b) :\n",
    "    if len(deque)!=0:\n",
    "        return deque.pop()\n",
    "    else :\n",
    "        return -1\n",
    "    \n",
    "for i in range(int(sys.stdin.readline())) :\n",
    "    b = list(sys.stdin.readline().split())   \n",
    "    if len(b)!=1 :\n",
    "        if b == \"push_back\" :\n",
    "            deque.append(b[1])\n",
    "        else :\n",
    "            deque.appendleft(b[1])\n",
    "    else :\n",
    "        if b[0]==\"front\" :\n",
    "            print(front(b))\n",
    "            \n",
    "        elif b[0]==\"size\":\n",
    "            print(size(b))\n",
    "\n",
    "        elif b[0]==\"empty\" :\n",
    "            print(empty(b))\n",
    "\n",
    "        elif b[0]==\"pop\":\n",
    "            print(pop(b))\n",
    "        elif b[0]==\"back\" :\n",
    "            print(back(b))"
   ]
  },
  {
   "cell_type": "code",
   "execution_count": 10,
   "metadata": {
    "scrolled": true
   },
   "outputs": [
    {
     "name": "stdout",
     "output_type": "stream",
     "text": [
      "22\n",
      "front\n",
      "-1\n",
      "back\n",
      "-1\n",
      "pop_front\n",
      "-1\n",
      "pop_back\n",
      "-1\n",
      "push_front 1\n",
      "front\n",
      "1\n",
      "pop_back\n",
      "1\n",
      "push_back 2\n",
      "back\n",
      "2\n",
      "pop_front\n",
      "2\n",
      "push_front 10\n",
      "push_front 333\n",
      "front\n",
      "333\n",
      "back\n",
      "10\n",
      "pop_back\n",
      "10\n",
      "pop_back\n",
      "333\n",
      "push_back 20\n",
      "push_back 1234\n",
      "front\n",
      "1234\n",
      "back\n",
      "20\n",
      "pop_back\n",
      "20\n",
      "pop_back\n",
      "1234\n"
     ]
    }
   ],
   "source": [
    "from collections import deque\n",
    "import sys\n",
    "deque = deque()\n",
    "\n",
    "def front(b) :\n",
    "    if len(deque)!=0:\n",
    "        return deque[0]\n",
    "    else :\n",
    "        return -1\n",
    "def back(b) :\n",
    "    if len(deque)!=0:\n",
    "        return deque[-1]\n",
    "    else :\n",
    "        return -1   \n",
    "    \n",
    "def size(b) :\n",
    "    return len(deque)\n",
    "\n",
    "def empty(b) :\n",
    "    if len(deque)!=0:\n",
    "        return 0\n",
    "    else :\n",
    "        return 1\n",
    "    \n",
    "def pop_front(b) :\n",
    "    if len(deque)!=0:\n",
    "        return deque.popleft()\n",
    "    else :\n",
    "        return -1\n",
    "    \n",
    "def pop_back(b) :\n",
    "    if len(deque)!=0:\n",
    "        return deque.pop()\n",
    "    else :\n",
    "        return -1\n",
    "    \n",
    "for i in range(int(input())) :\n",
    "    b = list(input().split())   \n",
    "    if len(b)!=1 :\n",
    "        if b[0] == \"push_back\" :\n",
    "            deque.append(b[1])\n",
    "        else :\n",
    "            deque.appendleft(b[1])\n",
    "    else :\n",
    "        if b[0]==\"front\" :\n",
    "            print(front(b))\n",
    "            \n",
    "        elif b[0]==\"size\":\n",
    "            print(size(b))\n",
    "\n",
    "        elif b[0]==\"empty\" :\n",
    "            print(empty(b))\n",
    "\n",
    "        elif b[0]==\"pop_front\":\n",
    "            print(pop_front(b))\n",
    "        elif b[0]==\"pop_back\":\n",
    "            print(pop_back(b))\n",
    "        elif b[0]==\"back\" :\n",
    "            print(back(b))"
   ]
  },
  {
   "cell_type": "markdown",
   "metadata": {},
   "source": [
    "# 1021번 회전하는 큐\n",
    "지민이는 N개의 원소를 포함하고 있는 양방향 순환 큐를 가지고 있다. 지민이는 이 큐에서 몇 개의 원소를 뽑아내려고 한다.\n",
    "\n",
    "지민이는 이 큐에서 다음과 같은 3가지 연산을 수행할 수 있다.\n",
    "\n",
    "첫 번째 원소를 뽑아낸다. 이 연산을 수행하면, 원래 큐의 원소가 a1, ..., ak이었던 것이 a2, ..., ak와 같이 된다.\n",
    "왼쪽으로 한 칸 이동시킨다. 이 연산을 수행하면, a1, ..., ak가 a2, ..., ak, a1이 된다.\n",
    "오른쪽으로 한 칸 이동시킨다. 이 연산을 수행하면, a1, ..., ak가 ak, a1, ..., ak-1이 된다.\n",
    "큐에 처음에 포함되어 있던 수 N이 주어진다. 그리고 지민이가 뽑아내려고 하는 원소의 위치가 주어진다. (이 위치는 가장 처음 큐에서의 위치이다.) 이때, 그 원소를 주어진 순서대로 뽑아내는데 드는 2번, 3번 연산의 최솟값을 출력하는 프로그램을 작성하시오.\n",
    "\n",
    "고민을 많이 했지만 \n",
    "\n",
    "수들이 내림차순 정렬되어있다는 점이 위안입니다.\n",
    "\n",
    "1. 원하는 수 출력 이후 \n",
    "2. 좌측인지 우측인지 최적경로를 재계산해야합니다. "
   ]
  },
  {
   "cell_type": "code",
   "execution_count": 32,
   "metadata": {},
   "outputs": [
    {
     "name": "stdout",
     "output_type": "stream",
     "text": [
      "10 10\n",
      "1 6 3 2 7 9 8 4 10 5\n",
      "14\n"
     ]
    }
   ],
   "source": [
    "from collections import deque\n",
    "\n",
    "n,m = map(int,input().split())\n",
    "deque1 = list(map(int,input().split()))\n",
    "listmodel = deque(list(x for x in range(1,n+1)))\n",
    "\n",
    "\n",
    "#1. --- 선언\n",
    "\n",
    "def tictok(left,length) :\n",
    "    right = length - left\n",
    "    if right > left or right ==left:\n",
    "        return 0, left\n",
    "    else :\n",
    "        return 1, right\n",
    "    \n",
    "    \n",
    "def search(deque1,listmodel) :\n",
    "    for i in range(len(listmodel)) :\n",
    "        if deque1[0] == listmodel[i] :\n",
    "            return i\n",
    "            break\n",
    "            \n",
    "# 2. - 좌우측 최적경로 제시 함수\n",
    "\n",
    "count = 0\n",
    "while True :\n",
    "    if not deque1 :\n",
    "        print(count)\n",
    "        break\n",
    "    temp = search(deque1,listmodel)\n",
    "    memo,index = tictok(temp,len(listmodel))\n",
    "    if memo == 0 :\n",
    "        for i in range(index) :    \n",
    "            listmodel.append(listmodel.popleft())\n",
    "            count +=1\n",
    "        listmodel.popleft()\n",
    "        deque1.pop(0)\n",
    "    elif memo == 1 :\n",
    "        for i in range(index) :\n",
    "            listmodel.appendleft(listmodel.pop())\n",
    "            count +=1\n",
    "\n",
    "        listmodel.popleft()\n",
    "        deque1.pop(0)\n",
    "    \n",
    "# 3. count 한다 pop append로 자료구조 할 시 \n"
   ]
  }
 ],
 "metadata": {
  "kernelspec": {
   "display_name": "Python 3",
   "language": "python",
   "name": "python3"
  },
  "language_info": {
   "codemirror_mode": {
    "name": "ipython",
    "version": 3
   },
   "file_extension": ".py",
   "mimetype": "text/x-python",
   "name": "python",
   "nbconvert_exporter": "python",
   "pygments_lexer": "ipython3",
   "version": "3.7.3"
  }
 },
 "nbformat": 4,
 "nbformat_minor": 2
}
