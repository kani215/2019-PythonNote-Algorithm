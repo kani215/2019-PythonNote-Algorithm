{
 "cells": [
  {
   "cell_type": "markdown",
   "metadata": {},
   "source": [
    "# about Queue\n",
    "\n",
    "\n",
    "너비우선 탐색에서 쓰인다는 기본 자료구조인 큐\n",
    "스텍도 원리는 쉬웠지만 막상 써먹으려니 한참걸렸었지;;;\n",
    "\n",
    "1. 큐는 뭐냐 \n",
    "\n",
    "선출 후입 관련 자료구조 형식 먼저 줄서면 먼저 밥먹음\n",
    "\n",
    "나오는 곳을 front ,head\n",
    "데이터를 dequeue\n",
    "들어가는 곳을 rear, tail 이라고들 합니다.\n",
    "데이터를 enqueue"
   ]
  },
  {
   "cell_type": "markdown",
   "metadata": {},
   "source": [
    "## 구 현 예 시 1."
   ]
  },
  {
   "cell_type": "code",
   "execution_count": null,
   "metadata": {},
   "outputs": [],
   "source": [
    "class Queue(list):\n",
    "    # enqueue == > insert 관용적인 이름\n",
    "    enqueue = list.append\n",
    "    # dequeue == > delete\n",
    "    def dequeue(self):\n",
    "        return self.pop(0)\n",
    "\n",
    "    def is_empty(self):\n",
    "        if not self:\n",
    "            return True\n",
    "        else:\n",
    "            return False\n",
    "\n",
    "    def peek(self):\n",
    "        return self[0]\n",
    "\n",
    "if __name__ == '__main__':\n",
    "    q = Queue()\n",
    "    q.enqueue(1)\n",
    "    q.enqueue(2)\n",
    "    q.enqueue(3)\n",
    "    q.enqueue(4)\n",
    "    q.enqueue(5)\n",
    "\n",
    "    while not q.is_empty():\n",
    "        print(q.dequeue(), end= ' ') # 1 2 3 4 5"
   ]
  },
  {
   "cell_type": "code",
   "execution_count": null,
   "metadata": {},
   "outputs": [],
   "source": [
    "class Node:\n",
    "    def __init__(self, data):\n",
    "        self.data = data\n",
    "        self.next = None\n",
    "\n",
    "class Queue:\n",
    "    def __init__(self):\n",
    "        self.head = None\n",
    "        self.tail = None\n",
    "\n",
    "    def is_empty(self):\n",
    "        if not self.head:\n",
    "            return True\n",
    "\n",
    "        return False\n",
    "\n",
    "    def enqueue(self, data):\n",
    "        new_node = Node(data)\n",
    "\n",
    "        if self.is_empty():\n",
    "            self.head = new_node\n",
    "            self.tail = new_node\n",
    "            return\n",
    "\n",
    "        self.tail.next = new_node\n",
    "        self.tail = new_node\n",
    "\n",
    "    def dequeue(self):\n",
    "        if self.is_empty():\n",
    "            return None\n",
    "\n",
    "        ret_data = self.head.data\n",
    "        self.head = self.head.next\n",
    "        return ret_data\n",
    "\n",
    "    def peek(self):\n",
    "        if self.is_empty():\n",
    "            return None\n",
    "\n",
    "        return self.head.data\n"
   ]
  },
  {
   "cell_type": "markdown",
   "metadata": {},
   "source": [
    "## 10845번 큐의 사용법 "
   ]
  },
  {
   "cell_type": "code",
   "execution_count": 6,
   "metadata": {},
   "outputs": [
    {
     "name": "stdout",
     "output_type": "stream",
     "text": [
      "1\n",
      "pop\n",
      "-1\n"
     ]
    }
   ],
   "source": [
    "import sys\n",
    "queue = []\n",
    "def front(b) :\n",
    "    if len(queue)!=0:\n",
    "        return queue[0]\n",
    "    else :\n",
    "        return -1\n",
    "def back(b) :\n",
    "    if len(queue)!=0:\n",
    "        return queue[-1]\n",
    "    else :\n",
    "        return -1   \n",
    "    \n",
    "def size(b) :\n",
    "    return len(queue)\n",
    "\n",
    "def empty(b) :\n",
    "    if len(queue)!=0:\n",
    "        return 0\n",
    "    else :\n",
    "        return 1\n",
    "    \n",
    "def pop(b) :\n",
    "    if len(queue)!=0:\n",
    "        return queue.pop(0)\n",
    "    else :\n",
    "        return -1\n",
    "    \n",
    "for i in range(int(sys.stdin.readline())) :\n",
    "    b = list(sys.stdin.readline().split())   \n",
    "    if len(b)!=1 :\n",
    "        queue.append(b[1])\n",
    "    else :\n",
    "        if b[0]==\"front\" :\n",
    "            print(front(b))\n",
    "            \n",
    "        elif b[0]==\"size\":\n",
    "            print(size(b))\n",
    "\n",
    "        elif b[0]==\"empty\" :\n",
    "            print(empty(b))\n",
    "\n",
    "        elif b[0]==\"pop\":\n",
    "            print(pop(b))\n",
    "        elif b[0]==\"back\" :\n",
    "            print(back(b))"
   ]
  },
  {
   "cell_type": "markdown",
   "metadata": {},
   "source": [
    "## 2164 카드2 \n",
    "N장의 카드가 있다. 각각의 카드는 차례로 1부터 N까지의 번호가 붙어 있으며, 1번 카드가 제일 위에, N번 카드가 제일 아래인 상태로 순서대로 카드가 놓여 있다.\n",
    "\n",
    "이제 다음과 같은 동작을 카드가 한 장 남을 때까지 반복하게 된다. 우선, 제일 위에 있는 카드를 바닥에 버린다. 그 다음, 제일 위에 있는 카드를 제일 아래에 있는 카드 밑으로 옮긴다.\n",
    "\n",
    "예를 들어 N=4인 경우를 생각해 보자. 카드는 제일 위에서부터 1234 의 순서로 놓여있다. 1을 버리면 234가 남는다. 여기서 2를 제일 아래로 옮기면 342가 된다. 3을 버리면 42가 되고, 4를 밑으로 옮기면 24가 된다. 마지막으로 2를 버리고 나면, 남는 카드는 4가 된다.\n",
    "\n",
    "N이 주어졌을 때, 제일 마지막에 남게 되는 카드를 구하는 프로그램을 작성하시오."
   ]
  },
  {
   "cell_type": "markdown",
   "metadata": {},
   "source": [
    "> 1. 2배수씩 지워가면서 제거하면 됩니다.\n",
    "> n.차가 있으면 좋겠네요\n",
    "> 홀짝성 주의합시다."
   ]
  },
  {
   "cell_type": "code",
   "execution_count": null,
   "metadata": {},
   "outputs": [],
   "source": [
    "# n차 계산 정수 n list : li\n",
    "# ㄱㄱ\n",
    "\n",
    "N = int(input())\n",
    "li = list(1:N)\n",
    "\n",
    "\n",
    "\n"
   ]
  }
 ],
 "metadata": {
  "kernelspec": {
   "display_name": "Python 3",
   "language": "python",
   "name": "python3"
  },
  "language_info": {
   "codemirror_mode": {
    "name": "ipython",
    "version": 3
   },
   "file_extension": ".py",
   "mimetype": "text/x-python",
   "name": "python",
   "nbconvert_exporter": "python",
   "pygments_lexer": "ipython3",
   "version": "3.7.3"
  }
 },
 "nbformat": 4,
 "nbformat_minor": 2
}
