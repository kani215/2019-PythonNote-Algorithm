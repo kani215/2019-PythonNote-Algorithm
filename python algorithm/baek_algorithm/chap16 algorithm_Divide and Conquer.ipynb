{
 "cells": [
  {
   "cell_type": "markdown",
   "metadata": {},
   "source": [
    "# chap16 algorithm_Divide and Conquer"
   ]
  },
  {
   "cell_type": "markdown",
   "metadata": {},
   "source": [
    "## 분할정복 알고리즘 정의 :\n",
    "  분할정복 알고리즘은 문제를 나눌 수 없을 때까지 나누어서 각각을 풀면서 다시 합병하여 문제의 답을 도출하는 방법입니다.\n",
    "  \n",
    "\n",
    "## 알고리즘을 설계하는 요령\n",
    "\n",
    "> (1) Divide : 문제가 분할이 가능한 경우, 2개 이상의 문제로 나눈다.\n",
    "> (2) Conquer : 나누어진 문제가 여전히 분할이 가능하면, 또 다시 Divide를 수행한다, 그렇지 않으면 문제를 푼다.\n",
    "> (3) Combine : Conquer한 문제를 통합하여 원래 문제의 답을 얻는다.\n",
    "\n",
    "\n",
    "* divide 단계가 핵심입니다. divide 성공시 conquer은 자동입니다.\n",
    "* 분할정복 알고리즘에는 재귀 알고리즘이 활용되는 경우가 많은데, 이 활용이 분할정복 알고리즘의 효율을 깎아내릴 수 있다는 점...."
   ]
  },
  {
   "cell_type": "markdown",
   "metadata": {},
   "source": [
    "## 분할정복의 응용\n",
    "\n",
    "- 1. 병합정렬(merge sort)\n",
    "    헝가리 출신 수학자인 존 폰 노이만 개발 알고리즘 , 시간복잡도가 O(nlogn) 공간복잡도가 o(n)이다\n",
    "\n",
    "> 원리\n",
    "> 1. 정렬할 데이터 집합의 크기가 0또는 1이면 이미 정렬된 것으로 보고, 그렇지 안흥면\n",
    "> 2. 데이터 집합을 반으로 나눈다.\n",
    "> 3. 원래 같은 집합에서 나뉘어져 나온 데이터 집합 둘을 병합하여 하나의 데이터 집합으로 만든다. 단, 병합할 때 데이터 집합의 원소는 순서에 맞춰 정렬한다.\n",
    "\n",
    "> 4. 데이터 집합이 다시 하나가 될 때까지 3을 반복한다.\n",
    "\n",
    "\n",
    "\n",
    "\n",
    "- 그런데 병합이 어떻게 정렬하면서 합칠 수 있는 것일까? \n",
    "\n",
    "> 1. 두 데이터 집합의 크리의 합만큼의 크기를 가지는 빈 데이터 집합을 만든다.\n",
    "> 2. 두 데이터 집합의 첫 번째 요소들을 비교하여 작은 요소를 빈 데이터 집합에 추가한다. 그리고 새 데이터 집합에 추가한 요소는 원래 데이터 집합에서 삭제한다.\n",
    "> 3. 원래 두 데이터 집합의 요소가 모두 삭제될 때까지 2를 반복한다.\n",
    "\n"
   ]
  },
  {
   "cell_type": "markdown",
   "metadata": {},
   "source": [
    "- 2. 거듭 제곱\n",
    "    거듭 제곱은 자신을 n번 곱해야 함으로 O(n)의 시간이 소요된다. 이것을 개선하기 위해서 연산방법을 조금 바꾸어보자\n",
    "\n",
    "*c^8은 (c^2)^4 c^2만 구해내면 4번 반복만 해주면 결과가 나온다는 원리이다.\n",
    "\n",
    "C^n = C^n/2 * C^n/2 로 쪼개가는 알고리즘은 O(log2N)이다.\n",
    "\n",
    "- 3. 피보나치 수열\n",
    "    점화식 형태입니다. n=0일때 a n=1 일때 b라는 개념만 파악했다면 Fn=Fn-1+Fn-2 \n",
    "\n"
   ]
  },
  {
   "cell_type": "markdown",
   "metadata": {},
   "source": [
    "# 2630번 색종이자르기\n",
    "\n",
    "- 색종이 자르기라해서... 정답율 71%라서 우습게 봤다. 어렵다;;;\n",
    "\n",
    "- 힌트를 봤다.\n",
    "   한변을 살피는 동안 N개의 1이 나오지 않으면 N/2로 쪼개고 ....N=1 될때까지 쪼개세요\n",
    "   \n",
    "- 밑의 풀이중 주목해야할 식들이 있으며 재귀로 풀이했다."
   ]
  },
  {
   "cell_type": "code",
   "execution_count": 3,
   "metadata": {
    "scrolled": true
   },
   "outputs": [
    {
     "name": "stdout",
     "output_type": "stream",
     "text": [
      "8\n",
      "1 1 0 0 0 0 1 1\n",
      "1 1 0 0 0 0 1 1\n",
      "0 0 0 0 1 1 0 0\n",
      "0 0 0 0 1 1 0 0\n",
      "1 0 0 0 1 1 1 1\n",
      "0 1 0 0 1 1 1 1 \n",
      "0 0 1 1 1 1 1 1\n",
      "0 0 1 1 1 1 1 1\n",
      "9\n",
      "7\n"
     ]
    }
   ],
   "source": [
    "def set(N,paper,x,y):\n",
    "    init = paper[x][y]\n",
    "    for i in range(x, x+N):\n",
    "        for j in range(y, y+N):\n",
    "            if (init != paper[i][j]):\n",
    "                return 0\n",
    "    return 1\n",
    "    # 3. 재귀형식의 함수입니다. 놀라운건 return 0과 1입니다 이를 이용해 밑의 함수에서 if else로 풀이합니다.\n",
    "    \n",
    "cnt = [0 ,0] # white / blue  # global변수로 선언해서 이것의 값을 변화시키고 출력시킬겁니다.\n",
    "\n",
    "def num_paper(N, paper,x,y):\n",
    "    if(set(N,paper,x,y)):\n",
    "        cnt[paper[x][y]] +=1\n",
    "    else:\n",
    "        half = int(N/2)\n",
    "        num_paper(half, paper, x, y)\n",
    "        num_paper(half, paper, x+half, y)\n",
    "        num_paper(half, paper, x, y+half)\n",
    "        num_paper(half, paper, x+half, y+half)\n",
    "    # 2. 중점 식입니다. n/2씩 쪼갤경우 4조각이 되므로 각각 조각에 다시금 재귀를 사용하기 위해 \n",
    "    # 4번 재귀함수식을 적어두었습니다.\n",
    "N = int(input())\n",
    "paper = []\n",
    "for i in range(N):\n",
    "    paper.append(list(map(int, input().strip().split())))\n",
    "\n",
    "x, y= 0,0\n",
    "num_paper(N,paper,x,y)\n",
    "\n",
    "print(cnt[0])\n",
    "print(cnt[1])"
   ]
  },
  {
   "cell_type": "code",
   "execution_count": null,
   "metadata": {},
   "outputs": [],
   "source": [
    "def"
   ]
  },
  {
   "cell_type": "markdown",
   "metadata": {},
   "source": [
    "## 1992번 쿼드트리"
   ]
  },
  {
   "cell_type": "markdown",
   "metadata": {},
   "source": [
    "## 밑은 간략한 풀이다\n",
    "\n",
    "> 내가 몰랐던게 2가지 있다\n",
    "> 여전히 재귀에서의 종료 조건을 적지않는 습관은 아쉽다\n",
    "> 재귀 이후 list값이 남는 모양이다. len(r1)은 의미불명"
   ]
  },
  {
   "cell_type": "code",
   "execution_count": 3,
   "metadata": {},
   "outputs": [
    {
     "name": "stdout",
     "output_type": "stream",
     "text": [
      "8\n",
      "11110000\n",
      "11110000\n",
      "00011100\n",
      "00011100\n",
      "11110000\n",
      "11110000\n",
      "11110011\n",
      "11110011\n",
      "((110(0101))(0010)1(0001))\n"
     ]
    }
   ],
   "source": [
    "X = int(input())\n",
    "mat = [input() for _ in range(X)]\n",
    " \n",
    "def quad(x1, y1, x2, y2, n) :\n",
    "    \n",
    "    if n == 1 :\n",
    "        return mat[y1][x1]         # 1칸이면 자기 자신을 출력해달라\n",
    " \n",
    "    a = n // 2\n",
    "    \n",
    "    # 4등분으로 분할    \n",
    "    r1 = quad(x1, y1, x1+a, y1+a, a)\n",
    "    r2 = quad(x1+a,y1, x1+n, y1+a, a)\n",
    "    r3 = quad(x1, y1+a, x1+a, y1+n, a)\n",
    "    r4 = quad(x1+a, y1+a, x1+n, y1+n, a)\n",
    "    \n",
    "    # 모두 같은 값일 경우 하나만 출력\n",
    "    if r1==r2==r3==r4 and len(r1) == 1 :\n",
    "        return r1\n",
    " \n",
    "    return \"(\" + r1 + r2 + r3 + r4 + \")\"\n",
    " \n",
    " \n",
    "    \n",
    "print(quad(0,0,X,X,X))## 밑은 간략한 풀이다"
   ]
  },
  {
   "cell_type": "markdown",
   "metadata": {},
   "source": [
    "밑의 내 풀이는 순서가 정해진 출력은 불가능하다."
   ]
  },
  {
   "cell_type": "code",
   "execution_count": 4,
   "metadata": {
    "scrolled": false
   },
   "outputs": [
    {
     "name": "stdout",
     "output_type": "stream",
     "text": [
      "8\n",
      "11110000\n",
      "11110000\n",
      "00011100\n",
      "00011100\n",
      "11110000\n",
      "11110000\n",
      "11110011\n",
      "11110011\n",
      "['(', 1]\n"
     ]
    }
   ],
   "source": [
    "def set(N,video,x,y):\n",
    "    init = video[x][y]\n",
    "    for i in range(x, x+N):\n",
    "        for j in range(y, y+N):\n",
    "            if (init != video[i][j]):\n",
    "                return 0\n",
    "    return int(init)+2\n",
    "    # 3. 재귀형식의 함수입니다. 놀라운건 return 0과 1입니다 이를 이용해 밑의 함수에서 if else로 풀이합니다.\n",
    "    \n",
    "cnt = [\"(\"] # white / blue  # global변수로 선언해서 이것의 값을 변화시키고 출력시킬겁니다.\n",
    "\n",
    "def num_video(N, video,x,y):\n",
    "\n",
    "    half = int(N/2)\n",
    "    num_video(half, video, x, y)\n",
    "    num_video(half, video, x+half, y)\n",
    "    num_video(half, video, x, y+half)\n",
    "    num_video(half, video, x+half, y+half)\n",
    "    # 2. 중점 식입니다. n/2씩 쪼갤경우 4조각이 되므로 각각 조각에 다시금 재귀를 사용하기 위해 \n",
    "    # 4번 재귀함수식을 적어두었습니다.\n",
    "N = int(input())\n",
    "video = []\n",
    "for i in range(N):\n",
    "    video.append(list(input()))\n",
    "x, y= 0,0\n",
    "num_video(N,video,x,y)\n",
    "\n",
    "print(cnt)\n",
    "    "
   ]
  },
  {
   "cell_type": "markdown",
   "metadata": {},
   "source": [
    "# 1780 종이의 개수"
   ]
  },
  {
   "cell_type": "code",
   "execution_count": 10,
   "metadata": {},
   "outputs": [
    {
     "name": "stdout",
     "output_type": "stream",
     "text": [
      "9\n",
      "0 0 0 1 1 1 -1 -1 -1\n",
      "0 0 0 1 1 1 -1 -1 -1\n",
      "0 0 0 1 1 1 -1 -1 -1\n",
      "1 1 1 0 0 0 0 0 0\n",
      "1 1 1 0 0 0 0 0 0\n",
      "1 1 1 0 0 0 0 0 0\n",
      "0 1 -1 0 1 -1 0 1 -1\n",
      "0 1 -1 0 1 -1 0 1 -1\n",
      "0 1 -1 0 1 -1 0 1 -1\n",
      "10\n",
      "12\n",
      "11\n"
     ]
    }
   ],
   "source": [
    "def set(N,paper,x,y):\n",
    "    init = paper[x][y]\n",
    "    for i in range(x, x+N):\n",
    "        for j in range(y, y+N):\n",
    "            if (init != paper[i][j]):\n",
    "                return 0\n",
    "    return int(init)+2\n",
    "    # 3. 재귀형식의 함수입니다. 놀라운건 return 0과 1입니다 이를 이용해 밑의 함수에서 if else로 풀이합니다.\n",
    "    \n",
    "cnt = [0 ,0, 0] # white / blue  # global변수로 선언해서 이것의 값을 변화시키고 출력시킬겁니다.\n",
    "\n",
    "def num_paper(N, paper,x,y):\n",
    "    if set(N,paper,x,y)==1 or set(N,paper,x,y)==2 or set(N,paper,x,y)==3  :\n",
    "        cnt[paper[x][y]+1] +=1\n",
    "    else:\n",
    "        half = int(N/3)\n",
    "        num_paper(half, paper, x, y)\n",
    "        num_paper(half, paper, x+half, y)\n",
    "        num_paper(half, paper, x+half+half, y)\n",
    "\n",
    "        num_paper(half, paper, x, y+half)\n",
    "        num_paper(half, paper, x+half, y+half)\n",
    "        num_paper(half, paper, x+half+half, y+half)\n",
    "        \n",
    "        num_paper(half, paper, x, y+half+half)\n",
    "        num_paper(half, paper, x+half, y+half+half)\n",
    "        num_paper(half, paper, x+half+half, y+half+half)      \n",
    "    # 2. 중점 식입니다. n/2씩 쪼갤경우 4조각이 되므로 각각 조각에 다시금 재귀를 사용하기 위해 \n",
    "    # 4번 재귀함수식을 적어두었습니다.\n",
    "    \n",
    "N = int(input())\n",
    "paper = []\n",
    "for i in range(N):\n",
    "    paper.append(list(map(int, input().strip().split())))\n",
    "\n",
    "x, y= 0,0\n",
    "num_paper(N,paper,x,y)\n",
    "\n",
    "print(cnt[0])\n",
    "print(cnt[1])\n",
    "print(cnt[2])"
   ]
  },
  {
   "cell_type": "markdown",
   "metadata": {},
   "source": [
    "# 6549. 히스토그램에서 가장 큰 직사각형"
   ]
  },
  {
   "cell_type": "markdown",
   "metadata": {},
   "source": [
    "> 정답비율 25.255%"
   ]
  },
  {
   "cell_type": "code",
   "execution_count": null,
   "metadata": {},
   "outputs": [],
   "source": []
  },
  {
   "cell_type": "markdown",
   "metadata": {},
   "source": [
    "# 파이썬에서의 행렬 numpy\n",
    "\n",
    "- 주로 tensorflow나 numpy를 많이 활용한다.\n",
    "\n",
    "3. nupy.matnul@ operator을 배워보자\n",
    "\n",
    "> 이는 함수의 곱연산을 위해 정의된 함수이다.\n",
    "> 3차원 이상의 행렬곱을 계산가능\n",
    "> numpy 애스터 리스크 연산자 \n"
   ]
  },
  {
   "cell_type": "code",
   "execution_count": null,
   "metadata": {},
   "outputs": [],
   "source": [
    "#3. numpy.matmul (@ operator)\n",
    "\n",
    "import numpy as np\n",
    "A = np.reshape([2,3])\n",
    "B = np.reshape([3,4])\n",
    "\n",
    "\n",
    "np.matmul(A,B)"
   ]
  },
  {
   "cell_type": "markdown",
   "metadata": {},
   "source": [
    "## 2740번 행렬곱셈"
   ]
  },
  {
   "cell_type": "code",
   "execution_count": null,
   "metadata": {},
   "outputs": [],
   "source": [
    "N*M크기의 행렬 A와 M*K크기의 행렬 B가 주어졌을 때, 두 행렬을 곱하는 프로그램을 작성하시오.\n",
    "\n"
   ]
  },
  {
   "cell_type": "code",
   "execution_count": null,
   "metadata": {},
   "outputs": [],
   "source": [
    "M,N = map(int,input().split())\n",
    "li = [0] * M\n",
    "\n",
    "for i in range(M):\n",
    "    li[i] = list(map(int,input().split()))\n",
    "    \n",
    "M2,N2 = map(int,input().split())\n",
    "answer = [] \n",
    "li2 = [0] *M2\n",
    "for i in range(M2):\n",
    "    li2[i] = list(map(int,input().split()))\n",
    "\n",
    "\n",
    "for i in range(M) :\n",
    "    for j in range(M2) :\n",
    "        \n",
    "    \n"
   ]
  },
  {
   "cell_type": "code",
   "execution_count": 27,
   "metadata": {},
   "outputs": [
    {
     "name": "stdout",
     "output_type": "stream",
     "text": [
      "3 2\n",
      "1 2\n",
      "3 4\n",
      "5 6\n",
      "2 3\n",
      "-1 -2 0\n",
      "0 0 3\n",
      "-1 -2 6\n",
      "-3 -6 12\n",
      "-5 -10 18\n"
     ]
    }
   ],
   "source": [
    "import numpy as np\n",
    "\n",
    "M,N = map(int,input().split())\n",
    "li = [0] * M\n",
    "\n",
    "for i in range(M):\n",
    "    li[i] = list(map(int,input().split()))\n",
    "    \n",
    "A = np.array(li)\n",
    "M2,N2 = map(int,input().split())\n",
    "\n",
    "li2 = [0] *M2\n",
    "for i in range(M2):\n",
    "    li2[i] = list(map(int,input().split()))\n",
    "B = np.array(li2)\n",
    "\n",
    "k = np.matmul(A,B)\n",
    "for i in range(M):\n",
    "    k2 = []\n",
    "    for j in range(N2):\n",
    "        k2.append(str(k[i][j]))\n",
    "    print(\" \".join(k2))"
   ]
  }
 ],
 "metadata": {
  "kernelspec": {
   "display_name": "Python 3",
   "language": "python",
   "name": "python3"
  },
  "language_info": {
   "codemirror_mode": {
    "name": "ipython",
    "version": 3
   },
   "file_extension": ".py",
   "mimetype": "text/x-python",
   "name": "python",
   "nbconvert_exporter": "python",
   "pygments_lexer": "ipython3",
   "version": "3.7.3"
  }
 },
 "nbformat": 4,
 "nbformat_minor": 2
}
