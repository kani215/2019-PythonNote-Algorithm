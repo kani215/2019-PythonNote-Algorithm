{
 "cells": [
  {
   "cell_type": "markdown",
   "metadata": {},
   "source": [
    "# 18 이분탐색"
   ]
  },
  {
   "cell_type": "markdown",
   "metadata": {},
   "source": [
    "O : O(logn)\n",
    "주의점 : 자료는 오름차순으로 정렬된 자료여야 한다.\n",
    "\n",
    "이진트리나 이분탐색은 면접 단골문제 이다.\n",
    "\n",
    "동적 계획법이나 재귀를 자주 사용하며 구축된다.\n",
    "\n",
    "* 특징\n",
    "\n",
    "> 이진탐색은 반드시 정렬되어있는 상태에서 행해야한다.\n",
    "\n",
    "* 구현 준비\n",
    "\n",
    "> target : 찾는 값\n",
    "> data   : 정렬된 list\n",
    "> start  : list 시작 인덱스\n",
    "> end    : list 끝 인덱스\n",
    "> mid    : list의 정중앙 인덱스\n",
    "\n",
    "* 원리\n",
    "\n",
    "> 1. 자료의 중간 값이 mid 찾고자 하는 값인가?\n",
    "> 2. 아니라면 mid 를 값에 따라 start end로 변경후 재탐색 \n",
    "> 3. 재귀로 1의 연산까지 반복  \n",
    "\n",
    "* 구현\n",
    "def binary_research(target,data) :\n",
    "    data.sort()\n",
    "    start = 0\n",
    "    end = len(data)-1\n",
    "    \n",
    "    while start <= end :\n",
    "        mid = (start + end) //2\n",
    "        \n",
    "        if data[mid] == target :\n",
    "            return mid\n",
    "        elif data[mid] < target :\n",
    "           start = mid +1\n",
    "        else:\n",
    "           end = mid - 1\n",
    "\n",
    "\n",
    "def binary_research(target,start,end, data) :\n",
    "    if start > end:\n",
    "        return \n",
    "        \n",
    "    mid = (start + end) //2\n",
    "        \n",
    "    if data[mid] == target :\n",
    "       return mid\n",
    "    elif data[mid] < target :\n",
    "       start = mid +1\n",
    "    else:\n",
    "       end = mid - 1\n",
    "        \n",
    "    return binary_research(target, start, end, data)\n",
    "\n",
    "        "
   ]
  },
  {
   "cell_type": "markdown",
   "metadata": {},
   "source": [
    "# 2. 이분탐색 트리"
   ]
  },
  {
   "cell_type": "code",
   "execution_count": null,
   "metadata": {},
   "outputs": [],
   "source": [
    "class Node:\n",
    "\tdef __init__(self, item):\n",
    "\t\tself.val = item\n",
    "\t\tself.left = None\n",
    "\t\tself.right = None"
   ]
  },
  {
   "cell_type": "markdown",
   "metadata": {},
   "source": [
    "## 1920번 : 수 찾기\n",
    "첫째 줄에 자연수 N(1≤N≤100,000)이 주어진다. 다음 줄에는 N개의 정수 A[1], A[2], …, A[N]이 주어진다. 다음 줄에는 M(1≤M≤100,000)이 주어진다. 다음 줄에는 M개의 수들이 주어지는데, 이 수들이 A안에 존재하는지 알아내면 된다. 모든 정수들의 범위는 int 로 한다.\n"
   ]
  },
  {
   "cell_type": "code",
   "execution_count": 1,
   "metadata": {
    "scrolled": true
   },
   "outputs": [
    {
     "name": "stdout",
     "output_type": "stream",
     "text": [
      "5\n",
      "4 1 5 2 3\n",
      "5\n",
      "1 3 7 9 5\n",
      "1\n",
      "1\n",
      "0\n",
      "0\n",
      "1\n"
     ]
    }
   ],
   "source": [
    "a = int(input())\n",
    "li = list(map(int,input().split()))\n",
    "    \n",
    "li.sort()\n",
    "    \n",
    "a = int(input())\n",
    "find = list(map(int,input().split()))\n",
    "\n",
    "    \n",
    "def binary_search(target, data) :\n",
    "    start = 0\n",
    "    end = len(data)-1\n",
    "    \n",
    "    while start <= end :\n",
    "        mid = (start+end)//2\n",
    "        if data[mid] == target:\n",
    "            print(1)\n",
    "            return\n",
    "        elif data[mid] > target :\n",
    "             end = mid - 1\n",
    "        elif data[mid] < target :\n",
    "            start = mid +1\n",
    "    print(0)\n",
    "    return\n",
    "        \n",
    "        \n",
    "for i in find :\n",
    "    binary_search(i,li)"
   ]
  },
  {
   "cell_type": "markdown",
   "metadata": {},
   "source": [
    "## 10816 숫자카드\n",
    "숫자 카드는 정수 하나가 적혀져 있는 카드이다. 상근이는 숫자 카드 N개를 가지고 있다. 정수 M개가 주어졌을 때, 이 수가 적혀있는 숫자 카드를 상근이가 몇 개 가지고 있는지 구하는 프로그램을 작성하시오.\n",
    "\n",
    "입력\n",
    "첫째 줄에 상근이가 가지고 있는 숫자 카드의 개수 N(1 ≤ N ≤ 500,000)이가 주어진다. 둘째 줄에는 숫자 카드에 적혀있는 정수가 주어진다. 숫자 카드에 적혀있는 수는 -10,000,000보다 크거나 같고, 10,000,000보다 작거나 같다.\n",
    "\n",
    "셋째 줄에는 M(1 ≤ M ≤ 500,000)이 주어진다. 넷째 줄에는 상근이가 몇 개 가지고 있는 숫자 카드인지 구해야 할 M개의 정수가 주어지며, 이 수는 공백으로 구분되어져 있다. 이수도 -10,000,000보다 크거나 같고, 10,000,000보다 작거나 같다."
   ]
  },
  {
   "cell_type": "markdown",
   "metadata": {},
   "source": [
    "### 풀이 - 실패\n",
    "\n",
    "두겹 리스트 사용 \n",
    "[0]으로 이루어져 첫 입력값의 중복을 세는 cntlist\n",
    "첫입력값을 담은 li\n",
    "\n",
    "그리고 탐색을 할 리스트인 find\n",
    "\n",
    "1. li를 정렬 > cntlist로 세어준다\n",
    "2. find로 탐색 return은 자리인 cntlist의 값으로 출력"
   ]
  },
  {
   "cell_type": "code",
   "execution_count": 4,
   "metadata": {},
   "outputs": [
    {
     "name": "stdout",
     "output_type": "stream",
     "text": [
      "10\n",
      "6 3 2 10 10 10 -10 -10 7 3\n",
      "8\n",
      "10 9 -5 2 3 4 5 -10\n",
      "3 0 0 1 2 0 0 2\n"
     ]
    }
   ],
   "source": [
    "a = int(input())\n",
    "li = list(map(int,input().split()))\n",
    "cntlist = [0] *(max(li)+1)\n",
    "\n",
    "li.sort()\n",
    "    \n",
    "a = int(input())\n",
    "find = list(map(int,input().split()))\n",
    "\n",
    "que = []\n",
    "    \n",
    "def binary_search(target, data) :\n",
    "    start = 0\n",
    "    end = len(data)-1\n",
    "    \n",
    "    while start <= end :\n",
    "        mid = (start+end)//2\n",
    "        if data[mid] == target:\n",
    "            return cntlist[target]\n",
    "        elif data[mid] > target :\n",
    "            end = mid - 1\n",
    "        elif data[mid] < target :\n",
    "            start = mid +1\n",
    "    return 0\n",
    "        \n",
    "        \n",
    "for i in li :\n",
    "    cntlist[i] +=1\n",
    "    \n",
    "for j in find :\n",
    "    que.append(binary_search(j,li))\n",
    "    \n",
    "print(*que)"
   ]
  },
  {
   "cell_type": "markdown",
   "metadata": {},
   "source": [
    "### 풀이2 탐색을 사용하지 않았습니다. 탐색을 이용한 올바른 풀이로 다시 풀기\n",
    "위의 방법의 오류인 음수 를 list에 담을 방법을 고안하여 절대값 함수를 추가\n",
    "\n",
    "탐색을 포기 전체를 [0] * 입력 수의 크기 \n",
    "그 index를 출력해주는 방법으로 속도를 개선\n",
    "\n",
    "음수값을 담기 위해서 최대 최소 절대값 비교 def absfunc 을 고안 "
   ]
  },
  {
   "cell_type": "code",
   "execution_count": 11,
   "metadata": {},
   "outputs": [
    {
     "name": "stdout",
     "output_type": "stream",
     "text": [
      "10\n",
      "6 3 2 10 10 10 -10 -10 7 3\n",
      "8\n",
      "10 9 -5 2 3 4 5 -10\n",
      "3 0 0 1 2 0 0 2\n"
     ]
    }
   ],
   "source": [
    "a = int(input())\n",
    "li = list(map(int,input().split()))\n",
    "a = int(input())\n",
    "find = list(map(int,input().split()))\n",
    "que = []\n",
    "\n",
    "li.sort()\n",
    "\n",
    "\n",
    "def absfun(mini,maxi) :\n",
    "    if abs(mini) >=abs(maxi):\n",
    "        return 2*abs(mini)+1\n",
    "    else :\n",
    "        return 2*abs(maxi)+1\n",
    "    \n",
    "maxi = li[-1]\n",
    "mini = li[0]\n",
    "cntlist = [0] * absfun(mini,maxi)\n",
    "\n",
    "\n",
    "for i in li :\n",
    "    cntlist[i+maxi]+=1\n",
    "    \n",
    "for j in find :\n",
    "    if j <=maxi and j>=mini :\n",
    "        que.append(cntlist[j+maxi])\n",
    "    else :\n",
    "        que.append(0)\n",
    "print(*que)\n",
    "    "
   ]
  },
  {
   "cell_type": "markdown",
   "metadata": {},
   "source": [
    "## 1654 \n",
    "입력\n",
    "첫째 줄에는 오영식이 이미 가지고 있는 랜선의 개수 K, 그리고 필요한 랜선의 개수 N이 입력된다. K는 1이상 10,000이하의 정수이고, N은 1이상 1,000,000이하의 정수이다. 그리고 항상 K ≦ N 이다. 그 후 K줄에 걸쳐 이미 가지고 있는 각 랜선의 길이가 센티미터 단위의 정수로 입력된다. 랜선의 길이는 231-1보다 작거나 같은 자연수이다.\n",
    "\n",
    "출력\n",
    "첫째 줄에 N개를 만들 수 있는 랜선의 최대 길이를 센티미터 단위의 정수로 출력한다."
   ]
  },
  {
   "cell_type": "markdown",
   "metadata": {},
   "source": [
    "### 풀이 _이분탐색\n",
    "\n",
    "1. 컴퓨터에게 생각을 맡길 기준이 어렵다.\n",
    "2. 전체 합에 k를 나눈 평균을 기준으로 처리해야하나?\n",
    "3. 평균보다 작으면 , 크면의 기준으로 binary가 가능할듯 싶다.\n",
    "\n",
    "\n"
   ]
  },
  {
   "cell_type": "code",
   "execution_count": 12,
   "metadata": {},
   "outputs": [
    {
     "name": "stdout",
     "output_type": "stream",
     "text": [
      "4 11\n",
      "802\n",
      "743\n",
      "457\n",
      "539\n"
     ]
    }
   ],
   "source": [
    "n, k = map(int,input().split())\n",
    "li = [int(input()) for _ in range(n)]\n",
    "li.sort()\n",
    "\n",
    "avgli = sum(li)/k\n",
    "avgnum = k//n\n",
    "\n",
    "def binary_research(avgli, li) :\n",
    "    start = li[0]//avgnum\n",
    "    end = li[-1]//avgnum\n",
    "    \n",
    "    while start < end :\n",
    "    \n",
    "    "
   ]
  },
  {
   "cell_type": "markdown",
   "metadata": {},
   "source": [
    "## 2805번 나무자르기 \n",
    "입력\n",
    "첫째 줄에 나무의 수 N과 상근이가 집으로 가져가려고 하는 나무의 길이 M이 주어진다. (1 ≤ N ≤ 1,000,000, 1 ≤ M ≤ 2,000,000,000)\n",
    "\n",
    "둘째 줄에는 나무의 높이가 주어진다. 나무의 높이의 합은 항상 M을 넘기 때문에, 상근이는 집에 필요한 나무를 항상 가져갈 수 있다. 높이는 1,000,000,000보다 작거나 같은 양의 정수 또는 0이다.\n",
    "\n",
    "출력\n",
    "적어도 M미터의 나무를 집에 가져가기 위해서 절단기에 설정할 수 있는 높이의 최댓값을 출력한다."
   ]
  },
  {
   "cell_type": "markdown",
   "metadata": {},
   "source": [
    "### 풀이\n",
    "\n",
    "* 위의 문제보다는 쉽지 않나 느꼈다.\n",
    "\n",
    "1. 내림차순 정렬이 필요하다.\n",
    "\n",
    "20 17 15 10 인데\n",
    "0 3 2 5 의 변화량이며\n",
    "2. 앞수의 변화량으로 setlist를 작성한다. 이 리스트의 마지막은 0이다.\n",
    "\n",
    "3. 누적 개념으로 뒷 수부터 채워간다.\n",
    "0 3 2 2 5 5 5 ... 순으로 누적시킨다.\n",
    "\n",
    "만약 필요 목재가 7이라면\n",
    "0+3+2+2 이므로 15를 지목한다.\n",
    "\n",
    "\n"
   ]
  },
  {
   "cell_type": "code",
   "execution_count": 37,
   "metadata": {},
   "outputs": [
    {
     "name": "stdout",
     "output_type": "stream",
     "text": [
      "2 50\n",
      "51 1\n",
      "1\n"
     ]
    }
   ],
   "source": [
    "n,m = map(int,input().split())\n",
    "\n",
    "li = list(map(int,input().split()))\n",
    "setlist = [0]\n",
    "setlist2 = [0] *n\n",
    "li.sort(reverse= True)\n",
    "\n",
    "for i in range(0,len(li)-1) :\n",
    "    setlist.append((li[i] -li[i+1])*(i+1))\n",
    "\n",
    "# 1. 변화량 함수 입력 끝\n",
    "for j in range(1,len(setlist)) :       #0~3\n",
    "    setlist2[j] = setlist[j]+setlist2[j-1]\n",
    "\n",
    "# 2. setlist 변화량 함수를 누적함수화\n",
    "\n",
    "def binary_search(target,setlist2) :\n",
    "    start = 0\n",
    "    end = len(setlist2)-1\n",
    "    if target > setlist2[-1] :\n",
    "        print(find(setlist2[-1],n,li[-1]))\n",
    "        return\n",
    "    \n",
    "    while start <= end :\n",
    "        mid = (start+end)//2\n",
    "        if setlist2[mid] == target :\n",
    "            print(li[mid])\n",
    "            return \n",
    "        elif setlist2[mid] < target and setlist2[mid+1]>target :\n",
    "            print(find(setlist2[mid],mid+1,li[mid]))\n",
    "            return \n",
    "        \n",
    "        elif setlist2[mid] > target :\n",
    "             end = mid - 1\n",
    "        elif setlist2[mid] < target :\n",
    "            start = mid +1\n",
    "    return \n",
    "\n",
    "# 3. binary search로 수 탐색\n",
    "def find(start,index,repo) :\n",
    "    start2 = start\n",
    "    repo2 = repo\n",
    "    while True :\n",
    "        if start2 >= m :\n",
    "            return repo2\n",
    "            break\n",
    "        start2 +=index\n",
    "        repo2 -= 1\n",
    "        \n",
    "            \n",
    "\n",
    "binary_search(m,setlist2)\n",
    "\n"
   ]
  },
  {
   "cell_type": "markdown",
   "metadata": {},
   "source": [
    "## 2110 공유기 설치  \n",
    "\n",
    "문제\n",
    "도현이의 집 N개가 수직선 위에 있다. 각각의 집의 좌표는 x1, ..., xN이고, 집 여러개가 같은 좌표를 가지는 일은 없다.\n",
    "\n",
    "도현이는 언제 어디서나 와이파이를 즐기기 위해서 집에 공유기 C개를 설치하려고 한다. 최대한 많은 곳에서 와이파이를 사용하려고 하기 때문에, 한 집에는 공유기를 하나만 설치할 수 있고, 가장 인접한 두 공유기 사이의 거리를 가능한 크게 하여 설치하려고 한다.\n",
    "\n",
    "C개의 공유기를 N개의 집에 적당히 설치해서, 가장 인접한 두 공유기 사이의 거리를 최대로 하는 프로그램을 작성하시오.\n",
    "\n",
    "입력\n",
    "첫째 줄에 집의 개수 N (2 ≤ N ≤ 200,000)과 공유기의 개수 C (2 ≤ C ≤ N)이 하나 이상의 빈 칸을 사이에 두고 주어진다. 둘째 줄부터 N개의 줄에는 집의 좌표를 나타내는 xi (1 ≤ xi ≤ 1,000,000,000)가 한 줄에 하나씩 주어진다.\n",
    "\n",
    "출력\n",
    "첫째 줄에 가장 인접한 두 공유기 사이의 최대 거리를 출력한다."
   ]
  },
  {
   "cell_type": "markdown",
   "metadata": {},
   "source": [
    "### 풀이 - 틀림 이 풀이는 5입력 5개설치 같은 전부 설치를 설명하지 못합니다.\n",
    "가장 약측 평균에 가장 가까운 값\n",
    "\n"
   ]
  },
  {
   "cell_type": "code",
   "execution_count": 42,
   "metadata": {},
   "outputs": [
    {
     "data": {
      "text/plain": [
       "2"
      ]
     },
     "execution_count": 42,
     "metadata": {},
     "output_type": "execute_result"
    }
   ],
   "source": [
    "a= max(1,2)\n",
    "a"
   ]
  },
  {
   "cell_type": "code",
   "execution_count": 8,
   "metadata": {},
   "outputs": [
    {
     "name": "stdout",
     "output_type": "stream",
     "text": [
      "5 5\n",
      "1\n",
      "2\n",
      "8\n",
      "4\n",
      "9\n",
      "3\n"
     ]
    }
   ],
   "source": [
    "n,c = map(int,input().split())\n",
    "li = [int(input()) for _ in range(n)]\n",
    "li.sort()\n",
    "start = li[0]\n",
    "end = li[-1]\n",
    "avg = (start+end)/2\n",
    "\n",
    "#1. 입력 준비 완료\n",
    "\n",
    "\n",
    "def binary_search(target,li) :\n",
    "    start = 0\n",
    "    end = len(li)-1\n",
    "    \n",
    "    while start <=end :\n",
    "        mid = (start+end)//2\n",
    "        if li[mid] ==avg :\n",
    "            print(li[mid])\n",
    "            return\n",
    "        \n",
    "        elif li[mid] < target and li[mid+1]>target :\n",
    "            a1 = min(abs(li[-1]-li[mid]),abs(li[mid]-li[0]))\n",
    "            a2 = min(abs(li[-1]-li[mid+1]),abs(li[mid+1]-li[0]))\n",
    "            print(max(a1,a2))\n",
    "            return \n",
    "        \n",
    "        elif li[mid] > target :\n",
    "             end = mid - 1\n",
    "        elif li[mid] < target :\n",
    "            start = mid +1\n",
    "    return \n",
    "\n",
    "if c == 2:\n",
    "    print(li[-1]-li[0])\n",
    "else :\n",
    "    binary_search(avg,li)\n",
    "\n",
    "    \n"
   ]
  },
  {
   "cell_type": "markdown",
   "metadata": {},
   "source": [
    "## 풀이2 정답자 풀이\n",
    "\n",
    "1. 수를 오름차순 정리\n",
    "2. setlist 간격 리스트를 구현\n",
    "3. 중앙 탐색 mid 조건으로는 앞수가 커질떄\n"
   ]
  },
  {
   "cell_type": "code",
   "execution_count": 9,
   "metadata": {},
   "outputs": [
    {
     "name": "stdout",
     "output_type": "stream",
     "text": [
      "5 3\n",
      "1\n",
      "2\n",
      "8\n",
      "4\n",
      "9\n",
      "[1, 2, 4, 1]\n"
     ]
    }
   ],
   "source": [
    "import sys\n",
    "\n",
    "N,C = map(int, sys.stdin.readline().split())\n",
    "home = [int(sys.stdin.readline()) for _ in range(N)]\n",
    "\n",
    "home.sort()\n",
    "\n",
    "# 공유기 사이의 간격을 넘겨줬을 때, 공유기의 개수를 반환하는 함수.\n",
    "def routerInstall(distance):\n",
    "    count = 1\n",
    "    cur_home = home[0]      #공유기가 설치된 집.\n",
    "    for i in range(1,N):\n",
    "        if (distance <= home[i] - cur_home):    #공유기를 설치하고자 하는 집과의 간격이 더 크기 때문에 공유기 설치 가능.\n",
    "            count+=1\n",
    "            cur_home = home[i]\n",
    "    \n",
    "    return count\n",
    "            \n",
    "# 공유기의 갯수를 넘겨줬을 때, 적절한 간격을 찾아주는 함수.\n",
    "def BinarySearch(target):\n",
    "    start = 1\n",
    "    end = home[-1] - home[0]     #가장 멀리있는 집 사이의 거리\n",
    "\n",
    "    while(start<=end):\n",
    "        mid = (start+end)//2\n",
    "        router_cnt = routerInstall(mid)\n",
    "        if router_cnt < target:     #공유기의 갯수가 모자라면, 목표 간격을 좁힌다.\n",
    "            end = mid - 1\n",
    "        elif router_cnt >= target:  # 공유기를 목표치 이상으로 설치할 수 있다면, 정답이 될 수 있음.\n",
    "            answer = mid\n",
    "            start = mid + 1\n",
    "    return answer\n",
    "\n",
    "print(BinarySearch(C))\n"
   ]
  },
  {
   "cell_type": "markdown",
   "metadata": {},
   "source": [
    "## 1300 k번째 수"
   ]
  },
  {
   "cell_type": "markdown",
   "metadata": {},
   "source": [
    "문제\n",
    "세준이는 N*N크기의 배열을 만들었다. (배열의 방 번호는 1부터 시작한다.)\n",
    "\n",
    "그 배열을 A라고 했을 때, 배열에 들어가는 수는 A[i][j] = i*j 이다.\n",
    "\n",
    "세준이는 이 수를 일차원 배열 B에 넣으려고 한다. 그렇게 되면, B의 크기는 N*N이 될 것이다. 그러고 난 후에, B를 오름차순 정렬해서 k번째 원소를 구하려고 한다.\n",
    "\n",
    "N이 주어졌을 때, k번째 원소를 구하는 프로그램을 작성하시오."
   ]
  },
  {
   "cell_type": "markdown",
   "metadata": {},
   "source": [
    "### 풀이\n",
    "\n",
    "n이 굉장히 커서 계산복잡도를 고려해주어야합니다.\n",
    "즐겨쓰는 풀이대로\n",
    "\n",
    "1 2 3 4 5 6....\n",
    "1 3 6 10 15 21...\n",
    "\n",
    "7을 탐색 6~10사이 index 홀짝성 6은 2니까 4  10은 3이니 pass 15는 9니까 ㅇㅇ \n",
    "4~9사이값인데 \n",
    "\n",
    "4가 3이므로\n",
    "5   5\n",
    "6   7\n",
    "답은 6\n",
    "\n",
    "### 풀이 1 실패\n",
    "\n",
    "123456\n",
    "246\n",
    "\n",
    "6이 범위 밖에서도 중복되고 있으며 끝을 알 수 없습니다."
   ]
  },
  {
   "cell_type": "code",
   "execution_count": 12,
   "metadata": {},
   "outputs": [
    {
     "name": "stdout",
     "output_type": "stream",
     "text": [
      "10\n"
     ]
    },
    {
     "data": {
      "text/plain": [
       "[1, 3, 6, 10, 15, 21, 28, 36, 45, 55]"
      ]
     },
     "execution_count": 12,
     "metadata": {},
     "output_type": "execute_result"
    }
   ],
   "source": [
    "li = [x for x in range(1,int(input())+1)]\n",
    "setlist = [1]\n",
    "for i in range(len(li)-1) :\n",
    "    setlist.append(setlist[i]+li[i+1])\n",
    "# 1.입력값\n",
    "\n",
    "def binary_search(target,setlist) :\n",
    "    start = setlist[0]\n",
    "    end = len(setlist)-1\n",
    "    while start <= end :\n",
    "        mid = (start+end)//2\n",
    "        \n",
    "        if setlist[mid]==target :\n",
    "            return mid/2+1\n",
    "        \n",
    "        elif setlist[mid] >target :\n",
    "            end =mid-1\n",
    "        elif setlist[mid] <target\n",
    "            start = mid+1\n",
    "\n",
    "# 2. binary search\n",
    "temp= binary_search(int(input()),setlist)\n",
    "tempsmall = temp^2\n",
    "tempbig = (temp+1)^2\n",
    "\n",
    "\n"
   ]
  },
  {
   "cell_type": "markdown",
   "metadata": {},
   "source": [
    "### 힌트본 풀이2 :\n",
    "임의의 val에 대해, val과 같거나 작은 수가 몇 개가 있는지는 i = 1~N에 대해 val/i를 전부 더하면 쉽게 구할 수 있습니다. 이 값을 order(val)이라고 할 때, order(i) < K를 만족하는 가장 큰 i를 찾고 i+1을 출력하면 됩니다. 그리고 이러한 i를 찾기 위해 binary search를 수행하면 됩니다.\n",
    "\n",
    "[i][j]에서, i행에 속한 숫자들은 i*j이므로 모두 i의 배수이다.\n",
    "\n",
    "그러므로 min(mid/i, N)이 i번째 행에서 mid보다 작은(= 임의의 m보다 작은) 숫자들의 개수가 된다.\n",
    "\n",
    "eg. N = 1000인 경우, 첫 mid가 1000*1000/2 = 50만이 되는데, 50만/i가 N을 넘어갈 수 있으므로 min(mid/i, N)을 해준다"
   ]
  },
  {
   "cell_type": "markdown",
   "metadata": {},
   "source": [
    "> 이 문제는 N*N배열이 있을 때 이 배열엔 i*j의 숫자가 들어있다고 하고 이 배열을 일차원 배열에 오름 차순으로 정렬 할때 K번째 수를 구하는 문제입니다.\n",
    "\n",
    "처음에 분류가 이분탐색으로 되어 있어서 그렇게 생각하고 봤는데도 접근을 잘 못하겠어서 다른 글들을 참고하였습니다.\n",
    "\n",
    "\n",
    "\n",
    "우선 배열에 i*j의 숫자들이 저장 되어 있으므로 K보다 작은 숫자의 개수를 찾고 싶다면 K/i를 해야 구할 수 있다는 것이 포인트입니다.\n",
    "\n",
    "문제의 예시를 보면 N이 3이고 K가 7일때를 예로 들고 있습니다. 이경우 \n",
    "\n",
    "3*3 배열이므로 아래와 같이 수가 있고 예를 들어 7보다 작은 숫자의 개수를 찾고 싶다면 7/1 + 7/2 + 7/3 을 하는데 이때 7/1 같은경우 7이라는 숫자가 나옵니다. 따라서 몫이 N보다 큰경우는 그 개수가 N개인것과 동일하므로 min(K/i, N) 이라는 식을 사용해야 하는 것을 알 수 있습니다.\n",
    "\n",
    "1 2 3\n",
    "\n",
    "2 4 6\n",
    "\n",
    "3 6 9 \n",
    "\n",
    "자 그렇다면 이제 여기에 이분탐색을 적용시켜 시작 위치를 1로 끝 위치를 K로 하여서 진행을 해주면 됩니다.\n",
    "\n",
    "위의 예시로 진행과정을 보면 start = 1 end = 7 이므로 mid 지점은 4가 됩니다.\n",
    "\n",
    "따라서 총 개수는 3+2+1로 6개 입니다. K가 7이므로 start를 mid+1인 5로 바꿔줍니다.\n",
    "\n",
    "2번째 과정에서 mid는 6이므로 6을 대상으로 계산을하면 3+3+2 = 8개가 나옵니다.\n",
    "\n",
    "이제 8은 K보다 크므로 result에 mid값을 넣어주고 end에 mid-1을 넣어줍니다.\n",
    "\n",
    "3번째 과정은 start = 5 end = 5 이므로 mid가 5가나옵니다. 이때 총 개수는 3+2+1 = 6개입니다.\n",
    "\n",
    "start와 end가 동일하므로 마지막 과정이고 5보다 작은수는 6개이고 6보다 작은수는 8개이므로 7번째 수는 6이라는 것이 나오게 됩니다.\n",
    "\n",
    "처음에 이해가 잘 안되었는데 이렇게 직접 예시를 들어서 생각하면 이해가 잘 되는 것 같습니다. 이분탐색 문제는 이 문제가 이분탐색으로 푸는게 맞는가 를 생각하는것이 어려운 것 같습니다.\n",
    "\n",
    "\n",
    "\n",
    "다음은 코드입니다.\n",
    "\n"
   ]
  },
  {
   "cell_type": "code",
   "execution_count": 6,
   "metadata": {},
   "outputs": [
    {
     "name": "stdout",
     "output_type": "stream",
     "text": [
      "5\n",
      "8\n",
      "3\n"
     ]
    }
   ],
   "source": [
    "###### 놀랍구먼\n",
    "\n",
    "n = int(input())\n",
    "k = int(input())\n",
    "# 1. 입력내용\n",
    "\n",
    "def binary_search(targetk):\n",
    "    start = 1\n",
    "    end = n**2\n",
    "    while start <= end :\n",
    "        mid = (start+end)//2 \n",
    "        if hypersum(mid) == targetk :\n",
    "            return mid+1\n",
    "        elif hypersum(mid) < targetk and hypersum(mid+1) > targetk :\n",
    "            return mid+1  \n",
    "        elif hypersum(mid) < targetk :\n",
    "            start = mid+1 \n",
    "        elif hypersum(mid) > targetk :\n",
    "            end = mid-1\n",
    "            \n",
    "    return 0\n",
    "\n",
    "def hypersum(mid) :\n",
    "    val = 0\n",
    "    for i in range(1, mid+1) :\n",
    "        val += n/i\n",
    "    return val\n",
    "\n",
    "print(binary_search(k))"
   ]
  }
 ],
 "metadata": {
  "kernelspec": {
   "display_name": "Python 3",
   "language": "python",
   "name": "python3"
  },
  "language_info": {
   "codemirror_mode": {
    "name": "ipython",
    "version": 3
   },
   "file_extension": ".py",
   "mimetype": "text/x-python",
   "name": "python",
   "nbconvert_exporter": "python",
   "pygments_lexer": "ipython3",
   "version": "3.7.3"
  }
 },
 "nbformat": 4,
 "nbformat_minor": 2
}
