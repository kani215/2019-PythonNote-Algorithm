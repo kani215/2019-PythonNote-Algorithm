{
 "cells": [
  {
   "cell_type": "markdown",
   "metadata": {},
   "source": [
    "# 18 이분탐색"
   ]
  },
  {
   "cell_type": "markdown",
   "metadata": {},
   "source": [
    "O : O(logn)\n",
    "주의점 : 자료는 오름차순으로 정렬된 자료여야 한다.\n",
    "\n",
    "이진트리나 이분탐색은 면접 단골문제 이다.\n",
    "\n",
    "동적 계획법이나 재귀를 자주 사용하며 구축된다.\n",
    "\n",
    "* 특징\n",
    "\n",
    "> 이진탐색은 반드시 정렬되어있는 상태에서 행해야한다.\n",
    "\n",
    "* 구현 준비\n",
    "\n",
    "> target : 찾는 값\n",
    "> data   : 정렬된 list\n",
    "> start  : list 시작 인덱스\n",
    "> end    : list 끝 인덱스\n",
    "> mid    : list의 정중앙 인덱스\n",
    "\n",
    "* 원리\n",
    "\n",
    "> 1. 자료의 중간 값이 mid 찾고자 하는 값인가?\n",
    "> 2. 아니라면 mid 를 값에 따라 start end로 변경후 재탐색 \n",
    "> 3. 재귀로 1의 연산까지 반복  \n",
    "\n",
    "* 구현\n",
    "def binary_research(target,data) :\n",
    "    data.sort()\n",
    "    start = 0\n",
    "    end = len(data)-1\n",
    "    \n",
    "    while start <= end :\n",
    "        mid = (start + end) //2\n",
    "        \n",
    "        if data[mid] == target :\n",
    "            return mid\n",
    "        elif data[mid] < target :\n",
    "           start = mid +1\n",
    "        else:\n",
    "           end = mid - 1\n",
    "\n",
    "\n",
    "def binary_research(target,start,end, data) :\n",
    "    if start > end:\n",
    "        return \n",
    "        \n",
    "    mid = (start + end) //2\n",
    "        \n",
    "    if data[mid] == target :\n",
    "       return mid\n",
    "    elif data[mid] < target :\n",
    "       start = mid +1\n",
    "    else:\n",
    "       end = mid - 1\n",
    "        \n",
    "    return binary_research(target, start, end, data)\n",
    "\n",
    "        "
   ]
  },
  {
   "cell_type": "markdown",
   "metadata": {},
   "source": [
    "# 2. 이분탐색 트리"
   ]
  },
  {
   "cell_type": "code",
   "execution_count": null,
   "metadata": {},
   "outputs": [],
   "source": [
    "class Node:\n",
    "\tdef __init__(self, item):\n",
    "\t\tself.val = item\n",
    "\t\tself.left = None\n",
    "\t\tself.right = None"
   ]
  },
  {
   "cell_type": "markdown",
   "metadata": {},
   "source": [
    "## 1920번 : 수 찾기\n",
    "첫째 줄에 자연수 N(1≤N≤100,000)이 주어진다. 다음 줄에는 N개의 정수 A[1], A[2], …, A[N]이 주어진다. 다음 줄에는 M(1≤M≤100,000)이 주어진다. 다음 줄에는 M개의 수들이 주어지는데, 이 수들이 A안에 존재하는지 알아내면 된다. 모든 정수들의 범위는 int 로 한다.\n"
   ]
  },
  {
   "cell_type": "code",
   "execution_count": 1,
   "metadata": {
    "scrolled": true
   },
   "outputs": [
    {
     "name": "stdout",
     "output_type": "stream",
     "text": [
      "5\n",
      "4 1 5 2 3\n",
      "5\n",
      "1 3 7 9 5\n",
      "1\n",
      "1\n",
      "0\n",
      "0\n",
      "1\n"
     ]
    }
   ],
   "source": [
    "a = int(input())\n",
    "li = list(map(int,input().split()))\n",
    "    \n",
    "li.sort()\n",
    "    \n",
    "a = int(input())\n",
    "find = list(map(int,input().split()))\n",
    "\n",
    "    \n",
    "def binary_search(target, data) :\n",
    "    start = 0\n",
    "    end = len(data)-1\n",
    "    \n",
    "    while start <= end :\n",
    "        mid = (start+end)//2\n",
    "        if data[mid] == target:\n",
    "            print(1)\n",
    "            return \n",
    "        elif data[mid] > target :\n",
    "            end = mid - 1\n",
    "        elif data[mid] < target :\n",
    "            start = mid +1\n",
    "    print(0)\n",
    "    return\n",
    "        \n",
    "        \n",
    "for i in find :\n",
    "    binary_search(i,li)"
   ]
  },
  {
   "cell_type": "markdown",
   "metadata": {},
   "source": [
    "## 10816 숫자카드\n",
    "숫자 카드는 정수 하나가 적혀져 있는 카드이다. 상근이는 숫자 카드 N개를 가지고 있다. 정수 M개가 주어졌을 때, 이 수가 적혀있는 숫자 카드를 상근이가 몇 개 가지고 있는지 구하는 프로그램을 작성하시오.\n",
    "\n",
    "입력\n",
    "첫째 줄에 상근이가 가지고 있는 숫자 카드의 개수 N(1 ≤ N ≤ 500,000)이가 주어진다. 둘째 줄에는 숫자 카드에 적혀있는 정수가 주어진다. 숫자 카드에 적혀있는 수는 -10,000,000보다 크거나 같고, 10,000,000보다 작거나 같다.\n",
    "\n",
    "셋째 줄에는 M(1 ≤ M ≤ 500,000)이 주어진다. 넷째 줄에는 상근이가 몇 개 가지고 있는 숫자 카드인지 구해야 할 M개의 정수가 주어지며, 이 수는 공백으로 구분되어져 있다. 이수도 -10,000,000보다 크거나 같고, 10,000,000보다 작거나 같다."
   ]
  },
  {
   "cell_type": "markdown",
   "metadata": {},
   "source": [
    "### 풀이 - 실패\n",
    "\n",
    "두겹 리스트 사용 \n",
    "[0]으로 이루어져 첫 입력값의 중복을 세는 cntlist\n",
    "첫입력값을 담은 li\n",
    "\n",
    "그리고 탐색을 할 리스트인 find\n",
    "\n",
    "1. li를 정렬 > cntlist로 세어준다\n",
    "2. find로 탐색 return은 자리인 cntlist의 값으로 출력"
   ]
  },
  {
   "cell_type": "code",
   "execution_count": 4,
   "metadata": {},
   "outputs": [
    {
     "name": "stdout",
     "output_type": "stream",
     "text": [
      "10\n",
      "6 3 2 10 10 10 -10 -10 7 3\n",
      "8\n",
      "10 9 -5 2 3 4 5 -10\n",
      "3 0 0 1 2 0 0 2\n"
     ]
    }
   ],
   "source": [
    "a = int(input())\n",
    "li = list(map(int,input().split()))\n",
    "cntlist = [0] *(max(li)+1)\n",
    "\n",
    "li.sort()\n",
    "    \n",
    "a = int(input())\n",
    "find = list(map(int,input().split()))\n",
    "\n",
    "que = []\n",
    "    \n",
    "def binary_search(target, data) :\n",
    "    start = 0\n",
    "    end = len(data)-1\n",
    "    \n",
    "    while start <= end :\n",
    "        mid = (start+end)//2\n",
    "        if data[mid] == target:\n",
    "            return cntlist[target]\n",
    "        elif data[mid] > target :\n",
    "            end = mid - 1\n",
    "        elif data[mid] < target :\n",
    "            start = mid +1\n",
    "    return 0\n",
    "        \n",
    "        \n",
    "for i in li :\n",
    "    cntlist[i] +=1\n",
    "    \n",
    "for j in find :\n",
    "    que.append(binary_search(j,li))\n",
    "    \n",
    "print(*que)"
   ]
  },
  {
   "cell_type": "markdown",
   "metadata": {},
   "source": [
    "### 풀이2 탐색을 사용하지 않았습니다. 탐색을 이용한 올바른 풀이로 다시 풀기\n",
    "위의 방법의 오류인 음수 를 list에 담을 방법을 고안하여 절대값 함수를 추가\n",
    "\n",
    "탐색을 포기 전체를 [0] * 입력 수의 크기 \n",
    "그 index를 출력해주는 방법으로 속도를 개선\n",
    "\n",
    "음수값을 담기 위해서 최대 최소 절대값 비교 def absfunc 을 고안 "
   ]
  },
  {
   "cell_type": "code",
   "execution_count": 11,
   "metadata": {},
   "outputs": [
    {
     "name": "stdout",
     "output_type": "stream",
     "text": [
      "10\n",
      "6 3 2 10 10 10 -10 -10 7 3\n",
      "8\n",
      "10 9 -5 2 3 4 5 -10\n",
      "3 0 0 1 2 0 0 2\n"
     ]
    }
   ],
   "source": [
    "a = int(input())\n",
    "li = list(map(int,input().split()))\n",
    "a = int(input())\n",
    "find = list(map(int,input().split()))\n",
    "que = []\n",
    "\n",
    "li.sort()\n",
    "\n",
    "\n",
    "def absfun(mini,maxi) :\n",
    "    if abs(mini) >=abs(maxi):\n",
    "        return 2*abs(mini)+1\n",
    "    else :\n",
    "        return 2*abs(maxi)+1\n",
    "    \n",
    "maxi = li[-1]\n",
    "mini = li[0]\n",
    "cntlist = [0] * absfun(mini,maxi)\n",
    "\n",
    "\n",
    "for i in li :\n",
    "    cntlist[i+maxi]+=1\n",
    "    \n",
    "for j in find :\n",
    "    if j <=maxi and j>=mini :\n",
    "        que.append(cntlist[j+maxi])\n",
    "    else :\n",
    "        que.append(0)\n",
    "print(*que)\n",
    "    "
   ]
  },
  {
   "cell_type": "markdown",
   "metadata": {},
   "source": [
    "## 1654 \n",
    "입력\n",
    "첫째 줄에는 오영식이 이미 가지고 있는 랜선의 개수 K, 그리고 필요한 랜선의 개수 N이 입력된다. K는 1이상 10,000이하의 정수이고, N은 1이상 1,000,000이하의 정수이다. 그리고 항상 K ≦ N 이다. 그 후 K줄에 걸쳐 이미 가지고 있는 각 랜선의 길이가 센티미터 단위의 정수로 입력된다. 랜선의 길이는 231-1보다 작거나 같은 자연수이다.\n",
    "\n",
    "출력\n",
    "첫째 줄에 N개를 만들 수 있는 랜선의 최대 길이를 센티미터 단위의 정수로 출력한다."
   ]
  },
  {
   "cell_type": "markdown",
   "metadata": {},
   "source": [
    "### 풀이 _이분탐색\n",
    "\n",
    "1. 컴퓨터에게 생각을 맡길 기준이 어렵다.\n",
    "2. 전체 합에 k를 나눈 평균을 기준으로 처리해야하나?\n",
    "3. 평균보다 작으면 , 크면의 기준으로 binary가 가능할듯 싶다.\n",
    "\n",
    "\n"
   ]
  },
  {
   "cell_type": "code",
   "execution_count": 12,
   "metadata": {},
   "outputs": [
    {
     "name": "stdout",
     "output_type": "stream",
     "text": [
      "4 11\n",
      "802\n",
      "743\n",
      "457\n",
      "539\n"
     ]
    }
   ],
   "source": [
    "n, k = map(int,input().split())\n",
    "li = [int(input()) for _ in range(n)]\n",
    "li.sort()\n",
    "\n",
    "avgli = sum(li)/k\n",
    "avgnum = k//n\n",
    "\n",
    "def binary_research(avgli, li) :\n",
    "    start = li[0]//avgnum\n",
    "    end = li[-1]//avgnum\n",
    "    \n",
    "    while start < end :\n",
    "    \n",
    "    "
   ]
  },
  {
   "cell_type": "code",
   "execution_count": null,
   "metadata": {},
   "outputs": [],
   "source": []
  },
  {
   "cell_type": "code",
   "execution_count": null,
   "metadata": {},
   "outputs": [],
   "source": []
  },
  {
   "cell_type": "code",
   "execution_count": null,
   "metadata": {},
   "outputs": [],
   "source": []
  },
  {
   "cell_type": "code",
   "execution_count": null,
   "metadata": {},
   "outputs": [],
   "source": []
  }
 ],
 "metadata": {
  "kernelspec": {
   "display_name": "Python 3",
   "language": "python",
   "name": "python3"
  },
  "language_info": {
   "codemirror_mode": {
    "name": "ipython",
    "version": 3
   },
   "file_extension": ".py",
   "mimetype": "text/x-python",
   "name": "python",
   "nbconvert_exporter": "python",
   "pygments_lexer": "ipython3",
   "version": "3.7.3"
  }
 },
 "nbformat": 4,
 "nbformat_minor": 2
}
