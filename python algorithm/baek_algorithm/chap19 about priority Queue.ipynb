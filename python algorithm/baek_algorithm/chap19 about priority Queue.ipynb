{
 "cells": [
  {
   "cell_type": "markdown",
   "metadata": {},
   "source": [
    "# chap19 우선순위 큐에 대하여"
   ]
  },
  {
   "cell_type": "markdown",
   "metadata": {},
   "source": [
    "## 1. 우선순위 큐 자료구조\n",
    "\n",
    ": 데이터를 추가한 순서대로 제거하는 선입선출의 특성을 지닌 자료구조와 달리\n",
    "데이터 추가는 어떤 순서로 해도 상관이 없지만, 제거될 때는 가장 작은 값이 제거되는 특성을 지닌 자료구조입니다.\n",
    "\n",
    "* 이말은 내부적으로 데이터를 정렬된 상태로 보관하는 메커니즘이 있다는 의미\n",
    "\n",
    "heapq모듈을 통해 구현되어 있습니다.\n"
   ]
  },
  {
   "cell_type": "markdown",
   "metadata": {},
   "source": [
    "## 2. 사용법"
   ]
  },
  {
   "cell_type": "code",
   "execution_count": 2,
   "metadata": {},
   "outputs": [
    {
     "name": "stdout",
     "output_type": "stream",
     "text": [
      "1\n",
      "3\n",
      "4\n",
      "7\n",
      "Banna\n",
      "Cherry\n",
      "Apple\n"
     ]
    }
   ],
   "source": [
    "# 1. 초기화 및 import\n",
    "from queue import PriorityQueue\n",
    "\n",
    "que = PriorityQueue(maxsize=8)       #우선순위 큐를 초기화 size 지정으로 \n",
    "\n",
    "# 2. 우선순위 큐에 원소 추가\n",
    "\n",
    "que.put(4)\n",
    "que.put(1)\n",
    "que.put(7)\n",
    "que.put(3)\n",
    "\n",
    "# 3. 우선순위 큐에 원소 제거 이때는 get만 해주면 되는데 작은 순서로 알아서 빠진다.\n",
    "print(que.get()) #1\n",
    "print(que.get()) #3\n",
    "print(que.get()) #4\n",
    "print(que.get()) #7\n",
    "\n",
    "#4. 우선순위 큐의 사용 이유인것 같다. 기준을 정해둘 수가 있다.\n",
    "\n",
    "que.put((3,'Apple'))\n",
    "que.put((1,'Banna'))\n",
    "que.put((2,'Cherry'))\n",
    "\n",
    "print(que.get()[1]) # Banana\n",
    "print(que.get()[1]) # Cherry\n",
    "print(que.get()[1]) # Apple\n",
    "\n",
    "\n",
    "\n",
    "\n",
    "\n"
   ]
  },
  {
   "cell_type": "markdown",
   "metadata": {},
   "source": [
    "## 3. 힙 자료구조\n",
    "heapq 자료구조\n",
    "\n",
    "* heapq 모듈은 이진 트리 기반의 최소 힙 자료구조를 제공합니다.\n",
    "자바에 익숙하신 분이라면 priorityQueue 클래스를 생각하시면 이해가 쉬우실 것 같습니다.\n",
    "\n",
    "min heap을 사용하면 원소들이 항상 정렬된 상태로 추가되고 삭제되며, min heap에서 가장 작은값은\n",
    "언제나 인덱스 0, 즉, 이진 트리의 루트에 위치합니다.\n",
    "\n",
    "내부적으로 min heap내의 모든 원소는 항상 자식 원소들 보다 크기가 작거나 같도록 원소가 추가되고 삭제됩니다.\n",
    "\n",
    "\n",
    "\n",
    "     1  ---> root\n",
    "   /   \\\n",
    "  3     5\n",
    " / \\   /\n",
    "4   8 7\n",
    "\n",
    "이런식으로 내장된다는 의미\n"
   ]
  },
  {
   "cell_type": "markdown",
   "metadata": {},
   "source": [
    "## 4. heap모듈을 활용한 heap 자료구조\n",
    "\n",
    "### 4-1. 최소 힙 생성\n",
    "heapq 모듈에은 파이썬의 보통 리스트를 마치 최소 힙처럼 다룰 수 있도록 도와줍니다.\n",
    "자바의 PriorityQueue 클래스처럼 리스트와 별개의 자료구조가 아닌 점에 유의해야 합니다.\n",
    "\n",
    "그렇게 때문에, 그냥 빈 리스트를 생성해놓은 다음 heapq 모듈의 함수를 호출할 때 마다 이 리스트를 인자로 넘겨야 합니다.\n",
    "다시말해, 파이썬에서는 heapq 모듈을 통해서 원소를 추가하거나 삭제한 리스트가 그냥 최소 힙입니다.\n",
    "\n",
    "\n",
    "heap = []\n",
    "\n",
    "### 4-2. 힙에 원소 추가\n",
    "heapq 모듈의 heappush() 함수를 이용하여 힙에 원소를 추가할 수 있습니다.\n",
    "첫번째 인자는 원소를 추가할 대상 리스트이며 두번째 인자는 추가할 원소를 넘깁니다.\n",
    "\n",
    "\n",
    ">heapq.heappush(heap, 4)\n",
    "heapq.heappush(heap, 1)\n",
    "heapq.heappush(heap, 7)\n",
    "heapq.heappush(heap, 3)\n",
    "print(heap)\n",
    "1\n",
    "> [1, 3, 7, 4]\n",
    "\n",
    "가장 작은 1이 인덱스 0에 위치하며, 인덱스 1(= k)에 위치한 3은 인덱스 3(= 2k + 1)에 위치한 4보다 크므로 힙의 공식을 만족합니다.\n",
    "내부적으로 이진 트리에 원소를 추가하는 heappush() 함수는 O(logN)의 시간 복잡도를 가집니다.\n",
    "\n",
    "### 4-3. 힙에서 원소 삭제\n",
    "heapq 모듈의 heappop() 함수를 이용하여 힙에서 원소를 삭제할 수 있습니다.\n",
    "원소를 삭제할 대상 리스트를 인자로 넘기면, 가장 작은 원소를 삭제 후에 그 값을 리턴합니다.\n",
    "\n",
    "\n",
    ">print(heapq.heappop(heap))\n",
    "print(heap)\n",
    "\n",
    "### 4-4/ 기존 리스트를 힙으로 변환\n",
    "이미 원소가 들어있는 리스트 힙으로 만들려면 heapq 모듈의 heapify()라는 함수에 사용하면 됩니다.\n",
    "\n",
    "\n",
    ">heap = [4, 1, 7, 3, 8, 5]\n",
    "heapq.heapify(heap)\n",
    "print(heap)\n",
    "[1, 3, 5, 4, 8, 7]\n",
    "시간복잡도는 o(N)입니다.\n",
    "\n"
   ]
  },
  {
   "cell_type": "code",
   "execution_count": 6,
   "metadata": {},
   "outputs": [
    {
     "name": "stdout",
     "output_type": "stream",
     "text": [
      "[1, 3, 7, 4]\n"
     ]
    }
   ],
   "source": [
    "import heapq\n",
    "\n",
    "heap= []\n",
    "heapq.heappush(heap, 4)\n",
    "heapq.heappush(heap, 1)\n",
    "heapq.heappush(heap, 7)\n",
    "heapq.heappush(heap, 3)\n",
    "\n",
    "print(heap)\n"
   ]
  },
  {
   "cell_type": "markdown",
   "metadata": {},
   "source": [
    "### [응용] 최대 힙\n",
    "heapq 모듈은 최소 힙(min heap)을 기능만을 동작하기 때문에 최대 힙(max heap)으로 활용하려면 약간의 요령이 필요합니다.\n",
    "바로 힙에 튜플(tuple)를 원소로 추가하거나 삭제하면, 튜플 내에서 맨 앞에 있는 값을 기준으로 최소 힙이 구성되는 원리를 이용하는 것입니다.\n",
    "\n",
    "따라서, 최대 힙을 만들려면 각 값에 대한 우선 순위를 구한 후, (우선 순위, 값) 구조의 튜플(tuple)을 힙에 추가하거나 삭제하면 됩니다.\n",
    "그리고 힙에서 값을 읽어올 때는 각 튜플에서 인덱스 1에 있는 값을 취하면 됩니다. (우선 순위에는 관심이 없으므로 )"
   ]
  },
  {
   "cell_type": "code",
   "execution_count": 2,
   "metadata": {},
   "outputs": [
    {
     "name": "stdout",
     "output_type": "stream",
     "text": [
      "8\n",
      "7\n",
      "5\n",
      "4\n",
      "3\n",
      "1\n"
     ]
    }
   ],
   "source": [
    "import heapq\n",
    "\n",
    "nums = [4, 1, 7, 3, 8, 5]\n",
    "heap = []\n",
    "\n",
    "for num in nums:\n",
    "    heapq.heappush(heap, (-num, num))  # (우선 순위, 값)\n",
    "\n",
    "while heap:\n",
    "    print(heapq.heappop(heap)[1])  # index 1"
   ]
  },
  {
   "cell_type": "markdown",
   "metadata": {},
   "source": [
    "[응용] K번째 최소값/최대값\n",
    "최소 힙이나 최대 힙을 사용하면 K번째 최소값이나 최대값을 효츌적으로 구할 수 있습니다."
   ]
  },
  {
   "cell_type": "code",
   "execution_count": null,
   "metadata": {},
   "outputs": [],
   "source": [
    "import heapq\n",
    "\n",
    "def kth_smallest(nums, k):\n",
    "  heap = []\n",
    "  for num in nums:\n",
    "    heapq.heappush(heap, num)\n",
    "\n",
    "  kth_min = None\n",
    "  for _ in range(k):\n",
    "    kth_min = heapq.heappop(heap)\n",
    "  return kth_min\n",
    "\n",
    "print(kth_smallest([4, 1, 7, 3, 8, 5], 3))\n",
    "# K번째 최소값을 구하기 위해서는 주어진 배열로 힙을 만든 후, heappop() 함수를 K번 호출하면 됩니다."
   ]
  },
  {
   "cell_type": "markdown",
   "metadata": {},
   "source": [
    "## 11279 최대힙\n",
    "\n",
    "문제\n",
    "널리 잘 알려진 자료구조 중 최대 힙이라는 것이 있다. 최대 힙을 이용하여 다음과 같은 연산을 지원하는 프로그램을 작성하시오.\n",
    "\n",
    "배열에 자연수 x를 넣는다.\n",
    "배열에서 가장 큰 값을 출력하고, 그 값을 배열에서 제거한다.\n",
    "프로그램은 처음에 비어있는 배열에서 시작하게 된다.\n",
    "\n",
    "입력\n",
    "첫째 줄에 연산의 개수 N(1≤N≤100,000)이 주어진다. 다음 N개의 줄에는 연산에 대한 정보를 나타내는 정수 x가 주어진다. 만약 x가 자연수라면 배열에 x라는 값을 넣는(추가하는) 연산이고, x가 0이라면 배열에서 가장 큰 값을 출력하고 그 값을 배열에서 제거하는 경우이다. 입력되는 자연수는 2^31보다 작다.\n"
   ]
  },
  {
   "cell_type": "markdown",
   "metadata": {},
   "source": [
    "## 풀이1 heapq 라이브러리 사용해서 풀이해보았지만 시간초과\n",
    "\n",
    "왜 시간초과인가\n",
    "\n"
   ]
  },
  {
   "cell_type": "code",
   "execution_count": 13,
   "metadata": {},
   "outputs": [
    {
     "data": {
      "text/plain": [
       "<map at 0x278c9201160>"
      ]
     },
     "execution_count": 13,
     "metadata": {},
     "output_type": "execute_result"
    }
   ],
   "source": [
    "import os\n",
    "num = map(int,os.read(0, 100000000).decode('utf-8').split('\\n'))\n",
    "num"
   ]
  },
  {
   "cell_type": "code",
   "execution_count": 9,
   "metadata": {},
   "outputs": [
    {
     "name": "stdout",
     "output_type": "stream",
     "text": [
      "13\n",
      "0\n",
      "0\n",
      "1\n",
      "2\n",
      "0\n",
      "2\n",
      "0\n",
      "1\n",
      "3\n",
      "2\n",
      "1\n",
      "0\n",
      "3\n",
      "0\n",
      "2\n",
      "0\n",
      "1\n",
      "0\n",
      "0\n",
      "0\n",
      "0\n"
     ]
    }
   ],
   "source": [
    "import heapq\n",
    "import os\n",
    "key = int(input())\n",
    "heap = []\n",
    "\n",
    "for i in range(key):\n",
    "    num = map(int,os.read(0, 100000000).decode('utf-8').split('\\n'))\n",
    "    \n",
    "    if num == 0 :\n",
    "        if heap :\n",
    "            print(heapq.heappop(heap)[1])\n",
    "        else :\n",
    "            print(0)\n",
    "           \n",
    "    else :\n",
    "        heapq.heappush(heap,(-num,num))  # (우선 순위, 값)\n",
    "        "
   ]
  },
  {
   "cell_type": "markdown",
   "metadata": {},
   "source": [
    "# 1927 최소힙"
   ]
  },
  {
   "cell_type": "code",
   "execution_count": 11,
   "metadata": {},
   "outputs": [
    {
     "name": "stdout",
     "output_type": "stream",
     "text": [
      "9\n",
      "0\n",
      "0\n",
      "123456\n",
      "1\n",
      "2\n",
      "0\n",
      "1\n",
      "0\n",
      "2\n",
      "0\n",
      "123456\n",
      "0\n",
      "0\n",
      "32\n"
     ]
    }
   ],
   "source": [
    "import heapq\n",
    "import sys\n",
    "key = int(input())\n",
    "heap = []\n",
    "for i in range(key):\n",
    "    num = int(sys.stdin.readline())\n",
    "\n",
    "    if num == 0 :\n",
    "        if heap :\n",
    "            print(heapq.heappop(heap))\n",
    "        else :\n",
    "            print(0)\n",
    "           \n",
    "    else :\n",
    "        heapq.heappush(heap,num)  # (우선 순위, 값)"
   ]
  },
  {
   "cell_type": "markdown",
   "metadata": {},
   "source": [
    "# 11286번 절대값 힙\n",
    "절댓값 힙은 다음과 같은 연산을 지원하는 자료구조이다.\n",
    "\n",
    "배열에 정수 x (x ≠ 0)를 넣는다.\n",
    "배열에서 절댓값이 가장 작은 값을 출력하고, 그 값을 배열에서 제거한다. 절댓값이 가장 작은 값이 여러개일 때는, 가장 작은 수를 출력하고, 그 값을 배열에서 제거한다.\n",
    "프로그램은 처음에 비어있는 배열에서 시작하게 된다."
   ]
  },
  {
   "cell_type": "markdown",
   "metadata": {},
   "source": [
    "## 동일하다 위에 내용처럼 풀이하자 "
   ]
  },
  {
   "cell_type": "code",
   "execution_count": null,
   "metadata": {},
   "outputs": [],
   "source": [
    "import heapq\n",
    "import sys\n",
    "key = int(input())\n",
    "heap = []\n",
    "\n",
    "for i in range(key):\n",
    "    num = int(sys.stdin.readline())\n",
    "    \n",
    "    if num == 0 :\n",
    "        if heap :\n",
    "            print(heapq.heappop(heap)[1])\n",
    "        else :\n",
    "            print(0)\n",
    "           \n",
    "    else :\n",
    "        heapq.heappush(heap,(abs(num),num))  # (우선 순위, 값)"
   ]
  },
  {
   "cell_type": "markdown",
   "metadata": {},
   "source": [
    "# 1655번 가운데를 말해요 \n",
    "문제\n",
    "수빈이는 동생에게 \"가운데를 말해요\" 게임을 가르쳐주고 있다. 수빈이가 정수를 하나씩 외칠때마다 동생은 지금까지 수빈이가 말한 수 중에서 중간값을 말해야 한다. 만약, 그동안 수빈이가 외친 수의 개수가 짝수개라면 중간에 있는 두 수 중에서 작은 수를 말해야 한다.\n",
    "\n",
    "예를 들어 수빈이가 동생에게 1, 5, 2, 10, -99, 7, 5를 순서대로 외쳤다고 하면, 동생은 1, 1, 2, 2, 2, 2, 5를 차례대로 말해야 한다. 수빈이가 외치는 수가 주어졌을 때, 동생이 말해야 하는 수를 구하는 프로그램을 작성하시오."
   ]
  },
  {
   "cell_type": "markdown",
   "metadata": {},
   "source": []
  },
  {
   "cell_type": "markdown",
   "metadata": {},
   "source": [
    "## 나의 풀이 :\n",
    "\n",
    "i think using two heapq can help to solve this problem  \n",
    "one has minimize heap and the other has maximize heap \n",
    "\n",
    "then i must compart both of numbers"
   ]
  },
  {
   "cell_type": "code",
   "execution_count": 14,
   "metadata": {},
   "outputs": [
    {
     "name": "stdout",
     "output_type": "stream",
     "text": [
      "5\n",
      "1\n",
      "1\n",
      "2\n",
      "1\n",
      "3\n",
      "2\n",
      "4\n",
      "2\n",
      "5\n",
      "2\n"
     ]
    }
   ],
   "source": [
    "import sys\n",
    "import heapq\n",
    "key = int(input())\n",
    "\n",
    "heapmax = []\n",
    "heapmin = []\n",
    "numfo = int(input())\n",
    "\n",
    "print(numfo)\n",
    "\n",
    "midium = numfo\n",
    "\n",
    "\n",
    "def printinfo():\n",
    "    if heapmax[0][1] >heapmin[0] :\n",
    "        return heapmin[0]\n",
    "    else :\n",
    "        return heapmax[0][1]\n",
    "    \n",
    "    \n",
    "for i in range(2, key+1) :\n",
    "    num = int(input())\n",
    "    if i==2 :\n",
    "        if numfo > num :\n",
    "            heapq.heappush(heapmax,(-1*num,num))\n",
    "            heapq.heappush(heapmin,numfo)\n",
    "            print(num)\n",
    "            continue\n",
    "        else :\n",
    "            heapq.heappush(heapmax,(-1*numfo,numfo))\n",
    "            heapq.heappush(heapmin,num)\n",
    "            print(numfo)\n",
    "            continue\n",
    "            \n",
    "    elif i%2==1 :\n",
    "        heapq.heappush(heapmax,(-1*num,num))\n",
    "        print(printinfo())\n",
    "    \n",
    "    elif i%2==0 :\n",
    "        heapq.heappush(heapmin,num)\n",
    "        print(printinfo())\n",
    "\n",
    "    \n",
    "            \n",
    "    \n",
    "       \n",
    "\n",
    "\n"
   ]
  },
  {
   "cell_type": "markdown",
   "metadata": {},
   "source": [
    "## 나의 풀이 2\n",
    "총 정렬 시킨 후에 순서 출력을 노렸습니다. 밑은 틀렸습니다 같은 뿌리 위치여도 크기순서는 제각각입니다. 결국 2^n번 탐색이 필요합니다."
   ]
  },
  {
   "cell_type": "code",
   "execution_count": 32,
   "metadata": {
    "scrolled": true
   },
   "outputs": [
    {
     "name": "stdout",
     "output_type": "stream",
     "text": [
      "5\n",
      "1\n",
      "1\n",
      "2\n",
      "1\n",
      "3\n",
      "2\n",
      "4\n",
      "2\n",
      "5\n",
      "3\n"
     ]
    }
   ],
   "source": [
    "import sys\n",
    "import heapq\n",
    "key = int(input())\n",
    "heap = []\n",
    "\n",
    "for i in range(1,key+1) :\n",
    "    heapq.heappush(heap,int(input()))\n",
    "    if i%2 == 1 : \n",
    "        print(heap[i//2])\n",
    "    else :\n",
    "        print(heap[i//2-1])"
   ]
  },
  {
   "cell_type": "markdown",
   "metadata": {},
   "source": [
    "## 나의풀이3\n",
    "\n",
    "풀이 1의 업그레이드 중앙수 변수를 도입 후 pop push를 활용 수의 대칭을 노렸습니다.\n",
    "\n"
   ]
  },
  {
   "cell_type": "code",
   "execution_count": 45,
   "metadata": {},
   "outputs": [
    {
     "name": "stdout",
     "output_type": "stream",
     "text": [
      "7\n",
      "1\n",
      "1\n",
      "5\n",
      "1\n",
      "2\n",
      "2 3 [(-2, 2), (-1, 1)] [5]\n",
      "10\n",
      "2 4 [(-2, 2), (-1, 1)] [5, 10]\n",
      "-99\n",
      "2 5 [(-2, 2), (-1, 1), (99, -99)] [5, 10]\n",
      "7\n",
      "2 6 [(-2, 2), (-1, 1), (99, -99)] [5, 10, 7]\n",
      "5\n",
      "5 7 [(-5, 5), (-2, 2), (99, -99), (-1, 1)] [5, 10, 7]\n"
     ]
    }
   ],
   "source": [
    "import sys\n",
    "import heapq\n",
    "key = int(input())\n",
    "\n",
    "heapmax = []\n",
    "heapmin = []\n",
    "\n",
    "numfo = int(input())\n",
    "print(numfo)\n",
    "\n",
    "midnum= numfo\n",
    "\n",
    "\n",
    "def printinfo():\n",
    "    if heapmax[0][1] >heapmin[0] :\n",
    "        return heapmin[0]\n",
    "    else :\n",
    "        return heapmax[0][1]\n",
    "\n",
    "\n",
    "\n",
    "for i in range(2, key+1) :\n",
    "    num = int(input())\n",
    "    if i==2 :\n",
    "        if numfo > num :\n",
    "            heapq.heappush(heapmax,(-1*num,num))\n",
    "            heapq.heappush(heapmin,numfo)\n",
    "            print(num)\n",
    "            continue\n",
    "        else :\n",
    "            heapq.heappush(heapmax,(-1*numfo,numfo))\n",
    "            heapq.heappush(heapmin,num)\n",
    "            print(numfo)\n",
    "            continue\n",
    "            \n",
    "    \n",
    "    if midnum < num :\n",
    "        heapq.heappush(heapmin, num)\n",
    "        if i%2==1 :\n",
    "            k =heapq.heappop(heapmin)\n",
    "            heapq.heappush(heapmax,(-1*k,k))\n",
    "    else :\n",
    "        heapq.heappush(heapmax, (-1*num,num))\n",
    "        if i%2==0 :\n",
    "            k = heapq.heappop(heapmax)[1]\n",
    "            heapq.heappush(heapmin,k)\n",
    "    midnum = printinfo()\n",
    "    print(midnum)      \n"
   ]
  }
 ],
 "metadata": {
  "kernelspec": {
   "display_name": "Python 3",
   "language": "python",
   "name": "python3"
  },
  "language_info": {
   "codemirror_mode": {
    "name": "ipython",
    "version": 3
   },
   "file_extension": ".py",
   "mimetype": "text/x-python",
   "name": "python",
   "nbconvert_exporter": "python",
   "pygments_lexer": "ipython3",
   "version": "3.7.3"
  }
 },
 "nbformat": 4,
 "nbformat_minor": 2
}
