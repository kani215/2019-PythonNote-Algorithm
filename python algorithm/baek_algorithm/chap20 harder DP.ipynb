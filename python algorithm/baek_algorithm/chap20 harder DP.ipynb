{
 "cells": [
  {
   "cell_type": "markdown",
   "metadata": {},
   "source": [
    "# 2293번 동전1\n",
    "문제\n",
    "n가지 종류의 동전이 있다. 각각의 동전이 나타내는 가치는 다르다. 이 동전을 적당히 사용해서, 그 가치의 합이 k원이 되도록 하고 싶다. 그 경우의 수를 구하시오. 각각의 동전은 몇 개라도 사용할 수 있다.\n",
    "\n",
    "사용한 동전의 구성이 같은데, 순서만 다른 것은 같은 경우이다."
   ]
  },
  {
   "cell_type": "markdown",
   "metadata": {},
   "source": [
    "## 풀이\n",
    "\n",
    "여러가지가 있으나 생각나는것은 2가지이다.\n",
    "\n",
    "* 내가 일일히 다 세는 수법 \n",
    " > 1. 큰수 정렬\n",
    " > 큰 수 부터 셈\n",
    " \n",
    " \n",
    "* 홀짝성의 합을 이용하는 수법\n"
   ]
  },
  {
   "cell_type": "code",
   "execution_count": null,
   "metadata": {},
   "outputs": [],
   "source": [
    "k, value = map(int,input().split())\n",
    "li = [0]*k\n",
    "for i in range(k) :\n",
    "    li[i] = int(input())\n",
    "li.sort(reverse= True)\n",
    "cnt = 0\n",
    "\n",
    "while True :\n",
    "    if value == 0 :\n",
    "        print(cnt)\n",
    "        break\n",
    "    \n",
    "    \n"
   ]
  },
  {
   "cell_type": "markdown",
   "metadata": {},
   "source": [
    "DP - 가장 작은 단위 case로 나누어 사고하는 풀이식\n",
    "\n"
   ]
  },
  {
   "cell_type": "code",
   "execution_count": null,
   "metadata": {},
   "outputs": [],
   "source": [
    "import sys\n",
    " \n",
    "n, k = list(map(int, sys.stdin.readline().split()))\n",
    "value = []\n",
    "for i in range(n):\n",
    "    temp = int(sys.stdin.readline())\n",
    "    value.append(temp)\n",
    "\n",
    "dp = [0 for i in range(10001)]\n",
    "dp[0] = 1\n",
    "for i in value:\n",
    "    for j in range(i, k+1):\n",
    "        dp[j] += dp[j-i]\n",
    "\n",
    "print(dp[k])"
   ]
  },
  {
   "cell_type": "markdown",
   "metadata": {},
   "source": [
    "## 11066번\n",
    "여러개인 파일을 합쳐라\n",
    "단 파일의 크기는 10,000을 초과하지 않는다."
   ]
  },
  {
   "cell_type": "code",
   "execution_count": 18,
   "metadata": {},
   "outputs": [
    {
     "name": "stdout",
     "output_type": "stream",
     "text": [
      "1\n",
      "15\n",
      "1 21 3 4 5 35 5 4 3 5 98 21 14 17 32\n",
      "4\n",
      "11\n",
      "19\n",
      "29\n",
      "41\n",
      "59\n",
      "85\n",
      "120\n",
      "162\n",
      "220\n",
      "290\n",
      "390\n",
      "558\n",
      "826\n",
      "826\n"
     ]
    }
   ],
   "source": [
    "# import sys\n",
    "Test_case = int(input())\n",
    "for i in range(Test_case) :\n",
    "    tt = int(input())\n",
    "    li = list(map(int,input().split()))\n",
    "    sumn = 0\n",
    "    if len(li) ==1 :\n",
    "        print(li[0])\n",
    "        continue\n",
    "        \n",
    "    while True :\n",
    "        if len(li) ==1 :\n",
    "            print(sumn)\n",
    "            break\n",
    "        elif not li :\n",
    "            print(sumn)\n",
    "            break\n",
    "        que = []\n",
    "        li.sort(reverse=True)\n",
    "        que.append(li.pop(-1))\n",
    "        que.append(li.pop(-1))\n",
    "        sumn += sum(que)\n",
    "        print(sumn)\n",
    "        li.append(sum(que))"
   ]
  },
  {
   "cell_type": "markdown",
   "metadata": {},
   "source": [
    "## 답을 못내서 본 풀이 - 크루스 최적화\n"
   ]
  },
  {
   "cell_type": "code",
   "execution_count": 19,
   "metadata": {},
   "outputs": [
    {
     "data": {
      "text/plain": [
       "[1, 3, 3, 4, 4, 5, 5, 5, 14, 17, 21, 21, 32, 35, 98]"
      ]
     },
     "execution_count": 19,
     "metadata": {},
     "output_type": "execute_result"
    }
   ],
   "source": [
    "import sys \n",
    "T = int(sys.stdin.readline()) \n",
    "K = [] \n",
    "file = [] \n",
    "for t in range(T): \n",
    "    K.append(int(sys.stdin.readline())) \n",
    "    file.append(list(map(int, sys.stdin.readline().split()))) \n",
    "for t in range(T): \n",
    "    k = K[t] \n",
    "    f = file[t] \n",
    "    sum = [f[0]] \n",
    "    for i in f[1:]: \n",
    "        sum.append(i + sum[-1]) \n",
    "        accumulated = [[0] * k for _ in range(k)] \n",
    "        accumulated[0][1] = sum[1] \n",
    "    for i in range(1, k - 1): \n",
    "        accumulated[i][i + 1] = sum[i + 1] - sum[i - 1] \n",
    "    for gap in range(2, k): \n",
    "        for i in range(k - gap): \n",
    "            accumulated[i][i + gap] = float('inf') \n",
    "            for j in range(i, i + gap): \n",
    "                accumulated[i][i + gap] = min(accumulated[i][i + gap], accumulated[i][j] + accumulated[j + 1][i + gap]) \n",
    "            if i > 0 :\n",
    "                accumulated[i][i + gap] = accumulated[i][i + gap] + sum[i + gap] - sum[i - 1]\n",
    "            else :\n",
    "                accumulated[i][i + gap] = accumulated[0][gap] + sum[gap] \n",
    "    print(accumulated[0][k - 1])\n",
    "\n"
   ]
  },
  {
   "cell_type": "code",
   "execution_count": null,
   "metadata": {},
   "outputs": [],
   "source": []
  },
  {
   "cell_type": "code",
   "execution_count": null,
   "metadata": {},
   "outputs": [],
   "source": []
  },
  {
   "cell_type": "code",
   "execution_count": null,
   "metadata": {},
   "outputs": [],
   "source": []
  }
 ],
 "metadata": {
  "kernelspec": {
   "display_name": "Python 3",
   "language": "python",
   "name": "python3"
  },
  "language_info": {
   "codemirror_mode": {
    "name": "ipython",
    "version": 3
   },
   "file_extension": ".py",
   "mimetype": "text/x-python",
   "name": "python",
   "nbconvert_exporter": "python",
   "pygments_lexer": "ipython3",
   "version": "3.7.3"
  }
 },
 "nbformat": 4,
 "nbformat_minor": 2
}
