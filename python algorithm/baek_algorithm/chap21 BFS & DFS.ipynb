{
 "cells": [
  {
   "cell_type": "markdown",
   "metadata": {},
   "source": [
    "# 21. DFS BFS"
   ]
  },
  {
   "cell_type": "code",
   "execution_count": null,
   "metadata": {},
   "outputs": [],
   "source": [
    "n,m,v = map(int,input().split())\n",
    "\n",
    "def BFS(graph, startnode) :\n",
    "    visit = []\n",
    "    queue = [startnode]\n",
    "    \n",
    "    while queue :\n",
    "        node = queue.pop()\n",
    "        if node not in visit :\n",
    "            visit.append(node)\n",
    "            queue.extend(graph[node])\n",
    "    return visit\n",
    "\n",
    "graph = {0} * m\n",
    "for i in range(m) :\n",
    "    first, sec = map(int, input().split())\n",
    "    graph[i] = first \n",
    "    \n",
    "def dfs(graph, start):\n",
    "    visited = []\n",
    "    stack = [start]\n",
    "\n",
    "    while stack:\n",
    "        n = stack.pop()\n",
    "        if n not in visited:\n",
    "            visited.append(n)\n",
    "            stack += graph[n] - set(visited)\n",
    "    return visited\n",
    "    \n",
    "def dfs_recursive(graph, root, visited=None):\n",
    "  if visited is None:\n",
    "    visited = set()\n",
    " \n",
    "  visited.add(root)\n",
    " \n",
    "  # 주어진 root 과 연결되어 있는 다른 node 들에 대해 방문하지 않은 것들만 재귀 호출합니다.\n",
    "  for node in graph[root] - visited:\n",
    "      dfs_recursive(graph, node, visited)\n",
    " \n",
    "  return visited\n",
    "\n",
    "\n",
    "\n",
    " "
   ]
  },
  {
   "cell_type": "code",
   "execution_count": 10,
   "metadata": {},
   "outputs": [
    {
     "name": "stdout",
     "output_type": "stream",
     "text": [
      "{2, 3}\n"
     ]
    }
   ],
   "source": [
    "# 가장 궁금한건 역시 extend 기법\n",
    "\n",
    "a = [1,2,3,4]\n",
    "\n",
    "a.extend([1,2,3])\n",
    "\n",
    "# graph[n]이 의미하는 건 무엇일까?\n",
    "graph = {1:set([2,3]),\n",
    "         2: set([1,4,6]),\n",
    "         3:set([1,5]),\n",
    "         4:set([7,8])}\n",
    "\n",
    "print(graph[1])"
   ]
  },
  {
   "cell_type": "code",
   "execution_count": null,
   "metadata": {},
   "outputs": [],
   "source": [
    "\n",
    "딕셔너리 내장 함수\n",
    "\n",
    "- 딕셔너리 키 or 값 리스트로 가져오기 : keys(), values()\n",
    "\n",
    "# 딕셔너리 선언\n",
    "dic = {'Name':'James', 'Job':'Student', 'Favorite':'Umjugamu'}\n",
    " \n",
    "# 딕셔너리 키 리스트로 가져오기\n",
    "print dic.keys()\n",
    " \n",
    "# 딕셔너리 값 리스트로 가져오기\n",
    "print dic.values()\n",
    "Colored by Color Scripter\n",
    "cs\n",
    "\n",
    "1\n",
    "2\n",
    "['Job', 'Favorite', 'Name']\n",
    "['Student', 'Umjugamu', 'James']\n",
    "cs\n",
    "\n",
    "\n",
    "출처: https://ledgku.tistory.com/49 [견우와 직녀]"
   ]
  },
  {
   "cell_type": "code",
   "execution_count": null,
   "metadata": {},
   "outputs": [],
   "source": [
    "딕셔너리 키, 값 쌍 튜플로 가져오기 : items()\n",
    "\n",
    "\n",
    "# 딕셔너리 선언\n",
    "dic = {'Name':'James', 'Job':'Student', 'Favorite':'Umjugamu'}\n",
    " \n",
    "# 딕셔너리 키, 값 쌍 튜플로 가져오기\n",
    "print dic.items()\n",
    "Colored by Color Scripter\n",
    "cs\n",
    "\n",
    "1\n",
    "[('Job', 'Student'), ('Favorite', 'Umjugamu'), ('Name', 'James')]\n",
    "cs\n",
    "\n",
    "- 딕셔너리 키로 값 가져오기 : get(key)\n",
    "\n",
    "\n",
    "# 딕셔너리 선언\n",
    "dic = {'Name':'James', 'Job':'Student', 'Favorite':'Umjugamu'}\n",
    " \n",
    "# 딕셔너리 키로 값 가져오기\n",
    "print dic.get('Name')\n",
    "print dic['Name']\n",
    "Colored by Color Scripter\n",
    "cs\n",
    "\n",
    "James\n",
    "James\n",
    "cs\n",
    "\n",
    "- 딕셔너리에 해당 키가 있는지 검사하기 : in\n",
    "\n",
    "# 딕셔너리 선언\n",
    "dic = {'Name':'James', 'Job':'Student', 'Favorite':'Umjugamu'}\n",
    " \n",
    "# 딕셔너리에 해당 키가 있는지 검사하기\n",
    "print 'Job' in dic\n",
    "print 'Age' in dic\n",
    "Colored by Color Scripter\n",
    "cs\n",
    "\n",
    "True\n",
    "False\n",
    "\n",
    "\n",
    "출처: https://ledgku.tistory.com/49 [견우와 직녀]"
   ]
  },
  {
   "cell_type": "markdown",
   "metadata": {},
   "source": [
    "### 나의풀이\n",
    "graph = {0}*n\n",
    "문제가 그래프의 입력이 곤란하다는 상황입니다."
   ]
  },
  {
   "cell_type": "code",
   "execution_count": null,
   "metadata": {},
   "outputs": [],
   "source": [
    "# 음......메트릭스로 풀이는 안될까\n",
    "딕셔너리의 입력은 꽤 어렵네\n",
    "\n",
    "adjacency_matrix = [[0, 0, 0, 0, 0],\n",
    "    \t\t\t\t[0, 0, 1, 1, 1],\n",
    "                    [0, 1, 0, 0, 1],\n",
    "                    [0, 1, 0, 0, 1],\n",
    "                    [0, 1, 1, 1, 0]]\n",
    "\n",
    "0과 1로 표현하는 이중 메트릭스 구현\n",
    "> 이방법이 상당히 괜찮음 딕셔너리 구현시 중복시켜줘야하는 어려움을 어떻게 \n",
    "해결해야할지 모르겠음\n"
   ]
  },
  {
   "cell_type": "code",
   "execution_count": 1,
   "metadata": {},
   "outputs": [
    {
     "name": "stdout",
     "output_type": "stream",
     "text": [
      "4 5 1\n",
      "1 2\n",
      "1 3\n",
      "1 4\n",
      "2 4\n",
      "3 4\n"
     ]
    }
   ],
   "source": [
    "N, M, V = map(int, input().split())\n",
    "matrix = [[0] * (N + 1) for _ in range(N + 1)]\n",
    "for _ in range(M):\n",
    "    link = list(map(int, input().split()))\n",
    "    matrix[link[0]][link[1]] = 1\n",
    "    matrix[link[1]][link[0]] = 1\n"
   ]
  },
  {
   "cell_type": "code",
   "execution_count": 14,
   "metadata": {
    "scrolled": true
   },
   "outputs": [
    {
     "name": "stdout",
     "output_type": "stream",
     "text": [
      "4 5 1\n",
      "1 2\n",
      "1 3\n",
      "1 4\n",
      "2 4\n",
      "3 4\n",
      "1 2 3 4\n",
      "1 2 3 4\n"
     ]
    }
   ],
   "source": [
    "num,way,startnode = map(int,input().split())\n",
    "graph = [[0]*(num+1) for _ in range(num+1)]\n",
    "for i in range(way) :\n",
    "    li = list(map(int,input().split()))\n",
    "    graph[li[0]][li[1]] = 1\n",
    "    graph[li[1]][li[0]] = 1\n",
    "\n",
    "def DFS(graph,startnode) :\n",
    "    visit = []\n",
    "    stack = [startnode]\n",
    "    \n",
    "    while stack :\n",
    "        bit = stack.pop(-1)\n",
    "        visit.append(bit)\n",
    "        for i in range(num+1) :\n",
    "            if graph[bit][i] and i not in visit:\n",
    "                stack.append(i)\n",
    "    return visit\n",
    "            \n",
    "\n",
    "    \n",
    "def BFS(graph,startnode) :\n",
    "    visit = [startnode]\n",
    "    queue = [startnode]\n",
    "    \n",
    "    while queue :\n",
    "        bit = queue.pop(0)\n",
    "        for now in range(len(graph[bit])):\n",
    "            if graph[bit][now] and now not in visit : #이부분이 깔끔하네 0,1이니 true값 처리 and로 뒤랑 묶음\n",
    "                visit.append(now)\n",
    "                queue.append(now)\n",
    "        \n",
    "    return visit\n",
    "    \n",
    "\n",
    "    \n",
    "print(*DFS(graph,startnode))\n",
    "print(*BFS(graph,startnode))\n",
    "    \n",
    "    "
   ]
  },
  {
   "cell_type": "code",
   "execution_count": null,
   "metadata": {},
   "outputs": [],
   "source": [
    "def dfs_recursive(graph, root, visited=None):\n",
    "  if visited is None:\n",
    "    visited = set()\n",
    " \n",
    "  visited.add(root)\n",
    " \n",
    "  # 주어진 root 과 연결되어 있는 다른 node 들에 대해 방문하지 않은 것들만 재귀 호출합니다.\n",
    "  for node in graph[root] - visited:\n",
    "      dfs_recursive(graph, node, visited)\n",
    " \n",
    "  return visited"
   ]
  },
  {
   "cell_type": "markdown",
   "metadata": {},
   "source": [
    "## 2606 바이러스 \n",
    "> 전체 탐색이 거치는 일이니 bfs 기본적인 bfs는 간단하구먼\n"
   ]
  },
  {
   "cell_type": "code",
   "execution_count": 7,
   "metadata": {},
   "outputs": [
    {
     "name": "stdout",
     "output_type": "stream",
     "text": [
      "7\n",
      "6\n",
      "1 2\n",
      "2 3\n",
      "1 5\n",
      "5 2\n",
      "5 6\n",
      "4 7\n",
      "1 2 5 3 6\n"
     ]
    }
   ],
   "source": [
    "nodenum = int(input())\n",
    "startnode =1\n",
    "\n",
    "graph = [[0]*(nodenum+1) for _ in range(nodenum+1)]\n",
    "\n",
    "for i in range(int(input())):\n",
    "    li = list(map(int,input().split()))\n",
    "    graph[li[0]][li[1]] = 1\n",
    "    graph[li[1]][li[0]] = 1\n",
    "    \n",
    "def DFS(startnode) :\n",
    "    visit = [startnode]\n",
    "    queue = [startnode]\n",
    "    while queue :\n",
    "        bit = queue.pop(0)\n",
    "        for i in range(len(graph[bit])) :\n",
    "            \n",
    "            if graph[bit][i] and i not in visit :\n",
    "                visit.append(i)\n",
    "                queue.append(i)\n",
    "    return visit\n",
    "\n",
    "print(len(DFS(1))-1)\n",
    "\n",
    "    "
   ]
  },
  {
   "cell_type": "markdown",
   "metadata": {},
   "source": [
    "# 2667번 단지번호 붙이기"
   ]
  },
  {
   "cell_type": "code",
   "execution_count": null,
   "metadata": {},
   "outputs": [],
   "source": []
  },
  {
   "cell_type": "markdown",
   "metadata": {},
   "source": [
    "# 1021번 유기농 배추"
   ]
  },
  {
   "cell_type": "code",
   "execution_count": null,
   "metadata": {},
   "outputs": [],
   "source": []
  },
  {
   "cell_type": "markdown",
   "metadata": {},
   "source": [
    "# 11403 경로찾기\n",
    "\n",
    "DFS는 유독 너무 문제나 알고리즘이 막막하게 어려워서\n",
    "DFS 기초 문제부터 천천히 접근해보고자 한다.\n"
   ]
  },
  {
   "cell_type": "code",
   "execution_count": 3,
   "metadata": {
    "scrolled": true
   },
   "outputs": [
    {
     "name": "stdout",
     "output_type": "stream",
     "text": [
      "3\n",
      "0 1 0\n",
      "0 0 1\n",
      "1 0 0\n",
      "[[0, 1, 0], [0, 0, 1], [1, 0, 0]]\n",
      "\n",
      "1 1 1 \n",
      "1 1 1 \n",
      "1 1 1 "
     ]
    }
   ],
   "source": [
    "# 1. 입력 이중 메트릭스로 전개\n",
    "# 1-1 .입력 1-2. 문제에 따른 수치 변환을 지시 \n",
    "# 형태는 [[][][]...] 0과 1로 이루어져있습니다.\n",
    "\n",
    "vpn = []\n",
    "T = int(input())\n",
    "graph = [[0] for _ in range(T)]\n",
    "for i in range(T) :\n",
    "    link = list(map(int, input().split()))\n",
    "    graph[i] = link\n",
    "    \n",
    "\n",
    "# 2. 그래프 항을 제시해야한다. \n",
    "\n",
    "# 편도의 도로가 제시된 상황에서 어떻게든 돌아서 지정 지역으로 가야만 합니다.\n",
    "# 이 경우 1개씩 1개씩 일일이 탐색하는 수법만이 떠오르는데...\n",
    "# 1이 적힐경우 그쪽으로 넘기는 기술인데 이게 BFS일까?\n",
    "\n",
    "# 2->2는 안되고 1->1이 되는 걸 보면 왔던 노드를 밟아도 된다.\n",
    "\n",
    "def BFS(startnode,endnode):\n",
    "    visit = []\n",
    "    queue = [startnode]\n",
    "    cnt = 1\n",
    "    while queue :\n",
    "        bit = queue.pop(0)\n",
    "        if bit == endnode and cnt !=1:\n",
    "            return 1\n",
    "            break\n",
    "\n",
    "        for now in range(T):\n",
    "            if graph[bit][now] and now not in visit : #1인 값만 찾아야하므로\n",
    "                queue.append(now)  \n",
    "                visit.append(now)\n",
    "                cnt +=1\n",
    "        \n",
    "    return 0 \n",
    "    \n",
    "def BFS_re(graph):\n",
    "    \"\"\"한줄씩 처리\"\"\"\n",
    "    for j in range(T):\n",
    "        for k in range(T):\n",
    "            if BFS(j,k) == 1:\n",
    "                vpn.append(1)    \n",
    "            else :\n",
    "                vpn.append(0)\n",
    "                \n",
    "                \n",
    "                \n",
    "# 출력의 조건화    \n",
    "BFS_re(graph) \n",
    "print(graph)\n",
    "\n",
    "for i in range(len(vpn)):\n",
    "    if i%T ==0:\n",
    "        print()\n",
    "        \n",
    "    print(vpn[i],end=' ')\n",
    "    \n",
    "    \n",
    "# 3. 작성이후 경로 일부를 저장해두면 헤매이지 않을 것이라 생각되었다.\n",
    "# 2.과정에서 가장 힘들었던건 1->1 잡아내는 행위였다.\n",
    "    \n",
    "    \n",
    "    "
   ]
  },
  {
   "cell_type": "markdown",
   "metadata": {},
   "source": [
    "# 14502 연구소\n",
    "연구소에서 바이러스가 유출되었다. 바이러스의 확산을 막기 위해서 연구소에 벽을 세우려고 한다.\n",
    "\n",
    "연구소는 크기가 N×M인 직사각형으로 나타낼 수 있으며, 직사각형은 1×1 크기의 정사각형으로 나누어져 있다. 연구소는 빈 칸, 벽으로 이루어져 있으며, 벽은 칸 하나를 가득 차지한다. \n",
    "\n",
    "일부 칸은 바이러스가 존재하며, 이 바이러스는 상하좌우로 인접한 빈 칸으로 모두 퍼져나갈 수 있다. 새로 세울 수 있는 벽의 개수는 3개이며, 꼭 3개를 세워야 한다.\n",
    "\n",
    "예를 들어, 아래와 같이 연구소가 생긴 경우를 살펴보자.\n",
    "2 0 0 0 1 1 0\n",
    "0 0 1 0 1 2 0\n",
    "0 1 1 0 1 0 0\n",
    "0 1 0 0 0 0 0\n",
    "0 0 0 0 0 1 1\n",
    "0 1 0 0 0 0 0\n",
    "0 1 0 0 0 0 0\n",
    "이때, 0은 빈 칸, 1은 벽, 2는 바이러스가 있는 곳이다. 아무런 벽을 세우지 않는다면, 바이러스는 모든 빈 칸으로 퍼져나갈 수 있다.\n",
    "\n",
    "2행 1열, 1행 2열, 4행 6열에 벽을 세운다면 지도의 모양은 아래와 같아지게 된다.\n",
    "\n",
    "2 1 0 0 1 1 0\n",
    "1 0 1 0 1 2 0\n",
    "0 1 1 0 1 0 0\n",
    "0 1 0 0 0 1 0\n",
    "0 0 0 0 0 1 1\n",
    "0 1 0 0 0 0 0\n",
    "0 1 0 0 0 0 0\n",
    "바이러스가 퍼진 뒤의 모습은 아래와 같아진다.\n",
    "\n",
    "2 1 0 0 1 1 2\n",
    "1 0 1 0 1 2 2\n",
    "0 1 1 0 1 2 2\n",
    "0 1 0 0 0 1 2\n",
    "0 0 0 0 0 1 1\n",
    "0 1 0 0 0 0 0\n",
    "0 1 0 0 0 0 0\n",
    "벽을 3개 세운 뒤, 바이러스가 퍼질 수 없는 곳을 안전 영역이라고 한다. 위의 지도에서 안전 영역의 크기는 27이다.\n",
    "\n",
    "연구소의 지도가 주어졌을 때 얻을 수 있는 안전 영역 크기의 최댓값을 구하는 프로그램을 작성하시오."
   ]
  },
  {
   "cell_type": "markdown",
   "metadata": {},
   "source": [
    "### 풀이 :\n",
    "이게 왜 BFS 유형의 문제인지 고민을 했다.\n",
    "\n",
    "벽이 기본이 되어야한다."
   ]
  },
  {
   "cell_type": "code",
   "execution_count": null,
   "metadata": {},
   "outputs": [],
   "source": [
    "# 1. 이게 왜 BFS인지 한참을 고민했음\n",
    "\n",
    "1. 0인 곳에 벽 3개를 세운다.\n",
    "2. 바이러스가 퍼진다.\n",
    "3. 0의 수를 센다.\n",
    "4. 최적화된 답을 추려낸다."
   ]
  },
  {
   "cell_type": "code",
   "execution_count": 13,
   "metadata": {},
   "outputs": [],
   "source": [
    "a= map(int,input().split())"
   ]
  },
  {
   "cell_type": "code",
   "execution_count": 6,
   "metadata": {},
   "outputs": [
    {
     "name": "stdout",
     "output_type": "stream",
     "text": [
      "7 7\n",
      "2 0 0 0 1 1 0\n",
      "0 0 1 0 1 2 0\n",
      "0 1 1 0 1 0 0\n",
      "0 1 0 0 0 0 0\n",
      "0 0 0 0 0 1 1\n",
      "0 1 0 0 0 0 0\n",
      "0 1 0 0 0 0 0\n",
      "27\n"
     ]
    }
   ],
   "source": [
    "import sys\n",
    "import copy\n",
    "\n",
    "# 3. 마지막작업인 바이러스 퍼뜨린 후 정답이 되는 sage_area 반환함수입니다.\n",
    "def spreadVirus(_virusList, c_arr):\n",
    "    dx = [-1,1,0,0]\n",
    "    dy = [0,0,-1,1]\n",
    "    spread_virus_count = 0 \n",
    "    \n",
    "    # dx dy를 저렇게 이중리스트로 제시하면  dx[i], dy[i]로 활용이 가능 상하좌우 좌표처럼 이용이 된다는 의미\n",
    "    \n",
    "    global safe_area  \n",
    "    #safe_area 전역변수 설정\n",
    "    while _virusList:\n",
    "        x, y = _virusList.pop()        #이 과정이 BFS입니다. while활용한 문이죠. set의 형태로도 가능하군요\n",
    "        for i in range(4):\n",
    "            nx = x + dx[i]\n",
    "            ny = y + dy[i]\n",
    "            \n",
    "            if 0 <= nx and 0<= ny and  nx< n and ny <m: #0.0 n.m을 넘어서는 안되니까 \n",
    "                if c_arr[nx][ny] ==0:\n",
    "                    c_arr[nx][ny] =2           #감염시켜나간다.\n",
    "                    spread_virus_count +=1\n",
    "                    _virusList.add((nx,ny))\n",
    "                    \n",
    "    # 세운 벽은 3개였으므로 제외\n",
    "    # 안전한 공간의 수를 반환\n",
    "    return safe_area - spread_virus_count-3\n",
    "                    \n",
    "\n",
    "# 2. 2번째 arr 내 벽을 랜덤하게 세운다.\n",
    "def setwall(start,wallcount) :\n",
    "    global maxVal\n",
    "    global n\n",
    "    global m\n",
    "    \n",
    "    # 3에서 0이 될때까지 줄인다. 벽을 다 세운 경우 \n",
    "    if wallcount == 0:\n",
    "        copy_arr = copy.deepcopy(arr)\n",
    "        copy_virusList = copy.deepcopy(virusList)   #바이러스 존재 좌표 set 을 전역변수처럼 쓰려고 복사해옵니다.\n",
    "        # 바이러스 해방\n",
    "        sCount = spreadVirus(copy_virusList, copy_arr)\n",
    "        maxVal = max(sCount,maxVal)\n",
    "        \n",
    "        return #반환 불필요 \n",
    "    \n",
    "    # 0이 아니라면 처음부터 끝까지 전부 루프 돌린다. i는 0에서 50까지라 하면 0,0부터 출발한다. \n",
    "    # 독특한 서술이 있는데 0~60인데 0,0 1,0처럼 변환시킨다는 점 \n",
    "    for i in range(start, n*m):\n",
    "        x = i//m\n",
    "        y = i%m\n",
    "        \n",
    "        if arr[x][y] == 0:\n",
    "            arr[x][y] = 1 # 벽을 세운다\n",
    "            setWall(i+1,wallcount - 1) #여기까지 총 3회 오고 spreadVirus 후 return된다. \n",
    "            arr[x][y] = 0 # 최근에 세운 벽을 초기화\n",
    "\n",
    "if __name__ == \"__main__\":\n",
    "    n, m = map(int,input().split())\n",
    "    posList = []      \n",
    "    virusList = set() # 바이러스 존재 좌표를 입력할 집합입니다.\n",
    "    arr = []     # 입력 값 받음 \n",
    "    maxVal = 0   #정답 반환\n",
    "    safe_area =0   # 안전 지대 갯수 반환\n",
    "    \n",
    "    for i in range(n):\n",
    "        arr.append(list(map(int, input().strip().split()))) # 좌표를 arr로 담고\n",
    "    \n",
    "    # 바이러스의 좌표를 virusList로 보내준다.\n",
    "    for i in range(n):\n",
    "        for j in range(m):\n",
    "            v = arr[i][j]\n",
    "            if v ==2 :\n",
    "                virusList.add((i,j))\n",
    "            elif v ==0:\n",
    "                safe_area +=1\n",
    "                \n",
    "    setwall(0,3)\n",
    "    print(maxVal)\n",
    "                \n",
    "    "
   ]
  },
  {
   "cell_type": "code",
   "execution_count": null,
   "metadata": {},
   "outputs": [],
   "source": [
    "위의 코드 자체가 실행이 안되서\n"
   ]
  },
  {
   "cell_type": "code",
   "execution_count": null,
   "metadata": {},
   "outputs": [],
   "source": [
    "import copy\n",
    "import sys\n",
    " \n",
    "n = m = 0\n",
    "arr = []\n",
    "virusList = []\n",
    "dx = [-1, 1, 0, 0]\n",
    "dy = [0, 0, -1, 1]\n",
    "maxVal = 0\n",
    " \n",
    "## 안전구역 넓이 구하기\n",
    "def getSafeArea(copyed):\n",
    "    safe = 0\n",
    "    for i in range(n):\n",
    "        for j in range(m):\n",
    "            if copyed[i][j] == 0:\n",
    "                safe += 1\n",
    "    return safe\n",
    " \n",
    "## DFS로 바이러스 퍼트리기\n",
    "def spraedVirus(x, y, copyed):\n",
    "    for i in range(4):\n",
    "        nx = x + dx[i]\n",
    "        ny = y + dy[i]\n",
    " \n",
    "        if 0 <= nx and nx < n and 0 <= ny and ny < m:\n",
    "            if copyed[nx][ny] == 0:\n",
    "                copyed[nx][ny] = 2\n",
    "                spraedVirus(nx, ny, copyed)\n",
    " \n",
    "## 조합으로 벽 3개 놓는 모든 경우 구하기\n",
    "def setWall(start, depth):\n",
    "    global maxVal\n",
    " \n",
    "    if depth == 3:\n",
    "        # 복사\n",
    "        copyed = copy.deepcopy(arr) \n",
    " \n",
    "        length = len(virusList)\n",
    "        for i in range(length):\n",
    "            [virusX, virusY] = virusList[i]\n",
    "            spraedVirus(virusX, virusY, copyed)\n",
    " \n",
    "        maxVal = max(maxVal, getSafeArea(copyed))\n",
    "        return\n",
    "    \n",
    "    for i in range(start, n*m):\n",
    "        x = (int) (i / m)\n",
    "        y = (int) (i % m)\n",
    " \n",
    "        if arr[x][y] == 0:\n",
    "            arr[x][y] = 1\n",
    "            setWall(i + 1, depth + 1)\n",
    "            arr[x][y] = 0\n",
    " \n",
    "if __name__ == '__main__':\n",
    "    n, m = map(int, sys.stdin.readline().split())\n",
    "    for i in range(n):\n",
    "        arr.append(list(map(int, sys.stdin.readline().split())))\n",
    "    \n",
    "    for i in range(n):\n",
    "        for j in range(m):\n",
    "            if arr[i][j] == 2:\n",
    "                virusList.append([i, j])\n",
    " \n",
    "    ## 벽세우기\n",
    "    setWall(0, 0)\n",
    "    print(maxVal)"
   ]
  },
  {
   "cell_type": "markdown",
   "metadata": {},
   "source": [
    "# 10026번 적록색약\n",
    "1. BFS 문제다\n",
    "2. 입력 받는다.\n",
    "3. 색약인 사람 정상인인 사람 2개 함수\n",
    "4. 좌표로 전환시켜서 상하좌우 탐색 \n",
    "5. graph본체와 graph_visit를 따로 계산\n",
    "6. graph탐색시 graph_visit를 1로 카운트 해준다.\n",
    "7. graph_visit가 0이 아닐때 탐색을 작동시킨다.\n"
   ]
  },
  {
   "cell_type": "code",
   "execution_count": 3,
   "metadata": {},
   "outputs": [
    {
     "data": {
      "text/plain": [
       "[[0, 0, 0, 0, 0],\n",
       " [0, 0, 0, 0, 0],\n",
       " [0, 0, 0, 0, 0],\n",
       " [0, 0, 0, 0, 0],\n",
       " [0, 0, 0, 0, 0]]"
      ]
     },
     "execution_count": 3,
     "metadata": {},
     "output_type": "execute_result"
    }
   ],
   "source": [
    "graph = [0]*5\n",
    "graph_visit = [graph for i in range(5)]\n",
    "graph_visit\n",
    "\n",
    "\n",
    "# set를 동시 출력시 파이썬의 자동분해에 관하여\n",
    "queue = [(x,y)]\n",
    "x,y =queue.pop()\n"
   ]
  },
  {
   "cell_type": "markdown",
   "metadata": {},
   "source": [
    "### 1. 나의 풀이 적록색약의 구분"
   ]
  },
  {
   "cell_type": "code",
   "execution_count": 26,
   "metadata": {
    "scrolled": true
   },
   "outputs": [
    {
     "name": "stdout",
     "output_type": "stream",
     "text": [
      "5\n",
      "RRRBB\n",
      "GGBBB\n",
      "BBBRR\n",
      "BBRRR\n",
      "RRRRR\n"
     ]
    },
    {
     "ename": "IndexError",
     "evalue": "list index out of range",
     "output_type": "error",
     "traceback": [
      "\u001b[1;31m---------------------------------------------------------------------------\u001b[0m",
      "\u001b[1;31mIndexError\u001b[0m                                Traceback (most recent call last)",
      "\u001b[1;32m<ipython-input-26-cbcac91330f9>\u001b[0m in \u001b[0;36m<module>\u001b[1;34m\u001b[0m\n\u001b[0;32m     49\u001b[0m \u001b[1;33m\u001b[0m\u001b[0m\n\u001b[0;32m     50\u001b[0m \u001b[1;33m\u001b[0m\u001b[0m\n\u001b[1;32m---> 51\u001b[1;33m \u001b[0msolve\u001b[0m\u001b[1;33m(\u001b[0m\u001b[0mT\u001b[0m\u001b[1;33m,\u001b[0m\u001b[0mgraph\u001b[0m\u001b[1;33m)\u001b[0m\u001b[1;33m\u001b[0m\u001b[1;33m\u001b[0m\u001b[0m\n\u001b[0m\u001b[0;32m     52\u001b[0m \u001b[1;33m\u001b[0m\u001b[0m\n\u001b[0;32m     53\u001b[0m \u001b[1;33m\u001b[0m\u001b[0m\n",
      "\u001b[1;32m<ipython-input-26-cbcac91330f9>\u001b[0m in \u001b[0;36msolve\u001b[1;34m(T, graph)\u001b[0m\n\u001b[0;32m     37\u001b[0m         \u001b[1;32mfor\u001b[0m \u001b[0mb\u001b[0m \u001b[1;32min\u001b[0m \u001b[0mrange\u001b[0m\u001b[1;33m(\u001b[0m\u001b[0mT\u001b[0m\u001b[1;33m)\u001b[0m \u001b[1;33m:\u001b[0m\u001b[1;33m\u001b[0m\u001b[1;33m\u001b[0m\u001b[0m\n\u001b[0;32m     38\u001b[0m             \u001b[1;32mif\u001b[0m \u001b[0mgraph_visit\u001b[0m\u001b[1;33m[\u001b[0m\u001b[0ma\u001b[0m\u001b[1;33m]\u001b[0m\u001b[1;33m[\u001b[0m\u001b[0mb\u001b[0m\u001b[1;33m]\u001b[0m \u001b[1;33m==\u001b[0m \u001b[1;36m0\u001b[0m \u001b[1;33m:\u001b[0m\u001b[1;33m\u001b[0m\u001b[1;33m\u001b[0m\u001b[0m\n\u001b[1;32m---> 39\u001b[1;33m                 \u001b[0msak_BFS\u001b[0m\u001b[1;33m(\u001b[0m\u001b[0ma\u001b[0m\u001b[1;33m,\u001b[0m\u001b[0mb\u001b[0m\u001b[1;33m,\u001b[0m\u001b[0mgraph\u001b[0m\u001b[1;33m,\u001b[0m\u001b[0mgraph_visit\u001b[0m\u001b[1;33m)\u001b[0m\u001b[1;33m\u001b[0m\u001b[1;33m\u001b[0m\u001b[0m\n\u001b[0m\u001b[0;32m     40\u001b[0m                 \u001b[0mprint\u001b[0m\u001b[1;33m(\u001b[0m\u001b[0mcount\u001b[0m\u001b[1;33m)\u001b[0m\u001b[1;33m\u001b[0m\u001b[1;33m\u001b[0m\u001b[0m\n\u001b[0;32m     41\u001b[0m                 \u001b[0mcount\u001b[0m \u001b[1;33m+=\u001b[0m\u001b[1;36m1\u001b[0m\u001b[1;33m\u001b[0m\u001b[1;33m\u001b[0m\u001b[0m\n",
      "\u001b[1;32m<ipython-input-26-cbcac91330f9>\u001b[0m in \u001b[0;36msak_BFS\u001b[1;34m(x, y, graph, visited)\u001b[0m\n\u001b[0;32m     20\u001b[0m         \u001b[0mcurrent_color\u001b[0m \u001b[1;33m=\u001b[0m \u001b[0mgraph\u001b[0m\u001b[1;33m[\u001b[0m\u001b[0mx\u001b[0m\u001b[1;33m]\u001b[0m\u001b[1;33m[\u001b[0m\u001b[0my\u001b[0m\u001b[1;33m]\u001b[0m\u001b[1;33m\u001b[0m\u001b[1;33m\u001b[0m\u001b[0m\n\u001b[0;32m     21\u001b[0m         \u001b[1;32mfor\u001b[0m \u001b[0mi\u001b[0m \u001b[1;32min\u001b[0m \u001b[0mrange\u001b[0m\u001b[1;33m(\u001b[0m\u001b[0mT\u001b[0m\u001b[1;33m)\u001b[0m\u001b[1;33m:\u001b[0m\u001b[1;33m\u001b[0m\u001b[1;33m\u001b[0m\u001b[0m\n\u001b[1;32m---> 22\u001b[1;33m             \u001b[0mnx\u001b[0m \u001b[1;33m=\u001b[0m \u001b[0mx\u001b[0m \u001b[1;33m+\u001b[0m \u001b[0mdx\u001b[0m\u001b[1;33m[\u001b[0m\u001b[0mi\u001b[0m\u001b[1;33m]\u001b[0m\u001b[1;33m\u001b[0m\u001b[1;33m\u001b[0m\u001b[0m\n\u001b[0m\u001b[0;32m     23\u001b[0m             \u001b[0mny\u001b[0m \u001b[1;33m=\u001b[0m \u001b[0my\u001b[0m \u001b[1;33m+\u001b[0m \u001b[0mdy\u001b[0m\u001b[1;33m[\u001b[0m\u001b[0mi\u001b[0m\u001b[1;33m]\u001b[0m\u001b[1;33m\u001b[0m\u001b[1;33m\u001b[0m\u001b[0m\n\u001b[0;32m     24\u001b[0m             \u001b[1;32mif\u001b[0m \u001b[1;36m0\u001b[0m \u001b[1;33m<=\u001b[0m \u001b[0mnx\u001b[0m \u001b[1;32mand\u001b[0m \u001b[0mnx\u001b[0m \u001b[1;33m<\u001b[0m \u001b[0mT\u001b[0m \u001b[1;32mand\u001b[0m \u001b[1;36m0\u001b[0m \u001b[1;33m<=\u001b[0m \u001b[0mny\u001b[0m \u001b[1;32mand\u001b[0m \u001b[0mny\u001b[0m \u001b[1;33m<\u001b[0m \u001b[0mT\u001b[0m \u001b[1;32mand\u001b[0m \u001b[1;32mnot\u001b[0m \u001b[0mvisited\u001b[0m\u001b[1;33m[\u001b[0m\u001b[0mnx\u001b[0m\u001b[1;33m]\u001b[0m\u001b[1;33m[\u001b[0m\u001b[0mny\u001b[0m\u001b[1;33m]\u001b[0m\u001b[1;33m:\u001b[0m\u001b[1;33m\u001b[0m\u001b[1;33m\u001b[0m\u001b[0m\n",
      "\u001b[1;31mIndexError\u001b[0m: list index out of range"
     ]
    }
   ],
   "source": [
    "import copy\n",
    "# -------- \n",
    "# 1. 입력 이중 메트릭스로 전개\n",
    "# 1-1 .입력 1-2. 문제에 따른 수치 변환을 지시 \n",
    "\n",
    "\n",
    "T = int(input())\n",
    "graph = [0]*T\n",
    "for i in range(T) :\n",
    "    graph[i] = list(input())\n",
    "\n",
    "\n",
    "    \n",
    "def sak_BFS(x,y,graph,visited):\n",
    "    queue = [(x,y)]\n",
    "    dx = [-1,1,0,0]\n",
    "    dy = [0,0,-1,1]\n",
    "    while queue:\n",
    "        x,y = queue.pop()\n",
    "        current_color = graph[x][y]\n",
    "        for i in range(T):\n",
    "            nx = x + dx[i]\n",
    "            ny = y + dy[i]\n",
    "            if 0 <= nx and nx < T and 0 <= ny and ny < T and not visited[nx][ny]:\n",
    "                if current_color == graph[nx][ny]  :\n",
    "                    visited[nx][ny] = 1\n",
    "                    queue.append((nx,ny))\n",
    "                    continue\n",
    "    \n",
    "    \n",
    "\n",
    "    \n",
    "def solve(T,graph) :\n",
    "    count = 0\n",
    "    graph_visit = [[0]*T for _ in range(T)]\n",
    "    for a in range(T) :\n",
    "        for b in range(T) :\n",
    "            if graph_visit[a][b] == 0 :\n",
    "                sak_BFS(a,b,graph,graph_visit)\n",
    "                print(count)\n",
    "                count +=1\n",
    "                    \n",
    "    print(count)\n",
    "            \n",
    "    \n",
    "    \n",
    "    \n",
    "    \n",
    "    \n",
    "    \n",
    "solve(T,graph)\n",
    "    \n",
    "    \n",
    " "
   ]
  },
  {
   "cell_type": "markdown",
   "metadata": {},
   "source": [
    "#### 적록색약을 풀며 헷갈린 전역변수 전역변수만 제대로 작동시키면 위의 풀이는 가능할 것이 틀림없다."
   ]
  },
  {
   "cell_type": "code",
   "execution_count": 13,
   "metadata": {},
   "outputs": [
    {
     "name": "stdout",
     "output_type": "stream",
     "text": [
      "[0, 1]\n",
      "None\n",
      "None\n"
     ]
    }
   ],
   "source": [
    "## 함수의 호출에 관해 헷갈려 하기에 적어보자\n",
    "\n",
    "# 1. 안됨\n",
    "graph = [0]\n",
    "j = 1\n",
    "def i2(j):\n",
    "    graph.append(j)\n",
    "    return graph\n",
    "\n",
    "print(i2(j))\n",
    "# ----------------------\n",
    "graph = [0]\n",
    "j = 1\n",
    "def i2(j):\n",
    "    global graph\n",
    "    graph.append(j)\n",
    "    \n",
    "print(i2(j))\n",
    "#-----------------------\n",
    "graph = [0]\n",
    "j = 1\n",
    "def i2(j):\n",
    "    graph.append(j)\n",
    "graph = copy.deepcopy(graph)\n",
    "\n",
    "print(i2(j))"
   ]
  },
  {
   "cell_type": "markdown",
   "metadata": {},
   "source": [
    "## 2. 적록색약 수정한 풀이"
   ]
  },
  {
   "cell_type": "code",
   "execution_count": 22,
   "metadata": {},
   "outputs": [
    {
     "name": "stdout",
     "output_type": "stream",
     "text": [
      "5\n",
      "RRRBB\n",
      "GGBBB\n",
      "BBBRR\n",
      "BBRRR\n",
      "RRRRR\n",
      "4 3\n"
     ]
    }
   ],
   "source": [
    "import sys\n",
    "\n",
    "def dfs(type,pos,graph,visited) :\n",
    "    dr = [-1,0,1,0] \n",
    "    dc = [0,1,0,-1]\n",
    "    position_list = []\n",
    "    position_list.append(pos)\n",
    "    visited[pos[0]][pos[1]]=1\n",
    "    while position_list :\n",
    "        r,c = position_list.pop()\n",
    "        current_color = graph[r][c]\n",
    "        \n",
    "        for i in range(4):\n",
    "            nr = r+dr[i]\n",
    "            nc = c+dc[i]\n",
    "            if 0 <=nr and 0 <=nc and nr <n and nc <n and not visited[nr][nc]:\n",
    "                next_color = graph[nr][nc]\n",
    "                if current_color == next_color :\n",
    "                    visited[nr][nc] =1\n",
    "                    position_list.append((nr,nc))\n",
    "                    continue\n",
    "                    \n",
    "                if type ==1 and (current_color == 'R' or current_color == \"G\" ) \\\n",
    "                            and (next_color == \"R\" or next_color == \"G\"):\n",
    "                    visited[nr][nc] = 1\n",
    "                    position_list.append((nr,nc))\n",
    "    \n",
    "    \n",
    "    \n",
    "    \n",
    "# 2. 풀이하기 위해서 문제 틀 함수, 실제 풀이 함수를 다르게 해두었다.\n",
    "# (BFS로 그래프 탐색을 진행하여 동일 영역을 색칠) 해야하는 수 를 세야하기에 2개의 함수이다.\n",
    "# 실제 풀이 함수에서는 색칠만 진행한다.\n",
    "    \n",
    "def solve(n, graph):\n",
    "    visited_nor = [[0]*n for _ in range(n)]\n",
    "    visited_sak = [[0]*n for _ in range(n)]\n",
    "    count_nor = 0\n",
    "    count_sak = 0\n",
    "    # 동시에 답구하기 위해 정상 색맹 동시 진행\n",
    "    for r in range(n):\n",
    "        for c in range(n):\n",
    "            # 복사 루트를 만들어 계산할 생각 \n",
    "            if not visited_sak[r][c] :    \n",
    "                dfs(1,(r,c),graph,visited_sak)\n",
    "                count_sak +=1\n",
    "                \n",
    "            if not visited_nor[r][c]:\n",
    "                dfs(0,(r,c),graph,visited_nor)\n",
    "                count_nor +=1\n",
    "                \n",
    "    print(\"{0} {1}\".format(count_nor,count_sak))\n",
    "    \n",
    "# 1. 입력값 정리 이중 리스트로 전달\n",
    "\n",
    "n = int(input().strip())\n",
    "graph = [0]*n\n",
    "for i in range(n):\n",
    "    graph[i] = list(input().strip())\n",
    "solve(n,graph)\n",
    "    \n",
    "    \n",
    "    \n",
    "    \n",
    "    \n",
    "    \n",
    "    \n",
    "    \n",
    "    \n",
    "    \n",
    "    \n",
    "    \n",
    "    \n",
    "    \n",
    "    "
   ]
  },
  {
   "cell_type": "markdown",
   "metadata": {},
   "source": [
    "# 9372번 상근이의 여행"
   ]
  },
  {
   "cell_type": "markdown",
   "metadata": {},
   "source": [
    "### 간선이 있는 그래프의 탐색\n",
    "\n",
    "> 1. 위의 문제들과 다른것은 간선이 있고 없는 노드들이 다르다는 점이다.\n",
    "> 2. set형태로 일단 모아야겠다고 느꼈다.\n",
    "> 3. 위의 문제들 처럼 노드형태면 탐색이 쉽지 않을까 해서\n",
    "> 4. visited된걸 탐색 안했던 수법처럼 2에서 간선만 따로 모아둔 list값만 탐색 시키는 걸로 \n",
    "> 5. 허나 중복이 자유인 상황, visited처럼 생략은 불가능\n",
    "> 5. 좋아 전역변수 주의하며 풀이해 나가자\n",
    "\n"
   ]
  },
  {
   "cell_type": "code",
   "execution_count": null,
   "metadata": {},
   "outputs": [],
   "source": [
    "import sys\n",
    "# 2. bfs ------------------------------------------\n",
    "\n",
    "def road_BFS(startpoint,waylist):\n",
    "    visited = [[0]*(n+1) for _ in range(n+1)]\n",
    "    queue = [startpoint]\n",
    "    cnt = 0\n",
    "    answervisit = []\n",
    "    \n",
    "    while queue :\n",
    "        bit = queue.pop()\n",
    "        #종료 조건이 들어가야하는데 모두 탐색 상태를 어떻게 표기할까?\n",
    "        if \n",
    "            return cnt\n",
    "        \n",
    "        for current_node in range(country_num+1):\n",
    "            if not visited[bit][current_node] and waylist[bit][current_node] :\n",
    "                queue.append(current_node)\n",
    "                visited[bit][current_node] = 1\n",
    "                cnt+=1\n",
    "                \n",
    "\n",
    "                \n",
    "# 1. 입력값 ----------------------------------------\n",
    "for i in range(int(input())):\n",
    "    country_num, way_num = map(int, input().split())\n",
    "    waylist = [[0]*(way_num+1) for _ in range(country_num+1)]\n",
    "    for j in range(1,way_num+1) :\n",
    "        start, end = map(int,input().split())\n",
    "        waylist[start][end] =1\n",
    "        waylist[end][start] =1\n",
    "        \n",
    "    cntv = road_BFS(1,country_num,waylist)\n",
    "    maxval = 2*country_num\n",
    "    mincnt = min(cntv,maxval)\n",
    "        \n",
    "    #waylist = [(1,2),(1,3)] x -> [[0101010101]] 형태\n"
   ]
  },
  {
   "cell_type": "markdown",
   "metadata": {},
   "source": [
    "# 2583 영역 구하기\n"
   ]
  },
  {
   "cell_type": "markdown",
   "metadata": {},
   "source": [
    "### 풀이 :\n",
    "1. 면이 아닌 면의 중심인 점으로 바라보았다.\n",
    "2. 전체 [[]] 이중메트릭스를 1과 0으로 채우고 0이 빈공간이라고 가정시 \n",
    "3. 0으로 시작, 전체탐색, 1이 나오면 탐색 취소, 해당 행위 카운트\n"
   ]
  },
  {
   "cell_type": "code",
   "execution_count": 25,
   "metadata": {
    "scrolled": true
   },
   "outputs": [
    {
     "name": "stdout",
     "output_type": "stream",
     "text": [
      "5 7 3\n",
      "0 2 4 4\n",
      "1 1 2 5\n",
      "4 0 6 2\n",
      "3\n",
      "1 7 13\n"
     ]
    }
   ],
   "source": [
    "import sys\n",
    "\n",
    "\n",
    "# 2. BFS 그래프----------------------------------------------\n",
    "def BFS(start) :\n",
    "    global graph\n",
    "    global squ_size_list\n",
    "    queue = [start]\n",
    "    squ_size = 1\n",
    "    while queue :\n",
    "        insy, insx = queue.pop()\n",
    "        for i in range(4) :\n",
    "            nx = insx + dx[i]\n",
    "            ny = insy + dy[i]\n",
    "            if nx >=0 and ny >=0 and nx <x and ny <y :\n",
    "                if not graph[ny][nx] :\n",
    "                    squ_size+=1\n",
    "                    graph[ny][nx] = 1\n",
    "                    queue.append((ny,nx))\n",
    "                \n",
    "    squ_size_list.append(squ_size)\n",
    "    \n",
    "    \n",
    "# 1. 입력 [네모 중심좌표로 이중메트릭스 구성]---------------------------------------------------- \n",
    "x, y, squ_mem = map(int, input().split()) \n",
    "dx = [-1,1,0,0]\n",
    "dy = [0,0,-1,1]\n",
    "graph = [[0]*x for _ in range(y)]\n",
    "\n",
    "for i in range(squ_mem) :\n",
    "    xylist= list(map(int, input().split()))\n",
    "    x1 = xylist[0]\n",
    "    y1 = xylist[1]\n",
    "    x2 = xylist[2] -1\n",
    "    y2 = xylist[3] -1\n",
    "    for j in range(x1,x2+1):\n",
    "        for k in range(y1,y2+1):\n",
    "            graph[j][k] = 1\n",
    "#graph 입력끝\n",
    "\n",
    "# 3. 출력----------------------------------------------------\n",
    "squ_size_list = []\n",
    "squ_num_cnt = 0\n",
    "for a in range(x) :\n",
    "    for b in range(y) :\n",
    "        if graph[b][a] == 0:\n",
    "            #0인 값을 가지는 입력 좌표는 바로 카운트 \n",
    "            graph[b][a]=1\n",
    "            BFS((b,a))\n",
    "            squ_num_cnt+=1            \n",
    "            \n",
    "            \n",
    "print(squ_num_cnt)\n",
    "squ_size_list.sort()\n",
    "print(*squ_size_list)\n"
   ]
  },
  {
   "cell_type": "markdown",
   "metadata": {},
   "source": [
    "다 풀어놓고 x,y값이 뒤집어졌다는 사실과, 전역변수 지역변수의 혼동으로 굉장히 쓸데없는 시간 소모를 많이한 문제입니다.\n",
    "xy값 뒤집어진건 이중메트릭스 응용력이 떨어진다는것\n",
    "\n",
    "다시한번 "
   ]
  },
  {
   "cell_type": "markdown",
   "metadata": {},
   "source": [
    "# 1389번 케인 베이컨의 6단계 법칙"
   ]
  },
  {
   "cell_type": "markdown",
   "metadata": {},
   "source": [
    "## 1.그냥 많이 선이 연결되면 되는거 아니냐는 상상에 틀렸습니다."
   ]
  },
  {
   "cell_type": "code",
   "execution_count": 35,
   "metadata": {},
   "outputs": [
    {
     "name": "stdout",
     "output_type": "stream",
     "text": [
      "5 5\n",
      "1 3\n",
      "1 4\n",
      "4 5\n",
      "4 3\n",
      "3 2\n",
      "3\n"
     ]
    }
   ],
   "source": [
    "#### 1. 입력 [네모 중심좌표로 이중메트릭스 구성]---------------------------------------------------- \n",
    "x, y = map(int, input().split()) \n",
    "\n",
    "\n",
    "graph = [[0]*(x+1) for _ in range(x+1)]\n",
    "\n",
    "for i in range(y) :\n",
    "    one,two = map(int,input().split())\n",
    "    graph[one][two] = 1\n",
    "    graph[two][one] = 1\n",
    "        \n",
    "#graph 입력끝\n",
    "\n",
    "# 2. 케인 베이컨 수 계산\n",
    "\n",
    "kevin_num = [0]* (x+1)\n",
    "min_num = 0\n",
    "c = 0\n",
    "for i in range(x+1):\n",
    "    for k in range(x+1):\n",
    "        if graph[i][k] == 1:\n",
    "            kevin_num[i]+=1\n",
    "            \n",
    "            \n",
    "for z in range(1,x+1) :\n",
    "    if min_num <kevin_num[z]:\n",
    "        min_num = kevin_num[z]\n",
    "        c = z\n",
    "        \n",
    "        \n",
    "print(c)\n",
    "\n"
   ]
  },
  {
   "cell_type": "markdown",
   "metadata": {},
   "source": [
    "## 2. 플로이드 워셜 알고리즘\n",
    "\n",
    "요약하자면 i를 출발해 j로 바로 가는 것보다\n",
    "\n",
    "i를 출발해 k를 거쳐 j로 가는 게 효율적일 경우(저렴할 경우) 해당 값을 갱신해주는 것이다.\n",
    "\n",
    "경로 k라 해서 하나의 정점 k만 거치는 것이 아니다. 여러 정점을 거치는 모든 경우의 수가 포함되어 있다.\n",
    "\n",
    " \n",
    "\n",
    "주가 되는 코드는 다음과 같이 표현할 수 있다.\n",
    "**/\n",
    "bus_cost[i][j] = min(bus_cost[i][j], bus_cost[i][k] + bus_cost[k][j])"
   ]
  },
  {
   "cell_type": "code",
   "execution_count": 37,
   "metadata": {},
   "outputs": [
    {
     "name": "stdout",
     "output_type": "stream",
     "text": [
      "5 5\n",
      "[[5, 5, 5, 5, 5], [5, 5, 5, 5, 5], [5, 5, 5, 5, 5], [5, 5, 5, 5, 5], [5, 5, 5, 5, 5]]\n"
     ]
    }
   ],
   "source": [
    "#1. 입력 --------------------------------------------\n",
    "import sys\n",
    "n , m = map(int,input().split())\n",
    "\n",
    "friend_map = [[n for _ in range(n)] for _ in range(n)]\n",
    "\n",
    "\n",
    "for _ in range(m):\n",
    "    friend_A, friend_B = map(int,input().split())\n",
    "    friend_map[friend_A-1][friend_B-1] = 1 \n",
    "    friend_map[freind_B-1][friend_A-1] = 1\n",
    "    \n",
    "# 2. 플로이드 - 워셜 알고리즘\n",
    "for k in range(n) : #경로 for 문이 가장 상위 단뎨여야 누락되지 않는다\n",
    "    for i in range(n) :\n",
    "        for j in range(n):\n",
    "            if i ==j :\n",
    "                friend_map[i][j] = 0 #자기 자신과는 친구 되지 않음\n",
    "                \n",
    "            else :\n",
    "                friend_map[i][j] = min(friend_map[i][j], friend_map[i][k] + friend_map[k][j])\n",
    "                \n",
    "                \n",
    "# 3. print\n",
    "\n",
    "bacon = []\n",
    "for row in friend_map:\n",
    "    bacon.append(sum(row))\n",
    "print(bacon.index(min(bacon))+1)\n",
    "\n",
    "\n",
    "\n",
    "                \n",
    "                \n",
    "                \n",
    "                \n",
    "\n"
   ]
  },
  {
   "cell_type": "markdown",
   "metadata": {},
   "source": [
    "# 플로이드 와샬(워셜) 알고리즘\n",
    "\n",
    "- 그래프에서 모든 꼭지점 사이의 최단 경로의 거리를 구할 때 사용\n",
    "- 3중 for문이기에 시간복잡도는    n^3\n",
    "- 제일 바깥쪽 반복문이 거쳐가는 꼭지점, 두번째가 출발하는 꼭짓점, 세번째가 도착하는 꼭짓점\n",
    "\n",
    "\n",
    "> 쉽게 말해 a,b,c,d가 있다면 a->b로 가는 최단 거리 비교하고 넣어주는 것\n",
    "a->b ,a->c>b 크기 비교\n",
    "\n",
    "for (int k = 0; k<N; ++k) {\n",
    "    for (int i = 0; i<N; ++i) {\n",
    "        for (int j =0; j<n; ++j) {\n",
    "            if (d[i][j] >d[i][k]+d[k][j] {\n",
    "                d[i][j] = d[i][k] +d[k][j];\n",
    "            }\n",
    "     }\n",
    "}\n"
   ]
  },
  {
   "cell_type": "markdown",
   "metadata": {},
   "source": [
    "# 6603번 로또의 수 선정\n",
    "\n",
    "1~49까지 번호중 k개를 선정한다.\n",
    "선정한 k개중 6개가 선정될 경우의 수를 출력"
   ]
  },
  {
   "cell_type": "markdown",
   "metadata": {},
   "source": [
    "> 2. 내부 설계 자신보다 큰수를 탐색하도록 BFS , 메트릭스 기준 1-2, 2-3 같이  \n",
    ">              이미 뽑힌 수는 visited 처리해서 재탐색 불가"
   ]
  },
  {
   "cell_type": "code",
   "execution_count": 2,
   "metadata": {},
   "outputs": [
    {
     "name": "stdout",
     "output_type": "stream",
     "text": [
      "7 1 2 3 4 5 6 7\n",
      "[[0, 0, 0, 0, 0, 0, 0, 0], [0, 1, 1, 1, 1, 1, 1, 1], [0, 0, 1, 1, 1, 1, 1, 1], [0, 0, 0, 1, 1, 1, 1, 1], [0, 0, 0, 0, 1, 1, 1, 1], [0, 0, 0, 0, 0, 1, 1, 1], [0, 0, 0, 0, 0, 0, 1, 1], [0, 0, 0, 0, 0, 0, 0, 1]]\n",
      "[1, 2, 3, 4, 5, 6, 7]\n",
      "[2, 3, 4, 5, 6, 7]\n",
      "[3, 4, 5, 6, 7]\n",
      "[4, 5, 6, 7]\n",
      "[5, 6, 7]\n",
      "[6, 7]\n",
      "[7]\n",
      "0\n"
     ]
    }
   ],
   "source": [
    "import sys\n",
    "\n",
    "def DFS(start) :\n",
    "    global graph\n",
    "    visited = []\n",
    "    stack = [start]\n",
    "    while queue :\n",
    "        bit = queue.pop(-1)\n",
    "        for current_node in range(bit,len(graph[0])) :\n",
    "            \n",
    "            \n",
    "            \n",
    "            \n",
    "# --- 1. 무한반복 조건 만족, 입력 완료 graph 1010 형태\n",
    "while True :\n",
    "    inputlist = list(map(int,input().split()))\n",
    "    get = inputlist[0]\n",
    "    if get == 0 :\n",
    "        break\n",
    "        \n",
    "    graph = [[0]*(get+1) for _ in range(get+1)]\n",
    "    for i in range(1,get+1) :\n",
    "        for j in range(1,get+1) :\n",
    "            if i in inputlist and j in inputlist :\n",
    "                if i<=j :\n",
    "                    graph[i][j] = 1\n",
    "    # 1. 입력 완료\n",
    "    print(graph)\n",
    "    for j in range(1,get-5):\n",
    "        print(DFS(inputlist[j]))\n",
    "        \n",
    "                \n"
   ]
  },
  {
   "cell_type": "markdown",
   "metadata": {},
   "source": [
    "## 내 graph식 풀이를 전개하려면 DFS로 구현해야한다. 이는 BFS문제의 풀이로는 어려웠다. queue가 많이 필요해서 속도 증가 효과가 없었다.\n",
    "\n",
    "그래서 순열 풀이를 참고해보았다.\n",
    "\n",
    "1. queue로 자신보다 큰 값을 탐색해 각각 출력방법\n",
    "\n",
    "2. 순열로 조합을 찾은후 정렬 출력 \n"
   ]
  },
  {
   "cell_type": "code",
   "execution_count": 5,
   "metadata": {},
   "outputs": [
    {
     "name": "stdout",
     "output_type": "stream",
     "text": [
      "[('a', 'a'), ('a', 'b'), ('a', 'c'), ('a', 'a'), ('a', 'b'), ('a', 'c'), ('b', 'a'), ('b', 'a'), ('b', 'c'), ('c', 'a'), ('c', 'a'), ('c', 'b')]\n",
      "[('a', 'a'), ('a', 'b'), ('a', 'c'), ('a', 'b'), ('a', 'c'), ('b', 'c')]\n"
     ]
    }
   ],
   "source": [
    "import itertools\n",
    "arr =['a','a','b','c']\n",
    "print(list(itertools.permutations(arr,2)))\n",
    "print(list(itertools.combinations(arr,2)))\n",
    "    \n",
    "    # output\n",
    "    # 순열 (permutation)\n"
   ]
  },
  {
   "cell_type": "code",
   "execution_count": 1,
   "metadata": {
    "scrolled": true
   },
   "outputs": [
    {
     "name": "stdout",
     "output_type": "stream",
     "text": [
      "7 1 2 3 4 5 6 7\n",
      "1 2 3 4 5 6\n",
      "1 2 3 4 5 7\n",
      "1 2 3 4 6 7\n",
      "1 2 3 5 6 7\n",
      "1 2 4 5 6 7\n",
      "1 3 4 5 6 7\n",
      "2 3 4 5 6 7\n",
      "\n",
      "0\n"
     ]
    }
   ],
   "source": [
    "import sys\n",
    "from itertools import combinations\n",
    "flag =True\n",
    "\n",
    "while flag :\n",
    "    line = list(map(int,input().split()))\n",
    "    n = int(line[0])\n",
    "    if n ==0:\n",
    "        flag = False\n",
    "        break\n",
    "        \n",
    "    for case in combinations(line[1:],6):\n",
    "        print(\" \".join(map(str, case)))\n",
    "    print(\"\")"
   ]
  },
  {
   "cell_type": "markdown",
   "metadata": {},
   "source": [
    "## 2178 미로 - DFS로 풀이해야 되더군요 (수정) 해결\n",
    "\n",
    "풀이 : 상하좌우 BFS 탐색으로 풀이\n",
    "\n",
    "> 1. anslist는 카운트 한 결과를 담는 list\n",
    "> 2. 탐색은 1일때 탐색 0일때는 스톱\n",
    "> 3. 시작점으로 함수 호출\n",
    "> 4. graph는 수를 탐는다. [[]] 이중 list형식"
   ]
  },
  {
   "cell_type": "code",
   "execution_count": 47,
   "metadata": {
    "scrolled": true
   },
   "outputs": [
    {
     "name": "stdout",
     "output_type": "stream",
     "text": [
      "7 7\n",
      "1011111\n",
      "1110001\n",
      "1000001\n",
      "1000001\n",
      "1000001\n",
      "1000001\n",
      "1111111\n",
      "13\n"
     ]
    }
   ],
   "source": [
    "from collections import deque\n",
    "\n",
    "# 2. 함수 전개.-----------\n",
    "def BFS(start) :\n",
    "    global graph\n",
    "    s = [start]\n",
    "    deque2 = deque(s)\n",
    "    graph[1][1] = 0\n",
    "    visit = [[0]*(m+1) for _ in range(n+1)]\n",
    "    visit[1][1] = 1\n",
    "    ans = []\n",
    "    while deque2 :\n",
    "        x,y = deque2.popleft()       \n",
    "        for i in range(4) :\n",
    "            nx = x+dx[i]\n",
    "            ny = y+dy[i]\n",
    "            if nx>=0 and ny>=0 and nx <= n and ny<= m :\n",
    "                if graph[nx][ny] and visit[nx][ny]==0 :\n",
    "                    graph[nx][ny] = 0\n",
    "                    visit[nx][ny] = visit[x][y]+1\n",
    "                    deque2.append((nx,ny))\n",
    "                if nx == n and ny ==m :\n",
    "                    ans.append(visit[nx][ny])\n",
    "                    if len(deque2) >1:\n",
    "                        deque2.pop()\n",
    "                        graph[nx][ny] =1\n",
    "                        visit[nx][ny]=0\n",
    "    ans.sort()\n",
    "    return ans[0]\n",
    "                \n",
    "# 1. 입력    --------------\n",
    "n,m = map(int,input().split())\n",
    "graph = [[0]*(m+1)]\n",
    "dx = [1,-1,0,0]\n",
    "dy = [0,0,-1,1]\n",
    "\n",
    "for _ in range(n) :\n",
    "    t = [0] + list(input())\n",
    "    for i in range(m+1) :\n",
    "        t[i] = int(t[i])\n",
    "    graph.append(t)\n",
    "print(BFS((1,1)))\n",
    " \n",
    "    \n",
    "    \n",
    "    \n",
    "    \n",
    "    "
   ]
  },
  {
   "cell_type": "markdown",
   "metadata": {},
   "source": [
    "## 2667 단지번호 붙이기\n",
    "> 1. for로 전체 탐색, 1칸씩 a칸을 탐색 \n",
    "> 2. BFS 함수를 a칸부터 1인 것을 탐색"
   ]
  },
  {
   "cell_type": "code",
   "execution_count": 4,
   "metadata": {},
   "outputs": [
    {
     "name": "stdout",
     "output_type": "stream",
     "text": [
      "5\n",
      "10101\n",
      "01010\n",
      "01010\n",
      "10111\n",
      "00111\n",
      "1\n",
      "1\n",
      "1\n",
      "1\n",
      "2\n",
      "8\n"
     ]
    }
   ],
   "source": [
    "def BFS2(start) :\n",
    "    global graph\n",
    "    visited = []\n",
    "    queue2 = [start]\n",
    "    cnt = 0\n",
    "    while queue2 :\n",
    "        x,y = queue2.pop(0)\n",
    "        for i in range(4) :\n",
    "            nx = x + dx[i]\n",
    "            ny = y + dy[i]\n",
    "            if nx>=0 and ny>=0 and nx <= k-1 and ny<= k-1 :\n",
    "                if graph[nx][ny] :\n",
    "                    graph[nx][ny] = 0\n",
    "                    cnt +=1\n",
    "                    queue2.append((nx,ny))\n",
    "                \n",
    "    return cnt\n",
    "                \n",
    "# 2. BFS ------------------------------\n",
    "k = int(input())\n",
    "dx = [-1,1,0,0]\n",
    "dy = [0,0,-1,1]\n",
    "graph = [0]*(k)\n",
    "\n",
    "for q in range(k) :\n",
    "    aro = list(input())\n",
    "    for w in range(len(aro)) :\n",
    "        aro[w] = int(aro[w])\n",
    "    graph[q] = aro\n",
    "        \n",
    "# 1. 입력 완료 ------------------------\n",
    "ans = []\n",
    "for i in range(k) :\n",
    "    for j in range(k) :\n",
    "        if graph[i][j] :\n",
    "            key = BFS2((i,j))\n",
    "            ans.append(key)\n",
    "            \n",
    "ans.sort()\n",
    "print(len(ans))\n",
    "for u in ans :\n",
    "    if u==0 :\n",
    "        print(1)\n",
    "    else :\n",
    "        print(u)\n",
    "# 3. 탐색\n"
   ]
  },
  {
   "cell_type": "markdown",
   "metadata": {},
   "source": [
    "# 7576 토마토\n",
    "\n",
    "토마토가 감염된다 다 감염될때까지의 일 수 카운트\n",
    "\n",
    "> 1. 단조로운 문제이다. BFS로 접근 왔던 곳은 0으로 변화시켜 탐색을 수월히 한다.\n",
    "> 2. 그 후 다 탐색할 때 cnt 인자를 반환하여 마무리 할 것이다.\n",
    "\n",
    "> 3. 칸이 없는 경우가 존재 -1은 탐색이 불가하다. 이 경우는 예외로 비워둬야할것 \n",
    "\n",
    "> 4. 단 저장될때무터 다 익으면 0출력 다 못익을 시 -1을 출력 \n",
    "트리가 무한 루프에 빠지지 않도록 해야한다. 빼박  DFS 쓰지 말라는 경고 "
   ]
  },
  {
   "cell_type": "code",
   "execution_count": 27,
   "metadata": {},
   "outputs": [
    {
     "name": "stdout",
     "output_type": "stream",
     "text": [
      "3\n"
     ]
    }
   ],
   "source": [
    "# 문제를 풀기 위해 동시 입력에 대해 알아야할듯합니다.\n",
    "def tan(van) :\n",
    "    queue = van\n",
    "    print(queue[1][0])\n",
    "tan([(1,2),(3,4)])"
   ]
  },
  {
   "cell_type": "code",
   "execution_count": 41,
   "metadata": {},
   "outputs": [
    {
     "name": "stdout",
     "output_type": "stream",
     "text": [
      "5 5\n",
      "-1 1 0 0 0\n",
      "0 -1 -1 -1 0\n",
      "0 -1 -1 -1 0\n",
      "0 -1 -1 -1 0\n",
      "0 0 0 0 0\n",
      "14\n"
     ]
    }
   ],
   "source": [
    "from collections import deque\n",
    "def BFS(start):\n",
    "    global graph\n",
    "    deque2 = deque(start)\n",
    "    visited = [[0]*m for _ in range(n)]\n",
    "    ans =[0]\n",
    "    while deque2 :\n",
    "        x,y = deque2.popleft()\n",
    "        for i in range(4):\n",
    "            nx = x + dx[i]\n",
    "            ny = y + dy[i]\n",
    "            if nx>=0 and ny>=0 and nx <= n-1 and ny<= m-1 :\n",
    "                if graph[nx][ny]==0 and visited[nx][ny] ==0 and graph[nx][ny] != -1:\n",
    "                    graph[nx][ny] = 1\n",
    "                    visited[nx][ny] = visited[x][y]+1\n",
    "                    ans.append(visited[nx][ny])\n",
    "                    deque2.append((nx,ny))\n",
    "    if max(ans) == 0:           \n",
    "        return 0\n",
    "    else :\n",
    "        return max(ans)\n",
    "    \n",
    "    \n",
    "# 2. BFS 함수 전개----------------------------------------------------------\n",
    "m,n = map(int,input().split())\n",
    "graph = [0]*n\n",
    "dx =[-1,1,0,0]\n",
    "dy =[0,0,-1,1]\n",
    "for i in range(len(graph)) :\n",
    "    key = list(map(int,input().split()))\n",
    "    graph[i] =key\n",
    "\n",
    "# 1. 입력완료 ---------------------------------------------------------------\n",
    "tomatos = 0\n",
    "primiar = []\n",
    "for i in range(n) :\n",
    "    for j in range(m) :\n",
    "        if graph[i][j] == 1 :\n",
    "            primiar.append((i,j))\n",
    "tomatos += BFS(primiar)\n",
    "# 3. 토마토 1만 함수호출------------------------------------------------------\n",
    "switch = 0\n",
    "for s in range(n) :\n",
    "    if switch :\n",
    "        break\n",
    "    for t in range(m) :\n",
    "        if graph[s][t] == 0 :\n",
    "            print(-1)\n",
    "            switch = 1\n",
    "            break\n",
    "        else :\n",
    "            print(tomatos)\n",
    "            switch = 1\n",
    "            break\n",
    "# 4-1. 안익은 토마토가 있는가? 점검 후 출력------------------------------------        \n"
   ]
  },
  {
   "cell_type": "markdown",
   "metadata": {},
   "source": [
    "# 1012 유기농배추\n",
    "\n",
    "> 생각을 해보았습니다. \n",
    "> <br>1번 방법</br> : 입력좌표를 받아 그 값들이 서로 붙어있는지 탐색합니다.  \n",
    "\n",
    "> <br>2번 방법</br> : 전체 값을 0으로 초기화한 graph 이중 list에서 전체 좌표 탐색시키고 그 수를 카운트합니다.\n",
    "\n",
    "2번으로 갑니다."
   ]
  },
  {
   "cell_type": "code",
   "execution_count": 54,
   "metadata": {},
   "outputs": [
    {
     "name": "stdout",
     "output_type": "stream",
     "text": [
      "1\n",
      "4 3 5\n",
      "1 1\n",
      "3 1\n",
      "1 2\n",
      "2 2\n",
      "3 2\n",
      "1\n"
     ]
    }
   ],
   "source": [
    "import sys\n",
    "sys.setrecursionlimit(10**6)\n",
    "\n",
    "from collections import deque\n",
    "def BFS(start):\n",
    "    global graph\n",
    "    s = [start]\n",
    "    deque2 = deque(s)\n",
    "    while deque2 :\n",
    "        x,y = deque2.popleft()\n",
    "        for i in range(4):\n",
    "            nx = x + dx[i]\n",
    "            ny = y + dy[i]\n",
    "            if nx>=0 and ny>=0 and nx <= n-1 and ny<= m-1 :\n",
    "                if graph[nx][ny] :\n",
    "                    graph[nx][ny] = 0\n",
    "                    deque2.append((nx,ny))\n",
    "                \n",
    "# 3. BFS 전개     \n",
    "for _ in range(int(input())) :\n",
    "    m,n,k = map(int,input().split())\n",
    "    graph = [[0]*m for _ in range(n)]\n",
    "    for i in range(k) :\n",
    "        f,g = map(int,input().split())\n",
    "        graph[g][f] =1\n",
    "    \n",
    "# 1. 입력 ------------------------------------\n",
    "    cnt = 0\n",
    "    for i in range(n) :\n",
    "        for j in range(m) :\n",
    "            if graph[i][j] :\n",
    "                graph[i][j] = 0\n",
    "                BFS((i,j))\n",
    "                cnt+=1\n",
    "# 2. 함수 호출 -------------------------------\n",
    "    print(cnt)"
   ]
  }
 ],
 "metadata": {
  "kernelspec": {
   "display_name": "Python 3",
   "language": "python",
   "name": "python3"
  },
  "language_info": {
   "codemirror_mode": {
    "name": "ipython",
    "version": 3
   },
   "file_extension": ".py",
   "mimetype": "text/x-python",
   "name": "python",
   "nbconvert_exporter": "python",
   "pygments_lexer": "ipython3",
   "version": "3.7.3"
  }
 },
 "nbformat": 4,
 "nbformat_minor": 2
}
