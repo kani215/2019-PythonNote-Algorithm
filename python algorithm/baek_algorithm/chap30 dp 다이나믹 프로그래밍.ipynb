{
 "cells": [
  {
   "cell_type": "markdown",
   "metadata": {},
   "source": [
    "# 점화식처럼 현재 상태를 나타내어 풀이한다."
   ]
  },
  {
   "cell_type": "code",
   "execution_count": null,
   "metadata": {},
   "outputs": [],
   "source": [
    "카드 i개 구매란 ~ \n",
    "카드 1개가 들어있는 카드팩을 구매하고, 카드 i-1개를 구입한다.\n",
    "카드 2개가 들어있는 카드팩을 구매하고, 카드 i-2개를 구입한다.\n",
    "카드 3개가 들어있는 카드팩을 구매하고, 카드 i-3개를 구입한다.\n",
    "\n",
    "D[i] = P[n] + D[i-n]\n",
    "\n",
    "for (int i = 1; i <=n; i++) {\n",
    "\n",
    "    for (int j = 1; j <=i; j++) {\n",
    "\n",
    "        D[i] = Math.max(D[i], arr[j] + D[i-j]);\n",
    "\n",
    "    }\n",
    "\n",
    "}"
   ]
  },
  {
   "cell_type": "code",
   "execution_count": null,
   "metadata": {},
   "outputs": [],
   "source": [
    "n = int(input())\n",
    "d = [0]*(n+1)\n",
    "p = [0]+list(map(int,input().split()))\n",
    "d[1] = p[1]\n",
    "for i in range(2,n+1) :\n",
    "    for j in range(1,i+1):\n",
    "        if d[i] < d[i-j] +p[j] :\n",
    "            d[i] = d[i-j]+p[j]\n",
    "print(d[n])"
   ]
  },
  {
   "cell_type": "code",
   "execution_count": null,
   "metadata": {},
   "outputs": [],
   "source": [
    "# 11726 dp\n",
    "\n",
    "재귀  memo[n] = fact(n-2) + fact(n-1) 1000을 구해야한다.\n"
   ]
  },
  {
   "cell_type": "code",
   "execution_count": 13,
   "metadata": {
    "scrolled": false
   },
   "outputs": [
    {
     "name": "stdout",
     "output_type": "stream",
     "text": [
      "2\n",
      "2\n"
     ]
    }
   ],
   "source": [
    "memo = [1,1]+ [0] *1000\n",
    "\n",
    "def fact(n) :    \n",
    "    if memo[n] != 0:\n",
    "        return memo[n]\n",
    "    else :\n",
    "        memo[n] = fact(n-2) + fact(n-1)\n",
    "        \n",
    "        return memo[n]\n",
    "\n",
    "n = int(input())\n",
    " \n",
    "print(f_dp(n)%10007)\n",
    "\n"
   ]
  },
  {
   "cell_type": "code",
   "execution_count": null,
   "metadata": {},
   "outputs": [],
   "source": [
    "이렇게 짜면 메모리 초과 python3로는 통과 어째서"
   ]
  },
  {
   "cell_type": "markdown",
   "metadata": {},
   "source": [
    "# 리스트를 이중리스트로 전환해서 메모리를 반값으로"
   ]
  },
  {
   "cell_type": "code",
   "execution_count": null,
   "metadata": {},
   "outputs": [],
   "source": [
    "P = 10007\n",
    "# 나누는 수 변수에 저장 \n",
    "N = int(input())\n",
    "# 입력값 \n",
    "dp = [[0, 0] for i in range(max(N+1, 3))]\n",
    "# 3보다 클때 작을 때 [0,0]변수의 공간 리스트 \n",
    "# dp [[0,0],[0,0],[0,0]]\n",
    "# dp[0][0],dp[0][1] = 0 으로 남겨두는것 \n",
    "\n",
    "dp[1][0] = 0 # 0\n",
    "dp[1][1] = 1 # 1값 1\n",
    "dp[2][0] = 1 # 1값 1\n",
    "dp[2][1] = 1 # 2값 1\n",
    "\n",
    "\n",
    "for i in range(3, N+1):\n",
    "    dp[i][0] = (dp[i-2][0] + dp[i-2][1]) % P\n",
    "    dp[i][1] = (dp[i-1][0] + dp[i-1][1]) % P\n",
    "\n",
    "print((dp[N][0] + dp[N][1])%P)\n",
    "\n",
    "\n",
    "# 이게 더 낫다고 ? 말도 안되"
   ]
  },
  {
   "cell_type": "code",
   "execution_count": null,
   "metadata": {},
   "outputs": [],
   "source": [
    "위의 코드를 dp로 추가 개선 가능?\n",
    "기억하는 dp기 "
   ]
  },
  {
   "cell_type": "code",
   "execution_count": null,
   "metadata": {},
   "outputs": [],
   "source": [
    "n = int(input())\n",
    "memo = dp = [[0, 0] for i in range(max(n+1, 3))]\n",
    "\n",
    "\n",
    "def fact(n) :    \n",
    "    if len(memo[n]) != 0:\n",
    "        return memo[n]\n",
    "    else :\n",
    "        memo[n] = fact(n-2) + fact(n-1)\n",
    "        \n",
    "        return memo[n]\n",
    "\n",
    "print(fact(n)%10007)"
   ]
  },
  {
   "cell_type": "code",
   "execution_count": null,
   "metadata": {},
   "outputs": [],
   "source": [
    "이건 정답자의 코드인데 "
   ]
  }
 ],
 "metadata": {
  "kernelspec": {
   "display_name": "Python 3",
   "language": "python",
   "name": "python3"
  },
  "language_info": {
   "codemirror_mode": {
    "name": "ipython",
    "version": 3
   },
   "file_extension": ".py",
   "mimetype": "text/x-python",
   "name": "python",
   "nbconvert_exporter": "python",
   "pygments_lexer": "ipython3",
   "version": "3.7.6"
  }
 },
 "nbformat": 4,
 "nbformat_minor": 4
}
