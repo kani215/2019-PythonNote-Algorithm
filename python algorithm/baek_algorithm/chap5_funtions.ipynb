{
 "cells": [
  {
   "cell_type": "markdown",
   "metadata": {},
   "source": [
    "# 함수 사용 n까지 합 구하기 15596\n",
    "> 19_06_27 풀이\n",
    "\n",
    "파이썬 풀이에서 걸리는 건 결국 입력 속도이다. 여기서 sys 운용법을 익힌다."
   ]
  },
  {
   "cell_type": "code",
   "execution_count": 4,
   "metadata": {},
   "outputs": [
    {
     "name": "stdout",
     "output_type": "stream",
     "text": [
      "1 2 3 4 5 \n",
      "15\n"
     ]
    }
   ],
   "source": [
    "a = list(map(int,input().split()))\n",
    "\n",
    "def solve(a) :\n",
    "    sums = 0\n",
    "    for i in range(len(a)) :\n",
    "        sums +=a[i]\n",
    "    return sums\n",
    "\n",
    "print(solve(a))"
   ]
  },
  {
   "cell_type": "code",
   "execution_count": 7,
   "metadata": {},
   "outputs": [
    {
     "name": "stdout",
     "output_type": "stream",
     "text": [
      "1 2 3\n",
      "6\n"
     ]
    }
   ],
   "source": [
    "a = list(map(int,input().split()))\n",
    "def solve(a):\n",
    "    ans = 0\n",
    "    for i in range(len(a)) :\n",
    "        ans += a[i]\n",
    "    return ans\n",
    "\n",
    "print(solve(a))"
   ]
  },
  {
   "cell_type": "markdown",
   "metadata": {},
   "source": [
    "#  10870 피보나치\n",
    "> 19_06_27 풀이\n",
    "\n",
    "재귀를 이용한 피보나치를 구해보고 싶다.\n",
    "\n",
    "* 참조변수의 대한 공부가 필요하다.\n",
    "\n",
    "2가지의 변수 저장 기법의 이해 \n",
    "Call by value, 값에 의한 호출\n",
    "Call by reference, 참조(주소)에 의한 호출"
   ]
  },
  {
   "cell_type": "code",
   "execution_count": 22,
   "metadata": {},
   "outputs": [
    {
     "name": "stdout",
     "output_type": "stream",
     "text": [
      "3\n"
     ]
    }
   ],
   "source": [
    "# Call by value, 값에 의한 호출\n",
    "\n",
    "def a_print(value):\n",
    "    value +=1 \n",
    "    print(value) \n",
    "\n",
    "\n",
    "a = 2  \n",
    "a_print(a) \n",
    "\n",
    "\n"
   ]
  },
  {
   "cell_type": "code",
   "execution_count": 36,
   "metadata": {},
   "outputs": [
    {
     "name": "stdout",
     "output_type": "stream",
     "text": [
      "17\n",
      "1597\n"
     ]
    }
   ],
   "source": [
    "T = int(input())\n",
    "a=0\n",
    "b=1 \n",
    "c=0\n",
    "def fibo(n) :\n",
    "    global a,b,c\n",
    "    c = a \n",
    "    a = b\n",
    "    b = b+c\n",
    "    \n",
    "    if n == 1 :\n",
    "        return a\n",
    "    elif n ==0 :\n",
    "        return 0\n",
    "    else :\n",
    "        return fibo(n-1)\n",
    "    \n",
    "        \n",
    "print(fibo(T))\n",
    "    \n",
    "    \n",
    "        \n"
   ]
  },
  {
   "cell_type": "code",
   "execution_count": 40,
   "metadata": {},
   "outputs": [
    {
     "name": "stdout",
     "output_type": "stream",
     "text": [
      "1\n",
      "1\n"
     ]
    }
   ],
   "source": [
    "T = int(input())\n",
    "a=1 \n",
    "def factor(n) :\n",
    "    global a \n",
    "    a *= n  \n",
    "    if n==0 :\n",
    "        return 1\n",
    "    elif n == 1 :\n",
    "        return a\n",
    "    else : \n",
    "        return factor(n-1)\n",
    "    \n",
    "print(factor(T))"
   ]
  },
  {
   "cell_type": "markdown",
   "metadata": {},
   "source": [
    "# 11729 하노이 탑 이동 순서\n",
    "> 2019_06_27 풀이\n",
    "\n",
    "출력\n",
    "첫째 줄에 옮긴 횟수 K를 출력한다.\n",
    "\n",
    "두 번째 줄부터 수행 과정을 출력한다. 두 번째 줄부터 K개의 줄에 걸쳐 두 정수 A B를 빈칸을 사이에 두고 출력하는데, 이는 A번째 탑의 가장 위에 있는 원판을 B번째 탑의 가장 위로 옮긴다는 뜻이다.\n",
    "\n",
    "예제 입력 1 \n",
    "3\n",
    "예제 출력 1 \n",
    "7\n",
    "1 3\n",
    "1 2\n",
    "3 2\n",
    "1 3\n",
    "2 1\n",
    "2 3\n",
    "1 3\n",
    "\n",
    "* 출력의 2~3줄이 힌트이다. 벽돌 자체에 관심은 없다. 이동에만 관심이 있다.\n",
    "\n",
    "1. 그럼 큰 무게와 작은 무게의 충돌은 어떻게 구분해 내어야하는가... 문제"
   ]
  },
  {
   "cell_type": "code",
   "execution_count": null,
   "metadata": {},
   "outputs": [],
   "source": []
  }
 ],
 "metadata": {
  "kernelspec": {
   "display_name": "Python 3",
   "language": "python",
   "name": "python3"
  },
  "language_info": {
   "codemirror_mode": {
    "name": "ipython",
    "version": 3
   },
   "file_extension": ".py",
   "mimetype": "text/x-python",
   "name": "python",
   "nbconvert_exporter": "python",
   "pygments_lexer": "ipython3",
   "version": "3.7.3"
  }
 },
 "nbformat": 4,
 "nbformat_minor": 2
}
