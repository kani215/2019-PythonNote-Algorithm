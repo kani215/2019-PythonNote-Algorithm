{
 "cells": [
  {
   "cell_type": "markdown",
   "metadata": {},
   "source": [
    "# chap6  1차원 배열"
   ]
  },
  {
   "cell_type": "code",
   "execution_count": 3,
   "metadata": {
    "scrolled": true
   },
   "outputs": [
    {
     "name": "stdout",
     "output_type": "stream",
     "text": [
      "maz wae teul\n",
      "3\n"
     ]
    }
   ],
   "source": [
    "Text = list(input().split())\n",
    "\n",
    "print(len(Text))"
   ]
  },
  {
   "cell_type": "markdown",
   "metadata": {},
   "source": [
    "### 2577. 값찾기 \n",
    "원리는 이렇다 . key로 연결\n",
    "        \n",
    "    "
   ]
  },
  {
   "cell_type": "code",
   "execution_count": 8,
   "metadata": {},
   "outputs": [
    {
     "data": {
      "text/plain": [
       "17037300"
      ]
     },
     "execution_count": 8,
     "metadata": {},
     "output_type": "execute_result"
    }
   ],
   "source": [
    "150*266*427"
   ]
  },
  {
   "cell_type": "code",
   "execution_count": 4,
   "metadata": {},
   "outputs": [
    {
     "name": "stdout",
     "output_type": "stream",
     "text": [
      "150\n",
      "266\n",
      "427\n",
      "3\n",
      "1\n",
      "0\n",
      "2\n",
      "0\n",
      "0\n",
      "0\n",
      "2\n",
      "0\n",
      "0\n"
     ]
    }
   ],
   "source": [
    "total = 1\n",
    "countlist = [0]*10\n",
    "for i in range(3):\n",
    "    T = int(input())\n",
    "    total *= T\n",
    "\n",
    "for j in range(0, 10) :\n",
    "    for k in str(total) :\n",
    "        if str(j) == k : \n",
    "            countlist[j] += 1\n",
    "\n",
    "for i in countlist :\n",
    "    print(i)\n",
    "\n",
    "            \n"
   ]
  },
  {
   "cell_type": "code",
   "execution_count": 11,
   "metadata": {},
   "outputs": [
    {
     "name": "stdout",
     "output_type": "stream",
     "text": [
      "150\n",
      "266\n",
      "427\n",
      "defaultdict(<class 'int'>, {'1': 1})\n",
      "defaultdict(<class 'int'>, {'1': 1, '7': 1})\n",
      "defaultdict(<class 'int'>, {'1': 1, '7': 1, '0': 1})\n",
      "defaultdict(<class 'int'>, {'1': 1, '7': 1, '0': 1, '3': 1})\n",
      "defaultdict(<class 'int'>, {'1': 1, '7': 2, '0': 1, '3': 1})\n",
      "defaultdict(<class 'int'>, {'1': 1, '7': 2, '0': 1, '3': 2})\n",
      "defaultdict(<class 'int'>, {'1': 1, '7': 2, '0': 2, '3': 2})\n",
      "defaultdict(<class 'int'>, {'1': 1, '7': 2, '0': 3, '3': 2})\n"
     ]
    }
   ],
   "source": [
    "from collections import defaultdict\n",
    "total = 1\n",
    "for i in range(3):\n",
    "    T = int(input())\n",
    "    total *= T\n",
    "    \n",
    "document = list(str(total))    \n",
    "\n",
    "word_counts = defaultdict(int)\n",
    "for word in document:\n",
    "    word_counts[word] +=1\n",
    "    print(word_counts)"
   ]
  },
  {
   "cell_type": "markdown",
   "metadata": {},
   "source": [
    "### ox퀴즈 \n",
    "\n",
    "* 더해주는 가장 배수를 if로 초기화해주는 방법을 사용했다.\n",
    "밑의 배수는 continuepoint에 \n",
    "point =0 "
   ]
  },
  {
   "cell_type": "code",
   "execution_count": null,
   "metadata": {},
   "outputs": [
    {
     "name": "stdout",
     "output_type": "stream",
     "text": [
      "3\n",
      "OOOOOOOOOO\n",
      "55\n",
      "OOOOXOOOOXOOOOX\n",
      "30\n"
     ]
    }
   ],
   "source": [
    "T = int(input())\n",
    "\n",
    "for i in range(T) :\n",
    "    sen = list(input())\n",
    "    point = 0\n",
    "    continuepoint = 0 \n",
    "    for j in range(len(sen)) :\n",
    "        if sen[j] == \"O\" :\n",
    "            continuepoint += 1\n",
    "            point += continuepoint\n",
    "        else :\n",
    "            continuepoint = 0\n",
    "    print(point)\n",
    "            "
   ]
  },
  {
   "cell_type": "markdown",
   "metadata": {},
   "source": [
    "## if 와 빈list의 사용 "
   ]
  },
  {
   "cell_type": "code",
   "execution_count": 9,
   "metadata": {
    "scrolled": true
   },
   "outputs": [
    {
     "name": "stdout",
     "output_type": "stream",
     "text": [
      "10\n",
      "65\n",
      "100\n",
      "30\n",
      "95\n",
      "68\n"
     ]
    }
   ],
   "source": [
    "bunlist =[]\n",
    "sum1 =0\n",
    "for i in range(5) :\n",
    "    T = int(input())\n",
    "    if T >= 40 :\n",
    "        bunlist.append(T)\n",
    "        \n",
    "    else :\n",
    "        bunlist.append(40)\n",
    "        \n",
    "for j in range(len(bunlist)) :\n",
    "    sum1 +=bunlist[j]\n",
    "    \n",
    "    \n",
    "print(int(sum1/5))"
   ]
  },
  {
   "cell_type": "code",
   "execution_count": null,
   "metadata": {},
   "outputs": [],
   "source": [
    "emlist = []\n",
    "key = list(map(int,input().split()))\n",
    "\n",
    "if key.sorted == key :\n",
    "    print(\"ascending\")\n",
    "elif key.내립차순 == key :\n",
    "    \n",
    "else : "
   ]
  },
  {
   "cell_type": "markdown",
   "metadata": {},
   "source": [
    "## 2920번 정렬결과가 기존과 같냐 안 같냐로 풀이\n",
    "ascending 과 descending은 조건으로 풀이"
   ]
  },
  {
   "cell_type": "code",
   "execution_count": 7,
   "metadata": {},
   "outputs": [
    {
     "ename": "AttributeError",
     "evalue": "'list' object has no attribute 'sorted'",
     "output_type": "error",
     "traceback": [
      "\u001b[1;31m---------------------------------------------------------------------------\u001b[0m",
      "\u001b[1;31mAttributeError\u001b[0m                            Traceback (most recent call last)",
      "\u001b[1;32m<ipython-input-7-a90e192ea8ee>\u001b[0m in \u001b[0;36m<module>\u001b[1;34m\u001b[0m\n\u001b[0;32m      1\u001b[0m \u001b[0mls\u001b[0m \u001b[1;33m=\u001b[0m \u001b[1;33m[\u001b[0m\u001b[1;36m1\u001b[0m\u001b[1;33m,\u001b[0m\u001b[1;36m2\u001b[0m\u001b[1;33m,\u001b[0m\u001b[1;36m3\u001b[0m\u001b[1;33m,\u001b[0m\u001b[1;36m4\u001b[0m\u001b[1;33m]\u001b[0m\u001b[1;33m\u001b[0m\u001b[1;33m\u001b[0m\u001b[0m\n\u001b[0;32m      2\u001b[0m \u001b[1;33m\u001b[0m\u001b[0m\n\u001b[1;32m----> 3\u001b[1;33m \u001b[0mg\u001b[0m \u001b[1;33m=\u001b[0m \u001b[0mls\u001b[0m\u001b[1;33m.\u001b[0m\u001b[0msorted\u001b[0m\u001b[1;33m(\u001b[0m\u001b[1;33m)\u001b[0m\u001b[1;33m\u001b[0m\u001b[1;33m\u001b[0m\u001b[0m\n\u001b[0m\u001b[0;32m      4\u001b[0m \u001b[0mg\u001b[0m\u001b[1;33m\u001b[0m\u001b[1;33m\u001b[0m\u001b[0m\n",
      "\u001b[1;31mAttributeError\u001b[0m: 'list' object has no attribute 'sorted'"
     ]
    }
   ],
   "source": [
    "ls = [1,2,3,4]\n",
    "\n",
    "g = ls.sorted()\n",
    "g"
   ]
  },
  {
   "cell_type": "code",
   "execution_count": 11,
   "metadata": {},
   "outputs": [
    {
     "name": "stdout",
     "output_type": "stream",
     "text": [
      "8 18 18 1 1\n",
      "mixed\n"
     ]
    }
   ],
   "source": [
    "T = list(map(int,input().split()))\n",
    "\n",
    "def funcion(T) :\n",
    "    if sorted(T) == T :\n",
    "        return \"ascending\"\n",
    "    elif sorted(T, reverse = True ) == T :\n",
    "        return \"descending\"\n",
    "    else :\n",
    "        return \"mixed\"\n",
    "        \n",
    "print(funcion(T))    "
   ]
  }
 ],
 "metadata": {
  "kernelspec": {
   "display_name": "Python 3",
   "language": "python",
   "name": "python3"
  },
  "language_info": {
   "codemirror_mode": {
    "name": "ipython",
    "version": 3
   },
   "file_extension": ".py",
   "mimetype": "text/x-python",
   "name": "python",
   "nbconvert_exporter": "python",
   "pygments_lexer": "ipython3",
   "version": "3.7.3"
  }
 },
 "nbformat": 4,
 "nbformat_minor": 2
}
