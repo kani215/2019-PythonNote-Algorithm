{
 "cells": [
  {
   "cell_type": "markdown",
   "metadata": {},
   "source": [
    "## 02 List2\n",
    "\n",
    "1. 2차원 List \n",
    "1) 2차원 List구조\n",
    "\n",
    "List in Lists 형태 \n",
    "[[1,2,3,4],[5,6,7,8]]\n",
    "\n",
    "arr = [0,0,0,0,0]\n",
    "\n",
    "arr = [0]*5\n",
    "\n",
    "arr = [i for i in range(2:9) if %2==0]\n",
    "오 [안에 if문 가능]\n",
    "\n",
    "3) 2차원 List 입력 받기\n",
    "\n",
    "*2차원 List 입력? 공백?\n"
   ]
  },
  {
   "cell_type": "code",
   "execution_count": 2,
   "metadata": {},
   "outputs": [
    {
     "name": "stdout",
     "output_type": "stream",
     "text": [
      "3 4\n",
      "[0, 0, 0]\n",
      "1 2 3 4\n",
      "12 3 4 5\n",
      "1 2 3 4 \n",
      "[[1, 2, 3, 4], [12, 3, 4, 5], [1, 2, 3, 4]]\n"
     ]
    }
   ],
   "source": [
    "n,m = map(int, input().split())\n",
    "\n",
    "mylist = [0 for _ in range(n)]\n",
    "\n",
    "\n",
    "# mylist = [0]*n\n",
    "print(mylist)\n",
    "\n",
    "for i in range(n) :\n",
    "    mylist[i] = list(map(int,input().split()))\n",
    "print(mylist)\n",
    "\n"
   ]
  },
  {
   "cell_type": "code",
   "execution_count": null,
   "metadata": {},
   "outputs": [],
   "source": [
    "n,m = map(int, input().split())\n",
    "\n",
    "mylist = []\n",
    "for i in range(n) :\n",
    "    mylist.append(list(map(int,input().split()))\n",
    "    \n"
   ]
  },
  {
   "cell_type": "markdown",
   "metadata": {},
   "source": [
    "4) 2차원 list 원하는 데이터 위치 찾기 \n",
    "\n",
    "Q. 1이 입력된 행렬을 찾으시오"
   ]
  },
  {
   "cell_type": "code",
   "execution_count": null,
   "metadata": {
    "scrolled": true
   },
   "outputs": [],
   "source": [
    "n,m = map(int, input().split())\n",
    "\n",
    "mylist = [list(map(int, input().split()))]\n",
    "\n",
    "newlist = [(i,j) for i in range(n) for j in range(m) if mylist[i][j]==1]\n"
   ]
  },
  {
   "cell_type": "markdown",
   "metadata": {},
   "source": [
    "5. 2차원 List의 순회\n",
    "* List 의 순회 nXm List n*m개의 원소를 빠짐없이 조사\n",
    "행 우선 순회\n",
    "List 행을 우선으로 List의 원소를 조사하는 방법\n",
    "열 우선 순회\n",
    "List의 열부터 먼저 조사하는 방법\n",
    "지그재그 순회\n",
    "List의 행을 좌우로 조사하는 방법"
   ]
  },
  {
   "cell_type": "code",
   "execution_count": null,
   "metadata": {},
   "outputs": [],
   "source": [
    "#행 우선 순회\n",
    "arr = [[0,1,2,3],[4,5,6,7],[8,9,10,11]]\n",
    "# I : 행의 좌표, n =len(arr)\n",
    "# J : 열의 좌표, m = len(arr[0])"
   ]
  },
  {
   "cell_type": "markdown",
   "metadata": {},
   "source": [
    "6. 델타를 이용한 2차 List 탐색\n",
    "2차 List의 한 좌표에서 네 방향의 인접 List 요소를 탐색할 때 사용하는 방법\n",
    "델타 값을 기준점을 정해 상하좌우로 뒤지면서 찾는다."
   ]
  },
  {
   "cell_type": "code",
   "execution_count": null,
   "metadata": {},
   "outputs": [],
   "source": [
    "#arr[0,...n-1][0,...n-1]\n",
    "dx = [0,0,-1,1]\n",
    "dy = [-1,1,0,0]\n",
    "\n",
    "for x in range(len(arr)) :\n",
    "    for y in range(len(arr[x])) :\n",
    "        for i in range(4) :\n",
    "            testX = x+dx[i]\n",
    "            testY = y+dy[i]\n",
    "            print(arr[testX][testY])"
   ]
  },
  {
   "cell_type": "markdown",
   "metadata": {},
   "source": [
    "7. 전치 행렬\n",
    "zip 동일한 개수로 이루어진 자료형들을 묶어 주는 역할을 하는 함수\n",
    "\n",
    "\n",
    "'''python\n",
    "\n",
    "alpha = ['a','b','c']\n",
    "index = [1,2,3]            zip사용 >  ('a',1),('b',2),('c',3) \n",
    "\n",
    "'''"
   ]
  },
  {
   "cell_type": "code",
   "execution_count": 1,
   "metadata": {},
   "outputs": [
    {
     "name": "stdout",
     "output_type": "stream",
     "text": [
      "[('a', 1), ('b', 2), ('c', 3)]\n"
     ]
    }
   ],
   "source": [
    "alpha = ['a','b','c']\n",
    "index = [1,2,3]  \n",
    "\n",
    "print(list(zip(alpha,index)))"
   ]
  }
 ],
 "metadata": {
  "kernelspec": {
   "display_name": "Python 3",
   "language": "python",
   "name": "python3"
  },
  "language_info": {
   "codemirror_mode": {
    "name": "ipython",
    "version": 3
   },
   "file_extension": ".py",
   "mimetype": "text/x-python",
   "name": "python",
   "nbconvert_exporter": "python",
   "pygments_lexer": "ipython3",
   "version": "3.7.3"
  }
 },
 "nbformat": 4,
 "nbformat_minor": 2
}
