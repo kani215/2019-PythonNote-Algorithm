{
 "cells": [
  {
   "cell_type": "markdown",
   "metadata": {},
   "source": [
    "# 4. 정렬"
   ]
  },
  {
   "cell_type": "markdown",
   "metadata": {},
   "source": [
    "## 1. 셀렉션 알고리즘\n",
    "\n",
    "### 셀렉션 알고리즘 의미\n",
    "* 저장되어 있는 자료부터 k번째로 큰 혹은 작은 원소를 찾는 방법\n",
    "* 최소값 최대값 혹은 중간값을 찾는 알고리즘을 의미하기도 함\n",
    "\n",
    "* 셀렉션 선택 과정\n",
    ">1. 정렬 알고리즘 이용 자료 정렬\n",
    ">2. 원하는 순서에 있는 원소 가져오기 "
   ]
  },
  {
   "cell_type": "markdown",
   "metadata": {},
   "source": [
    "### k번째로 작은 원소를 찾는 알고리즘\n",
    "\n",
    "* 1번부터 k번째까지 작은 원소들을 찾아 list의 앞쪽으로 이동시키고, list의 k번째를 반환\n",
    "* k가 비교적 작을 때 유용하며 o(kn)의 수행시간을 필요로 함"
   ]
  },
  {
   "cell_type": "code",
   "execution_count": 1,
   "metadata": {},
   "outputs": [
    {
     "name": "stdout",
     "output_type": "stream",
     "text": [
      "3\n"
     ]
    }
   ],
   "source": [
    "list = [98,2,99,4,5,6,7,8,9]\n",
    "k = 3\n",
    "\n",
    "def select(list, k) :\n",
    "    for i in range(0,k) :\n",
    "        minIndex = i\n",
    "        for j in range(i+1,len(list)):\n",
    "            if list[minIndex] >list[j]:\n",
    "                minIndex = j\n",
    "        list[i],list[minIndex] = list[minIndex],list[i] # 순서 변경 2번째 for문 완료 후 1회만 실행 가장 \n",
    "                                                        # 작은 값을 맨 앞으로 옮김\n",
    "        \n",
    "    return list[k-1]\n",
    "\n",
    "# 이건 전부 탐색이네 1일때 9개 2일때 8개 이런 식으로 \n",
    "\n",
    "print(select(list,k))"
   ]
  },
  {
   "cell_type": "markdown",
   "metadata": {},
   "source": [
    "## 2. 선택 정렬\n",
    "* 여러 수들이 놓여있을때 가장 작은 수부터 정렬 방법?\n",
    "* 위의 셀렉션 알고리즘을 전체 자료에 적용한 것\n",
    "### 정렬 과정\n",
    "* 주어진 list 최소값 찾고\n",
    "* 그 값을 list 맨 앞에 위치한 값과 교환\n",
    "* 맨 처음 위치를 제외한 나머지 list를 대상으로 위의 과정을 반복\n",
    "\n",
    "64 25 10 22 11\n",
    "10 25 64 22 11\n",
    "\n",
    "10 11 64 22 25   이런 식이면 이중 for문 이용 j+1로 씹가능\n",
    "\n"
   ]
  },
  {
   "cell_type": "code",
   "execution_count": null,
   "metadata": {},
   "outputs": [],
   "source": [
    "def selectionSort(a) :\n",
    "    for i in range(0,len(a)-1):\n",
    "        min = i\n",
    "        for j in range(i+1,len(a)):\n",
    "            if a[min]>a[j]:\n",
    "                min=j\n",
    "        a[i],a[min]=a[min],a[i]   #순서 변경 "
   ]
  },
  {
   "cell_type": "markdown",
   "metadata": {},
   "source": [
    "### 알고리즘의 특성\n",
    "\n",
    "선택정렬 : O(n^2) 수행시간은 오래걸리지만 버블 삽입보다는 빠르다."
   ]
  }
 ],
 "metadata": {
  "kernelspec": {
   "display_name": "Python 3",
   "language": "python",
   "name": "python3"
  },
  "language_info": {
   "codemirror_mode": {
    "name": "ipython",
    "version": 3
   },
   "file_extension": ".py",
   "mimetype": "text/x-python",
   "name": "python",
   "nbconvert_exporter": "python",
   "pygments_lexer": "ipython3",
   "version": "3.7.3"
  }
 },
 "nbformat": 4,
 "nbformat_minor": 2
}
