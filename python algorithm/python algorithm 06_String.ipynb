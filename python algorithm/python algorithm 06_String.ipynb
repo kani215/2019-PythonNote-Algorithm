{
 "cells": [
  {
   "cell_type": "markdown",
   "metadata": {},
   "source": [
    "# 1. String"
   ]
  },
  {
   "cell_type": "markdown",
   "metadata": {},
   "source": [
    "## 1. 문자 표현\n",
    "\n",
    "글자 A를 메모리에 저장하는 방법\n",
    "### 1. 메모리는 숫자만을 저장할 수 있기 때문에 A라는 글자의 모양그대로 비트맵으로 저장하는 방법을 사용하지 않는 한 문자 대응되는 숫자로 변경후 저장중일 것이다.\n",
    "\n",
    "* 코드 체계\n",
    " 6칸이면 모든 알파벳 표현 가능\n",
    " 이 코드체계의 등장으로 규범화된 코드 ASCII가 등장\n",
    " \n",
    "* 아스키 \n",
    "  > 문자 인코딩 표준\n",
    "  > 확장 아스키 : 특수 기호 악센트 도형등 128가지 추가, 8bit를 모두 사용해서 표현\n",
    "  이 확장 아스키는 서로 통신이 안됨 \n",
    "\n",
    "* 유니코드 : 다국어 처리를 위한 표준\n",
    "    > 대부분 컴퓨터는 문자 읽고 쓸 때 아스키 코드 사용\n",
    "    > 각 국들의 코드 통합 필요성\n",
    "    > 파이썬 인코딩은 UTF-8로 진행중 \n",
    "    > 2.x 에서는 #-*-coding: utf-8 -*-\n",
    "    \n",
    "### 2. 문자열의 분류\n",
    "    문자열 : fixed , variable length\n",
    "    java에서 string 클래스에 대한 메모리 배치 \n",
    "    java에서는 string이 string 길이를 변경하는 가변기능 가짐\n",
    "    \n",
    "* c언어에서 문자열 처리\n",
    "항상 끝을 표시하는 문자(\\0)가 존재 \n",
    "char ary[] = {'a','b','c','\\0'}\n",
    "char art[] = \"abc\";\n",
    "문자열 처리에 필요한 연산 함수로 제공\n",
    "\n",
    "* java에서의 문자열 처리\n",
    "문자열 데이터를 저장 처리 가능한 클래스를 제공\n",
    "> string 클래스를 사용\n",
    ">문자열 처리에 필요한 연산을 연산자, 메소드 형태로 제공\n",
    "- + length() 등등\n",
    "\n",
    "* 파이썬에서의 문자열 처리\n",
    "char 타입 없다. 텍스트 데이터 취급방법이 통일되어져 있다.\n",
    "> 문자열 기호 ' '' ''' \"\"\" 문자열 표현 방법이 8가지나 된다.\n",
    "> +연결 ,* 반복\n",
    "\n",
    "> 문자열은 시퀀스 자료형으로 분류되고 , 시퀀스 자료형에서 사용할 수 있는 인덱싱, 슬라이싱 연산을 사용할 수 있음\n",
    " 문자열 클래스에서 제공되는 메소드\n",
    "\n",
    "* C와 java string처리의 차이\n",
    "\n",
    "> 아스키 코드로 저장 vs 유니코드16 2byte로 저장 vs 유니코드8 1byte로 저장\n"
   ]
  },
  {
   "cell_type": "markdown",
   "metadata": {},
   "source": [
    "### 4. 문자열 뒤집기\n",
    "1. 자기 문자열에서 뒤집기, 새로운 빈 문자열 만들어 뒤에서부터 읽기\n",
    "총 9칸이면 9//2 4번이면 바꾸어짐\n",
    "\n",
    "### 5. 문자열 비교\n",
    "* == 연산자와 is연산자 사용\n",
    "\n",
    "### 6. 문자열 숫자를 점수로 변환하기\n",
    "* 문자열로 된 숫자를 정수로 변환\n",
    "\n",
    "파이썬은 int() 만 씌우면 된다. repr(123) 이나 str(123) 같이 바로 문자로 변화 가능\n"
   ]
  }
 ],
 "metadata": {
  "kernelspec": {
   "display_name": "Python 3",
   "language": "python",
   "name": "python3"
  },
  "language_info": {
   "codemirror_mode": {
    "name": "ipython",
    "version": 3
   },
   "file_extension": ".py",
   "mimetype": "text/x-python",
   "name": "python",
   "nbconvert_exporter": "python",
   "pygments_lexer": "ipython3",
   "version": "3.7.3"
  }
 },
 "nbformat": 4,
 "nbformat_minor": 2
}
