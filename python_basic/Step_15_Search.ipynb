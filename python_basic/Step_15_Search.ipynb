{
 "cells": [
  {
   "cell_type": "markdown",
   "metadata": {},
   "source": [
    "# 수업 내용 이해"
   ]
  },
  {
   "cell_type": "markdown",
   "metadata": {},
   "source": [
    "컴퓨터 프로그램에서 가장 많이 사용되는 알고리즘은 아마도 검색일 것으로, 굉장히 많은 데이터에서 원하는 값을 찾기 위한 노력을 의미합니다.<br>\n",
    "소프트웨어를 전공하는 경우는, 알고리즘(Algorithm)이라는 별도의 중요 교과목에서 깊이 있는 이해를 진행합니다.<br>\n",
    "본 수업은 Python 언어를 익히는 것이 목적이므로, 단순한 몇가지 방법을 배고자 합니다."
   ]
  },
  {
   "cell_type": "markdown",
   "metadata": {},
   "source": [
    "## ``for`` 문법을 사용한 Linear Search 이해하기"
   ]
  },
  {
   "cell_type": "markdown",
   "metadata": {},
   "source": [
    "``Linear search``는 데이터의 처음부터 끝까지 순서대로 목표 값과 저장된 값을 비교해 나가는 방법으로서, 검색 속도가 느린 단점이 있습니다.<br>\n",
    "하지만 검색이라는 분야를 공부함에 있어서 좋은 시작이 됩니다.<br>\n",
    "\n",
    "아래의 함수는 ``for`` 문법을 이용하여, ``리스트(lst)``내에서 ``목표값(value)``을 찾는 검색 함수를 구현한 것입니다.<br>\n",
    "\n",
    "```python\n",
    "def linear_search_for(lst, value):\n",
    "    i = 0\n",
    "    for i in range(len(lst)):\n",
    "        if lst[i] == value:\n",
    "            return i\n",
    "    return -1\n",
    "```\n",
    "\n",
    "수업에서 Linear search에도 여러가지 방법이 가능하다는 것을 배웠으므로, 방법별 시간 비교를 위하여 검색을 시작하기 전과 마친 후의 시간을 측정합니다.<br>\n",
    "이를 위하여 우리는 Python의 ``time 모듈``을 import한 후, 시간 측정 함수인 ``time.perf_counter()``를 사용합니다.<br>\n",
    "\n",
    "아래의 코드는 time 모듈을 import한 후, 입력 파라메타로 ``searchMethod를 검색 방법별 함수로 받고``,<br>\n",
    "추가적인 정보로서 검색 대상인 리스트(lst)와 목표 값(value)도 입력 파라메타로 받습니다.<br>\n",
    "\n",
    "```python\n",
    "import time\n",
    "\n",
    "def time_it(searchMethod, lst, value):\n",
    "    t1 = time.perf_counter()\n",
    "    if(searchMethod(lst, value) == -1):\n",
    "        print(\"Error in search.\")\n",
    "    t2 = time.perf_counter()\n",
    "    return (t2-t1)\n",
    "```\n",
    "\n",
    "예를 들어, 위에서 정의한 ``linear_search_for()``로 검색을 하되, 리스트는 ``L``이고 목표 값이 ``10``이라면, 호출방식은 다음과 같습니다.<br>\n",
    "\n",
    "```python\n",
    "time_it(linear_search_for, L, 10)\n",
    "```\n",
    "\n",
    "이제 위의 모든 사항을 하나로 합쳐서, 저장된 데이터가 1~10000001 인 경우에, ``10/5000000/10000000``을 각각 찾아보도록 합니다.<br>\n",
    "이를 수행하는 완성된 코드가 아래와 같이 있습니다.<br>\n",
    "\n",
    "```python\n",
    "import time\n",
    "\n",
    "def time_it(searchMethod, lst, value):\n",
    "    t1 = time.perf_counter()\n",
    "    if(searchMethod(lst, value) == -1):\n",
    "        print(\"Error in search.\")\n",
    "    t2 = time.perf_counter()\n",
    "    return (t2-t1)\n",
    "\n",
    "def linear_search_for(lst, value):\n",
    "    i = 0\n",
    "    for i in range(len(lst)):\n",
    "        if lst[i] == value:\n",
    "            return i\n",
    "    return -1\n",
    "\n",
    "L = list(range(10000001))\n",
    "\n",
    "print(time_it(linear_search_for, L, 10))\n",
    "print(time_it(linear_search_for, L, 5000000))\n",
    "print(time_it(linear_search_for, L, 10000000))\n",
    "```\n",
    "\n",
    "상기 코드를 아래의 입력 창에 입력후 실행하여 시간이 얼마나 걸리는지를 확인해 봅니다."
   ]
  },
  {
   "cell_type": "code",
   "execution_count": 12,
   "metadata": {},
   "outputs": [],
   "source": [
    "L = list(range(10000001))\n",
    "import time \n",
    "def linear_search_for(lst,value):\n",
    "    i=0\n",
    "    for i in range(len(lst)):\n",
    "        if lst[i] == value:\n",
    "            return i\n",
    "    return -1\n",
    "\n",
    "def time_it(searchMod,lst, value) : #특이한 문법이다. 함수 속의 함수 입력 파라미터라;;\n",
    "    t1 = time.perf_counter()\n",
    "    if(searchMod(lst,value) == -1): #입력 파라미터로 받은 함수를 실행시켜버린다.\n",
    "        print(\"error search\")\n",
    "    t2 = time.perf_counter()\n",
    "    return(t2-t1)\n",
    "        \n"
   ]
  },
  {
   "cell_type": "code",
   "execution_count": 15,
   "metadata": {
    "scrolled": true
   },
   "outputs": [
    {
     "name": "stdout",
     "output_type": "stream",
     "text": [
      "1.834700015024282e-05\n",
      "0.5229772410002624\n",
      "error search\n",
      "0.9541760780002733\n"
     ]
    }
   ],
   "source": [
    "print(time_it(linear_search_for,L,10))\n",
    "\n",
    "print(time_it(linear_search_for,L,5000000))\n",
    "\n",
    "print(time_it(linear_search_for,L,10000002))\n"
   ]
  },
  {
   "cell_type": "markdown",
   "metadata": {},
   "source": [
    "## ''linear search'' 에 관한 추가적 고찰\n",
    "\n",
    "이게 뭐할때 쓰는 방법인가? 하니 파일 탐색의 한 방법이라고 보면 좋겠다.\n",
    "서류 뭉치에서 5를 찾아보자\n",
    "input: array[5] = [4, 2, 3, 5, 1]\n",
    "​\n",
    "let i = 0\n",
    "for each array[i] in array:\n",
    "    if array[i] is 5:\n",
    "        print \"i 번째의 요소가 일치\" then finish\n",
    "    i = i + 1\n",
    "    else:\n",
    "        print 'Nout Found'\n",
    "\n",
    "\n",
    "출처: https://excelsior-cjh.tistory.com/122 [EXCELSIOR]\n"
   ]
  },
  {
   "cell_type": "markdown",
   "metadata": {},
   "source": [
    "# 실습 (LAB)"
   ]
  },
  {
   "cell_type": "markdown",
   "metadata": {},
   "source": [
    "## ``while`` 문법을 사용한 Sentinel Linear Search 이해하기 "
   ]
  },
  {
   "cell_type": "markdown",
   "metadata": {},
   "source": [
    "동일한 Linear Search를 Sentinel한 방법과 ``while`` 구문으로 (강의노트를 참조하여) 작성하고, 앞서 ``for``과 동일하게 세가지 숫자에 대한 검색 시간을 측정합니다.<br>\n",
    "아래의 입력 창에 작성한 프로그램을 입력후 실행하여 시간이 얼마나 걸리는지를 확인해 봅니다.<br>"
   ]
  },
  {
   "cell_type": "code",
   "execution_count": 9,
   "metadata": {},
   "outputs": [],
   "source": [
    "import time \n",
    "\n",
    "def linear_search(lst, value) :\n",
    "    if (len(lst) < value) :\n",
    "        return -1\n",
    "    else :\n",
    "        i = 0\n",
    "        while value == lst[i] :   \n",
    "             \n",
    "            return i\n",
    "\n",
    "def timecal(searchMod,lst,value) :\n",
    "    t1 = time.perf_counter()\n",
    "   \n",
    "    if(searchMod(lst,value)==-1) :\n",
    "        print(\"error search\")\n",
    "        \n",
    "    t2 = time.perf_counter()\n",
    "    \n",
    "    return(t2-t1)"
   ]
  },
  {
   "cell_type": "code",
   "execution_count": 11,
   "metadata": {
    "scrolled": true
   },
   "outputs": [
    {
     "name": "stdout",
     "output_type": "stream",
     "text": [
      "5.119999968883349e-06\n",
      "error search\n",
      "8.191999995688093e-05\n"
     ]
    }
   ],
   "source": [
    "L = list(range(10000001))\n",
    "print(timecal(linear_search,L,10) )\n",
    "print(timecal(linear_search,L,1000000000) )"
   ]
  },
  {
   "cell_type": "markdown",
   "metadata": {},
   "source": [
    "## 속도 개선을 위한 Binary Search 개발하기"
   ]
  },
  {
   "cell_type": "markdown",
   "metadata": {},
   "source": [
    "속도 개선을 위한 Binary Search를 강의노트를 참조하여 작성하고, 앞서 ``for``과 동일하게 세가지 숫자에 대한 검색 시간을 측정합니다.<br>\n",
    "아래의 입력 창에 작성한 프로그램을 입력후 실행하여 시간이 얼마나 걸리는지를 확인해 봅니다.<br>"
   ]
  },
  {
   "cell_type": "code",
   "execution_count": null,
   "metadata": {},
   "outputs": [],
   "source": [
    "진 검색 알고리즘(binary search algorithm)은 오름차순으로 정렬된 리스트에서 특정한 값의 위치를 찾는 알고리즘이다. \n",
    "처음 중간의 값을 임의의 값으로 선택하여, 그 값과 찾고자 하는 값의 크고 작음을 비교하는 방식을 채택하고 있다. \n",
    "처음 선택한 중앙값이 만약 찾는 값보다 크면 그 값은 새로운 최댓값이 되며, 작으면 그 값은 새로운 최솟값이 된다. \n",
    "검색 원리상 정렬된 리스트에만 사용할 수 있다는 단점이 있지만, \n",
    "검색이 반복될 때마다 목표값을 찾을 확률은 두 배가 되므로 속도가 빠르다는 장점이 있다."
   ]
  },
  {
   "cell_type": "markdown",
   "metadata": {},
   "source": [
    "의사코드\n",
    "binarySearch(A[0..N-1], value) {//k\n",
    "  low = 0\n",
    "  high = N - 1\n",
    "  while (low <= high) {\n",
    "      mid = (low + high) / 2\n",
    "      if (A[mid] > value)\n",
    "          high = mid - 1\n",
    "      else if (A[mid] < value)\n",
    "          low = mid + 1\n",
    "      else\n",
    "          return mid // found k\n",
    "  }\n",
    "  return -1 // not found k\n",
    "}\n",
    "\n",
    "#1. 입력 파라미터 list 오름차순 정렬을 성공시켜야한다.\n",
    "#2. 임의선택 중간의 값 지정 \n",
    "#3. 중앙값이 크면 이 값을 최대값으로 해서 찾고 .... linear랑 이건 비슷하구먼 ok 설계 ㄱ\n"
   ]
  },
  {
   "cell_type": "code",
   "execution_count": 14,
   "metadata": {},
   "outputs": [],
   "source": [
    "import time\n",
    "L = list(range(10000001))\n",
    "\n",
    "\n",
    "def binary_Seach(lst, value) :  #1\n",
    "    rowdata = lst[0]\n",
    "    highdata = lst[len(lst)]\n",
    "    while True :\n",
    "        rowdataindex = lst.index(rowdata)\n",
    "        highdataindex = lst.index(highdata)\n",
    "        datacenterindex = (rowdataindex+highdataindex)/2\n",
    "        \n",
    "        if(value < lst[datacenterindex]) :\n",
    "            highdata = datacenterindex\n",
    "            continue\n",
    "        elif(value> lst[datacenterindex]) :\n",
    "            rowdata = datacenterindex\n",
    "            continue\n",
    "        elif(value ==lst[datacenterindex]) :\n",
    "            return  lst[datacenterindex]\n",
    "            break\n",
    "\n",
    "def time_cal(searchMod,lst,value):\n",
    "    t1 = time.perf_counter()\n",
    "   \n",
    "    if(searchMod(lst,value)==-1) :\n",
    "        print(\"error search\")\n",
    "        \n",
    "    t2 = time.perf_counter()\n",
    "    \n",
    "    return(t2-t1)\n",
    "\n",
    "#와 내가 만들었는데 미치겠다. 그럴싸해 ㅎㅎㅎㅎㅎ이런걸 3시간동안 풀다니 공부 더 해야겠어 ㅠㅠㅠ\n"
   ]
  },
  {
   "cell_type": "code",
   "execution_count": 15,
   "metadata": {},
   "outputs": [
    {
     "name": "stdout",
     "output_type": "stream",
     "text": [
      "4.2669998947530985e-06\n",
      "error search\n",
      "5.760000021837186e-05\n"
     ]
    }
   ],
   "source": [
    "L = list(range(10000001))\n",
    "print(timecal(linear_search,L,10) )\n",
    "print(timecal(linear_search,L,1000000000) )"
   ]
  },
  {
   "cell_type": "markdown",
   "metadata": {},
   "source": [
    "## Binary Search와 Linear Search 시간 비교하기"
   ]
  },
  {
   "cell_type": "markdown",
   "metadata": {},
   "source": [
    "지금까지 작성한 네가지 방식의 검색 방법에 대한 프로그램들을 한번에 실행해서, 동일한 조건에서의 성능을 상호 비교하도록 합니다.<br>\n",
    "이왕 성능 평가를 하는김에 자료화 해서 쓸수 있도록 출력을 화일로 저장합니다.<br>\n",
    "\n",
    "따라서 4가지 방식을 데이터 크기 ``10000001`` 만큼에 대해서 실행하되, 앞서의 예처럼 세가지 경우인 ``10/5000000/10000000``를 찾습니다.<br>\n",
    "이에 대한 소요 시간을, 총 4가지 방식에 대한 ``12가지 숫자``를 2차원 테이블로 만들어서 저장합니다.<br>\n",
    "\n",
    "저장시에 숫자만 저장하지 말고, 방법과 검색 대상인 숫자까지 화일에 저장해서, 누구든 읽으면 의미를 바로 알수 있도록 합니다.<br>\n",
    "아래의 입력창에 프로그램을 작성하고, 시간 측정후, 화일에 저장합니다."
   ]
  },
  {
   "cell_type": "code",
   "execution_count": null,
   "metadata": {},
   "outputs": [],
   "source": []
  }
 ],
 "metadata": {
  "kernelspec": {
   "display_name": "Python 3",
   "language": "python",
   "name": "python3"
  },
  "language_info": {
   "codemirror_mode": {
    "name": "ipython",
    "version": 3
   },
   "file_extension": ".py",
   "mimetype": "text/x-python",
   "name": "python",
   "nbconvert_exporter": "python",
   "pygments_lexer": "ipython3",
   "version": "3.7.3"
  }
 },
 "nbformat": 4,
 "nbformat_minor": 2
}
