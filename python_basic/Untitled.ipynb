{
 "cells": [
  {
   "cell_type": "code",
   "execution_count": null,
   "metadata": {},
   "outputs": [],
   "source": [
    "T = int(input())\n",
    "count = 0\n",
    "\n",
    "    while count < T :\n",
    "        \n",
    "    listN = []\n",
    "    N = int(input())\n",
    "    M = int(input())\n",
    "    count2 = 0\n",
    "    while count2 < N :\n",
    "        count += 1\n",
    "        inputNum = int(input())\n",
    "        listN.append(inputNum)\n",
    "    listN.sort()\n",
    "    for i in range(M) :\n",
    "        listMax = 0\n",
    "        listMax = listMax + listN[i]\n",
    "        listMin = 0\n",
    "        listMin = listMin + listN[-i]\n",
    "    \n",
    "    print(listMax - listMin)    \n",
    "    \n",
    "    \n",
    "    "
   ]
  }
 ],
 "metadata": {
  "kernelspec": {
   "display_name": "Python 3",
   "language": "python",
   "name": "python3"
  },
  "language_info": {
   "codemirror_mode": {
    "name": "ipython",
    "version": 3
   },
   "file_extension": ".py",
   "mimetype": "text/x-python",
   "name": "python",
   "nbconvert_exporter": "python",
   "pygments_lexer": "ipython3",
   "version": "3.7.3"
  }
 },
 "nbformat": 4,
 "nbformat_minor": 2
}
