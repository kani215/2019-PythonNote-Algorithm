{
 "cells": [
  {
   "cell_type": "markdown",
   "metadata": {},
   "source": [
    "## 실행 방법 (주의 요망)"
   ]
  },
  {
   "cell_type": "markdown",
   "metadata": {},
   "source": [
    "본 수업에서의 웹서버 프로그램들은 이렇게 실행합니다.<br>\n",
    "\n",
    "\\[단계1\\] 소스코드를 실행함 <br>\n",
    "\\[단계2\\] 웹브라우저에서 새 시크릿 창 모드로 새 윈도우를 오픈함 (그렇지 않으면, 보안 환경들로 인하여 에러 발생 가능함)<br>\n",
    "\\[단계3\\] 새로 오픈한 윈도우의 주소창에 프로그램별로 명시한 ``Client:`` 부분을 타이핑한 후, 엔터키로 실행시킴<br>\n",
    "\n",
    "만약, 에러가 나면서 ``[Errno 48] Address already in use``라고 나타나면, 웹서버가 여러번 실행되면서 뭔가 제대로 동작하지 않는 현상으로 볼 수 있습니다.<br>\n",
    "이런 경우는 Jupyter 메뉴 단추 중 새까만 단추(Stop)을 눌러서 중지하시고, Kernel 메뉴에서 \"Restart & Clear Output\"을 누른후, 다시 실행하면 될겁니다.<br>\n",
    "\n",
    "특별히 본 수업의 프로그램들은 함께 사용할 화일들이 있는 이유로, 아래 프로그램 별로 명시한 위치의 해당 화일을 동작하도록 합니다"
   ]
  },
  {
   "cell_type": "markdown",
   "metadata": {},
   "source": [
    "## ``httpserver2`` 실행하기"
   ]
  },
  {
   "cell_type": "code",
   "execution_count": null,
   "metadata": {},
   "outputs": [],
   "source": [
    "# Name: httpserver2.py\n",
    "# Client: http://localhost:8096\n",
    "\n",
    "from http.server import HTTPServer, SimpleHTTPRequestHandler\n",
    "\n",
    "class testHTTPServer_RequestHandler(SimpleHTTPRequestHandler):\n",
    "    def do_GET(self):\n",
    "        super().do_GET()\n",
    "        print(\"do_get\")\n",
    "        \n",
    "port = 8096\n",
    "httpd = HTTPServer(('', port), testHTTPServer_RequestHandler)\n",
    "print(\"Starting simple_httpd on port: \" + str(httpd.server_port))\n",
    "httpd.serve_forever()"
   ]
  }
 ],
 "metadata": {
  "kernelspec": {
   "display_name": "Python 3",
   "language": "python",
   "name": "python3"
  },
  "language_info": {
   "codemirror_mode": {
    "name": "ipython",
    "version": 3
   },
   "file_extension": ".py",
   "mimetype": "text/x-python",
   "name": "python",
   "nbconvert_exporter": "python",
   "pygments_lexer": "ipython3",
   "version": "3.6.5"
  }
 },
 "nbformat": 4,
 "nbformat_minor": 2
}
