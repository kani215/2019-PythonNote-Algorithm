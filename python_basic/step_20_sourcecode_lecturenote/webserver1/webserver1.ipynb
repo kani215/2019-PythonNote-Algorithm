{
 "cells": [
  {
   "cell_type": "markdown",
   "metadata": {},
   "source": [
    "## 실행 방법 (주의 요망)"
   ]
  },
  {
   "cell_type": "markdown",
   "metadata": {},
   "source": [
    "본 수업에서의 웹서버 프로그램들은 이렇게 실행합니다.<br>\n",
    "\n",
    "\\[단계1\\] 소스코드를 실행함 <br>\n",
    "\\[단계2\\] 웹브라우저에서 새 시크릿 창 모드로 새 윈도우를 오픈함 (그렇지 않으면, 보안 환경들로 인하여 에러 발생 가능함)<br>\n",
    "\\[단계3\\] 새로 오픈한 윈도우의 주소창에 프로그램별로 명시한 ``Client:`` 부분을 타이핑한 후, 엔터키로 실행시킴<br>\n",
    "\n",
    "만약, 에러가 나면서 ``[Errno 48] Address already in use``라고 나타나면, 웹서버가 여러번 실행되면서 뭔가 제대로 동작하지 않는 현상으로 볼 수 있습니다.<br>\n",
    "이런 경우는 Jupyter 메뉴 단추 중 새까만 단추(Stop)을 눌러서 중지하시고, Kernel 메뉴에서 \"Restart & Clear Output\"을 누른후, 다시 실행하면 될겁니다.<br>\n",
    "\n",
    "특별히 본 수업의 프로그램들은 함께 사용할 화일들이 있는 이유로, 아래 프로그램 별로 명시한 위치의 해당 화일을 동작하도록 합니다"
   ]
  },
  {
   "cell_type": "markdown",
   "metadata": {},
   "source": [
    "## ``webserver1`` 실행하기"
   ]
  },
  {
   "cell_type": "markdown",
   "metadata": {},
   "source": [
    "다음은 Python을 이용하여 작성하는 첫번째 웹서버 프로그램입니다.<br>\n",
    "이론 수업을 3차에 걸쳐서 한 이유이지만, 소스코드를 보면 이론 수업에서 들었던 단어들이 많이 나타나는 것을 알 수 있습니다.<br>\n",
    "단순하게 client의 요청을 받으면, 출력으로 \"Hello world!\"를 돌려줘서, client의 화면에 띄우는 작업을 합니다."
   ]
  },
  {
   "cell_type": "code",
   "execution_count": null,
   "metadata": {},
   "outputs": [],
   "source": [
    "# Name: webserver1.py\n",
    "# Client: http://localhost:9000/hello\n",
    "\n",
    "import socket\n",
    "\n",
    "HOST, PORT = '', 9000\n",
    "\n",
    "listen_socket = socket.socket(socket.AF_INET, socket.SOCK_STREAM)\n",
    "listen_socket.setsockopt(socket.SOL_SOCKET, socket.SO_REUSEADDR, 1)\n",
    "listen_socket.bind((HOST, PORT))\n",
    "listen_socket.listen(1)\n",
    "print ('Serving HTTP on port', PORT, '...')\n",
    "while True:\n",
    "    client_connection, client_address = listen_socket.accept()\n",
    "    request = str(client_connection.recv(1024),'utf-8')\n",
    "    print (request)\n",
    "\n",
    "    http_response = \"\"\"\\\n",
    "HTTP/1.1 200 OK\n",
    "\n",
    "Hello world!\n",
    "\"\"\"\n",
    "    client_connection.sendall(bytes(http_response,'utf-8'))\n",
    "    client_connection.close()"
   ]
  },
  {
   "cell_type": "code",
   "execution_count": null,
   "metadata": {},
   "outputs": [],
   "source": []
  }
 ],
 "metadata": {
  "kernelspec": {
   "display_name": "Python 3",
   "language": "python",
   "name": "python3"
  },
  "language_info": {
   "codemirror_mode": {
    "name": "ipython",
    "version": 3
   },
   "file_extension": ".py",
   "mimetype": "text/x-python",
   "name": "python",
   "nbconvert_exporter": "python",
   "pygments_lexer": "ipython3",
   "version": "3.6.5"
  }
 },
 "nbformat": 4,
 "nbformat_minor": 2
}
