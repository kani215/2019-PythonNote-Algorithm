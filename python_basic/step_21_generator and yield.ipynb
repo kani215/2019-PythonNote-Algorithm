{
 "cells": [
  {
   "cell_type": "markdown",
   "metadata": {},
   "source": [
    "# iterable > generator > iterator yield"
   ]
  },
  {
   "cell_type": "markdown",
   "metadata": {},
   "source": [
    "# iterable"
   ]
  },
  {
   "cell_type": "code",
   "execution_count": null,
   "metadata": {},
   "outputs": [],
   "source": [
    "for i in range(1,8) :\n",
    "    print(i)\n",
    "    \n",
    "이더레이블은 값을 미리 가지고 있기에 큰 값을 경우 메모리 낭비가 심합니다.\n"
   ]
  },
  {
   "cell_type": "markdown",
   "metadata": {},
   "source": [
    "# generator "
   ]
  },
  {
   "cell_type": "code",
   "execution_count": null,
   "metadata": {},
   "outputs": [],
   "source": [
    "그때그때 값을 생성해서 반환시켜주는 상황\n",
    "iterator이 \n",
    "for i in range(1,8) :\n",
    "    print(i)"
   ]
  },
  {
   "cell_type": "markdown",
   "metadata": {},
   "source": [
    "# yield"
   ]
  },
  {
   "cell_type": "code",
   "execution_count": null,
   "metadata": {},
   "outputs": [],
   "source": [
    "한번만 순환될 거대 리스트를 반환하는 함수가 필요하다면 \n",
    "yield : 제너레이트하며 리턴하는 의 사용이 유용합니다.\n",
    "    \n",
    "    "
   ]
  },
  {
   "cell_type": "code",
   "execution_count": 10,
   "metadata": {},
   "outputs": [
    {
     "name": "stdout",
     "output_type": "stream",
     "text": [
      "<generator object createGenerator at 0x0000022CAA77EC48>\n",
      "---------------------------------------------\n",
      "0\n",
      "1\n",
      "4\n"
     ]
    }
   ],
   "source": [
    "def createGenerator() :\n",
    "    mylist = range(3)\n",
    "    for i in mylist:\n",
    "        yield i*i\n",
    "        \n",
    "mygenerator = createGenerator()\n",
    "print(mygenerator)\n",
    "# 이때는 mygenerator는 객체라고 경고 뜨면서 안됨\n",
    "\n",
    "# print(list(mygenerator))\n",
    "print(\"---------------------------------------------\")\n",
    "for i in mygenerator:\n",
    "    print(i)\n",
    "    \n",
    "#이때는 됩니다. "
   ]
  },
  {
   "cell_type": "markdown",
   "metadata": {},
   "source": [
    "return을 사용하면 , int 타입으로 되어 iterable한 상태가 아니라고 됩니다만\n",
    "\n",
    "yield를 사용하면 함수 사용시 list처럼 iterable한 상태로 남아\n",
    "\n",
    "list처럼 활용이 가능합니다."
   ]
  }
 ],
 "metadata": {
  "kernelspec": {
   "display_name": "Python 3",
   "language": "python",
   "name": "python3"
  },
  "language_info": {
   "codemirror_mode": {
    "name": "ipython",
    "version": 3
   },
   "file_extension": ".py",
   "mimetype": "text/x-python",
   "name": "python",
   "nbconvert_exporter": "python",
   "pygments_lexer": "ipython3",
   "version": "3.7.6"
  }
 },
 "nbformat": 4,
 "nbformat_minor": 4
}
